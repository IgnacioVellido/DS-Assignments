{
 "metadata": {
  "language_info": {
   "codemirror_mode": {
    "name": "ipython",
    "version": 3
   },
   "file_extension": ".py",
   "mimetype": "text/x-python",
   "name": "python",
   "nbconvert_exporter": "python",
   "pygments_lexer": "ipython3",
   "version": "3.8.5-final"
  },
  "orig_nbformat": 2,
  "kernelspec": {
   "name": "python3",
   "display_name": "Python 3",
   "language": "python"
  }
 },
 "nbformat": 4,
 "nbformat_minor": 2,
 "cells": [
  {
   "cell_type": "code",
   "execution_count": 1,
   "metadata": {},
   "outputs": [],
   "source": [
    "################################################################################\n",
    "# Libraries\n",
    "################################################################################\n",
    "\n",
    "import os\n",
    "import re\n",
    "# from shutil import copyfile\n",
    "\n",
    "import pandas as pd"
   ]
  },
  {
   "cell_type": "code",
   "execution_count": 29,
   "metadata": {
    "tags": []
   },
   "outputs": [
    {
     "output_type": "stream",
     "name": "stdout",
     "text": [
      "                                                   name            latitude  \\\n0     /Broadleaf_Cropland_100_samples/Broadleaf_Crop...   32.93008235913976   \n1     /Broadleaf_Cropland_100_samples/Broadleaf_Crop...   32.95020462150404   \n2     /Broadleaf_Cropland_100_samples/Broadleaf_Crop...   32.95020462150404   \n3     /Broadleaf_Cropland_100_samples/Broadleaf_Crop...   32.97032688386832   \n4     /Broadleaf_Cropland_100_samples/Broadleaf_Crop...  33.111182720418256   \n...                                                 ...                 ...   \n2595  /Urban_100_samples/Urban_100.0_(53.19320055996...   53.19320055996698   \n2596  /Urban_100_samples/Urban_100.0_(53.33405639651...   53.33405639651693   \n2597  /Urban_100_samples/Urban_100.0_(54.94383738565...   54.94383738565911   \n2598  /Urban_100_samples/Urban_100.0_(55.06457095984...   55.06457095984477   \n2599  /Urban_100_samples/Urban_100.0_(59.97440297672...   59.97440297672843   \n\n                longitude               class  \n0     -112.93619751950622  Broadleaf_Cropland  \n1     -112.89595299477767  Broadleaf_Cropland  \n2     -112.93619751950622  Broadleaf_Cropland  \n3     -112.03069571311374  Broadleaf_Cropland  \n4     -115.59233615159083  Broadleaf_Cropland  \n...                   ...                 ...  \n2595   50.194983467689696               Urban  \n2596    83.75891709130417               Urban  \n2597    73.39595197370139               Urban  \n2598    82.91378207200455               Urban  \n2599   30.354432776512283               Urban  \n\n[2600 rows x 4 columns]\n                                                  name            latitude  \\\n0    /Broadleaf_Cropland_100.0_(40.67715336938652_2...   40.67715336938652   \n1    /Broadleaf_Cropland_100.0_(48.665691528004594_...  48.665691528004594   \n2    /Broadleaf_Cropland_100.0_(48.685813790368876_...  48.685813790368876   \n3    /Broadleaf_Cropland_100.0_(48.685813790368876_...  48.685813790368876   \n4    /Broadleaf_Cropland_100.0_(48.70593605273315_4...   48.70593605273315   \n..                                                 ...                 ...   \n515  /Urban_100.0_(38.02101473730192_23.73420845866...   38.02101473730192   \n516  /Urban_100.0_(38.08138152439475_23.81469750812...   38.08138152439475   \n517  /Urban_100.0_(44.80221715406336_20.47440195565...   44.80221715406336   \n518  /Urban_100.0_(48.20287949362622_16.34933817097...   48.20287949362622   \n519  /Urban_100.0_(9.608380278942391_-13.6127104894...   9.608380278942391   \n\n               longitude               class  \n0     22.225038781344267  Broadleaf_Cropland  \n1     3.7729241933020035  Broadleaf_Cropland  \n2      3.974146816944767  Broadleaf_Cropland  \n3      4.235736227680377  Broadleaf_Cropland  \n4      4.215613965316095  Broadleaf_Cropland  \n..                   ...                 ...  \n515    23.73420845866505               Urban  \n516    23.81469750812218               Urban  \n517   20.474401955652155               Urban  \n518     16.3493381709753               Urban  \n519  -13.612710489433567               Urban  \n\n[520 rows x 4 columns]\n"
     ]
    }
   ],
   "source": [
    "################################################################################\n",
    "# Load data and extract coordinates\n",
    "################################################################################\n",
    "\n",
    "def getCoordinates(path, new_path):\n",
    "    \"\"\"Given an image img, whose name contains the coordinates. This function \n",
    "    extracts them and return a Pandas DataFrame. It also duplicates the image to \n",
    "    a new path with the new name\"\"\" \n",
    "\n",
    "    data = {'name':[], 'latitude':[], 'longitude':[], 'class':[]}\n",
    "\n",
    "    # Get each train image path\n",
    "    for subdir, dirs, files in os.walk(path):\n",
    "        for filename in files:\n",
    "            # Get full path\n",
    "            filepath = subdir + os.sep + filename\n",
    "\n",
    "            # Remove upper folders\n",
    "            new_filepath = filepath.replace(path, '')            \n",
    "\n",
    "            if new_filepath.endswith(\".jpg\"):\n",
    "                # Get coordinates\n",
    "                match = re.search(r'\\(-?\\d+\\.?\\d*[\\,_]-?\\d+\\.?\\d*\\)', new_filepath)                \n",
    "\n",
    "                if match:\n",
    "                    match = match.group(0)\n",
    "\n",
    "                    # Save image path name\n",
    "                    data[\"name\"].append(new_filepath.replace(\"\\\\\",\"/\"))\n",
    "\n",
    "                    # Save name without matching part\n",
    "                    # new_name = filename.replace(match, '')\n",
    "                    # data[\"name\"].append(new_name)\n",
    "\n",
    "                    # Save class\n",
    "                    c = re.findall(r'[_a-zA-Z]+[0-9]?', filename)[0][:-2]\n",
    "                    data[\"class\"].append(c)\n",
    "\n",
    "                    # Save coordinates\n",
    "                    match = re.split(r'[\\,_]', match[1:-1])\n",
    "\n",
    "                    data[\"latitude\"].append(match[0])\n",
    "                    data[\"longitude\"].append(match[1])\n",
    "\n",
    "\n",
    "            # Duplicate images to new folder with new name\n",
    "            # new_filepath = new_filepath[1:].replace(filename,'').replace('\\\\', '/')\n",
    "            # new_filepath = new_path + new_filepath + new_name\n",
    "            \n",
    "            # os.makedirs(os.path.dirname(new_filepath), exist_ok=True)\n",
    "            # copyfile(filepath, new_filepath)\n",
    "\n",
    "    return pd.DataFrame(data)\n",
    "\n",
    "################################################################################\n",
    "\n",
    "trn_path = \"./data/LULC_100samples2021/LULC_100samples2021_Jan_JPG\"\n",
    "tst_path = \"./data/Test\"\n",
    "\n",
    "# trn_output_path = \"./data/LULC_100samples2021/\"\n",
    "# tst_output_path = \"./data/Test/\"\n",
    "            \n",
    "trn_df = getCoordinates(trn_path, trn_path)\n",
    "tst_df = getCoordinates(tst_path, tst_path)\n",
    "\n",
    "print(trn_df)\n",
    "print(tst_df)"
   ]
  },
  {
   "cell_type": "code",
   "execution_count": 30,
   "metadata": {},
   "outputs": [],
   "source": [
    "# Write CSVs with coordinates\n",
    "\n",
    "trn_df.to_csv(trn_path + \"/coord.csv\", index=False)\n",
    "tst_df.to_csv(tst_path + \"/coord.csv\", index=False)"
   ]
  },
  {
   "cell_type": "code",
   "execution_count": null,
   "metadata": {},
   "outputs": [],
   "source": []
  }
 ]
}