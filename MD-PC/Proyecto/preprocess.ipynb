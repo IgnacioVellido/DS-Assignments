{
 "metadata": {
  "language_info": {
   "codemirror_mode": {
    "name": "ipython",
    "version": 3
   },
   "file_extension": ".py",
   "mimetype": "text/x-python",
   "name": "python",
   "nbconvert_exporter": "python",
   "pygments_lexer": "ipython3",
   "version": "3.8.5-final"
  },
  "orig_nbformat": 2,
  "kernelspec": {
   "name": "python3",
   "display_name": "Python 3.8.5 64-bit (conda)",
   "metadata": {
    "interpreter": {
     "hash": "7489139fadedff3b08012098ca2abd2058b255578d7205af55c55f231e9a91e1"
    }
   }
  }
 },
 "nbformat": 4,
 "nbformat_minor": 2,
 "cells": [
  {
   "source": [
    "Preprocesamiento\n",
    "- No hace falta estandarizar, no estaría tampoco mal\n",
    "- Agrupar las binarias (has..) en grupos\n",
    "  - has_secondary_use (hay que añadir más para las combinaciones)\n",
    "  - has_superstructure\n",
    "- geo_level3 o 2 quizás se puedan agrupar en intervalos\n",
    "- Pasar las categóricas a números ? En sí las letras no tienen significado\n",
    "- Quizás agrupar la edad en intervalos\n",
    "- Ver qué hacer con las duplicadas\n",
    "- Los árboles son robustos al ruido, así que las variables extremadamente \n",
    "desbalanceadas no deberían hacer mucho daño. Considerar si quitar o no según el\n",
    "coste computacional que haya en principio.\n",
    "- Age de 995 mantenerlo, a ver si el árbol consigue algo del estilo if age>200 ...\n",
    "\n",
    "- Quizá la distancia, al ser datos del mismo terremoto sea muy relevante. \n",
    "Se podría reflejar en una combinación de las has_structure y geom_ids \n",
    "(el epicentro estaría por unos valores concretos de geom_id)\n",
    "\n",
    "-------\n",
    "\n",
    "- No necesitamos normalizar los datos en árboles. Además, no hacerlo nos ayudará a interpretar\n",
    "- Se podría reducir el número de instancias de forma aleatoria, pero no parece justo. El desbalanceo hay que tenerlo en cuenta."
   ],
   "cell_type": "markdown",
   "metadata": {}
  },
  {
   "source": [
    "Versiones\n",
    "\n",
    "1. Agrupación de características binarias, no se entrena con las que no deja -> Coste computacional alto\n",
    "2. Se reducen características correladas y alguna desbalanceada -> Coste computacional alto\n",
    "3. Reducción de características a 10 con chi2 y reducción de instancias con ENN -> Resultados aceptables en CART, overfitting en C4.5 (árbol muy pequeño y muy grande respectivamente)\n",
    "    - CART y C4.5 submission 1\n",
    "4. Idem. pero con 15 -> El desbalanceo en el dataset puede que afecte a los resultados\n",
    "    1. Conseguir geo1 entero (no somos el experto, a lo mejor no es buena idea)\n",
    "    - CART submission 2 (empeora, no se sube C4.5)\n",
    "    - Muchos duplicados con etiquetas distintas -> Resultados malísimos en C4.5 (no era overfitting)\n",
    "5. Idem. pero con mutual_info_classif\n",
    "6. El mejor de los anteriores con Tomek Links\n",
    "7. Vuelta a 2, quitar duplicados, coger pocas instancias y probar con C4.5"
   ],
   "cell_type": "markdown",
   "metadata": {}
  },
  {
   "cell_type": "code",
   "execution_count": 1,
   "metadata": {},
   "outputs": [],
   "source": [
    "################################################################################\n",
    "# Libraries\n",
    "################################################################################\n",
    "\n",
    "import random\n",
    "\n",
    "import pandas as pd\n",
    "import numpy as np\n",
    "import matplotlib.pyplot as plt\n",
    "# import seaborn as sns\n",
    "\n",
    "# Preprocesamiento\n",
    "# from sklearn.preprocessing import Normalizer\n",
    "# from sklearn.decomposition import PCA\n",
    "from imblearn.under_sampling import EditedNearestNeighbours, TomekLinks, CondensedNearestNeighbour\n",
    "from imblearn.combine import SMOTEENN\n",
    "from imblearn.over_sampling import SMOTENC\n",
    "\n",
    "from sklearn.preprocessing import OneHotEncoder, LabelEncoder\n",
    "from sklearn.feature_selection import SelectKBest, chi2, mutual_info_classif"
   ]
  },
  {
   "cell_type": "code",
   "execution_count": 2,
   "metadata": {},
   "outputs": [],
   "source": [
    "################################################################################\n",
    "# Load data\n",
    "################################################################################\n",
    "\n",
    "train_values = pd.read_csv(\"data/train_values.csv\")\n",
    "test_values  = pd.read_csv(\"data/test_values.csv\")\n",
    "train_labels = pd.read_csv(\"data/train_labels.csv\")\n",
    "\n",
    "preprocessed_train = train_values\n",
    "preprocessed_test = test_values\n"
   ]
  },
  {
   "cell_type": "code",
   "execution_count": 3,
   "metadata": {},
   "outputs": [
    {
     "output_type": "stream",
     "name": "stdout",
     "text": [
      "0 building_id\n1 geo_level_1_id\n2 geo_level_2_id\n3 geo_level_3_id\n4 count_floors_pre_eq\n5 age\n6 area_percentage\n7 height_percentage\n8 land_surface_condition\n9 foundation_type\n10 roof_type\n11 ground_floor_type\n12 other_floor_type\n13 position\n14 plan_configuration\n15 has_superstructure_adobe_mud\n16 has_superstructure_mud_mortar_stone\n17 has_superstructure_stone_flag\n18 has_superstructure_cement_mortar_stone\n19 has_superstructure_mud_mortar_brick\n20 has_superstructure_cement_mortar_brick\n21 has_superstructure_timber\n22 has_superstructure_bamboo\n23 has_superstructure_rc_non_engineered\n24 has_superstructure_rc_engineered\n25 has_superstructure_other\n26 legal_ownership_status\n27 count_families\n28 has_secondary_use\n29 has_secondary_use_agriculture\n30 has_secondary_use_hotel\n31 has_secondary_use_rental\n32 has_secondary_use_institution\n33 has_secondary_use_school\n34 has_secondary_use_industry\n35 has_secondary_use_health_post\n36 has_secondary_use_gov_office\n37 has_secondary_use_use_police\n38 has_secondary_use_other\n"
     ]
    }
   ],
   "source": [
    "for i,c in enumerate(preprocessed_train.columns):\n",
    "    print(i, c)"
   ]
  },
  {
   "source": [
    "### IDEA\n",
    "\n",
    "Join columns\n",
    "- 15...25 (has superstructure) (they are not dummy variables, use combination)\n",
    "- 29...38 (has sencondary use) (probably dummy variables)\n",
    "\n",
    "Remove 28, not needed\n",
    "\n",
    "Reorder numerics next to numerics"
   ],
   "cell_type": "markdown",
   "metadata": {}
  },
  {
   "cell_type": "code",
   "execution_count": 4,
   "metadata": {},
   "outputs": [],
   "source": [
    "# No hay duplicados en los ids, se pueden quitar\n",
    "# preprocessed_train.building_id.duplicated\n",
    "\n",
    "preprocessed_train = preprocessed_train.drop(columns=\"building_id\")\n",
    "preprocessed_test = preprocessed_test.drop(columns=\"building_id\")\n",
    "\n",
    "# Lo mismo con las etiquetas\n",
    "train_labels = train_labels.drop(columns=\"building_id\")"
   ]
  },
  {
   "cell_type": "code",
   "execution_count": 5,
   "metadata": {},
   "outputs": [],
   "source": [
    "############################################################################\n",
    "# Preprocesado Nº 2\n",
    "############################################################################\n",
    "\n",
    "# Quitamos geo_2 y geo_3. Tienen demasiadas categorías diferentes para los árboles,\n",
    "# y no se solapan\n",
    "preprocessed_train = preprocessed_train.drop(columns=[\"geo_level_2_id\",\"geo_level_3_id\"])\n",
    "preprocessed_test = preprocessed_test.drop(columns=[\"geo_level_2_id\",\"geo_level_3_id\"])\n",
    "\n",
    "\n",
    "# En estas dos predomina (+85%) una clase y el resto no sirve para determinar\n",
    "# ninguna etiqueta (se mantiene la proporción o las 3 están representadas)\n",
    "preprocessed_train = preprocessed_train.drop(columns=[\"plan_configuration\",\"legal_ownership_status\"])\n",
    "preprocessed_test = preprocessed_test.drop(columns=[\"plan_configuration\",\"legal_ownership_status\"])"
   ]
  },
  {
   "cell_type": "code",
   "execution_count": 6,
   "metadata": {},
   "outputs": [],
   "source": [
    "# Altura y nº de plantas altamente correladas, categorizamos nº de plantas y quitamos altura\n",
    "# Solo una instancia con 9 plantas, y las anteriores no siguen el mismo patrón (que todas sufrieran el mismo tipo de daño)\n",
    "# Como tenemos proporciones muy similares, juntamos las +5 con ella\n",
    "preprocessed_train[\"count_floors_pre_eq\"] = preprocessed_train[\"count_floors_pre_eq\"].replace({6:5, 7:5, 8:5, 9:5})\n",
    "preprocessed_test[\"count_floors_pre_eq\"] = preprocessed_test[\"count_floors_pre_eq\"].replace({6:5, 7:5, 8:5, 9:5})\n",
    "\n",
    "# No nos interesan variables numéricas en los árboles, acabarían discretizándose\n",
    "preprocessed_train = preprocessed_train.drop(columns=[\"height_percentage\"])\n",
    "preprocessed_test = preprocessed_test.drop(columns=[\"height_percentage\"])\n"
   ]
  },
  {
   "cell_type": "code",
   "execution_count": 7,
   "metadata": {},
   "outputs": [
    {
     "output_type": "execute_result",
     "data": {
      "text/plain": [
       "        geo_level_1_id  count_floors_pre_eq  age  area_percentage  \\\n",
       "0                    6                    2   30                6   \n",
       "1                    8                    2   10                8   \n",
       "2                   21                    2   10                5   \n",
       "3                   22                    2   10                6   \n",
       "4                   11                    3   30                8   \n",
       "...                ...                  ...  ...              ...   \n",
       "260596              25                    1   55                6   \n",
       "260597              17                    2    0                6   \n",
       "260598              17                    3   55                6   \n",
       "260599              26                    2   10               14   \n",
       "260600              21                    3   10                7   \n",
       "\n",
       "       land_surface_condition foundation_type roof_type ground_floor_type  \\\n",
       "0                           t               r         n                 f   \n",
       "1                           o               r         n                 x   \n",
       "2                           t               r         n                 f   \n",
       "3                           t               r         n                 f   \n",
       "4                           t               r         n                 f   \n",
       "...                       ...             ...       ...               ...   \n",
       "260596                      n               r         n                 f   \n",
       "260597                      t               r         n                 f   \n",
       "260598                      t               r         q                 f   \n",
       "260599                      t               r         x                 v   \n",
       "260600                      n               r         n                 f   \n",
       "\n",
       "       other_floor_type position  ...  has_secondary_use_agriculture  \\\n",
       "0                     q        t  ...                              0   \n",
       "1                     q        s  ...                              0   \n",
       "2                     x        t  ...                              0   \n",
       "3                     x        s  ...                              0   \n",
       "4                     x        s  ...                              0   \n",
       "...                 ...      ...  ...                            ...   \n",
       "260596                j        s  ...                              0   \n",
       "260597                q        s  ...                              0   \n",
       "260598                q        s  ...                              0   \n",
       "260599                s        j  ...                              0   \n",
       "260600                q        j  ...                              0   \n",
       "\n",
       "        has_secondary_use_hotel  has_secondary_use_rental  \\\n",
       "0                             0                         0   \n",
       "1                             0                         0   \n",
       "2                             0                         0   \n",
       "3                             0                         0   \n",
       "4                             0                         0   \n",
       "...                         ...                       ...   \n",
       "260596                        0                         0   \n",
       "260597                        0                         0   \n",
       "260598                        0                         0   \n",
       "260599                        0                         0   \n",
       "260600                        0                         0   \n",
       "\n",
       "        has_secondary_use_institution  has_secondary_use_school  \\\n",
       "0                                   0                         0   \n",
       "1                                   0                         0   \n",
       "2                                   0                         0   \n",
       "3                                   0                         0   \n",
       "4                                   0                         0   \n",
       "...                               ...                       ...   \n",
       "260596                              0                         0   \n",
       "260597                              0                         0   \n",
       "260598                              0                         0   \n",
       "260599                              0                         0   \n",
       "260600                              0                         0   \n",
       "\n",
       "        has_secondary_use_industry  has_secondary_use_health_post  \\\n",
       "0                                0                              0   \n",
       "1                                0                              0   \n",
       "2                                0                              0   \n",
       "3                                0                              0   \n",
       "4                                0                              0   \n",
       "...                            ...                            ...   \n",
       "260596                           0                              0   \n",
       "260597                           0                              0   \n",
       "260598                           0                              0   \n",
       "260599                           0                              0   \n",
       "260600                           0                              0   \n",
       "\n",
       "        has_secondary_use_gov_office  has_secondary_use_use_police  \\\n",
       "0                                  0                             0   \n",
       "1                                  0                             0   \n",
       "2                                  0                             0   \n",
       "3                                  0                             0   \n",
       "4                                  0                             0   \n",
       "...                              ...                           ...   \n",
       "260596                             0                             0   \n",
       "260597                             0                             0   \n",
       "260598                             0                             0   \n",
       "260599                             0                             0   \n",
       "260600                             0                             0   \n",
       "\n",
       "        has_secondary_use_other  \n",
       "0                             0  \n",
       "1                             0  \n",
       "2                             0  \n",
       "3                             0  \n",
       "4                             0  \n",
       "...                         ...  \n",
       "260596                        0  \n",
       "260597                        0  \n",
       "260598                        0  \n",
       "260599                        0  \n",
       "260600                        0  \n",
       "\n",
       "[260601 rows x 33 columns]"
      ],
      "text/html": "<div>\n<style scoped>\n    .dataframe tbody tr th:only-of-type {\n        vertical-align: middle;\n    }\n\n    .dataframe tbody tr th {\n        vertical-align: top;\n    }\n\n    .dataframe thead th {\n        text-align: right;\n    }\n</style>\n<table border=\"1\" class=\"dataframe\">\n  <thead>\n    <tr style=\"text-align: right;\">\n      <th></th>\n      <th>geo_level_1_id</th>\n      <th>count_floors_pre_eq</th>\n      <th>age</th>\n      <th>area_percentage</th>\n      <th>land_surface_condition</th>\n      <th>foundation_type</th>\n      <th>roof_type</th>\n      <th>ground_floor_type</th>\n      <th>other_floor_type</th>\n      <th>position</th>\n      <th>...</th>\n      <th>has_secondary_use_agriculture</th>\n      <th>has_secondary_use_hotel</th>\n      <th>has_secondary_use_rental</th>\n      <th>has_secondary_use_institution</th>\n      <th>has_secondary_use_school</th>\n      <th>has_secondary_use_industry</th>\n      <th>has_secondary_use_health_post</th>\n      <th>has_secondary_use_gov_office</th>\n      <th>has_secondary_use_use_police</th>\n      <th>has_secondary_use_other</th>\n    </tr>\n  </thead>\n  <tbody>\n    <tr>\n      <th>0</th>\n      <td>6</td>\n      <td>2</td>\n      <td>30</td>\n      <td>6</td>\n      <td>t</td>\n      <td>r</td>\n      <td>n</td>\n      <td>f</td>\n      <td>q</td>\n      <td>t</td>\n      <td>...</td>\n      <td>0</td>\n      <td>0</td>\n      <td>0</td>\n      <td>0</td>\n      <td>0</td>\n      <td>0</td>\n      <td>0</td>\n      <td>0</td>\n      <td>0</td>\n      <td>0</td>\n    </tr>\n    <tr>\n      <th>1</th>\n      <td>8</td>\n      <td>2</td>\n      <td>10</td>\n      <td>8</td>\n      <td>o</td>\n      <td>r</td>\n      <td>n</td>\n      <td>x</td>\n      <td>q</td>\n      <td>s</td>\n      <td>...</td>\n      <td>0</td>\n      <td>0</td>\n      <td>0</td>\n      <td>0</td>\n      <td>0</td>\n      <td>0</td>\n      <td>0</td>\n      <td>0</td>\n      <td>0</td>\n      <td>0</td>\n    </tr>\n    <tr>\n      <th>2</th>\n      <td>21</td>\n      <td>2</td>\n      <td>10</td>\n      <td>5</td>\n      <td>t</td>\n      <td>r</td>\n      <td>n</td>\n      <td>f</td>\n      <td>x</td>\n      <td>t</td>\n      <td>...</td>\n      <td>0</td>\n      <td>0</td>\n      <td>0</td>\n      <td>0</td>\n      <td>0</td>\n      <td>0</td>\n      <td>0</td>\n      <td>0</td>\n      <td>0</td>\n      <td>0</td>\n    </tr>\n    <tr>\n      <th>3</th>\n      <td>22</td>\n      <td>2</td>\n      <td>10</td>\n      <td>6</td>\n      <td>t</td>\n      <td>r</td>\n      <td>n</td>\n      <td>f</td>\n      <td>x</td>\n      <td>s</td>\n      <td>...</td>\n      <td>0</td>\n      <td>0</td>\n      <td>0</td>\n      <td>0</td>\n      <td>0</td>\n      <td>0</td>\n      <td>0</td>\n      <td>0</td>\n      <td>0</td>\n      <td>0</td>\n    </tr>\n    <tr>\n      <th>4</th>\n      <td>11</td>\n      <td>3</td>\n      <td>30</td>\n      <td>8</td>\n      <td>t</td>\n      <td>r</td>\n      <td>n</td>\n      <td>f</td>\n      <td>x</td>\n      <td>s</td>\n      <td>...</td>\n      <td>0</td>\n      <td>0</td>\n      <td>0</td>\n      <td>0</td>\n      <td>0</td>\n      <td>0</td>\n      <td>0</td>\n      <td>0</td>\n      <td>0</td>\n      <td>0</td>\n    </tr>\n    <tr>\n      <th>...</th>\n      <td>...</td>\n      <td>...</td>\n      <td>...</td>\n      <td>...</td>\n      <td>...</td>\n      <td>...</td>\n      <td>...</td>\n      <td>...</td>\n      <td>...</td>\n      <td>...</td>\n      <td>...</td>\n      <td>...</td>\n      <td>...</td>\n      <td>...</td>\n      <td>...</td>\n      <td>...</td>\n      <td>...</td>\n      <td>...</td>\n      <td>...</td>\n      <td>...</td>\n      <td>...</td>\n    </tr>\n    <tr>\n      <th>260596</th>\n      <td>25</td>\n      <td>1</td>\n      <td>55</td>\n      <td>6</td>\n      <td>n</td>\n      <td>r</td>\n      <td>n</td>\n      <td>f</td>\n      <td>j</td>\n      <td>s</td>\n      <td>...</td>\n      <td>0</td>\n      <td>0</td>\n      <td>0</td>\n      <td>0</td>\n      <td>0</td>\n      <td>0</td>\n      <td>0</td>\n      <td>0</td>\n      <td>0</td>\n      <td>0</td>\n    </tr>\n    <tr>\n      <th>260597</th>\n      <td>17</td>\n      <td>2</td>\n      <td>0</td>\n      <td>6</td>\n      <td>t</td>\n      <td>r</td>\n      <td>n</td>\n      <td>f</td>\n      <td>q</td>\n      <td>s</td>\n      <td>...</td>\n      <td>0</td>\n      <td>0</td>\n      <td>0</td>\n      <td>0</td>\n      <td>0</td>\n      <td>0</td>\n      <td>0</td>\n      <td>0</td>\n      <td>0</td>\n      <td>0</td>\n    </tr>\n    <tr>\n      <th>260598</th>\n      <td>17</td>\n      <td>3</td>\n      <td>55</td>\n      <td>6</td>\n      <td>t</td>\n      <td>r</td>\n      <td>q</td>\n      <td>f</td>\n      <td>q</td>\n      <td>s</td>\n      <td>...</td>\n      <td>0</td>\n      <td>0</td>\n      <td>0</td>\n      <td>0</td>\n      <td>0</td>\n      <td>0</td>\n      <td>0</td>\n      <td>0</td>\n      <td>0</td>\n      <td>0</td>\n    </tr>\n    <tr>\n      <th>260599</th>\n      <td>26</td>\n      <td>2</td>\n      <td>10</td>\n      <td>14</td>\n      <td>t</td>\n      <td>r</td>\n      <td>x</td>\n      <td>v</td>\n      <td>s</td>\n      <td>j</td>\n      <td>...</td>\n      <td>0</td>\n      <td>0</td>\n      <td>0</td>\n      <td>0</td>\n      <td>0</td>\n      <td>0</td>\n      <td>0</td>\n      <td>0</td>\n      <td>0</td>\n      <td>0</td>\n    </tr>\n    <tr>\n      <th>260600</th>\n      <td>21</td>\n      <td>3</td>\n      <td>10</td>\n      <td>7</td>\n      <td>n</td>\n      <td>r</td>\n      <td>n</td>\n      <td>f</td>\n      <td>q</td>\n      <td>j</td>\n      <td>...</td>\n      <td>0</td>\n      <td>0</td>\n      <td>0</td>\n      <td>0</td>\n      <td>0</td>\n      <td>0</td>\n      <td>0</td>\n      <td>0</td>\n      <td>0</td>\n      <td>0</td>\n    </tr>\n  </tbody>\n</table>\n<p>260601 rows × 33 columns</p>\n</div>"
     },
     "metadata": {},
     "execution_count": 7
    }
   ],
   "source": [
    "preprocessed_train"
   ]
  },
  {
   "cell_type": "code",
   "execution_count": 8,
   "metadata": {},
   "outputs": [],
   "source": [
    "# Eliminar duplicados (HAY QUE REDUCIR LAS ETIQUETAS TAMBIÉ)\n",
    "df = preprocessed_train.join(train_labels[\"damage_grade\"])\n",
    "df = df.drop_duplicates()\n",
    "preprocessed_train = df.drop(columns=[\"damage_grade\"])\n",
    "train_labels = df[\"damage_grade\"]\n",
    "\n",
    "# preprocessed_train\n",
    "# sum(df.loc[:,df.columns != \"damage_grade\"].duplicated())    # 18303 duplicados sin etiquetas\n",
    "\n",
    "# Probar (para verlo, en sí voy a quitar los duplicados y listo)\n",
    "# Unir todas las columnas menos las etiquetas en una\n",
    "# Ver si en base a esa columna la etiqueta cambia\n",
    "# https://stackoverflow.com/questions/31903488/python-pandas-identify-duplicate-ids-that-have-conflicting-labels\n",
    "# df[df.loc[:,df.columns != \"damage_grade\"].duplicated()]"
   ]
  },
  {
   "cell_type": "code",
   "execution_count": 9,
   "metadata": {
    "tags": []
   },
   "outputs": [],
   "source": [
    "# One-hot-enconding\n",
    "label_encoders = {}\n",
    "categorical_columns = [\"geo_level_1_id\",\n",
    "                        # \"count_floors_pre_eq\",\n",
    "                        # \"age\",\n",
    "                        # \"area_percentage\",\n",
    "                        \"land_surface_condition\",\n",
    "                        \"foundation_type\",\n",
    "                        \"roof_type\",\n",
    "                        \"ground_floor_type\",\n",
    "                        \"other_floor_type\",\n",
    "                        \"position\",\n",
    "                        # \"count_families\",\n",
    "                        # \"has_superstructure\",\n",
    "                        # \"has_secondary\"\n",
    "                       ]\n",
    "for column in categorical_columns:\n",
    "    # Para training\n",
    "    dummies = pd.get_dummies(preprocessed_train[column])\n",
    "    dummies.columns = [column + \"_\" + str(x) for x in dummies.columns]\n",
    "    preprocessed_train = preprocessed_train.drop(columns=column)\n",
    "    preprocessed_train = pd.concat([preprocessed_train, dummies], axis=1)\n",
    "\n",
    "    # Para test\n",
    "    dummies = pd.get_dummies(preprocessed_test[column])\n",
    "    dummies.columns = [column + \"_\" + str(x) for x in dummies.columns]\n",
    "    preprocessed_test = preprocessed_test.drop(columns=column)\n",
    "    preprocessed_test = pd.concat([preprocessed_test, dummies], axis=1)\n"
   ]
  },
  {
   "cell_type": "code",
   "execution_count": 12,
   "metadata": {},
   "outputs": [
    {
     "output_type": "execute_result",
     "data": {
      "text/plain": [
       "        geo_level_1_id  count_floors_pre_eq  age  area_percentage  \\\n",
       "0                    6                    2   30                6   \n",
       "1                    8                    2   10                8   \n",
       "2                   21                    2   10                5   \n",
       "3                   22                    2   10                6   \n",
       "4                   11                    3   30                8   \n",
       "...                ...                  ...  ...              ...   \n",
       "260594              27                    5    0               13   \n",
       "260596              25                    1   55                6   \n",
       "260598              17                    3   55                6   \n",
       "260599              26                    2   10               14   \n",
       "260600              21                    3   10                7   \n",
       "\n",
       "       land_surface_condition foundation_type roof_type ground_floor_type  \\\n",
       "0                           t               r         n                 f   \n",
       "1                           o               r         n                 x   \n",
       "2                           t               r         n                 f   \n",
       "3                           t               r         n                 f   \n",
       "4                           t               r         n                 f   \n",
       "...                       ...             ...       ...               ...   \n",
       "260594                      t               r         n                 f   \n",
       "260596                      n               r         n                 f   \n",
       "260598                      t               r         q                 f   \n",
       "260599                      t               r         x                 v   \n",
       "260600                      n               r         n                 f   \n",
       "\n",
       "       other_floor_type position  ...  has_secondary_use_agriculture  \\\n",
       "0                     q        t  ...                              0   \n",
       "1                     q        s  ...                              0   \n",
       "2                     x        t  ...                              0   \n",
       "3                     x        s  ...                              0   \n",
       "4                     x        s  ...                              0   \n",
       "...                 ...      ...  ...                            ...   \n",
       "260594                x        j  ...                              0   \n",
       "260596                j        s  ...                              0   \n",
       "260598                q        s  ...                              0   \n",
       "260599                s        j  ...                              0   \n",
       "260600                q        j  ...                              0   \n",
       "\n",
       "        has_secondary_use_hotel  has_secondary_use_rental  \\\n",
       "0                             0                         0   \n",
       "1                             0                         0   \n",
       "2                             0                         0   \n",
       "3                             0                         0   \n",
       "4                             0                         0   \n",
       "...                         ...                       ...   \n",
       "260594                        0                         0   \n",
       "260596                        0                         0   \n",
       "260598                        0                         0   \n",
       "260599                        0                         0   \n",
       "260600                        0                         0   \n",
       "\n",
       "        has_secondary_use_institution  has_secondary_use_school  \\\n",
       "0                                   0                         0   \n",
       "1                                   0                         0   \n",
       "2                                   0                         0   \n",
       "3                                   0                         0   \n",
       "4                                   0                         0   \n",
       "...                               ...                       ...   \n",
       "260594                              0                         0   \n",
       "260596                              0                         0   \n",
       "260598                              0                         0   \n",
       "260599                              0                         0   \n",
       "260600                              0                         0   \n",
       "\n",
       "        has_secondary_use_industry  has_secondary_use_health_post  \\\n",
       "0                                0                              0   \n",
       "1                                0                              0   \n",
       "2                                0                              0   \n",
       "3                                0                              0   \n",
       "4                                0                              0   \n",
       "...                            ...                            ...   \n",
       "260594                           0                              0   \n",
       "260596                           0                              0   \n",
       "260598                           0                              0   \n",
       "260599                           0                              0   \n",
       "260600                           0                              0   \n",
       "\n",
       "        has_secondary_use_gov_office  has_secondary_use_use_police  \\\n",
       "0                                  0                             0   \n",
       "1                                  0                             0   \n",
       "2                                  0                             0   \n",
       "3                                  0                             0   \n",
       "4                                  0                             0   \n",
       "...                              ...                           ...   \n",
       "260594                             0                             0   \n",
       "260596                             0                             0   \n",
       "260598                             0                             0   \n",
       "260599                             0                             0   \n",
       "260600                             0                             0   \n",
       "\n",
       "        has_secondary_use_other  \n",
       "0                             0  \n",
       "1                             0  \n",
       "2                             0  \n",
       "3                             0  \n",
       "4                             0  \n",
       "...                         ...  \n",
       "260594                        0  \n",
       "260596                        0  \n",
       "260598                        0  \n",
       "260599                        0  \n",
       "260600                        0  \n",
       "\n",
       "[179275 rows x 33 columns]"
      ],
      "text/html": "<div>\n<style scoped>\n    .dataframe tbody tr th:only-of-type {\n        vertical-align: middle;\n    }\n\n    .dataframe tbody tr th {\n        vertical-align: top;\n    }\n\n    .dataframe thead th {\n        text-align: right;\n    }\n</style>\n<table border=\"1\" class=\"dataframe\">\n  <thead>\n    <tr style=\"text-align: right;\">\n      <th></th>\n      <th>geo_level_1_id</th>\n      <th>count_floors_pre_eq</th>\n      <th>age</th>\n      <th>area_percentage</th>\n      <th>land_surface_condition</th>\n      <th>foundation_type</th>\n      <th>roof_type</th>\n      <th>ground_floor_type</th>\n      <th>other_floor_type</th>\n      <th>position</th>\n      <th>...</th>\n      <th>has_secondary_use_agriculture</th>\n      <th>has_secondary_use_hotel</th>\n      <th>has_secondary_use_rental</th>\n      <th>has_secondary_use_institution</th>\n      <th>has_secondary_use_school</th>\n      <th>has_secondary_use_industry</th>\n      <th>has_secondary_use_health_post</th>\n      <th>has_secondary_use_gov_office</th>\n      <th>has_secondary_use_use_police</th>\n      <th>has_secondary_use_other</th>\n    </tr>\n  </thead>\n  <tbody>\n    <tr>\n      <th>0</th>\n      <td>6</td>\n      <td>2</td>\n      <td>30</td>\n      <td>6</td>\n      <td>t</td>\n      <td>r</td>\n      <td>n</td>\n      <td>f</td>\n      <td>q</td>\n      <td>t</td>\n      <td>...</td>\n      <td>0</td>\n      <td>0</td>\n      <td>0</td>\n      <td>0</td>\n      <td>0</td>\n      <td>0</td>\n      <td>0</td>\n      <td>0</td>\n      <td>0</td>\n      <td>0</td>\n    </tr>\n    <tr>\n      <th>1</th>\n      <td>8</td>\n      <td>2</td>\n      <td>10</td>\n      <td>8</td>\n      <td>o</td>\n      <td>r</td>\n      <td>n</td>\n      <td>x</td>\n      <td>q</td>\n      <td>s</td>\n      <td>...</td>\n      <td>0</td>\n      <td>0</td>\n      <td>0</td>\n      <td>0</td>\n      <td>0</td>\n      <td>0</td>\n      <td>0</td>\n      <td>0</td>\n      <td>0</td>\n      <td>0</td>\n    </tr>\n    <tr>\n      <th>2</th>\n      <td>21</td>\n      <td>2</td>\n      <td>10</td>\n      <td>5</td>\n      <td>t</td>\n      <td>r</td>\n      <td>n</td>\n      <td>f</td>\n      <td>x</td>\n      <td>t</td>\n      <td>...</td>\n      <td>0</td>\n      <td>0</td>\n      <td>0</td>\n      <td>0</td>\n      <td>0</td>\n      <td>0</td>\n      <td>0</td>\n      <td>0</td>\n      <td>0</td>\n      <td>0</td>\n    </tr>\n    <tr>\n      <th>3</th>\n      <td>22</td>\n      <td>2</td>\n      <td>10</td>\n      <td>6</td>\n      <td>t</td>\n      <td>r</td>\n      <td>n</td>\n      <td>f</td>\n      <td>x</td>\n      <td>s</td>\n      <td>...</td>\n      <td>0</td>\n      <td>0</td>\n      <td>0</td>\n      <td>0</td>\n      <td>0</td>\n      <td>0</td>\n      <td>0</td>\n      <td>0</td>\n      <td>0</td>\n      <td>0</td>\n    </tr>\n    <tr>\n      <th>4</th>\n      <td>11</td>\n      <td>3</td>\n      <td>30</td>\n      <td>8</td>\n      <td>t</td>\n      <td>r</td>\n      <td>n</td>\n      <td>f</td>\n      <td>x</td>\n      <td>s</td>\n      <td>...</td>\n      <td>0</td>\n      <td>0</td>\n      <td>0</td>\n      <td>0</td>\n      <td>0</td>\n      <td>0</td>\n      <td>0</td>\n      <td>0</td>\n      <td>0</td>\n      <td>0</td>\n    </tr>\n    <tr>\n      <th>...</th>\n      <td>...</td>\n      <td>...</td>\n      <td>...</td>\n      <td>...</td>\n      <td>...</td>\n      <td>...</td>\n      <td>...</td>\n      <td>...</td>\n      <td>...</td>\n      <td>...</td>\n      <td>...</td>\n      <td>...</td>\n      <td>...</td>\n      <td>...</td>\n      <td>...</td>\n      <td>...</td>\n      <td>...</td>\n      <td>...</td>\n      <td>...</td>\n      <td>...</td>\n      <td>...</td>\n    </tr>\n    <tr>\n      <th>260594</th>\n      <td>27</td>\n      <td>5</td>\n      <td>0</td>\n      <td>13</td>\n      <td>t</td>\n      <td>r</td>\n      <td>n</td>\n      <td>f</td>\n      <td>x</td>\n      <td>j</td>\n      <td>...</td>\n      <td>0</td>\n      <td>0</td>\n      <td>0</td>\n      <td>0</td>\n      <td>0</td>\n      <td>0</td>\n      <td>0</td>\n      <td>0</td>\n      <td>0</td>\n      <td>0</td>\n    </tr>\n    <tr>\n      <th>260596</th>\n      <td>25</td>\n      <td>1</td>\n      <td>55</td>\n      <td>6</td>\n      <td>n</td>\n      <td>r</td>\n      <td>n</td>\n      <td>f</td>\n      <td>j</td>\n      <td>s</td>\n      <td>...</td>\n      <td>0</td>\n      <td>0</td>\n      <td>0</td>\n      <td>0</td>\n      <td>0</td>\n      <td>0</td>\n      <td>0</td>\n      <td>0</td>\n      <td>0</td>\n      <td>0</td>\n    </tr>\n    <tr>\n      <th>260598</th>\n      <td>17</td>\n      <td>3</td>\n      <td>55</td>\n      <td>6</td>\n      <td>t</td>\n      <td>r</td>\n      <td>q</td>\n      <td>f</td>\n      <td>q</td>\n      <td>s</td>\n      <td>...</td>\n      <td>0</td>\n      <td>0</td>\n      <td>0</td>\n      <td>0</td>\n      <td>0</td>\n      <td>0</td>\n      <td>0</td>\n      <td>0</td>\n      <td>0</td>\n      <td>0</td>\n    </tr>\n    <tr>\n      <th>260599</th>\n      <td>26</td>\n      <td>2</td>\n      <td>10</td>\n      <td>14</td>\n      <td>t</td>\n      <td>r</td>\n      <td>x</td>\n      <td>v</td>\n      <td>s</td>\n      <td>j</td>\n      <td>...</td>\n      <td>0</td>\n      <td>0</td>\n      <td>0</td>\n      <td>0</td>\n      <td>0</td>\n      <td>0</td>\n      <td>0</td>\n      <td>0</td>\n      <td>0</td>\n      <td>0</td>\n    </tr>\n    <tr>\n      <th>260600</th>\n      <td>21</td>\n      <td>3</td>\n      <td>10</td>\n      <td>7</td>\n      <td>n</td>\n      <td>r</td>\n      <td>n</td>\n      <td>f</td>\n      <td>q</td>\n      <td>j</td>\n      <td>...</td>\n      <td>0</td>\n      <td>0</td>\n      <td>0</td>\n      <td>0</td>\n      <td>0</td>\n      <td>0</td>\n      <td>0</td>\n      <td>0</td>\n      <td>0</td>\n      <td>0</td>\n    </tr>\n  </tbody>\n</table>\n<p>179275 rows × 33 columns</p>\n</div>"
     },
     "metadata": {},
     "execution_count": 12
    }
   ],
   "source": [
    "preprocessed_train"
   ]
  },
  {
   "cell_type": "code",
   "execution_count": 13,
   "metadata": {},
   "outputs": [
    {
     "output_type": "stream",
     "name": "stdout",
     "text": [
      "0 geo_level_1_id\n1 count_floors_pre_eq\n2 age\n3 area_percentage\n4 land_surface_condition\n5 foundation_type\n6 roof_type\n7 ground_floor_type\n8 other_floor_type\n9 position\n10 has_superstructure_adobe_mud\n11 has_superstructure_mud_mortar_stone\n12 has_superstructure_stone_flag\n13 has_superstructure_cement_mortar_stone\n14 has_superstructure_mud_mortar_brick\n15 has_superstructure_cement_mortar_brick\n16 has_superstructure_timber\n17 has_superstructure_bamboo\n18 has_superstructure_rc_non_engineered\n19 has_superstructure_rc_engineered\n20 has_superstructure_other\n21 count_families\n22 has_secondary_use\n23 has_secondary_use_agriculture\n24 has_secondary_use_hotel\n25 has_secondary_use_rental\n26 has_secondary_use_institution\n27 has_secondary_use_school\n28 has_secondary_use_industry\n29 has_secondary_use_health_post\n30 has_secondary_use_gov_office\n31 has_secondary_use_use_police\n32 has_secondary_use_other\n"
     ]
    }
   ],
   "source": [
    "for i,c in enumerate(preprocessed_train.columns):\n",
    "    print(i, c)"
   ]
  },
  {
   "cell_type": "code",
   "execution_count": 12,
   "metadata": {},
   "outputs": [
    {
     "output_type": "stream",
     "name": "stdout",
     "text": [
      "Original dataset shape 179275\n",
      "Resampled dataset shape 125377\n"
     ]
    }
   ],
   "source": [
    "# v7 - SMOTE + ENN\n",
    "# Oversampling de todas las clases inferiores, undersampling de puntos ruidosos\n",
    "sme = SMOTEENN(random_state=42)\n",
    "print('Original dataset shape %s' % len(train_labels))\n",
    "X_res, y_res = sme.fit_resample(preprocessed_train, train_labels)\n",
    "print('Resampled dataset shape %s' % len(y_res))\n"
   ]
  },
  {
   "cell_type": "code",
   "execution_count": 17,
   "metadata": {},
   "outputs": [],
   "source": [
    "preprocessed_train = pd.DataFrame(X_res)\n",
    "train_labels = pd.DataFrame(y_res)"
   ]
  },
  {
   "cell_type": "code",
   "execution_count": 20,
   "metadata": {},
   "outputs": [
    {
     "output_type": "execute_result",
     "data": {
      "text/plain": [
       "damage_grade\n",
       "1               75398\n",
       "3               39579\n",
       "2               10400\n",
       "dtype: int64"
      ]
     },
     "metadata": {},
     "execution_count": 20
    }
   ],
   "source": [
    "train_labels.value_counts()"
   ]
  },
  {
   "cell_type": "code",
   "execution_count": 9,
   "metadata": {},
   "outputs": [
    {
     "output_type": "stream",
     "name": "stdout",
     "text": [
      "Original dataset shape 179275\n",
      "Resampled dataset shape 302703\n"
     ]
    }
   ],
   "source": [
    "# PROBAR CON SMOTENC\n",
    "# v8 Con onehot\n",
    "# categorical = list(range(0,len(preprocessed_train.columns)))\n",
    "# categorical.remove(14)\n",
    "# categorical = categorical[3:]\n",
    "\n",
    "# v9 SIN ONEHOT\n",
    "categorical = list(range(0,len(preprocessed_train.columns)))\n",
    "categorical.remove(1)\n",
    "categorical.remove(2)\n",
    "categorical.remove(3)\n",
    "categorical.remove(21)\n",
    "\n",
    "sm_nc = SMOTENC(categorical_features=categorical, random_state=0)\n",
    "print('Original dataset shape %s' % len(train_labels))\n",
    "x_smnc, y_smnc = sm_nc.fit_resample(preprocessed_train, train_labels)\n",
    "print('Resampled dataset shape %s' % len(y_smnc))"
   ]
  },
  {
   "cell_type": "code",
   "execution_count": 10,
   "metadata": {},
   "outputs": [],
   "source": [
    "preprocessed_train = pd.DataFrame(x_smnc)\n",
    "train_labels = pd.DataFrame(y_smnc)"
   ]
  },
  {
   "cell_type": "code",
   "execution_count": 11,
   "metadata": {},
   "outputs": [
    {
     "output_type": "execute_result",
     "data": {
      "text/plain": [
       "damage_grade\n",
       "3               100901\n",
       "2               100901\n",
       "1               100901\n",
       "dtype: int64"
      ]
     },
     "metadata": {},
     "execution_count": 11
    }
   ],
   "source": [
    "train_labels.value_counts()"
   ]
  },
  {
   "cell_type": "code",
   "execution_count": 24,
   "metadata": {},
   "outputs": [
    {
     "output_type": "execute_result",
     "data": {
      "text/plain": [
       "        count_floors_pre_eq  age  area_percentage  \\\n",
       "0                         2   30                6   \n",
       "1                         2   10                8   \n",
       "2                         2   10                5   \n",
       "3                         2   10                6   \n",
       "4                         3   30                8   \n",
       "...                     ...  ...              ...   \n",
       "302698                    2    5                7   \n",
       "302699                    2   50                3   \n",
       "302700                    2   55                3   \n",
       "302701                    2   20                6   \n",
       "302702                    2   40               10   \n",
       "\n",
       "        has_superstructure_adobe_mud  has_superstructure_mud_mortar_stone  \\\n",
       "0                                  1                                    1   \n",
       "1                                  0                                    1   \n",
       "2                                  0                                    1   \n",
       "3                                  0                                    1   \n",
       "4                                  1                                    0   \n",
       "...                              ...                                  ...   \n",
       "302698                             0                                    1   \n",
       "302699                             0                                    1   \n",
       "302700                             0                                    1   \n",
       "302701                             0                                    1   \n",
       "302702                             1                                    0   \n",
       "\n",
       "        has_superstructure_stone_flag  has_superstructure_cement_mortar_stone  \\\n",
       "0                                   0                                       0   \n",
       "1                                   0                                       0   \n",
       "2                                   0                                       0   \n",
       "3                                   0                                       0   \n",
       "4                                   0                                       0   \n",
       "...                               ...                                     ...   \n",
       "302698                              0                                       0   \n",
       "302699                              1                                       0   \n",
       "302700                              0                                       0   \n",
       "302701                              0                                       0   \n",
       "302702                              0                                       0   \n",
       "\n",
       "        has_superstructure_mud_mortar_brick  \\\n",
       "0                                         0   \n",
       "1                                         0   \n",
       "2                                         0   \n",
       "3                                         0   \n",
       "4                                         0   \n",
       "...                                     ...   \n",
       "302698                                    0   \n",
       "302699                                    0   \n",
       "302700                                    0   \n",
       "302701                                    0   \n",
       "302702                                    0   \n",
       "\n",
       "        has_superstructure_cement_mortar_brick  has_superstructure_timber  \\\n",
       "0                                            0                          0   \n",
       "1                                            0                          0   \n",
       "2                                            0                          0   \n",
       "3                                            0                          1   \n",
       "4                                            0                          0   \n",
       "...                                        ...                        ...   \n",
       "302698                                       0                          0   \n",
       "302699                                       0                          1   \n",
       "302700                                       0                          0   \n",
       "302701                                       0                          0   \n",
       "302702                                       0                          0   \n",
       "\n",
       "        ...  ground_floor_type_x  ground_floor_type_z  other_floor_type_j  \\\n",
       "0       ...                    0                    0                   0   \n",
       "1       ...                    1                    0                   0   \n",
       "2       ...                    0                    0                   0   \n",
       "3       ...                    0                    0                   0   \n",
       "4       ...                    0                    0                   0   \n",
       "...     ...                  ...                  ...                 ...   \n",
       "302698  ...                    0                    0                   0   \n",
       "302699  ...                    0                    0                   0   \n",
       "302700  ...                    0                    0                   0   \n",
       "302701  ...                    0                    0                   0   \n",
       "302702  ...                    0                    0                   0   \n",
       "\n",
       "        other_floor_type_q  other_floor_type_s  other_floor_type_x  \\\n",
       "0                        1                   0                   0   \n",
       "1                        1                   0                   0   \n",
       "2                        0                   0                   1   \n",
       "3                        0                   0                   1   \n",
       "4                        0                   0                   1   \n",
       "...                    ...                 ...                 ...   \n",
       "302698                   1                   0                   0   \n",
       "302699                   0                   0                   1   \n",
       "302700                   1                   0                   0   \n",
       "302701                   1                   0                   0   \n",
       "302702                   1                   0                   0   \n",
       "\n",
       "        position_j  position_o  position_s  position_t  \n",
       "0                0           0           0           1  \n",
       "1                0           0           1           0  \n",
       "2                0           0           0           1  \n",
       "3                0           0           1           0  \n",
       "4                0           0           1           0  \n",
       "...            ...         ...         ...         ...  \n",
       "302698           0           0           1           0  \n",
       "302699           0           0           1           0  \n",
       "302700           0           0           1           0  \n",
       "302701           0           0           0           1  \n",
       "302702           0           0           0           1  \n",
       "\n",
       "[302703 rows x 81 columns]"
      ],
      "text/html": "<div>\n<style scoped>\n    .dataframe tbody tr th:only-of-type {\n        vertical-align: middle;\n    }\n\n    .dataframe tbody tr th {\n        vertical-align: top;\n    }\n\n    .dataframe thead th {\n        text-align: right;\n    }\n</style>\n<table border=\"1\" class=\"dataframe\">\n  <thead>\n    <tr style=\"text-align: right;\">\n      <th></th>\n      <th>count_floors_pre_eq</th>\n      <th>age</th>\n      <th>area_percentage</th>\n      <th>has_superstructure_adobe_mud</th>\n      <th>has_superstructure_mud_mortar_stone</th>\n      <th>has_superstructure_stone_flag</th>\n      <th>has_superstructure_cement_mortar_stone</th>\n      <th>has_superstructure_mud_mortar_brick</th>\n      <th>has_superstructure_cement_mortar_brick</th>\n      <th>has_superstructure_timber</th>\n      <th>...</th>\n      <th>ground_floor_type_x</th>\n      <th>ground_floor_type_z</th>\n      <th>other_floor_type_j</th>\n      <th>other_floor_type_q</th>\n      <th>other_floor_type_s</th>\n      <th>other_floor_type_x</th>\n      <th>position_j</th>\n      <th>position_o</th>\n      <th>position_s</th>\n      <th>position_t</th>\n    </tr>\n  </thead>\n  <tbody>\n    <tr>\n      <th>0</th>\n      <td>2</td>\n      <td>30</td>\n      <td>6</td>\n      <td>1</td>\n      <td>1</td>\n      <td>0</td>\n      <td>0</td>\n      <td>0</td>\n      <td>0</td>\n      <td>0</td>\n      <td>...</td>\n      <td>0</td>\n      <td>0</td>\n      <td>0</td>\n      <td>1</td>\n      <td>0</td>\n      <td>0</td>\n      <td>0</td>\n      <td>0</td>\n      <td>0</td>\n      <td>1</td>\n    </tr>\n    <tr>\n      <th>1</th>\n      <td>2</td>\n      <td>10</td>\n      <td>8</td>\n      <td>0</td>\n      <td>1</td>\n      <td>0</td>\n      <td>0</td>\n      <td>0</td>\n      <td>0</td>\n      <td>0</td>\n      <td>...</td>\n      <td>1</td>\n      <td>0</td>\n      <td>0</td>\n      <td>1</td>\n      <td>0</td>\n      <td>0</td>\n      <td>0</td>\n      <td>0</td>\n      <td>1</td>\n      <td>0</td>\n    </tr>\n    <tr>\n      <th>2</th>\n      <td>2</td>\n      <td>10</td>\n      <td>5</td>\n      <td>0</td>\n      <td>1</td>\n      <td>0</td>\n      <td>0</td>\n      <td>0</td>\n      <td>0</td>\n      <td>0</td>\n      <td>...</td>\n      <td>0</td>\n      <td>0</td>\n      <td>0</td>\n      <td>0</td>\n      <td>0</td>\n      <td>1</td>\n      <td>0</td>\n      <td>0</td>\n      <td>0</td>\n      <td>1</td>\n    </tr>\n    <tr>\n      <th>3</th>\n      <td>2</td>\n      <td>10</td>\n      <td>6</td>\n      <td>0</td>\n      <td>1</td>\n      <td>0</td>\n      <td>0</td>\n      <td>0</td>\n      <td>0</td>\n      <td>1</td>\n      <td>...</td>\n      <td>0</td>\n      <td>0</td>\n      <td>0</td>\n      <td>0</td>\n      <td>0</td>\n      <td>1</td>\n      <td>0</td>\n      <td>0</td>\n      <td>1</td>\n      <td>0</td>\n    </tr>\n    <tr>\n      <th>4</th>\n      <td>3</td>\n      <td>30</td>\n      <td>8</td>\n      <td>1</td>\n      <td>0</td>\n      <td>0</td>\n      <td>0</td>\n      <td>0</td>\n      <td>0</td>\n      <td>0</td>\n      <td>...</td>\n      <td>0</td>\n      <td>0</td>\n      <td>0</td>\n      <td>0</td>\n      <td>0</td>\n      <td>1</td>\n      <td>0</td>\n      <td>0</td>\n      <td>1</td>\n      <td>0</td>\n    </tr>\n    <tr>\n      <th>...</th>\n      <td>...</td>\n      <td>...</td>\n      <td>...</td>\n      <td>...</td>\n      <td>...</td>\n      <td>...</td>\n      <td>...</td>\n      <td>...</td>\n      <td>...</td>\n      <td>...</td>\n      <td>...</td>\n      <td>...</td>\n      <td>...</td>\n      <td>...</td>\n      <td>...</td>\n      <td>...</td>\n      <td>...</td>\n      <td>...</td>\n      <td>...</td>\n      <td>...</td>\n      <td>...</td>\n    </tr>\n    <tr>\n      <th>302698</th>\n      <td>2</td>\n      <td>5</td>\n      <td>7</td>\n      <td>0</td>\n      <td>1</td>\n      <td>0</td>\n      <td>0</td>\n      <td>0</td>\n      <td>0</td>\n      <td>0</td>\n      <td>...</td>\n      <td>0</td>\n      <td>0</td>\n      <td>0</td>\n      <td>1</td>\n      <td>0</td>\n      <td>0</td>\n      <td>0</td>\n      <td>0</td>\n      <td>1</td>\n      <td>0</td>\n    </tr>\n    <tr>\n      <th>302699</th>\n      <td>2</td>\n      <td>50</td>\n      <td>3</td>\n      <td>0</td>\n      <td>1</td>\n      <td>1</td>\n      <td>0</td>\n      <td>0</td>\n      <td>0</td>\n      <td>1</td>\n      <td>...</td>\n      <td>0</td>\n      <td>0</td>\n      <td>0</td>\n      <td>0</td>\n      <td>0</td>\n      <td>1</td>\n      <td>0</td>\n      <td>0</td>\n      <td>1</td>\n      <td>0</td>\n    </tr>\n    <tr>\n      <th>302700</th>\n      <td>2</td>\n      <td>55</td>\n      <td>3</td>\n      <td>0</td>\n      <td>1</td>\n      <td>0</td>\n      <td>0</td>\n      <td>0</td>\n      <td>0</td>\n      <td>0</td>\n      <td>...</td>\n      <td>0</td>\n      <td>0</td>\n      <td>0</td>\n      <td>1</td>\n      <td>0</td>\n      <td>0</td>\n      <td>0</td>\n      <td>0</td>\n      <td>1</td>\n      <td>0</td>\n    </tr>\n    <tr>\n      <th>302701</th>\n      <td>2</td>\n      <td>20</td>\n      <td>6</td>\n      <td>0</td>\n      <td>1</td>\n      <td>0</td>\n      <td>0</td>\n      <td>0</td>\n      <td>0</td>\n      <td>0</td>\n      <td>...</td>\n      <td>0</td>\n      <td>0</td>\n      <td>0</td>\n      <td>1</td>\n      <td>0</td>\n      <td>0</td>\n      <td>0</td>\n      <td>0</td>\n      <td>0</td>\n      <td>1</td>\n    </tr>\n    <tr>\n      <th>302702</th>\n      <td>2</td>\n      <td>40</td>\n      <td>10</td>\n      <td>1</td>\n      <td>0</td>\n      <td>0</td>\n      <td>0</td>\n      <td>0</td>\n      <td>0</td>\n      <td>0</td>\n      <td>...</td>\n      <td>0</td>\n      <td>0</td>\n      <td>0</td>\n      <td>1</td>\n      <td>0</td>\n      <td>0</td>\n      <td>0</td>\n      <td>0</td>\n      <td>0</td>\n      <td>1</td>\n    </tr>\n  </tbody>\n</table>\n<p>302703 rows × 81 columns</p>\n</div>"
     },
     "metadata": {},
     "execution_count": 24
    }
   ],
   "source": [
    "preprocessed_train"
   ]
  },
  {
   "cell_type": "code",
   "execution_count": 16,
   "metadata": {},
   "outputs": [],
   "source": [
    "#############################################################"
   ]
  },
  {
   "cell_type": "code",
   "execution_count": 10,
   "metadata": {},
   "outputs": [],
   "source": [
    "# Preprocesado 3.1\n",
    "# Selección de características\n",
    "# For classification: chi2, f_classif, mutual_info_classif\n",
    "# selector = SelectKBest(chi2, k=15)\n",
    "selector = SelectKBest(mutual_info_classif, k=15)\n",
    "selector.fit(preprocessed_train, train_labels)\n",
    "X_new = selector.transform(preprocessed_train)\n"
   ]
  },
  {
   "cell_type": "code",
   "execution_count": 11,
   "metadata": {},
   "outputs": [
    {
     "output_type": "execute_result",
     "data": {
      "text/plain": [
       "Index(['count_floors_pre_eq', 'age', 'has_superstructure_mud_mortar_stone',\n",
       "       'has_superstructure_cement_mortar_brick', 'count_families',\n",
       "       'geo_level_1_id_17', 'geo_level_1_id_26', 'foundation_type_i',\n",
       "       'foundation_type_r', 'roof_type_n', 'roof_type_x',\n",
       "       'ground_floor_type_f', 'ground_floor_type_v', 'other_floor_type_q',\n",
       "       'other_floor_type_s'],\n",
       "      dtype='object')"
      ]
     },
     "metadata": {},
     "execution_count": 11
    }
   ],
   "source": [
    "columns = preprocessed_train.columns[selector.get_support()]\n",
    "columns"
   ]
  },
  {
   "cell_type": "code",
   "execution_count": 12,
   "metadata": {},
   "outputs": [
    {
     "output_type": "execute_result",
     "data": {
      "text/plain": [
       "         0         1         2        3        4         5         6   \\\n",
       "0  0.032918  0.033048  0.013741  0.00448  0.06669  0.001536  0.002692   \n",
       "\n",
       "        7         8         9   ...        71        72        73        74  \\\n",
       "0  0.00301  0.032034  0.005578  ...  0.000234  0.000843  0.014176  0.037567   \n",
       "\n",
       "         75        76        77        78        79        80  \n",
       "0  0.025649  0.001583  0.001856  0.000709  0.015622  0.001171  \n",
       "\n",
       "[1 rows x 81 columns]"
      ],
      "text/html": "<div>\n<style scoped>\n    .dataframe tbody tr th:only-of-type {\n        vertical-align: middle;\n    }\n\n    .dataframe tbody tr th {\n        vertical-align: top;\n    }\n\n    .dataframe thead th {\n        text-align: right;\n    }\n</style>\n<table border=\"1\" class=\"dataframe\">\n  <thead>\n    <tr style=\"text-align: right;\">\n      <th></th>\n      <th>0</th>\n      <th>1</th>\n      <th>2</th>\n      <th>3</th>\n      <th>4</th>\n      <th>5</th>\n      <th>6</th>\n      <th>7</th>\n      <th>8</th>\n      <th>9</th>\n      <th>...</th>\n      <th>71</th>\n      <th>72</th>\n      <th>73</th>\n      <th>74</th>\n      <th>75</th>\n      <th>76</th>\n      <th>77</th>\n      <th>78</th>\n      <th>79</th>\n      <th>80</th>\n    </tr>\n  </thead>\n  <tbody>\n    <tr>\n      <th>0</th>\n      <td>0.032918</td>\n      <td>0.033048</td>\n      <td>0.013741</td>\n      <td>0.00448</td>\n      <td>0.06669</td>\n      <td>0.001536</td>\n      <td>0.002692</td>\n      <td>0.00301</td>\n      <td>0.032034</td>\n      <td>0.005578</td>\n      <td>...</td>\n      <td>0.000234</td>\n      <td>0.000843</td>\n      <td>0.014176</td>\n      <td>0.037567</td>\n      <td>0.025649</td>\n      <td>0.001583</td>\n      <td>0.001856</td>\n      <td>0.000709</td>\n      <td>0.015622</td>\n      <td>0.001171</td>\n    </tr>\n  </tbody>\n</table>\n<p>1 rows × 81 columns</p>\n</div>"
     },
     "metadata": {},
     "execution_count": 12
    }
   ],
   "source": [
    "# what are scores for the features\n",
    "pd.DataFrame(selector.scores_).transpose()"
   ]
  },
  {
   "cell_type": "code",
   "execution_count": 13,
   "metadata": {},
   "outputs": [
    {
     "output_type": "display_data",
     "data": {
      "text/plain": "<Figure size 432x288 with 1 Axes>",
      "image/svg+xml": "<?xml version=\"1.0\" encoding=\"utf-8\" standalone=\"no\"?>\r\n<!DOCTYPE svg PUBLIC \"-//W3C//DTD SVG 1.1//EN\"\r\n  \"http://www.w3.org/Graphics/SVG/1.1/DTD/svg11.dtd\">\r\n<!-- Created with matplotlib (https://matplotlib.org/) -->\r\n<svg height=\"248.518125pt\" version=\"1.1\" viewBox=\"0 0 378.465625 248.518125\" width=\"378.465625pt\" xmlns=\"http://www.w3.org/2000/svg\" xmlns:xlink=\"http://www.w3.org/1999/xlink\">\r\n <metadata>\r\n  <rdf:RDF xmlns:cc=\"http://creativecommons.org/ns#\" xmlns:dc=\"http://purl.org/dc/elements/1.1/\" xmlns:rdf=\"http://www.w3.org/1999/02/22-rdf-syntax-ns#\">\r\n   <cc:Work>\r\n    <dc:type rdf:resource=\"http://purl.org/dc/dcmitype/StillImage\"/>\r\n    <dc:date>2021-01-11T11:13:49.191869</dc:date>\r\n    <dc:format>image/svg+xml</dc:format>\r\n    <dc:creator>\r\n     <cc:Agent>\r\n      <dc:title>Matplotlib v3.3.2, https://matplotlib.org/</dc:title>\r\n     </cc:Agent>\r\n    </dc:creator>\r\n   </cc:Work>\r\n  </rdf:RDF>\r\n </metadata>\r\n <defs>\r\n  <style type=\"text/css\">*{stroke-linecap:butt;stroke-linejoin:round;}</style>\r\n </defs>\r\n <g id=\"figure_1\">\r\n  <g id=\"patch_1\">\r\n   <path d=\"M 0 248.518125 \r\nL 378.465625 248.518125 \r\nL 378.465625 0 \r\nL 0 0 \r\nz\r\n\" style=\"fill:none;\"/>\r\n  </g>\r\n  <g id=\"axes_1\">\r\n   <g id=\"patch_2\">\r\n    <path d=\"M 36.465625 224.64 \r\nL 371.265625 224.64 \r\nL 371.265625 7.2 \r\nL 36.465625 7.2 \r\nz\r\n\" style=\"fill:#ffffff;\"/>\r\n   </g>\r\n   <g id=\"patch_3\">\r\n    <path clip-path=\"url(#p103ef77028)\" d=\"M 51.683807 224.64 \r\nL 54.697308 224.64 \r\nL 54.697308 144.422769 \r\nL 51.683807 144.422769 \r\nz\r\n\" style=\"fill:#1f77b4;\"/>\r\n   </g>\r\n   <g id=\"patch_4\">\r\n    <path clip-path=\"url(#p103ef77028)\" d=\"M 55.450684 224.64 \r\nL 58.464185 224.64 \r\nL 58.464185 144.106758 \r\nL 55.450684 144.106758 \r\nz\r\n\" style=\"fill:#1f77b4;\"/>\r\n   </g>\r\n   <g id=\"patch_5\">\r\n    <path clip-path=\"url(#p103ef77028)\" d=\"M 59.21756 224.64 \r\nL 62.231062 224.64 \r\nL 62.231062 191.156103 \r\nL 59.21756 191.156103 \r\nz\r\n\" style=\"fill:#1f77b4;\"/>\r\n   </g>\r\n   <g id=\"patch_6\">\r\n    <path clip-path=\"url(#p103ef77028)\" d=\"M 62.984437 224.64 \r\nL 65.997938 224.64 \r\nL 65.997938 213.722787 \r\nL 62.984437 213.722787 \r\nz\r\n\" style=\"fill:#1f77b4;\"/>\r\n   </g>\r\n   <g id=\"patch_7\">\r\n    <path clip-path=\"url(#p103ef77028)\" d=\"M 66.751314 224.64 \r\nL 69.764815 224.64 \r\nL 69.764815 62.125856 \r\nL 66.751314 62.125856 \r\nz\r\n\" style=\"fill:#1f77b4;\"/>\r\n   </g>\r\n   <g id=\"patch_8\">\r\n    <path clip-path=\"url(#p103ef77028)\" d=\"M 70.51819 224.64 \r\nL 73.531692 224.64 \r\nL 73.531692 220.897294 \r\nL 70.51819 220.897294 \r\nz\r\n\" style=\"fill:#1f77b4;\"/>\r\n   </g>\r\n   <g id=\"patch_9\">\r\n    <path clip-path=\"url(#p103ef77028)\" d=\"M 74.285067 224.64 \r\nL 77.298568 224.64 \r\nL 77.298568 218.079084 \r\nL 74.285067 218.079084 \r\nz\r\n\" style=\"fill:#1f77b4;\"/>\r\n   </g>\r\n   <g id=\"patch_10\">\r\n    <path clip-path=\"url(#p103ef77028)\" d=\"M 78.051944 224.64 \r\nL 81.065445 224.64 \r\nL 81.065445 217.305276 \r\nL 78.051944 217.305276 \r\nz\r\n\" style=\"fill:#1f77b4;\"/>\r\n   </g>\r\n   <g id=\"patch_11\">\r\n    <path clip-path=\"url(#p103ef77028)\" d=\"M 81.81882 224.64 \r\nL 84.832322 224.64 \r\nL 84.832322 146.577186 \r\nL 81.81882 146.577186 \r\nz\r\n\" style=\"fill:#1f77b4;\"/>\r\n   </g>\r\n   <g id=\"patch_12\">\r\n    <path clip-path=\"url(#p103ef77028)\" d=\"M 85.585697 224.64 \r\nL 88.599198 224.64 \r\nL 88.599198 211.04627 \r\nL 85.585697 211.04627 \r\nz\r\n\" style=\"fill:#1f77b4;\"/>\r\n   </g>\r\n   <g id=\"patch_13\">\r\n    <path clip-path=\"url(#p103ef77028)\" d=\"M 89.352574 224.64 \r\nL 92.366075 224.64 \r\nL 92.366075 214.068558 \r\nL 89.352574 214.068558 \r\nz\r\n\" style=\"fill:#1f77b4;\"/>\r\n   </g>\r\n   <g id=\"patch_14\">\r\n    <path clip-path=\"url(#p103ef77028)\" d=\"M 93.11945 224.64 \r\nL 96.132952 224.64 \r\nL 96.132952 192.131848 \r\nL 93.11945 192.131848 \r\nz\r\n\" style=\"fill:#1f77b4;\"/>\r\n   </g>\r\n   <g id=\"patch_15\">\r\n    <path clip-path=\"url(#p103ef77028)\" d=\"M 96.886327 224.64 \r\nL 99.899828 224.64 \r\nL 99.899828 188.248282 \r\nL 96.886327 188.248282 \r\nz\r\n\" style=\"fill:#1f77b4;\"/>\r\n   </g>\r\n   <g id=\"patch_16\">\r\n    <path clip-path=\"url(#p103ef77028)\" d=\"M 100.653204 224.64 \r\nL 103.666705 224.64 \r\nL 103.666705 221.196128 \r\nL 100.653204 221.196128 \r\nz\r\n\" style=\"fill:#1f77b4;\"/>\r\n   </g>\r\n   <g id=\"patch_17\">\r\n    <path clip-path=\"url(#p103ef77028)\" d=\"M 104.42008 224.64 \r\nL 107.433582 224.64 \r\nL 107.433582 157.349404 \r\nL 104.42008 157.349404 \r\nz\r\n\" style=\"fill:#1f77b4;\"/>\r\n   </g>\r\n   <g id=\"patch_18\">\r\n    <path clip-path=\"url(#p103ef77028)\" d=\"M 108.186957 224.64 \r\nL 111.200458 224.64 \r\nL 111.200458 213.056739 \r\nL 108.186957 213.056739 \r\nz\r\n\" style=\"fill:#1f77b4;\"/>\r\n   </g>\r\n   <g id=\"patch_19\">\r\n    <path clip-path=\"url(#p103ef77028)\" d=\"M 111.953834 224.64 \r\nL 114.967335 224.64 \r\nL 114.967335 224.64 \r\nL 111.953834 224.64 \r\nz\r\n\" style=\"fill:#1f77b4;\"/>\r\n   </g>\r\n   <g id=\"patch_20\">\r\n    <path clip-path=\"url(#p103ef77028)\" d=\"M 115.720711 224.64 \r\nL 118.734212 224.64 \r\nL 118.734212 213.23832 \r\nL 115.720711 213.23832 \r\nz\r\n\" style=\"fill:#1f77b4;\"/>\r\n   </g>\r\n   <g id=\"patch_21\">\r\n    <path clip-path=\"url(#p103ef77028)\" d=\"M 119.487587 224.64 \r\nL 122.501089 224.64 \r\nL 122.501089 220.385236 \r\nL 119.487587 220.385236 \r\nz\r\n\" style=\"fill:#1f77b4;\"/>\r\n   </g>\r\n   <g id=\"patch_22\">\r\n    <path clip-path=\"url(#p103ef77028)\" d=\"M 123.254464 224.64 \r\nL 126.267965 224.64 \r\nL 126.267965 222.342625 \r\nL 123.254464 222.342625 \r\nz\r\n\" style=\"fill:#1f77b4;\"/>\r\n   </g>\r\n   <g id=\"patch_23\">\r\n    <path clip-path=\"url(#p103ef77028)\" d=\"M 127.021341 224.64 \r\nL 130.034842 224.64 \r\nL 130.034842 223.664034 \r\nL 127.021341 223.664034 \r\nz\r\n\" style=\"fill:#1f77b4;\"/>\r\n   </g>\r\n   <g id=\"patch_24\">\r\n    <path clip-path=\"url(#p103ef77028)\" d=\"M 130.788217 224.64 \r\nL 133.801719 224.64 \r\nL 133.801719 223.198222 \r\nL 130.788217 223.198222 \r\nz\r\n\" style=\"fill:#1f77b4;\"/>\r\n   </g>\r\n   <g id=\"patch_25\">\r\n    <path clip-path=\"url(#p103ef77028)\" d=\"M 134.555094 224.64 \r\nL 137.568595 224.64 \r\nL 137.568595 224.64 \r\nL 134.555094 224.64 \r\nz\r\n\" style=\"fill:#1f77b4;\"/>\r\n   </g>\r\n   <g id=\"patch_26\">\r\n    <path clip-path=\"url(#p103ef77028)\" d=\"M 138.321971 224.64 \r\nL 141.335472 224.64 \r\nL 141.335472 224.64 \r\nL 138.321971 224.64 \r\nz\r\n\" style=\"fill:#1f77b4;\"/>\r\n   </g>\r\n   <g id=\"patch_27\">\r\n    <path clip-path=\"url(#p103ef77028)\" d=\"M 142.088847 224.64 \r\nL 145.102349 224.64 \r\nL 145.102349 224.529916 \r\nL 142.088847 224.529916 \r\nz\r\n\" style=\"fill:#1f77b4;\"/>\r\n   </g>\r\n   <g id=\"patch_28\">\r\n    <path clip-path=\"url(#p103ef77028)\" d=\"M 145.855724 224.64 \r\nL 148.869225 224.64 \r\nL 148.869225 221.854821 \r\nL 145.855724 221.854821 \r\nz\r\n\" style=\"fill:#1f77b4;\"/>\r\n   </g>\r\n   <g id=\"patch_29\">\r\n    <path clip-path=\"url(#p103ef77028)\" d=\"M 149.622601 224.64 \r\nL 152.636102 224.64 \r\nL 152.636102 220.443514 \r\nL 149.622601 220.443514 \r\nz\r\n\" style=\"fill:#1f77b4;\"/>\r\n   </g>\r\n   <g id=\"patch_30\">\r\n    <path clip-path=\"url(#p103ef77028)\" d=\"M 153.389477 224.64 \r\nL 156.402979 224.64 \r\nL 156.402979 218.139774 \r\nL 153.389477 218.139774 \r\nz\r\n\" style=\"fill:#1f77b4;\"/>\r\n   </g>\r\n   <g id=\"patch_31\">\r\n    <path clip-path=\"url(#p103ef77028)\" d=\"M 157.156354 224.64 \r\nL 160.169855 224.64 \r\nL 160.169855 224.64 \r\nL 157.156354 224.64 \r\nz\r\n\" style=\"fill:#1f77b4;\"/>\r\n   </g>\r\n   <g id=\"patch_32\">\r\n    <path clip-path=\"url(#p103ef77028)\" d=\"M 160.923231 224.64 \r\nL 163.936732 224.64 \r\nL 163.936732 221.609209 \r\nL 160.923231 221.609209 \r\nz\r\n\" style=\"fill:#1f77b4;\"/>\r\n   </g>\r\n   <g id=\"patch_33\">\r\n    <path clip-path=\"url(#p103ef77028)\" d=\"M 164.690107 224.64 \r\nL 167.703609 224.64 \r\nL 167.703609 214.180156 \r\nL 164.690107 214.180156 \r\nz\r\n\" style=\"fill:#1f77b4;\"/>\r\n   </g>\r\n   <g id=\"patch_34\">\r\n    <path clip-path=\"url(#p103ef77028)\" d=\"M 168.456984 224.64 \r\nL 171.470485 224.64 \r\nL 171.470485 221.345864 \r\nL 168.456984 221.345864 \r\nz\r\n\" style=\"fill:#1f77b4;\"/>\r\n   </g>\r\n   <g id=\"patch_35\">\r\n    <path clip-path=\"url(#p103ef77028)\" d=\"M 172.223861 224.64 \r\nL 175.237362 224.64 \r\nL 175.237362 215.409087 \r\nL 172.223861 215.409087 \r\nz\r\n\" style=\"fill:#1f77b4;\"/>\r\n   </g>\r\n   <g id=\"patch_36\">\r\n    <path clip-path=\"url(#p103ef77028)\" d=\"M 175.990738 224.64 \r\nL 179.004239 224.64 \r\nL 179.004239 224.64 \r\nL 175.990738 224.64 \r\nz\r\n\" style=\"fill:#1f77b4;\"/>\r\n   </g>\r\n   <g id=\"patch_37\">\r\n    <path clip-path=\"url(#p103ef77028)\" d=\"M 179.757614 224.64 \r\nL 182.771116 224.64 \r\nL 182.771116 205.781269 \r\nL 179.757614 205.781269 \r\nz\r\n\" style=\"fill:#1f77b4;\"/>\r\n   </g>\r\n   <g id=\"patch_38\">\r\n    <path clip-path=\"url(#p103ef77028)\" d=\"M 183.524491 224.64 \r\nL 186.537992 224.64 \r\nL 186.537992 221.737194 \r\nL 183.524491 221.737194 \r\nz\r\n\" style=\"fill:#1f77b4;\"/>\r\n   </g>\r\n   <g id=\"patch_39\">\r\n    <path clip-path=\"url(#p103ef77028)\" d=\"M 187.291368 224.64 \r\nL 190.304869 224.64 \r\nL 190.304869 223.408224 \r\nL 187.291368 223.408224 \r\nz\r\n\" style=\"fill:#1f77b4;\"/>\r\n   </g>\r\n   <g id=\"patch_40\">\r\n    <path clip-path=\"url(#p103ef77028)\" d=\"M 191.058244 224.64 \r\nL 194.071746 224.64 \r\nL 194.071746 224.64 \r\nL 191.058244 224.64 \r\nz\r\n\" style=\"fill:#1f77b4;\"/>\r\n   </g>\r\n   <g id=\"patch_41\">\r\n    <path clip-path=\"url(#p103ef77028)\" d=\"M 194.825121 224.64 \r\nL 197.838622 224.64 \r\nL 197.838622 220.062654 \r\nL 194.825121 220.062654 \r\nz\r\n\" style=\"fill:#1f77b4;\"/>\r\n   </g>\r\n   <g id=\"patch_42\">\r\n    <path clip-path=\"url(#p103ef77028)\" d=\"M 198.591998 224.64 \r\nL 201.605499 224.64 \r\nL 201.605499 213.934254 \r\nL 198.591998 213.934254 \r\nz\r\n\" style=\"fill:#1f77b4;\"/>\r\n   </g>\r\n   <g id=\"patch_43\">\r\n    <path clip-path=\"url(#p103ef77028)\" d=\"M 202.358874 224.64 \r\nL 205.372376 224.64 \r\nL 205.372376 220.938111 \r\nL 202.358874 220.938111 \r\nz\r\n\" style=\"fill:#1f77b4;\"/>\r\n   </g>\r\n   <g id=\"patch_44\">\r\n    <path clip-path=\"url(#p103ef77028)\" d=\"M 206.125751 224.64 \r\nL 209.139252 224.64 \r\nL 209.139252 222.357959 \r\nL 206.125751 222.357959 \r\nz\r\n\" style=\"fill:#1f77b4;\"/>\r\n   </g>\r\n   <g id=\"patch_45\">\r\n    <path clip-path=\"url(#p103ef77028)\" d=\"M 209.892628 224.64 \r\nL 212.906129 224.64 \r\nL 212.906129 220.843389 \r\nL 209.892628 220.843389 \r\nz\r\n\" style=\"fill:#1f77b4;\"/>\r\n   </g>\r\n   <g id=\"patch_46\">\r\n    <path clip-path=\"url(#p103ef77028)\" d=\"M 213.659504 224.64 \r\nL 216.673006 224.64 \r\nL 216.673006 119.347162 \r\nL 213.659504 119.347162 \r\nz\r\n\" style=\"fill:#1f77b4;\"/>\r\n   </g>\r\n   <g id=\"patch_47\">\r\n    <path clip-path=\"url(#p103ef77028)\" d=\"M 217.426381 224.64 \r\nL 220.439882 224.64 \r\nL 220.439882 217.600266 \r\nL 217.426381 217.600266 \r\nz\r\n\" style=\"fill:#1f77b4;\"/>\r\n   </g>\r\n   <g id=\"patch_48\">\r\n    <path clip-path=\"url(#p103ef77028)\" d=\"M 221.193258 224.64 \r\nL 224.206759 224.64 \r\nL 224.206759 223.252555 \r\nL 221.193258 223.252555 \r\nz\r\n\" style=\"fill:#1f77b4;\"/>\r\n   </g>\r\n   <g id=\"patch_49\">\r\n    <path clip-path=\"url(#p103ef77028)\" d=\"M 224.960134 224.64 \r\nL 227.973636 224.64 \r\nL 227.973636 201.161235 \r\nL 224.960134 201.161235 \r\nz\r\n\" style=\"fill:#1f77b4;\"/>\r\n   </g>\r\n   <g id=\"patch_50\">\r\n    <path clip-path=\"url(#p103ef77028)\" d=\"M 228.727011 224.64 \r\nL 231.740512 224.64 \r\nL 231.740512 211.316868 \r\nL 228.727011 211.316868 \r\nz\r\n\" style=\"fill:#1f77b4;\"/>\r\n   </g>\r\n   <g id=\"patch_51\">\r\n    <path clip-path=\"url(#p103ef77028)\" d=\"M 232.493888 224.64 \r\nL 235.507389 224.64 \r\nL 235.507389 213.407219 \r\nL 232.493888 213.407219 \r\nz\r\n\" style=\"fill:#1f77b4;\"/>\r\n   </g>\r\n   <g id=\"patch_52\">\r\n    <path clip-path=\"url(#p103ef77028)\" d=\"M 236.260765 224.64 \r\nL 239.274266 224.64 \r\nL 239.274266 223.044643 \r\nL 236.260765 223.044643 \r\nz\r\n\" style=\"fill:#1f77b4;\"/>\r\n   </g>\r\n   <g id=\"patch_53\">\r\n    <path clip-path=\"url(#p103ef77028)\" d=\"M 240.027641 224.64 \r\nL 243.041143 224.64 \r\nL 243.041143 224.64 \r\nL 240.027641 224.64 \r\nz\r\n\" style=\"fill:#1f77b4;\"/>\r\n   </g>\r\n   <g id=\"patch_54\">\r\n    <path clip-path=\"url(#p103ef77028)\" d=\"M 243.794518 224.64 \r\nL 246.808019 224.64 \r\nL 246.808019 222.235445 \r\nL 243.794518 222.235445 \r\nz\r\n\" style=\"fill:#1f77b4;\"/>\r\n   </g>\r\n   <g id=\"patch_55\">\r\n    <path clip-path=\"url(#p103ef77028)\" d=\"M 247.561395 224.64 \r\nL 250.574896 224.64 \r\nL 250.574896 142.944112 \r\nL 247.561395 142.944112 \r\nz\r\n\" style=\"fill:#1f77b4;\"/>\r\n   </g>\r\n   <g id=\"patch_56\">\r\n    <path clip-path=\"url(#p103ef77028)\" d=\"M 251.328271 224.64 \r\nL 254.341773 224.64 \r\nL 254.341773 216.086955 \r\nL 251.328271 216.086955 \r\nz\r\n\" style=\"fill:#1f77b4;\"/>\r\n   </g>\r\n   <g id=\"patch_57\">\r\n    <path clip-path=\"url(#p103ef77028)\" d=\"M 255.095148 224.64 \r\nL 258.108649 224.64 \r\nL 258.108649 222.353953 \r\nL 255.095148 222.353953 \r\nz\r\n\" style=\"fill:#1f77b4;\"/>\r\n   </g>\r\n   <g id=\"patch_58\">\r\n    <path clip-path=\"url(#p103ef77028)\" d=\"M 258.862025 224.64 \r\nL 261.875526 224.64 \r\nL 261.875526 219.996614 \r\nL 258.862025 219.996614 \r\nz\r\n\" style=\"fill:#1f77b4;\"/>\r\n   </g>\r\n   <g id=\"patch_59\">\r\n    <path clip-path=\"url(#p103ef77028)\" d=\"M 262.628901 224.64 \r\nL 265.642403 224.64 \r\nL 265.642403 220.478299 \r\nL 262.628901 220.478299 \r\nz\r\n\" style=\"fill:#1f77b4;\"/>\r\n   </g>\r\n   <g id=\"patch_60\">\r\n    <path clip-path=\"url(#p103ef77028)\" d=\"M 266.395778 224.64 \r\nL 269.409279 224.64 \r\nL 269.409279 220.706316 \r\nL 266.395778 220.706316 \r\nz\r\n\" style=\"fill:#1f77b4;\"/>\r\n   </g>\r\n   <g id=\"patch_61\">\r\n    <path clip-path=\"url(#p103ef77028)\" d=\"M 270.162655 224.64 \r\nL 273.176156 224.64 \r\nL 273.176156 224.64 \r\nL 270.162655 224.64 \r\nz\r\n\" style=\"fill:#1f77b4;\"/>\r\n   </g>\r\n   <g id=\"patch_62\">\r\n    <path clip-path=\"url(#p103ef77028)\" d=\"M 273.929531 224.64 \r\nL 276.943033 224.64 \r\nL 276.943033 175.946607 \r\nL 273.929531 175.946607 \r\nz\r\n\" style=\"fill:#1f77b4;\"/>\r\n   </g>\r\n   <g id=\"patch_63\">\r\n    <path clip-path=\"url(#p103ef77028)\" d=\"M 277.696408 224.64 \r\nL 280.709909 224.64 \r\nL 280.709909 222.771432 \r\nL 277.696408 222.771432 \r\nz\r\n\" style=\"fill:#1f77b4;\"/>\r\n   </g>\r\n   <g id=\"patch_64\">\r\n    <path clip-path=\"url(#p103ef77028)\" d=\"M 281.463285 224.64 \r\nL 284.476786 224.64 \r\nL 284.476786 137.013917 \r\nL 281.463285 137.013917 \r\nz\r\n\" style=\"fill:#1f77b4;\"/>\r\n   </g>\r\n   <g id=\"patch_65\">\r\n    <path clip-path=\"url(#p103ef77028)\" d=\"M 285.230161 224.64 \r\nL 288.243663 224.64 \r\nL 288.243663 17.554286 \r\nL 285.230161 17.554286 \r\nz\r\n\" style=\"fill:#1f77b4;\"/>\r\n   </g>\r\n   <g id=\"patch_66\">\r\n    <path clip-path=\"url(#p103ef77028)\" d=\"M 288.997038 224.64 \r\nL 292.010539 224.64 \r\nL 292.010539 204.144093 \r\nL 288.997038 204.144093 \r\nz\r\n\" style=\"fill:#1f77b4;\"/>\r\n   </g>\r\n   <g id=\"patch_67\">\r\n    <path clip-path=\"url(#p103ef77028)\" d=\"M 292.763915 224.64 \r\nL 295.777416 224.64 \r\nL 295.777416 183.553248 \r\nL 292.763915 183.553248 \r\nz\r\n\" style=\"fill:#1f77b4;\"/>\r\n   </g>\r\n   <g id=\"patch_68\">\r\n    <path clip-path=\"url(#p103ef77028)\" d=\"M 296.530792 224.64 \r\nL 299.544293 224.64 \r\nL 299.544293 173.857869 \r\nL 296.530792 173.857869 \r\nz\r\n\" style=\"fill:#1f77b4;\"/>\r\n   </g>\r\n   <g id=\"patch_69\">\r\n    <path clip-path=\"url(#p103ef77028)\" d=\"M 300.297668 224.64 \r\nL 303.31117 224.64 \r\nL 303.31117 210.340134 \r\nL 300.297668 210.340134 \r\nz\r\n\" style=\"fill:#1f77b4;\"/>\r\n   </g>\r\n   <g id=\"patch_70\">\r\n    <path clip-path=\"url(#p103ef77028)\" d=\"M 304.064545 224.64 \r\nL 307.078046 224.64 \r\nL 307.078046 128.146706 \r\nL 304.064545 128.146706 \r\nz\r\n\" style=\"fill:#1f77b4;\"/>\r\n   </g>\r\n   <g id=\"patch_71\">\r\n    <path clip-path=\"url(#p103ef77028)\" d=\"M 307.831422 224.64 \r\nL 310.844923 224.64 \r\nL 310.844923 104.241701 \r\nL 307.831422 104.241701 \r\nz\r\n\" style=\"fill:#1f77b4;\"/>\r\n   </g>\r\n   <g id=\"patch_72\">\r\n    <path clip-path=\"url(#p103ef77028)\" d=\"M 311.598298 224.64 \r\nL 314.6118 224.64 \r\nL 314.6118 220.555776 \r\nL 311.598298 220.555776 \r\nz\r\n\" style=\"fill:#1f77b4;\"/>\r\n   </g>\r\n   <g id=\"patch_73\">\r\n    <path clip-path=\"url(#p103ef77028)\" d=\"M 315.365175 224.64 \r\nL 318.378676 224.64 \r\nL 318.378676 92.299352 \r\nL 315.365175 92.299352 \r\nz\r\n\" style=\"fill:#1f77b4;\"/>\r\n   </g>\r\n   <g id=\"patch_74\">\r\n    <path clip-path=\"url(#p103ef77028)\" d=\"M 319.132052 224.64 \r\nL 322.145553 224.64 \r\nL 322.145553 224.070955 \r\nL 319.132052 224.070955 \r\nz\r\n\" style=\"fill:#1f77b4;\"/>\r\n   </g>\r\n   <g id=\"patch_75\">\r\n    <path clip-path=\"url(#p103ef77028)\" d=\"M 322.898928 224.64 \r\nL 325.91243 224.64 \r\nL 325.91243 222.584935 \r\nL 322.898928 222.584935 \r\nz\r\n\" style=\"fill:#1f77b4;\"/>\r\n   </g>\r\n   <g id=\"patch_76\">\r\n    <path clip-path=\"url(#p103ef77028)\" d=\"M 326.665805 224.64 \r\nL 329.679306 224.64 \r\nL 329.679306 190.096211 \r\nL 326.665805 190.096211 \r\nz\r\n\" style=\"fill:#1f77b4;\"/>\r\n   </g>\r\n   <g id=\"patch_77\">\r\n    <path clip-path=\"url(#p103ef77028)\" d=\"M 330.432682 224.64 \r\nL 333.446183 224.64 \r\nL 333.446183 133.093705 \r\nL 330.432682 133.093705 \r\nz\r\n\" style=\"fill:#1f77b4;\"/>\r\n   </g>\r\n   <g id=\"patch_78\">\r\n    <path clip-path=\"url(#p103ef77028)\" d=\"M 334.199558 224.64 \r\nL 337.21306 224.64 \r\nL 337.21306 162.136647 \r\nL 334.199558 162.136647 \r\nz\r\n\" style=\"fill:#1f77b4;\"/>\r\n   </g>\r\n   <g id=\"patch_79\">\r\n    <path clip-path=\"url(#p103ef77028)\" d=\"M 337.966435 224.64 \r\nL 340.979936 224.64 \r\nL 340.979936 220.782748 \r\nL 337.966435 220.782748 \r\nz\r\n\" style=\"fill:#1f77b4;\"/>\r\n   </g>\r\n   <g id=\"patch_80\">\r\n    <path clip-path=\"url(#p103ef77028)\" d=\"M 341.733312 224.64 \r\nL 344.746813 224.64 \r\nL 344.746813 220.116794 \r\nL 341.733312 220.116794 \r\nz\r\n\" style=\"fill:#1f77b4;\"/>\r\n   </g>\r\n   <g id=\"patch_81\">\r\n    <path clip-path=\"url(#p103ef77028)\" d=\"M 345.500188 224.64 \r\nL 348.51369 224.64 \r\nL 348.51369 222.912419 \r\nL 345.500188 222.912419 \r\nz\r\n\" style=\"fill:#1f77b4;\"/>\r\n   </g>\r\n   <g id=\"patch_82\">\r\n    <path clip-path=\"url(#p103ef77028)\" d=\"M 349.267065 224.64 \r\nL 352.280566 224.64 \r\nL 352.280566 186.571611 \r\nL 349.267065 186.571611 \r\nz\r\n\" style=\"fill:#1f77b4;\"/>\r\n   </g>\r\n   <g id=\"patch_83\">\r\n    <path clip-path=\"url(#p103ef77028)\" d=\"M 353.033942 224.64 \r\nL 356.047443 224.64 \r\nL 356.047443 221.787505 \r\nL 353.033942 221.787505 \r\nz\r\n\" style=\"fill:#1f77b4;\"/>\r\n   </g>\r\n   <g id=\"matplotlib.axis_1\">\r\n    <g id=\"xtick_1\">\r\n     <g id=\"line2d_1\">\r\n      <defs>\r\n       <path d=\"M 0 0 \r\nL 0 3.5 \r\n\" id=\"m2b69b2e4a3\" style=\"stroke:#000000;stroke-width:0.8;\"/>\r\n      </defs>\r\n      <g>\r\n       <use style=\"stroke:#000000;stroke-width:0.8;\" x=\"53.190557\" xlink:href=\"#m2b69b2e4a3\" y=\"224.64\"/>\r\n      </g>\r\n     </g>\r\n     <g id=\"text_1\">\r\n      <!-- 0 -->\r\n      <g transform=\"translate(50.009307 239.238437)scale(0.1 -0.1)\">\r\n       <defs>\r\n        <path d=\"M 31.78125 66.40625 \r\nQ 24.171875 66.40625 20.328125 58.90625 \r\nQ 16.5 51.421875 16.5 36.375 \r\nQ 16.5 21.390625 20.328125 13.890625 \r\nQ 24.171875 6.390625 31.78125 6.390625 \r\nQ 39.453125 6.390625 43.28125 13.890625 \r\nQ 47.125 21.390625 47.125 36.375 \r\nQ 47.125 51.421875 43.28125 58.90625 \r\nQ 39.453125 66.40625 31.78125 66.40625 \r\nz\r\nM 31.78125 74.21875 \r\nQ 44.046875 74.21875 50.515625 64.515625 \r\nQ 56.984375 54.828125 56.984375 36.375 \r\nQ 56.984375 17.96875 50.515625 8.265625 \r\nQ 44.046875 -1.421875 31.78125 -1.421875 \r\nQ 19.53125 -1.421875 13.0625 8.265625 \r\nQ 6.59375 17.96875 6.59375 36.375 \r\nQ 6.59375 54.828125 13.0625 64.515625 \r\nQ 19.53125 74.21875 31.78125 74.21875 \r\nz\r\n\" id=\"DejaVuSans-48\"/>\r\n       </defs>\r\n       <use xlink:href=\"#DejaVuSans-48\"/>\r\n      </g>\r\n     </g>\r\n    </g>\r\n    <g id=\"xtick_2\">\r\n     <g id=\"line2d_2\">\r\n      <g>\r\n       <use style=\"stroke:#000000;stroke-width:0.8;\" x=\"90.859324\" xlink:href=\"#m2b69b2e4a3\" y=\"224.64\"/>\r\n      </g>\r\n     </g>\r\n     <g id=\"text_2\">\r\n      <!-- 10 -->\r\n      <g transform=\"translate(84.496824 239.238437)scale(0.1 -0.1)\">\r\n       <defs>\r\n        <path d=\"M 12.40625 8.296875 \r\nL 28.515625 8.296875 \r\nL 28.515625 63.921875 \r\nL 10.984375 60.40625 \r\nL 10.984375 69.390625 \r\nL 28.421875 72.90625 \r\nL 38.28125 72.90625 \r\nL 38.28125 8.296875 \r\nL 54.390625 8.296875 \r\nL 54.390625 0 \r\nL 12.40625 0 \r\nz\r\n\" id=\"DejaVuSans-49\"/>\r\n       </defs>\r\n       <use xlink:href=\"#DejaVuSans-49\"/>\r\n       <use x=\"63.623047\" xlink:href=\"#DejaVuSans-48\"/>\r\n      </g>\r\n     </g>\r\n    </g>\r\n    <g id=\"xtick_3\">\r\n     <g id=\"line2d_3\">\r\n      <g>\r\n       <use style=\"stroke:#000000;stroke-width:0.8;\" x=\"128.528091\" xlink:href=\"#m2b69b2e4a3\" y=\"224.64\"/>\r\n      </g>\r\n     </g>\r\n     <g id=\"text_3\">\r\n      <!-- 20 -->\r\n      <g transform=\"translate(122.165591 239.238437)scale(0.1 -0.1)\">\r\n       <defs>\r\n        <path d=\"M 19.1875 8.296875 \r\nL 53.609375 8.296875 \r\nL 53.609375 0 \r\nL 7.328125 0 \r\nL 7.328125 8.296875 \r\nQ 12.9375 14.109375 22.625 23.890625 \r\nQ 32.328125 33.6875 34.8125 36.53125 \r\nQ 39.546875 41.84375 41.421875 45.53125 \r\nQ 43.3125 49.21875 43.3125 52.78125 \r\nQ 43.3125 58.59375 39.234375 62.25 \r\nQ 35.15625 65.921875 28.609375 65.921875 \r\nQ 23.96875 65.921875 18.8125 64.3125 \r\nQ 13.671875 62.703125 7.8125 59.421875 \r\nL 7.8125 69.390625 \r\nQ 13.765625 71.78125 18.9375 73 \r\nQ 24.125 74.21875 28.421875 74.21875 \r\nQ 39.75 74.21875 46.484375 68.546875 \r\nQ 53.21875 62.890625 53.21875 53.421875 \r\nQ 53.21875 48.921875 51.53125 44.890625 \r\nQ 49.859375 40.875 45.40625 35.40625 \r\nQ 44.1875 33.984375 37.640625 27.21875 \r\nQ 31.109375 20.453125 19.1875 8.296875 \r\nz\r\n\" id=\"DejaVuSans-50\"/>\r\n       </defs>\r\n       <use xlink:href=\"#DejaVuSans-50\"/>\r\n       <use x=\"63.623047\" xlink:href=\"#DejaVuSans-48\"/>\r\n      </g>\r\n     </g>\r\n    </g>\r\n    <g id=\"xtick_4\">\r\n     <g id=\"line2d_4\">\r\n      <g>\r\n       <use style=\"stroke:#000000;stroke-width:0.8;\" x=\"166.196858\" xlink:href=\"#m2b69b2e4a3\" y=\"224.64\"/>\r\n      </g>\r\n     </g>\r\n     <g id=\"text_4\">\r\n      <!-- 30 -->\r\n      <g transform=\"translate(159.834358 239.238437)scale(0.1 -0.1)\">\r\n       <defs>\r\n        <path d=\"M 40.578125 39.3125 \r\nQ 47.65625 37.796875 51.625 33 \r\nQ 55.609375 28.21875 55.609375 21.1875 \r\nQ 55.609375 10.40625 48.1875 4.484375 \r\nQ 40.765625 -1.421875 27.09375 -1.421875 \r\nQ 22.515625 -1.421875 17.65625 -0.515625 \r\nQ 12.796875 0.390625 7.625 2.203125 \r\nL 7.625 11.71875 \r\nQ 11.71875 9.328125 16.59375 8.109375 \r\nQ 21.484375 6.890625 26.8125 6.890625 \r\nQ 36.078125 6.890625 40.9375 10.546875 \r\nQ 45.796875 14.203125 45.796875 21.1875 \r\nQ 45.796875 27.640625 41.28125 31.265625 \r\nQ 36.765625 34.90625 28.71875 34.90625 \r\nL 20.21875 34.90625 \r\nL 20.21875 43.015625 \r\nL 29.109375 43.015625 \r\nQ 36.375 43.015625 40.234375 45.921875 \r\nQ 44.09375 48.828125 44.09375 54.296875 \r\nQ 44.09375 59.90625 40.109375 62.90625 \r\nQ 36.140625 65.921875 28.71875 65.921875 \r\nQ 24.65625 65.921875 20.015625 65.03125 \r\nQ 15.375 64.15625 9.8125 62.3125 \r\nL 9.8125 71.09375 \r\nQ 15.4375 72.65625 20.34375 73.4375 \r\nQ 25.25 74.21875 29.59375 74.21875 \r\nQ 40.828125 74.21875 47.359375 69.109375 \r\nQ 53.90625 64.015625 53.90625 55.328125 \r\nQ 53.90625 49.265625 50.4375 45.09375 \r\nQ 46.96875 40.921875 40.578125 39.3125 \r\nz\r\n\" id=\"DejaVuSans-51\"/>\r\n       </defs>\r\n       <use xlink:href=\"#DejaVuSans-51\"/>\r\n       <use x=\"63.623047\" xlink:href=\"#DejaVuSans-48\"/>\r\n      </g>\r\n     </g>\r\n    </g>\r\n    <g id=\"xtick_5\">\r\n     <g id=\"line2d_5\">\r\n      <g>\r\n       <use style=\"stroke:#000000;stroke-width:0.8;\" x=\"203.865625\" xlink:href=\"#m2b69b2e4a3\" y=\"224.64\"/>\r\n      </g>\r\n     </g>\r\n     <g id=\"text_5\">\r\n      <!-- 40 -->\r\n      <g transform=\"translate(197.503125 239.238437)scale(0.1 -0.1)\">\r\n       <defs>\r\n        <path d=\"M 37.796875 64.3125 \r\nL 12.890625 25.390625 \r\nL 37.796875 25.390625 \r\nz\r\nM 35.203125 72.90625 \r\nL 47.609375 72.90625 \r\nL 47.609375 25.390625 \r\nL 58.015625 25.390625 \r\nL 58.015625 17.1875 \r\nL 47.609375 17.1875 \r\nL 47.609375 0 \r\nL 37.796875 0 \r\nL 37.796875 17.1875 \r\nL 4.890625 17.1875 \r\nL 4.890625 26.703125 \r\nz\r\n\" id=\"DejaVuSans-52\"/>\r\n       </defs>\r\n       <use xlink:href=\"#DejaVuSans-52\"/>\r\n       <use x=\"63.623047\" xlink:href=\"#DejaVuSans-48\"/>\r\n      </g>\r\n     </g>\r\n    </g>\r\n    <g id=\"xtick_6\">\r\n     <g id=\"line2d_6\">\r\n      <g>\r\n       <use style=\"stroke:#000000;stroke-width:0.8;\" x=\"241.534392\" xlink:href=\"#m2b69b2e4a3\" y=\"224.64\"/>\r\n      </g>\r\n     </g>\r\n     <g id=\"text_6\">\r\n      <!-- 50 -->\r\n      <g transform=\"translate(235.171892 239.238437)scale(0.1 -0.1)\">\r\n       <defs>\r\n        <path d=\"M 10.796875 72.90625 \r\nL 49.515625 72.90625 \r\nL 49.515625 64.59375 \r\nL 19.828125 64.59375 \r\nL 19.828125 46.734375 \r\nQ 21.96875 47.46875 24.109375 47.828125 \r\nQ 26.265625 48.1875 28.421875 48.1875 \r\nQ 40.625 48.1875 47.75 41.5 \r\nQ 54.890625 34.8125 54.890625 23.390625 \r\nQ 54.890625 11.625 47.5625 5.09375 \r\nQ 40.234375 -1.421875 26.90625 -1.421875 \r\nQ 22.3125 -1.421875 17.546875 -0.640625 \r\nQ 12.796875 0.140625 7.71875 1.703125 \r\nL 7.71875 11.625 \r\nQ 12.109375 9.234375 16.796875 8.0625 \r\nQ 21.484375 6.890625 26.703125 6.890625 \r\nQ 35.15625 6.890625 40.078125 11.328125 \r\nQ 45.015625 15.765625 45.015625 23.390625 \r\nQ 45.015625 31 40.078125 35.4375 \r\nQ 35.15625 39.890625 26.703125 39.890625 \r\nQ 22.75 39.890625 18.8125 39.015625 \r\nQ 14.890625 38.140625 10.796875 36.28125 \r\nz\r\n\" id=\"DejaVuSans-53\"/>\r\n       </defs>\r\n       <use xlink:href=\"#DejaVuSans-53\"/>\r\n       <use x=\"63.623047\" xlink:href=\"#DejaVuSans-48\"/>\r\n      </g>\r\n     </g>\r\n    </g>\r\n    <g id=\"xtick_7\">\r\n     <g id=\"line2d_7\">\r\n      <g>\r\n       <use style=\"stroke:#000000;stroke-width:0.8;\" x=\"279.203159\" xlink:href=\"#m2b69b2e4a3\" y=\"224.64\"/>\r\n      </g>\r\n     </g>\r\n     <g id=\"text_7\">\r\n      <!-- 60 -->\r\n      <g transform=\"translate(272.840659 239.238437)scale(0.1 -0.1)\">\r\n       <defs>\r\n        <path d=\"M 33.015625 40.375 \r\nQ 26.375 40.375 22.484375 35.828125 \r\nQ 18.609375 31.296875 18.609375 23.390625 \r\nQ 18.609375 15.53125 22.484375 10.953125 \r\nQ 26.375 6.390625 33.015625 6.390625 \r\nQ 39.65625 6.390625 43.53125 10.953125 \r\nQ 47.40625 15.53125 47.40625 23.390625 \r\nQ 47.40625 31.296875 43.53125 35.828125 \r\nQ 39.65625 40.375 33.015625 40.375 \r\nz\r\nM 52.59375 71.296875 \r\nL 52.59375 62.3125 \r\nQ 48.875 64.0625 45.09375 64.984375 \r\nQ 41.3125 65.921875 37.59375 65.921875 \r\nQ 27.828125 65.921875 22.671875 59.328125 \r\nQ 17.53125 52.734375 16.796875 39.40625 \r\nQ 19.671875 43.65625 24.015625 45.921875 \r\nQ 28.375 48.1875 33.59375 48.1875 \r\nQ 44.578125 48.1875 50.953125 41.515625 \r\nQ 57.328125 34.859375 57.328125 23.390625 \r\nQ 57.328125 12.15625 50.6875 5.359375 \r\nQ 44.046875 -1.421875 33.015625 -1.421875 \r\nQ 20.359375 -1.421875 13.671875 8.265625 \r\nQ 6.984375 17.96875 6.984375 36.375 \r\nQ 6.984375 53.65625 15.1875 63.9375 \r\nQ 23.390625 74.21875 37.203125 74.21875 \r\nQ 40.921875 74.21875 44.703125 73.484375 \r\nQ 48.484375 72.75 52.59375 71.296875 \r\nz\r\n\" id=\"DejaVuSans-54\"/>\r\n       </defs>\r\n       <use xlink:href=\"#DejaVuSans-54\"/>\r\n       <use x=\"63.623047\" xlink:href=\"#DejaVuSans-48\"/>\r\n      </g>\r\n     </g>\r\n    </g>\r\n    <g id=\"xtick_8\">\r\n     <g id=\"line2d_8\">\r\n      <g>\r\n       <use style=\"stroke:#000000;stroke-width:0.8;\" x=\"316.871926\" xlink:href=\"#m2b69b2e4a3\" y=\"224.64\"/>\r\n      </g>\r\n     </g>\r\n     <g id=\"text_8\">\r\n      <!-- 70 -->\r\n      <g transform=\"translate(310.509426 239.238437)scale(0.1 -0.1)\">\r\n       <defs>\r\n        <path d=\"M 8.203125 72.90625 \r\nL 55.078125 72.90625 \r\nL 55.078125 68.703125 \r\nL 28.609375 0 \r\nL 18.3125 0 \r\nL 43.21875 64.59375 \r\nL 8.203125 64.59375 \r\nz\r\n\" id=\"DejaVuSans-55\"/>\r\n       </defs>\r\n       <use xlink:href=\"#DejaVuSans-55\"/>\r\n       <use x=\"63.623047\" xlink:href=\"#DejaVuSans-48\"/>\r\n      </g>\r\n     </g>\r\n    </g>\r\n    <g id=\"xtick_9\">\r\n     <g id=\"line2d_9\">\r\n      <g>\r\n       <use style=\"stroke:#000000;stroke-width:0.8;\" x=\"354.540693\" xlink:href=\"#m2b69b2e4a3\" y=\"224.64\"/>\r\n      </g>\r\n     </g>\r\n     <g id=\"text_9\">\r\n      <!-- 80 -->\r\n      <g transform=\"translate(348.178193 239.238437)scale(0.1 -0.1)\">\r\n       <defs>\r\n        <path d=\"M 31.78125 34.625 \r\nQ 24.75 34.625 20.71875 30.859375 \r\nQ 16.703125 27.09375 16.703125 20.515625 \r\nQ 16.703125 13.921875 20.71875 10.15625 \r\nQ 24.75 6.390625 31.78125 6.390625 \r\nQ 38.8125 6.390625 42.859375 10.171875 \r\nQ 46.921875 13.96875 46.921875 20.515625 \r\nQ 46.921875 27.09375 42.890625 30.859375 \r\nQ 38.875 34.625 31.78125 34.625 \r\nz\r\nM 21.921875 38.8125 \r\nQ 15.578125 40.375 12.03125 44.71875 \r\nQ 8.5 49.078125 8.5 55.328125 \r\nQ 8.5 64.0625 14.71875 69.140625 \r\nQ 20.953125 74.21875 31.78125 74.21875 \r\nQ 42.671875 74.21875 48.875 69.140625 \r\nQ 55.078125 64.0625 55.078125 55.328125 \r\nQ 55.078125 49.078125 51.53125 44.71875 \r\nQ 48 40.375 41.703125 38.8125 \r\nQ 48.828125 37.15625 52.796875 32.3125 \r\nQ 56.78125 27.484375 56.78125 20.515625 \r\nQ 56.78125 9.90625 50.3125 4.234375 \r\nQ 43.84375 -1.421875 31.78125 -1.421875 \r\nQ 19.734375 -1.421875 13.25 4.234375 \r\nQ 6.78125 9.90625 6.78125 20.515625 \r\nQ 6.78125 27.484375 10.78125 32.3125 \r\nQ 14.796875 37.15625 21.921875 38.8125 \r\nz\r\nM 18.3125 54.390625 \r\nQ 18.3125 48.734375 21.84375 45.5625 \r\nQ 25.390625 42.390625 31.78125 42.390625 \r\nQ 38.140625 42.390625 41.71875 45.5625 \r\nQ 45.3125 48.734375 45.3125 54.390625 \r\nQ 45.3125 60.0625 41.71875 63.234375 \r\nQ 38.140625 66.40625 31.78125 66.40625 \r\nQ 25.390625 66.40625 21.84375 63.234375 \r\nQ 18.3125 60.0625 18.3125 54.390625 \r\nz\r\n\" id=\"DejaVuSans-56\"/>\r\n       </defs>\r\n       <use xlink:href=\"#DejaVuSans-56\"/>\r\n       <use x=\"63.623047\" xlink:href=\"#DejaVuSans-48\"/>\r\n      </g>\r\n     </g>\r\n    </g>\r\n   </g>\r\n   <g id=\"matplotlib.axis_2\">\r\n    <g id=\"ytick_1\">\r\n     <g id=\"line2d_10\">\r\n      <defs>\r\n       <path d=\"M 0 0 \r\nL -3.5 0 \r\n\" id=\"mae8b42cb9e\" style=\"stroke:#000000;stroke-width:0.8;\"/>\r\n      </defs>\r\n      <g>\r\n       <use style=\"stroke:#000000;stroke-width:0.8;\" x=\"36.465625\" xlink:href=\"#mae8b42cb9e\" y=\"224.64\"/>\r\n      </g>\r\n     </g>\r\n     <g id=\"text_10\">\r\n      <!-- 0.00 -->\r\n      <g transform=\"translate(7.2 228.439219)scale(0.1 -0.1)\">\r\n       <defs>\r\n        <path d=\"M 10.6875 12.40625 \r\nL 21 12.40625 \r\nL 21 0 \r\nL 10.6875 0 \r\nz\r\n\" id=\"DejaVuSans-46\"/>\r\n       </defs>\r\n       <use xlink:href=\"#DejaVuSans-48\"/>\r\n       <use x=\"63.623047\" xlink:href=\"#DejaVuSans-46\"/>\r\n       <use x=\"95.410156\" xlink:href=\"#DejaVuSans-48\"/>\r\n       <use x=\"159.033203\" xlink:href=\"#DejaVuSans-48\"/>\r\n      </g>\r\n     </g>\r\n    </g>\r\n    <g id=\"ytick_2\">\r\n     <g id=\"line2d_11\">\r\n      <g>\r\n       <use style=\"stroke:#000000;stroke-width:0.8;\" x=\"36.465625\" xlink:href=\"#mae8b42cb9e\" y=\"200.271381\"/>\r\n      </g>\r\n     </g>\r\n     <g id=\"text_11\">\r\n      <!-- 0.01 -->\r\n      <g transform=\"translate(7.2 204.0706)scale(0.1 -0.1)\">\r\n       <use xlink:href=\"#DejaVuSans-48\"/>\r\n       <use x=\"63.623047\" xlink:href=\"#DejaVuSans-46\"/>\r\n       <use x=\"95.410156\" xlink:href=\"#DejaVuSans-48\"/>\r\n       <use x=\"159.033203\" xlink:href=\"#DejaVuSans-49\"/>\r\n      </g>\r\n     </g>\r\n    </g>\r\n    <g id=\"ytick_3\">\r\n     <g id=\"line2d_12\">\r\n      <g>\r\n       <use style=\"stroke:#000000;stroke-width:0.8;\" x=\"36.465625\" xlink:href=\"#mae8b42cb9e\" y=\"175.902762\"/>\r\n      </g>\r\n     </g>\r\n     <g id=\"text_12\">\r\n      <!-- 0.02 -->\r\n      <g transform=\"translate(7.2 179.701981)scale(0.1 -0.1)\">\r\n       <use xlink:href=\"#DejaVuSans-48\"/>\r\n       <use x=\"63.623047\" xlink:href=\"#DejaVuSans-46\"/>\r\n       <use x=\"95.410156\" xlink:href=\"#DejaVuSans-48\"/>\r\n       <use x=\"159.033203\" xlink:href=\"#DejaVuSans-50\"/>\r\n      </g>\r\n     </g>\r\n    </g>\r\n    <g id=\"ytick_4\">\r\n     <g id=\"line2d_13\">\r\n      <g>\r\n       <use style=\"stroke:#000000;stroke-width:0.8;\" x=\"36.465625\" xlink:href=\"#mae8b42cb9e\" y=\"151.534143\"/>\r\n      </g>\r\n     </g>\r\n     <g id=\"text_13\">\r\n      <!-- 0.03 -->\r\n      <g transform=\"translate(7.2 155.333362)scale(0.1 -0.1)\">\r\n       <use xlink:href=\"#DejaVuSans-48\"/>\r\n       <use x=\"63.623047\" xlink:href=\"#DejaVuSans-46\"/>\r\n       <use x=\"95.410156\" xlink:href=\"#DejaVuSans-48\"/>\r\n       <use x=\"159.033203\" xlink:href=\"#DejaVuSans-51\"/>\r\n      </g>\r\n     </g>\r\n    </g>\r\n    <g id=\"ytick_5\">\r\n     <g id=\"line2d_14\">\r\n      <g>\r\n       <use style=\"stroke:#000000;stroke-width:0.8;\" x=\"36.465625\" xlink:href=\"#mae8b42cb9e\" y=\"127.165524\"/>\r\n      </g>\r\n     </g>\r\n     <g id=\"text_14\">\r\n      <!-- 0.04 -->\r\n      <g transform=\"translate(7.2 130.964742)scale(0.1 -0.1)\">\r\n       <use xlink:href=\"#DejaVuSans-48\"/>\r\n       <use x=\"63.623047\" xlink:href=\"#DejaVuSans-46\"/>\r\n       <use x=\"95.410156\" xlink:href=\"#DejaVuSans-48\"/>\r\n       <use x=\"159.033203\" xlink:href=\"#DejaVuSans-52\"/>\r\n      </g>\r\n     </g>\r\n    </g>\r\n    <g id=\"ytick_6\">\r\n     <g id=\"line2d_15\">\r\n      <g>\r\n       <use style=\"stroke:#000000;stroke-width:0.8;\" x=\"36.465625\" xlink:href=\"#mae8b42cb9e\" y=\"102.796905\"/>\r\n      </g>\r\n     </g>\r\n     <g id=\"text_15\">\r\n      <!-- 0.05 -->\r\n      <g transform=\"translate(7.2 106.596123)scale(0.1 -0.1)\">\r\n       <use xlink:href=\"#DejaVuSans-48\"/>\r\n       <use x=\"63.623047\" xlink:href=\"#DejaVuSans-46\"/>\r\n       <use x=\"95.410156\" xlink:href=\"#DejaVuSans-48\"/>\r\n       <use x=\"159.033203\" xlink:href=\"#DejaVuSans-53\"/>\r\n      </g>\r\n     </g>\r\n    </g>\r\n    <g id=\"ytick_7\">\r\n     <g id=\"line2d_16\">\r\n      <g>\r\n       <use style=\"stroke:#000000;stroke-width:0.8;\" x=\"36.465625\" xlink:href=\"#mae8b42cb9e\" y=\"78.428286\"/>\r\n      </g>\r\n     </g>\r\n     <g id=\"text_16\">\r\n      <!-- 0.06 -->\r\n      <g transform=\"translate(7.2 82.227504)scale(0.1 -0.1)\">\r\n       <use xlink:href=\"#DejaVuSans-48\"/>\r\n       <use x=\"63.623047\" xlink:href=\"#DejaVuSans-46\"/>\r\n       <use x=\"95.410156\" xlink:href=\"#DejaVuSans-48\"/>\r\n       <use x=\"159.033203\" xlink:href=\"#DejaVuSans-54\"/>\r\n      </g>\r\n     </g>\r\n    </g>\r\n    <g id=\"ytick_8\">\r\n     <g id=\"line2d_17\">\r\n      <g>\r\n       <use style=\"stroke:#000000;stroke-width:0.8;\" x=\"36.465625\" xlink:href=\"#mae8b42cb9e\" y=\"54.059667\"/>\r\n      </g>\r\n     </g>\r\n     <g id=\"text_17\">\r\n      <!-- 0.07 -->\r\n      <g transform=\"translate(7.2 57.858885)scale(0.1 -0.1)\">\r\n       <use xlink:href=\"#DejaVuSans-48\"/>\r\n       <use x=\"63.623047\" xlink:href=\"#DejaVuSans-46\"/>\r\n       <use x=\"95.410156\" xlink:href=\"#DejaVuSans-48\"/>\r\n       <use x=\"159.033203\" xlink:href=\"#DejaVuSans-55\"/>\r\n      </g>\r\n     </g>\r\n    </g>\r\n    <g id=\"ytick_9\">\r\n     <g id=\"line2d_18\">\r\n      <g>\r\n       <use style=\"stroke:#000000;stroke-width:0.8;\" x=\"36.465625\" xlink:href=\"#mae8b42cb9e\" y=\"29.691047\"/>\r\n      </g>\r\n     </g>\r\n     <g id=\"text_18\">\r\n      <!-- 0.08 -->\r\n      <g transform=\"translate(7.2 33.490266)scale(0.1 -0.1)\">\r\n       <use xlink:href=\"#DejaVuSans-48\"/>\r\n       <use x=\"63.623047\" xlink:href=\"#DejaVuSans-46\"/>\r\n       <use x=\"95.410156\" xlink:href=\"#DejaVuSans-48\"/>\r\n       <use x=\"159.033203\" xlink:href=\"#DejaVuSans-56\"/>\r\n      </g>\r\n     </g>\r\n    </g>\r\n   </g>\r\n   <g id=\"patch_84\">\r\n    <path d=\"M 36.465625 224.64 \r\nL 36.465625 7.2 \r\n\" style=\"fill:none;stroke:#000000;stroke-linecap:square;stroke-linejoin:miter;stroke-width:0.8;\"/>\r\n   </g>\r\n   <g id=\"patch_85\">\r\n    <path d=\"M 371.265625 224.64 \r\nL 371.265625 7.2 \r\n\" style=\"fill:none;stroke:#000000;stroke-linecap:square;stroke-linejoin:miter;stroke-width:0.8;\"/>\r\n   </g>\r\n   <g id=\"patch_86\">\r\n    <path d=\"M 36.465625 224.64 \r\nL 371.265625 224.64 \r\n\" style=\"fill:none;stroke:#000000;stroke-linecap:square;stroke-linejoin:miter;stroke-width:0.8;\"/>\r\n   </g>\r\n   <g id=\"patch_87\">\r\n    <path d=\"M 36.465625 7.2 \r\nL 371.265625 7.2 \r\n\" style=\"fill:none;stroke:#000000;stroke-linecap:square;stroke-linejoin:miter;stroke-width:0.8;\"/>\r\n   </g>\r\n  </g>\r\n </g>\r\n <defs>\r\n  <clipPath id=\"p103ef77028\">\r\n   <rect height=\"217.44\" width=\"334.8\" x=\"36.465625\" y=\"7.2\"/>\r\n  </clipPath>\r\n </defs>\r\n</svg>\r\n",
      "image/png": "[encoded data removed]"
     },
     "metadata": {
      "needs_background": "light"
     }
    }
   ],
   "source": [
    "# plot the scores\n",
    "plt.bar([i for i in range(len(selector.scores_))], selector.scores_)\n",
    "plt.show()"
   ]
  },
  {
   "cell_type": "code",
   "execution_count": 14,
   "metadata": {},
   "outputs": [
    {
     "output_type": "execute_result",
     "data": {
      "text/plain": [
       "array([[ 2, 30,  1, ...,  0,  1,  0],\n",
       "       [ 2, 10,  1, ...,  0,  1,  0],\n",
       "       [ 2, 10,  1, ...,  0,  0,  0],\n",
       "       ...,\n",
       "       [ 3, 55,  1, ...,  0,  1,  0],\n",
       "       [ 2, 10,  0, ...,  1,  0,  1],\n",
       "       [ 3, 10,  1, ...,  0,  1,  0]], dtype=int64)"
      ]
     },
     "metadata": {},
     "execution_count": 14
    }
   ],
   "source": [
    "X_new"
   ]
  },
  {
   "cell_type": "code",
   "execution_count": 15,
   "metadata": {},
   "outputs": [],
   "source": [
    "# define the undersampling method\n",
    "# Se prueba con los siguiente, no se reduce el desbalanceo (en CNN sí ??)\n",
    "# USAR MÉTODOS DE SELECCIÓN DE CARACACTERÍSTICAS ANTES, QUIZÁS DECIR QUE GEO1 Y FLOOR... SON LAS QUE SE ELIGEN MEDIANTE UN ARBOL\n",
    "# MIRAR SMOTE PARA OVERSAMPLING\n",
    "\n",
    "# Quizás no estaría mal reducir el desbalanceo\n",
    "# https://stats.stackexchange.com/questions/28029/training-a-decision-tree-against-unbalanced-data\n",
    "# https://weka.8497.n7.nabble.com/Producing-a-perfect-decision-tree-using-J48-td11751.html\n",
    "\n",
    "# undersample = TomekLinks()\n",
    "# undersample = CondensedNearestNeighbour(n_neighbors=1)\n",
    "undersample = EditedNearestNeighbours(n_neighbors=3)\n",
    "# transform the dataset\n",
    "X, y = undersample.fit_resample(X_new, train_labels)"
   ]
  },
  {
   "cell_type": "code",
   "execution_count": 16,
   "metadata": {},
   "outputs": [
    {
     "output_type": "stream",
     "name": "stdout",
     "text": [
      "74973\n260601\n"
     ]
    }
   ],
   "source": [
    "print(len(X))\n",
    "print(len(X_new))"
   ]
  },
  {
   "cell_type": "code",
   "execution_count": 22,
   "metadata": {},
   "outputs": [],
   "source": [
    "preprocessed_train = pd.DataFrame(X, columns=columns)\n",
    "train_labels = y"
   ]
  },
  {
   "cell_type": "code",
   "execution_count": 18,
   "metadata": {},
   "outputs": [
    {
     "output_type": "execute_result",
     "data": {
      "text/plain": [
       "       age  area_percentage  has_superstructure_mud_mortar_stone  \\\n",
       "0       20                7                                    1   \n",
       "1       25               13                                    1   \n",
       "2        5                4                                    1   \n",
       "3        0               19                                    0   \n",
       "4       15                8                                    1   \n",
       "...    ...              ...                                  ...   \n",
       "86863   70               20                                    1   \n",
       "86864   25                6                                    1   \n",
       "86865   50                3                                    1   \n",
       "86866    5                9                                    1   \n",
       "86867   10               11                                    0   \n",
       "\n",
       "       has_superstructure_cement_mortar_brick  \\\n",
       "0                                           0   \n",
       "1                                           0   \n",
       "2                                           0   \n",
       "3                                           1   \n",
       "4                                           0   \n",
       "...                                       ...   \n",
       "86863                                       0   \n",
       "86864                                       0   \n",
       "86865                                       0   \n",
       "86866                                       0   \n",
       "86867                                       1   \n",
       "\n",
       "       has_superstructure_rc_non_engineered  has_superstructure_rc_engineered  \\\n",
       "0                                         0                                 0   \n",
       "1                                         0                                 0   \n",
       "2                                         0                                 0   \n",
       "3                                         0                                 0   \n",
       "4                                         0                                 0   \n",
       "...                                     ...                               ...   \n",
       "86863                                     0                                 0   \n",
       "86864                                     0                                 0   \n",
       "86865                                     0                                 0   \n",
       "86866                                     0                                 0   \n",
       "86867                                     0                                 0   \n",
       "\n",
       "       geo_level_1_id_17  geo_level_1_id_26  foundation_type_i  \\\n",
       "0                      1                  0                  0   \n",
       "1                      0                  0                  0   \n",
       "2                      0                  0                  0   \n",
       "3                      0                  1                  0   \n",
       "4                      1                  0                  0   \n",
       "...                  ...                ...                ...   \n",
       "86863                  0                  0                  0   \n",
       "86864                  0                  0                  0   \n",
       "86865                  0                  0                  0   \n",
       "86866                  0                  0                  0   \n",
       "86867                  0                  1                  0   \n",
       "\n",
       "       foundation_type_r  foundation_type_w  roof_type_x  ground_floor_type_v  \\\n",
       "0                      1                  0            0                    0   \n",
       "1                      1                  0            0                    0   \n",
       "2                      1                  0            0                    0   \n",
       "3                      1                  0            1                    1   \n",
       "4                      1                  0            0                    0   \n",
       "...                  ...                ...          ...                  ...   \n",
       "86863                  1                  0            0                    0   \n",
       "86864                  1                  0            0                    0   \n",
       "86865                  1                  0            0                    0   \n",
       "86866                  1                  0            0                    0   \n",
       "86867                  1                  0            0                    1   \n",
       "\n",
       "       other_floor_type_j  other_floor_type_s  \n",
       "0                       0                   0  \n",
       "1                       0                   0  \n",
       "2                       0                   0  \n",
       "3                       1                   0  \n",
       "4                       0                   0  \n",
       "...                   ...                 ...  \n",
       "86863                   0                   0  \n",
       "86864                   0                   0  \n",
       "86865                   1                   0  \n",
       "86866                   0                   0  \n",
       "86867                   0                   0  \n",
       "\n",
       "[86868 rows x 15 columns]"
      ],
      "text/html": "<div>\n<style scoped>\n    .dataframe tbody tr th:only-of-type {\n        vertical-align: middle;\n    }\n\n    .dataframe tbody tr th {\n        vertical-align: top;\n    }\n\n    .dataframe thead th {\n        text-align: right;\n    }\n</style>\n<table border=\"1\" class=\"dataframe\">\n  <thead>\n    <tr style=\"text-align: right;\">\n      <th></th>\n      <th>age</th>\n      <th>area_percentage</th>\n      <th>has_superstructure_mud_mortar_stone</th>\n      <th>has_superstructure_cement_mortar_brick</th>\n      <th>has_superstructure_rc_non_engineered</th>\n      <th>has_superstructure_rc_engineered</th>\n      <th>geo_level_1_id_17</th>\n      <th>geo_level_1_id_26</th>\n      <th>foundation_type_i</th>\n      <th>foundation_type_r</th>\n      <th>foundation_type_w</th>\n      <th>roof_type_x</th>\n      <th>ground_floor_type_v</th>\n      <th>other_floor_type_j</th>\n      <th>other_floor_type_s</th>\n    </tr>\n  </thead>\n  <tbody>\n    <tr>\n      <th>0</th>\n      <td>20</td>\n      <td>7</td>\n      <td>1</td>\n      <td>0</td>\n      <td>0</td>\n      <td>0</td>\n      <td>1</td>\n      <td>0</td>\n      <td>0</td>\n      <td>1</td>\n      <td>0</td>\n      <td>0</td>\n      <td>0</td>\n      <td>0</td>\n      <td>0</td>\n    </tr>\n    <tr>\n      <th>1</th>\n      <td>25</td>\n      <td>13</td>\n      <td>1</td>\n      <td>0</td>\n      <td>0</td>\n      <td>0</td>\n      <td>0</td>\n      <td>0</td>\n      <td>0</td>\n      <td>1</td>\n      <td>0</td>\n      <td>0</td>\n      <td>0</td>\n      <td>0</td>\n      <td>0</td>\n    </tr>\n    <tr>\n      <th>2</th>\n      <td>5</td>\n      <td>4</td>\n      <td>1</td>\n      <td>0</td>\n      <td>0</td>\n      <td>0</td>\n      <td>0</td>\n      <td>0</td>\n      <td>0</td>\n      <td>1</td>\n      <td>0</td>\n      <td>0</td>\n      <td>0</td>\n      <td>0</td>\n      <td>0</td>\n    </tr>\n    <tr>\n      <th>3</th>\n      <td>0</td>\n      <td>19</td>\n      <td>0</td>\n      <td>1</td>\n      <td>0</td>\n      <td>0</td>\n      <td>0</td>\n      <td>1</td>\n      <td>0</td>\n      <td>1</td>\n      <td>0</td>\n      <td>1</td>\n      <td>1</td>\n      <td>1</td>\n      <td>0</td>\n    </tr>\n    <tr>\n      <th>4</th>\n      <td>15</td>\n      <td>8</td>\n      <td>1</td>\n      <td>0</td>\n      <td>0</td>\n      <td>0</td>\n      <td>1</td>\n      <td>0</td>\n      <td>0</td>\n      <td>1</td>\n      <td>0</td>\n      <td>0</td>\n      <td>0</td>\n      <td>0</td>\n      <td>0</td>\n    </tr>\n    <tr>\n      <th>...</th>\n      <td>...</td>\n      <td>...</td>\n      <td>...</td>\n      <td>...</td>\n      <td>...</td>\n      <td>...</td>\n      <td>...</td>\n      <td>...</td>\n      <td>...</td>\n      <td>...</td>\n      <td>...</td>\n      <td>...</td>\n      <td>...</td>\n      <td>...</td>\n      <td>...</td>\n    </tr>\n    <tr>\n      <th>86863</th>\n      <td>70</td>\n      <td>20</td>\n      <td>1</td>\n      <td>0</td>\n      <td>0</td>\n      <td>0</td>\n      <td>0</td>\n      <td>0</td>\n      <td>0</td>\n      <td>1</td>\n      <td>0</td>\n      <td>0</td>\n      <td>0</td>\n      <td>0</td>\n      <td>0</td>\n    </tr>\n    <tr>\n      <th>86864</th>\n      <td>25</td>\n      <td>6</td>\n      <td>1</td>\n      <td>0</td>\n      <td>0</td>\n      <td>0</td>\n      <td>0</td>\n      <td>0</td>\n      <td>0</td>\n      <td>1</td>\n      <td>0</td>\n      <td>0</td>\n      <td>0</td>\n      <td>0</td>\n      <td>0</td>\n    </tr>\n    <tr>\n      <th>86865</th>\n      <td>50</td>\n      <td>3</td>\n      <td>1</td>\n      <td>0</td>\n      <td>0</td>\n      <td>0</td>\n      <td>0</td>\n      <td>0</td>\n      <td>0</td>\n      <td>1</td>\n      <td>0</td>\n      <td>0</td>\n      <td>0</td>\n      <td>1</td>\n      <td>0</td>\n    </tr>\n    <tr>\n      <th>86866</th>\n      <td>5</td>\n      <td>9</td>\n      <td>1</td>\n      <td>0</td>\n      <td>0</td>\n      <td>0</td>\n      <td>0</td>\n      <td>0</td>\n      <td>0</td>\n      <td>1</td>\n      <td>0</td>\n      <td>0</td>\n      <td>0</td>\n      <td>0</td>\n      <td>0</td>\n    </tr>\n    <tr>\n      <th>86867</th>\n      <td>10</td>\n      <td>11</td>\n      <td>0</td>\n      <td>1</td>\n      <td>0</td>\n      <td>0</td>\n      <td>0</td>\n      <td>1</td>\n      <td>0</td>\n      <td>1</td>\n      <td>0</td>\n      <td>0</td>\n      <td>1</td>\n      <td>0</td>\n      <td>0</td>\n    </tr>\n  </tbody>\n</table>\n<p>86868 rows × 15 columns</p>\n</div>"
     },
     "metadata": {},
     "execution_count": 18
    }
   ],
   "source": [
    "# Select same feautures as with train\n",
    "preprocessed_test = selector.transform(preprocessed_test)\n",
    "preprocessed_test = pd.DataFrame(preprocessed_test, columns=columns)\n",
    "preprocessed_test"
   ]
  },
  {
   "cell_type": "code",
   "execution_count": 25,
   "metadata": {},
   "outputs": [
    {
     "output_type": "execute_result",
     "data": {
      "text/plain": [
       "        geo_level_1_id  count_floors_pre_eq  age  area_percentage  \\\n",
       "0                    6                    2   30                6   \n",
       "1                    8                    2   10                8   \n",
       "2                   21                    2   10                5   \n",
       "3                   22                    2   10                6   \n",
       "4                   11                    3   30                8   \n",
       "...                ...                  ...  ...              ...   \n",
       "260594              27                    5    0               13   \n",
       "260596              25                    1   55                6   \n",
       "260598              17                    3   55                6   \n",
       "260599              26                    2   10               14   \n",
       "260600              21                    3   10                7   \n",
       "\n",
       "       land_surface_condition foundation_type roof_type ground_floor_type  \\\n",
       "0                           t               r         n                 f   \n",
       "1                           o               r         n                 x   \n",
       "2                           t               r         n                 f   \n",
       "3                           t               r         n                 f   \n",
       "4                           t               r         n                 f   \n",
       "...                       ...             ...       ...               ...   \n",
       "260594                      t               r         n                 f   \n",
       "260596                      n               r         n                 f   \n",
       "260598                      t               r         q                 f   \n",
       "260599                      t               r         x                 v   \n",
       "260600                      n               r         n                 f   \n",
       "\n",
       "       other_floor_type position  ...  has_secondary_use_hotel  \\\n",
       "0                     q        t  ...                        0   \n",
       "1                     q        s  ...                        0   \n",
       "2                     x        t  ...                        0   \n",
       "3                     x        s  ...                        0   \n",
       "4                     x        s  ...                        0   \n",
       "...                 ...      ...  ...                      ...   \n",
       "260594                x        j  ...                        0   \n",
       "260596                j        s  ...                        0   \n",
       "260598                q        s  ...                        0   \n",
       "260599                s        j  ...                        0   \n",
       "260600                q        j  ...                        0   \n",
       "\n",
       "        has_secondary_use_rental  has_secondary_use_institution  \\\n",
       "0                              0                              0   \n",
       "1                              0                              0   \n",
       "2                              0                              0   \n",
       "3                              0                              0   \n",
       "4                              0                              0   \n",
       "...                          ...                            ...   \n",
       "260594                         0                              0   \n",
       "260596                         0                              0   \n",
       "260598                         0                              0   \n",
       "260599                         0                              0   \n",
       "260600                         0                              0   \n",
       "\n",
       "        has_secondary_use_school  has_secondary_use_industry  \\\n",
       "0                              0                           0   \n",
       "1                              0                           0   \n",
       "2                              0                           0   \n",
       "3                              0                           0   \n",
       "4                              0                           0   \n",
       "...                          ...                         ...   \n",
       "260594                         0                           0   \n",
       "260596                         0                           0   \n",
       "260598                         0                           0   \n",
       "260599                         0                           0   \n",
       "260600                         0                           0   \n",
       "\n",
       "        has_secondary_use_health_post  has_secondary_use_gov_office  \\\n",
       "0                                   0                             0   \n",
       "1                                   0                             0   \n",
       "2                                   0                             0   \n",
       "3                                   0                             0   \n",
       "4                                   0                             0   \n",
       "...                               ...                           ...   \n",
       "260594                              0                             0   \n",
       "260596                              0                             0   \n",
       "260598                              0                             0   \n",
       "260599                              0                             0   \n",
       "260600                              0                             0   \n",
       "\n",
       "        has_secondary_use_use_police  has_secondary_use_other  damage_grade  \n",
       "0                                  0                        0             3  \n",
       "1                                  0                        0             2  \n",
       "2                                  0                        0             3  \n",
       "3                                  0                        0             2  \n",
       "4                                  0                        0             3  \n",
       "...                              ...                      ...           ...  \n",
       "260594                             0                        0             2  \n",
       "260596                             0                        0             2  \n",
       "260598                             0                        0             3  \n",
       "260599                             0                        0             2  \n",
       "260600                             0                        0             3  \n",
       "\n",
       "[179275 rows x 34 columns]"
      ],
      "text/html": "<div>\n<style scoped>\n    .dataframe tbody tr th:only-of-type {\n        vertical-align: middle;\n    }\n\n    .dataframe tbody tr th {\n        vertical-align: top;\n    }\n\n    .dataframe thead th {\n        text-align: right;\n    }\n</style>\n<table border=\"1\" class=\"dataframe\">\n  <thead>\n    <tr style=\"text-align: right;\">\n      <th></th>\n      <th>geo_level_1_id</th>\n      <th>count_floors_pre_eq</th>\n      <th>age</th>\n      <th>area_percentage</th>\n      <th>land_surface_condition</th>\n      <th>foundation_type</th>\n      <th>roof_type</th>\n      <th>ground_floor_type</th>\n      <th>other_floor_type</th>\n      <th>position</th>\n      <th>...</th>\n      <th>has_secondary_use_hotel</th>\n      <th>has_secondary_use_rental</th>\n      <th>has_secondary_use_institution</th>\n      <th>has_secondary_use_school</th>\n      <th>has_secondary_use_industry</th>\n      <th>has_secondary_use_health_post</th>\n      <th>has_secondary_use_gov_office</th>\n      <th>has_secondary_use_use_police</th>\n      <th>has_secondary_use_other</th>\n      <th>damage_grade</th>\n    </tr>\n  </thead>\n  <tbody>\n    <tr>\n      <th>0</th>\n      <td>6</td>\n      <td>2</td>\n      <td>30</td>\n      <td>6</td>\n      <td>t</td>\n      <td>r</td>\n      <td>n</td>\n      <td>f</td>\n      <td>q</td>\n      <td>t</td>\n      <td>...</td>\n      <td>0</td>\n      <td>0</td>\n      <td>0</td>\n      <td>0</td>\n      <td>0</td>\n      <td>0</td>\n      <td>0</td>\n      <td>0</td>\n      <td>0</td>\n      <td>3</td>\n    </tr>\n    <tr>\n      <th>1</th>\n      <td>8</td>\n      <td>2</td>\n      <td>10</td>\n      <td>8</td>\n      <td>o</td>\n      <td>r</td>\n      <td>n</td>\n      <td>x</td>\n      <td>q</td>\n      <td>s</td>\n      <td>...</td>\n      <td>0</td>\n      <td>0</td>\n      <td>0</td>\n      <td>0</td>\n      <td>0</td>\n      <td>0</td>\n      <td>0</td>\n      <td>0</td>\n      <td>0</td>\n      <td>2</td>\n    </tr>\n    <tr>\n      <th>2</th>\n      <td>21</td>\n      <td>2</td>\n      <td>10</td>\n      <td>5</td>\n      <td>t</td>\n      <td>r</td>\n      <td>n</td>\n      <td>f</td>\n      <td>x</td>\n      <td>t</td>\n      <td>...</td>\n      <td>0</td>\n      <td>0</td>\n      <td>0</td>\n      <td>0</td>\n      <td>0</td>\n      <td>0</td>\n      <td>0</td>\n      <td>0</td>\n      <td>0</td>\n      <td>3</td>\n    </tr>\n    <tr>\n      <th>3</th>\n      <td>22</td>\n      <td>2</td>\n      <td>10</td>\n      <td>6</td>\n      <td>t</td>\n      <td>r</td>\n      <td>n</td>\n      <td>f</td>\n      <td>x</td>\n      <td>s</td>\n      <td>...</td>\n      <td>0</td>\n      <td>0</td>\n      <td>0</td>\n      <td>0</td>\n      <td>0</td>\n      <td>0</td>\n      <td>0</td>\n      <td>0</td>\n      <td>0</td>\n      <td>2</td>\n    </tr>\n    <tr>\n      <th>4</th>\n      <td>11</td>\n      <td>3</td>\n      <td>30</td>\n      <td>8</td>\n      <td>t</td>\n      <td>r</td>\n      <td>n</td>\n      <td>f</td>\n      <td>x</td>\n      <td>s</td>\n      <td>...</td>\n      <td>0</td>\n      <td>0</td>\n      <td>0</td>\n      <td>0</td>\n      <td>0</td>\n      <td>0</td>\n      <td>0</td>\n      <td>0</td>\n      <td>0</td>\n      <td>3</td>\n    </tr>\n    <tr>\n      <th>...</th>\n      <td>...</td>\n      <td>...</td>\n      <td>...</td>\n      <td>...</td>\n      <td>...</td>\n      <td>...</td>\n      <td>...</td>\n      <td>...</td>\n      <td>...</td>\n      <td>...</td>\n      <td>...</td>\n      <td>...</td>\n      <td>...</td>\n      <td>...</td>\n      <td>...</td>\n      <td>...</td>\n      <td>...</td>\n      <td>...</td>\n      <td>...</td>\n      <td>...</td>\n      <td>...</td>\n    </tr>\n    <tr>\n      <th>260594</th>\n      <td>27</td>\n      <td>5</td>\n      <td>0</td>\n      <td>13</td>\n      <td>t</td>\n      <td>r</td>\n      <td>n</td>\n      <td>f</td>\n      <td>x</td>\n      <td>j</td>\n      <td>...</td>\n      <td>0</td>\n      <td>0</td>\n      <td>0</td>\n      <td>0</td>\n      <td>0</td>\n      <td>0</td>\n      <td>0</td>\n      <td>0</td>\n      <td>0</td>\n      <td>2</td>\n    </tr>\n    <tr>\n      <th>260596</th>\n      <td>25</td>\n      <td>1</td>\n      <td>55</td>\n      <td>6</td>\n      <td>n</td>\n      <td>r</td>\n      <td>n</td>\n      <td>f</td>\n      <td>j</td>\n      <td>s</td>\n      <td>...</td>\n      <td>0</td>\n      <td>0</td>\n      <td>0</td>\n      <td>0</td>\n      <td>0</td>\n      <td>0</td>\n      <td>0</td>\n      <td>0</td>\n      <td>0</td>\n      <td>2</td>\n    </tr>\n    <tr>\n      <th>260598</th>\n      <td>17</td>\n      <td>3</td>\n      <td>55</td>\n      <td>6</td>\n      <td>t</td>\n      <td>r</td>\n      <td>q</td>\n      <td>f</td>\n      <td>q</td>\n      <td>s</td>\n      <td>...</td>\n      <td>0</td>\n      <td>0</td>\n      <td>0</td>\n      <td>0</td>\n      <td>0</td>\n      <td>0</td>\n      <td>0</td>\n      <td>0</td>\n      <td>0</td>\n      <td>3</td>\n    </tr>\n    <tr>\n      <th>260599</th>\n      <td>26</td>\n      <td>2</td>\n      <td>10</td>\n      <td>14</td>\n      <td>t</td>\n      <td>r</td>\n      <td>x</td>\n      <td>v</td>\n      <td>s</td>\n      <td>j</td>\n      <td>...</td>\n      <td>0</td>\n      <td>0</td>\n      <td>0</td>\n      <td>0</td>\n      <td>0</td>\n      <td>0</td>\n      <td>0</td>\n      <td>0</td>\n      <td>0</td>\n      <td>2</td>\n    </tr>\n    <tr>\n      <th>260600</th>\n      <td>21</td>\n      <td>3</td>\n      <td>10</td>\n      <td>7</td>\n      <td>n</td>\n      <td>r</td>\n      <td>n</td>\n      <td>f</td>\n      <td>q</td>\n      <td>j</td>\n      <td>...</td>\n      <td>0</td>\n      <td>0</td>\n      <td>0</td>\n      <td>0</td>\n      <td>0</td>\n      <td>0</td>\n      <td>0</td>\n      <td>0</td>\n      <td>0</td>\n      <td>3</td>\n    </tr>\n  </tbody>\n</table>\n<p>179275 rows × 34 columns</p>\n</div>"
     },
     "metadata": {},
     "execution_count": 25
    }
   ],
   "source": [
    "preprocessed_train"
   ]
  },
  {
   "cell_type": "code",
   "execution_count": 24,
   "metadata": {},
   "outputs": [
    {
     "output_type": "execute_result",
     "data": {
      "text/plain": [
       "0         3\n",
       "1         2\n",
       "2         3\n",
       "3         2\n",
       "4         3\n",
       "         ..\n",
       "260594    2\n",
       "260596    2\n",
       "260598    3\n",
       "260599    2\n",
       "260600    3\n",
       "Name: damage_grade, Length: 179275, dtype: int64"
      ]
     },
     "metadata": {},
     "execution_count": 24
    }
   ],
   "source": [
    "train_labels"
   ]
  },
  {
   "cell_type": "code",
   "execution_count": null,
   "metadata": {},
   "outputs": [],
   "source": [
    "# DESHACER TRANSFORMACIÓN PARA CONSEGUIR GEO1 ??"
   ]
  },
  {
   "source": [
    "################################################################################\n",
    "# Write data\n",
    "################################################################################\n",
    "preprocessed_train.to_csv(\"data/preprocessed_train.csv\", index=False)\n",
    "train_labels.to_csv(\"data/preprocessed_train_labels.csv\", index=False)\n",
    "preprocessed_test.to_csv(\"data/preprocessed_test.csv\", index=False)"
   ],
   "cell_type": "code",
   "metadata": {},
   "execution_count": 12,
   "outputs": []
  },
  {
   "cell_type": "code",
   "execution_count": null,
   "metadata": {},
   "outputs": [],
   "source": [
    "# https://datascience.stackexchange.com/questions/43444/how-to-evaluate-feature-quality-for-decision-tree-model\n",
    "# https://machinelearningmastery.com/feature-selection-with-categorical-data/\n",
    "\n",
    "#####################################################################################################\n",
    "#####################################################################################################\n",
    "#####################################################################################################"
   ]
  },
  {
   "cell_type": "code",
   "execution_count": 8,
   "metadata": {},
   "outputs": [],
   "source": [
    "# Join has_superstructure (binary) columns has strings\n",
    "# Get selected rows to string\n",
    "df = preprocessed_train.iloc[:,15:25].astype(str)\n",
    "df_test = preprocessed_test.iloc[:,15:25].astype(str)\n",
    "\n",
    "# Join them\n",
    "preprocessed_train[\"has_superstructure\"] = df.apply(lambda x: ''.join(x), axis=1)\n",
    "preprocessed_test[\"has_superstructure\"] = df_test.apply(lambda x: ''.join(x), axis=1)"
   ]
  },
  {
   "cell_type": "code",
   "execution_count": 9,
   "metadata": {},
   "outputs": [],
   "source": [
    "# Join has_secondary (binary) columns has strings\n",
    "# Get selected rows to string\n",
    "df = preprocessed_train.iloc[:,29:38].astype(str)\n",
    "df_test = preprocessed_test.iloc[:,29:38].astype(str)\n",
    "\n",
    "# Join them\n",
    "preprocessed_train[\"has_secondary\"] = df.apply(lambda x: ''.join(x), axis=1)\n",
    "preprocessed_test[\"has_secondary\"] = df_test.apply(lambda x: ''.join(x), axis=1)"
   ]
  },
  {
   "cell_type": "code",
   "execution_count": 10,
   "metadata": {},
   "outputs": [
    {
     "output_type": "execute_result",
     "data": {
      "text/plain": [
       "        building_id  geo_level_1_id  geo_level_2_id  geo_level_3_id  \\\n",
       "0            802906               6             487           12198   \n",
       "1             28830               8             900            2812   \n",
       "2             94947              21             363            8973   \n",
       "3            590882              22             418           10694   \n",
       "4            201944              11             131            1488   \n",
       "...             ...             ...             ...             ...   \n",
       "260596       688636              25            1335            1621   \n",
       "260597       669485              17             715            2060   \n",
       "260598       602512              17              51            8163   \n",
       "260599       151409              26              39            1851   \n",
       "260600       747594              21               9            9101   \n",
       "\n",
       "        count_floors_pre_eq  age  area_percentage  height_percentage  \\\n",
       "0                         2   30                6                  5   \n",
       "1                         2   10                8                  7   \n",
       "2                         2   10                5                  5   \n",
       "3                         2   10                6                  5   \n",
       "4                         3   30                8                  9   \n",
       "...                     ...  ...              ...                ...   \n",
       "260596                    1   55                6                  3   \n",
       "260597                    2    0                6                  5   \n",
       "260598                    3   55                6                  7   \n",
       "260599                    2   10               14                  6   \n",
       "260600                    3   10                7                  6   \n",
       "\n",
       "       land_surface_condition foundation_type roof_type ground_floor_type  \\\n",
       "0                           t               r         n                 f   \n",
       "1                           o               r         n                 x   \n",
       "2                           t               r         n                 f   \n",
       "3                           t               r         n                 f   \n",
       "4                           t               r         n                 f   \n",
       "...                       ...             ...       ...               ...   \n",
       "260596                      n               r         n                 f   \n",
       "260597                      t               r         n                 f   \n",
       "260598                      t               r         q                 f   \n",
       "260599                      t               r         x                 v   \n",
       "260600                      n               r         n                 f   \n",
       "\n",
       "       other_floor_type position plan_configuration legal_ownership_status  \\\n",
       "0                     q        t                  d                      v   \n",
       "1                     q        s                  d                      v   \n",
       "2                     x        t                  d                      v   \n",
       "3                     x        s                  d                      v   \n",
       "4                     x        s                  d                      v   \n",
       "...                 ...      ...                ...                    ...   \n",
       "260596                j        s                  q                      v   \n",
       "260597                q        s                  d                      v   \n",
       "260598                q        s                  d                      v   \n",
       "260599                s        j                  d                      v   \n",
       "260600                q        j                  d                      v   \n",
       "\n",
       "        count_families  has_secondary_use has_superstructure has_secondary  \n",
       "0                    1                  0         1100000000     000000000  \n",
       "1                    1                  0         0100000000     000000000  \n",
       "2                    1                  0         0100000000     000000000  \n",
       "3                    1                  0         0100001100     000000000  \n",
       "4                    1                  0         1000000000     000000000  \n",
       "...                ...                ...                ...           ...  \n",
       "260596               1                  0         0100000000     000000000  \n",
       "260597               1                  0         0100000000     000000000  \n",
       "260598               1                  0         0100000000     000000000  \n",
       "260599               1                  0         0000010000     000000000  \n",
       "260600               3                  0         0100000000     000000000  \n",
       "\n",
       "[260601 rows x 20 columns]"
      ],
      "text/html": "<div>\n<style scoped>\n    .dataframe tbody tr th:only-of-type {\n        vertical-align: middle;\n    }\n\n    .dataframe tbody tr th {\n        vertical-align: top;\n    }\n\n    .dataframe thead th {\n        text-align: right;\n    }\n</style>\n<table border=\"1\" class=\"dataframe\">\n  <thead>\n    <tr style=\"text-align: right;\">\n      <th></th>\n      <th>building_id</th>\n      <th>geo_level_1_id</th>\n      <th>geo_level_2_id</th>\n      <th>geo_level_3_id</th>\n      <th>count_floors_pre_eq</th>\n      <th>age</th>\n      <th>area_percentage</th>\n      <th>height_percentage</th>\n      <th>land_surface_condition</th>\n      <th>foundation_type</th>\n      <th>roof_type</th>\n      <th>ground_floor_type</th>\n      <th>other_floor_type</th>\n      <th>position</th>\n      <th>plan_configuration</th>\n      <th>legal_ownership_status</th>\n      <th>count_families</th>\n      <th>has_secondary_use</th>\n      <th>has_superstructure</th>\n      <th>has_secondary</th>\n    </tr>\n  </thead>\n  <tbody>\n    <tr>\n      <th>0</th>\n      <td>802906</td>\n      <td>6</td>\n      <td>487</td>\n      <td>12198</td>\n      <td>2</td>\n      <td>30</td>\n      <td>6</td>\n      <td>5</td>\n      <td>t</td>\n      <td>r</td>\n      <td>n</td>\n      <td>f</td>\n      <td>q</td>\n      <td>t</td>\n      <td>d</td>\n      <td>v</td>\n      <td>1</td>\n      <td>0</td>\n      <td>1100000000</td>\n      <td>000000000</td>\n    </tr>\n    <tr>\n      <th>1</th>\n      <td>28830</td>\n      <td>8</td>\n      <td>900</td>\n      <td>2812</td>\n      <td>2</td>\n      <td>10</td>\n      <td>8</td>\n      <td>7</td>\n      <td>o</td>\n      <td>r</td>\n      <td>n</td>\n      <td>x</td>\n      <td>q</td>\n      <td>s</td>\n      <td>d</td>\n      <td>v</td>\n      <td>1</td>\n      <td>0</td>\n      <td>0100000000</td>\n      <td>000000000</td>\n    </tr>\n    <tr>\n      <th>2</th>\n      <td>94947</td>\n      <td>21</td>\n      <td>363</td>\n      <td>8973</td>\n      <td>2</td>\n      <td>10</td>\n      <td>5</td>\n      <td>5</td>\n      <td>t</td>\n      <td>r</td>\n      <td>n</td>\n      <td>f</td>\n      <td>x</td>\n      <td>t</td>\n      <td>d</td>\n      <td>v</td>\n      <td>1</td>\n      <td>0</td>\n      <td>0100000000</td>\n      <td>000000000</td>\n    </tr>\n    <tr>\n      <th>3</th>\n      <td>590882</td>\n      <td>22</td>\n      <td>418</td>\n      <td>10694</td>\n      <td>2</td>\n      <td>10</td>\n      <td>6</td>\n      <td>5</td>\n      <td>t</td>\n      <td>r</td>\n      <td>n</td>\n      <td>f</td>\n      <td>x</td>\n      <td>s</td>\n      <td>d</td>\n      <td>v</td>\n      <td>1</td>\n      <td>0</td>\n      <td>0100001100</td>\n      <td>000000000</td>\n    </tr>\n    <tr>\n      <th>4</th>\n      <td>201944</td>\n      <td>11</td>\n      <td>131</td>\n      <td>1488</td>\n      <td>3</td>\n      <td>30</td>\n      <td>8</td>\n      <td>9</td>\n      <td>t</td>\n      <td>r</td>\n      <td>n</td>\n      <td>f</td>\n      <td>x</td>\n      <td>s</td>\n      <td>d</td>\n      <td>v</td>\n      <td>1</td>\n      <td>0</td>\n      <td>1000000000</td>\n      <td>000000000</td>\n    </tr>\n    <tr>\n      <th>...</th>\n      <td>...</td>\n      <td>...</td>\n      <td>...</td>\n      <td>...</td>\n      <td>...</td>\n      <td>...</td>\n      <td>...</td>\n      <td>...</td>\n      <td>...</td>\n      <td>...</td>\n      <td>...</td>\n      <td>...</td>\n      <td>...</td>\n      <td>...</td>\n      <td>...</td>\n      <td>...</td>\n      <td>...</td>\n      <td>...</td>\n      <td>...</td>\n      <td>...</td>\n    </tr>\n    <tr>\n      <th>260596</th>\n      <td>688636</td>\n      <td>25</td>\n      <td>1335</td>\n      <td>1621</td>\n      <td>1</td>\n      <td>55</td>\n      <td>6</td>\n      <td>3</td>\n      <td>n</td>\n      <td>r</td>\n      <td>n</td>\n      <td>f</td>\n      <td>j</td>\n      <td>s</td>\n      <td>q</td>\n      <td>v</td>\n      <td>1</td>\n      <td>0</td>\n      <td>0100000000</td>\n      <td>000000000</td>\n    </tr>\n    <tr>\n      <th>260597</th>\n      <td>669485</td>\n      <td>17</td>\n      <td>715</td>\n      <td>2060</td>\n      <td>2</td>\n      <td>0</td>\n      <td>6</td>\n      <td>5</td>\n      <td>t</td>\n      <td>r</td>\n      <td>n</td>\n      <td>f</td>\n      <td>q</td>\n      <td>s</td>\n      <td>d</td>\n      <td>v</td>\n      <td>1</td>\n      <td>0</td>\n      <td>0100000000</td>\n      <td>000000000</td>\n    </tr>\n    <tr>\n      <th>260598</th>\n      <td>602512</td>\n      <td>17</td>\n      <td>51</td>\n      <td>8163</td>\n      <td>3</td>\n      <td>55</td>\n      <td>6</td>\n      <td>7</td>\n      <td>t</td>\n      <td>r</td>\n      <td>q</td>\n      <td>f</td>\n      <td>q</td>\n      <td>s</td>\n      <td>d</td>\n      <td>v</td>\n      <td>1</td>\n      <td>0</td>\n      <td>0100000000</td>\n      <td>000000000</td>\n    </tr>\n    <tr>\n      <th>260599</th>\n      <td>151409</td>\n      <td>26</td>\n      <td>39</td>\n      <td>1851</td>\n      <td>2</td>\n      <td>10</td>\n      <td>14</td>\n      <td>6</td>\n      <td>t</td>\n      <td>r</td>\n      <td>x</td>\n      <td>v</td>\n      <td>s</td>\n      <td>j</td>\n      <td>d</td>\n      <td>v</td>\n      <td>1</td>\n      <td>0</td>\n      <td>0000010000</td>\n      <td>000000000</td>\n    </tr>\n    <tr>\n      <th>260600</th>\n      <td>747594</td>\n      <td>21</td>\n      <td>9</td>\n      <td>9101</td>\n      <td>3</td>\n      <td>10</td>\n      <td>7</td>\n      <td>6</td>\n      <td>n</td>\n      <td>r</td>\n      <td>n</td>\n      <td>f</td>\n      <td>q</td>\n      <td>j</td>\n      <td>d</td>\n      <td>v</td>\n      <td>3</td>\n      <td>0</td>\n      <td>0100000000</td>\n      <td>000000000</td>\n    </tr>\n  </tbody>\n</table>\n<p>260601 rows × 20 columns</p>\n</div>"
     },
     "metadata": {},
     "execution_count": 10
    }
   ],
   "source": [
    "# Remove joined columns\n",
    "removed_cols = list(range(15,26)) + list(range(29,39))\n",
    "preprocessed_train = preprocessed_train.drop(columns=preprocessed_train.columns[removed_cols])\n",
    "preprocessed_test = preprocessed_test.drop(columns=preprocessed_test.columns[removed_cols])\n",
    "\n",
    "preprocessed_train"
   ]
  },
  {
   "cell_type": "code",
   "execution_count": 11,
   "metadata": {},
   "outputs": [],
   "source": [
    "# Convert new cols to int\n",
    "# preprocessed_train[\"has_superstructure\"] = preprocessed_train[\"has_superstructure\"].apply(lambda x: int(x,2))\n",
    "# preprocessed_train[\"has_secondary\"] = preprocessed_train[\"has_secondary\"].apply(lambda x: int(x,2))\n",
    "# preprocessed_train"
   ]
  },
  {
   "cell_type": "code",
   "execution_count": 12,
   "metadata": {},
   "outputs": [],
   "source": [
    "# Convert to categorical in order (TODO: KEEP ORIGINAL MAPPING)\n",
    "# MEJOR: Leerlo como factor en R\n",
    "\n",
    "# preprocessed_train.has_secondary = preprocessed_train.has_secondary.astype(\"category\").cat.codes\n",
    "# preprocessed_train.has_superstructure = preprocessed_train.has_superstructure.astype('category').cat.codes\n",
    "\n",
    "# preprocessed_train"
   ]
  },
  {
   "cell_type": "code",
   "execution_count": 14,
   "metadata": {},
   "outputs": [
    {
     "output_type": "execute_result",
     "data": {
      "text/plain": [
       "        geo_level_1_id  geo_level_2_id  geo_level_3_id  count_floors_pre_eq  \\\n",
       "0                    6             487           12198                    2   \n",
       "1                    8             900            2812                    2   \n",
       "2                   21             363            8973                    2   \n",
       "3                   22             418           10694                    2   \n",
       "4                   11             131            1488                    3   \n",
       "...                ...             ...             ...                  ...   \n",
       "260596              25            1335            1621                    1   \n",
       "260597              17             715            2060                    2   \n",
       "260598              17              51            8163                    3   \n",
       "260599              26              39            1851                    2   \n",
       "260600              21               9            9101                    3   \n",
       "\n",
       "        age  area_percentage  height_percentage land_surface_condition  \\\n",
       "0        30                6                  5                      t   \n",
       "1        10                8                  7                      o   \n",
       "2        10                5                  5                      t   \n",
       "3        10                6                  5                      t   \n",
       "4        30                8                  9                      t   \n",
       "...     ...              ...                ...                    ...   \n",
       "260596   55                6                  3                      n   \n",
       "260597    0                6                  5                      t   \n",
       "260598   55                6                  7                      t   \n",
       "260599   10               14                  6                      t   \n",
       "260600   10                7                  6                      n   \n",
       "\n",
       "       foundation_type roof_type ground_floor_type other_floor_type position  \\\n",
       "0                    r         n                 f                q        t   \n",
       "1                    r         n                 x                q        s   \n",
       "2                    r         n                 f                x        t   \n",
       "3                    r         n                 f                x        s   \n",
       "4                    r         n                 f                x        s   \n",
       "...                ...       ...               ...              ...      ...   \n",
       "260596               r         n                 f                j        s   \n",
       "260597               r         n                 f                q        s   \n",
       "260598               r         q                 f                q        s   \n",
       "260599               r         x                 v                s        j   \n",
       "260600               r         n                 f                q        j   \n",
       "\n",
       "       plan_configuration legal_ownership_status  count_families  \\\n",
       "0                       d                      v               1   \n",
       "1                       d                      v               1   \n",
       "2                       d                      v               1   \n",
       "3                       d                      v               1   \n",
       "4                       d                      v               1   \n",
       "...                   ...                    ...             ...   \n",
       "260596                  q                      v               1   \n",
       "260597                  d                      v               1   \n",
       "260598                  d                      v               1   \n",
       "260599                  d                      v               1   \n",
       "260600                  d                      v               3   \n",
       "\n",
       "       has_superstructure has_secondary  \n",
       "0              1100000000     000000000  \n",
       "1              0100000000     000000000  \n",
       "2              0100000000     000000000  \n",
       "3              0100001100     000000000  \n",
       "4              1000000000     000000000  \n",
       "...                   ...           ...  \n",
       "260596         0100000000     000000000  \n",
       "260597         0100000000     000000000  \n",
       "260598         0100000000     000000000  \n",
       "260599         0000010000     000000000  \n",
       "260600         0100000000     000000000  \n",
       "\n",
       "[260601 rows x 18 columns]"
      ],
      "text/html": "<div>\n<style scoped>\n    .dataframe tbody tr th:only-of-type {\n        vertical-align: middle;\n    }\n\n    .dataframe tbody tr th {\n        vertical-align: top;\n    }\n\n    .dataframe thead th {\n        text-align: right;\n    }\n</style>\n<table border=\"1\" class=\"dataframe\">\n  <thead>\n    <tr style=\"text-align: right;\">\n      <th></th>\n      <th>geo_level_1_id</th>\n      <th>geo_level_2_id</th>\n      <th>geo_level_3_id</th>\n      <th>count_floors_pre_eq</th>\n      <th>age</th>\n      <th>area_percentage</th>\n      <th>height_percentage</th>\n      <th>land_surface_condition</th>\n      <th>foundation_type</th>\n      <th>roof_type</th>\n      <th>ground_floor_type</th>\n      <th>other_floor_type</th>\n      <th>position</th>\n      <th>plan_configuration</th>\n      <th>legal_ownership_status</th>\n      <th>count_families</th>\n      <th>has_superstructure</th>\n      <th>has_secondary</th>\n    </tr>\n  </thead>\n  <tbody>\n    <tr>\n      <th>0</th>\n      <td>6</td>\n      <td>487</td>\n      <td>12198</td>\n      <td>2</td>\n      <td>30</td>\n      <td>6</td>\n      <td>5</td>\n      <td>t</td>\n      <td>r</td>\n      <td>n</td>\n      <td>f</td>\n      <td>q</td>\n      <td>t</td>\n      <td>d</td>\n      <td>v</td>\n      <td>1</td>\n      <td>1100000000</td>\n      <td>000000000</td>\n    </tr>\n    <tr>\n      <th>1</th>\n      <td>8</td>\n      <td>900</td>\n      <td>2812</td>\n      <td>2</td>\n      <td>10</td>\n      <td>8</td>\n      <td>7</td>\n      <td>o</td>\n      <td>r</td>\n      <td>n</td>\n      <td>x</td>\n      <td>q</td>\n      <td>s</td>\n      <td>d</td>\n      <td>v</td>\n      <td>1</td>\n      <td>0100000000</td>\n      <td>000000000</td>\n    </tr>\n    <tr>\n      <th>2</th>\n      <td>21</td>\n      <td>363</td>\n      <td>8973</td>\n      <td>2</td>\n      <td>10</td>\n      <td>5</td>\n      <td>5</td>\n      <td>t</td>\n      <td>r</td>\n      <td>n</td>\n      <td>f</td>\n      <td>x</td>\n      <td>t</td>\n      <td>d</td>\n      <td>v</td>\n      <td>1</td>\n      <td>0100000000</td>\n      <td>000000000</td>\n    </tr>\n    <tr>\n      <th>3</th>\n      <td>22</td>\n      <td>418</td>\n      <td>10694</td>\n      <td>2</td>\n      <td>10</td>\n      <td>6</td>\n      <td>5</td>\n      <td>t</td>\n      <td>r</td>\n      <td>n</td>\n      <td>f</td>\n      <td>x</td>\n      <td>s</td>\n      <td>d</td>\n      <td>v</td>\n      <td>1</td>\n      <td>0100001100</td>\n      <td>000000000</td>\n    </tr>\n    <tr>\n      <th>4</th>\n      <td>11</td>\n      <td>131</td>\n      <td>1488</td>\n      <td>3</td>\n      <td>30</td>\n      <td>8</td>\n      <td>9</td>\n      <td>t</td>\n      <td>r</td>\n      <td>n</td>\n      <td>f</td>\n      <td>x</td>\n      <td>s</td>\n      <td>d</td>\n      <td>v</td>\n      <td>1</td>\n      <td>1000000000</td>\n      <td>000000000</td>\n    </tr>\n    <tr>\n      <th>...</th>\n      <td>...</td>\n      <td>...</td>\n      <td>...</td>\n      <td>...</td>\n      <td>...</td>\n      <td>...</td>\n      <td>...</td>\n      <td>...</td>\n      <td>...</td>\n      <td>...</td>\n      <td>...</td>\n      <td>...</td>\n      <td>...</td>\n      <td>...</td>\n      <td>...</td>\n      <td>...</td>\n      <td>...</td>\n      <td>...</td>\n    </tr>\n    <tr>\n      <th>260596</th>\n      <td>25</td>\n      <td>1335</td>\n      <td>1621</td>\n      <td>1</td>\n      <td>55</td>\n      <td>6</td>\n      <td>3</td>\n      <td>n</td>\n      <td>r</td>\n      <td>n</td>\n      <td>f</td>\n      <td>j</td>\n      <td>s</td>\n      <td>q</td>\n      <td>v</td>\n      <td>1</td>\n      <td>0100000000</td>\n      <td>000000000</td>\n    </tr>\n    <tr>\n      <th>260597</th>\n      <td>17</td>\n      <td>715</td>\n      <td>2060</td>\n      <td>2</td>\n      <td>0</td>\n      <td>6</td>\n      <td>5</td>\n      <td>t</td>\n      <td>r</td>\n      <td>n</td>\n      <td>f</td>\n      <td>q</td>\n      <td>s</td>\n      <td>d</td>\n      <td>v</td>\n      <td>1</td>\n      <td>0100000000</td>\n      <td>000000000</td>\n    </tr>\n    <tr>\n      <th>260598</th>\n      <td>17</td>\n      <td>51</td>\n      <td>8163</td>\n      <td>3</td>\n      <td>55</td>\n      <td>6</td>\n      <td>7</td>\n      <td>t</td>\n      <td>r</td>\n      <td>q</td>\n      <td>f</td>\n      <td>q</td>\n      <td>s</td>\n      <td>d</td>\n      <td>v</td>\n      <td>1</td>\n      <td>0100000000</td>\n      <td>000000000</td>\n    </tr>\n    <tr>\n      <th>260599</th>\n      <td>26</td>\n      <td>39</td>\n      <td>1851</td>\n      <td>2</td>\n      <td>10</td>\n      <td>14</td>\n      <td>6</td>\n      <td>t</td>\n      <td>r</td>\n      <td>x</td>\n      <td>v</td>\n      <td>s</td>\n      <td>j</td>\n      <td>d</td>\n      <td>v</td>\n      <td>1</td>\n      <td>0000010000</td>\n      <td>000000000</td>\n    </tr>\n    <tr>\n      <th>260600</th>\n      <td>21</td>\n      <td>9</td>\n      <td>9101</td>\n      <td>3</td>\n      <td>10</td>\n      <td>7</td>\n      <td>6</td>\n      <td>n</td>\n      <td>r</td>\n      <td>n</td>\n      <td>f</td>\n      <td>q</td>\n      <td>j</td>\n      <td>d</td>\n      <td>v</td>\n      <td>3</td>\n      <td>0100000000</td>\n      <td>000000000</td>\n    </tr>\n  </tbody>\n</table>\n<p>260601 rows × 18 columns</p>\n</div>"
     },
     "metadata": {},
     "execution_count": 14
    }
   ],
   "source": [
    "# has_secondary_use is enconded in has_secondary, remove it\n",
    "preprocessed_train = preprocessed_train.drop(columns=\"has_secondary_use\")\n",
    "preprocessed_test = preprocessed_test.drop(columns=\"has_secondary_use\")\n",
    "preprocessed_train"
   ]
  }
 ]
}