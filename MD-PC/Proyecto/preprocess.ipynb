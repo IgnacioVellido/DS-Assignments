{
 "metadata": {
  "language_info": {
   "codemirror_mode": {
    "name": "ipython",
    "version": 3
   },
   "file_extension": ".py",
   "mimetype": "text/x-python",
   "name": "python",
   "nbconvert_exporter": "python",
   "pygments_lexer": "ipython3",
   "version": "3.8.5-final"
  },
  "orig_nbformat": 2,
  "kernelspec": {
   "name": "python3",
   "display_name": "Python 3",
   "language": "python"
  }
 },
 "nbformat": 4,
 "nbformat_minor": 2,
 "cells": [
  {
   "source": [
    "Preprocesamiento\n",
    "- No hace falta estandarizar, no estaría tampoco mal\n",
    "- Agrupar las binarias (has..) en grupos\n",
    "  - has_secondary_use (hay que añadir más para las combinaciones)\n",
    "  - has_superstructure\n",
    "- geo_level3 o 2 quizás se puedan agrupar en intervalos\n",
    "- Pasar las categóricas a números ? En sí las letras no tienen significado\n",
    "- Quizás agrupar la edad en intervalos\n",
    "- Ver qué hacer con las duplicadas\n",
    "- Los árboles son robustos al ruido, así que las variables extremadamente \n",
    "desbalanceadas no deberían hacer mucho daño. Considerar si quitar o no según el\n",
    "coste computacional que haya en principio.\n",
    "- Age de 995 mantenerlo, a ver si el árbol consigue algo del estilo if age>200 ...\n",
    "\n",
    "- Quizá la distancia, al ser datos del mismo terremoto sea muy relevante. \n",
    "Se podría reflejar en una combinación de las has_structure y geom_ids \n",
    "(el epicentro estaría por unos valores concretos de geom_id)"
   ],
   "cell_type": "markdown",
   "metadata": {}
  },
  {
   "cell_type": "code",
   "execution_count": 27,
   "metadata": {},
   "outputs": [],
   "source": [
    "################################################################################\n",
    "# Libraries\n",
    "################################################################################\n",
    "\n",
    "import random\n",
    "\n",
    "import pandas as pd\n",
    "import numpy as np\n",
    "import matplotlib.pyplot as plt\n",
    "import seaborn as sns\n",
    "\n",
    "# Preprocesamiento\n",
    "from sklearn.preprocessing import Normalizer\n",
    "from sklearn.model_selection import train_test_split\n",
    "from sklearn.decomposition import PCA"
   ]
  },
  {
   "cell_type": "code",
   "execution_count": 28,
   "metadata": {},
   "outputs": [],
   "source": [
    "################################################################################\n",
    "# Load data\n",
    "################################################################################\n",
    "\n",
    "train_values = pd.read_csv(\"data/train_values.csv\")\n",
    "test_values  = pd.read_csv(\"data/test_values.csv\")\n",
    "train_labels = pd.read_csv(\"data/train_labels.csv\")\n",
    "\n",
    "preprocessed_train = train_values\n",
    "preprocessed_test = test_values\n"
   ]
  },
  {
   "cell_type": "code",
   "execution_count": 29,
   "metadata": {},
   "outputs": [
    {
     "output_type": "execute_result",
     "data": {
      "text/plain": [
       "0          6\n",
       "1          8\n",
       "2         21\n",
       "3         22\n",
       "4         11\n",
       "          ..\n",
       "260596    25\n",
       "260597    17\n",
       "260598    17\n",
       "260599    26\n",
       "260600    21\n",
       "Name: geo_level_1_id, Length: 260601, dtype: int64"
      ]
     },
     "metadata": {},
     "execution_count": 29
    }
   ],
   "source": [
    "train_values[\"geo_level_1_id\"]"
   ]
  },
  {
   "source": [
    "preprocessed_train"
   ],
   "cell_type": "code",
   "metadata": {},
   "execution_count": 30,
   "outputs": [
    {
     "output_type": "execute_result",
     "data": {
      "text/plain": [
       "        building_id  geo_level_1_id  geo_level_2_id  geo_level_3_id  \\\n",
       "0            802906               6             487           12198   \n",
       "1             28830               8             900            2812   \n",
       "2             94947              21             363            8973   \n",
       "3            590882              22             418           10694   \n",
       "4            201944              11             131            1488   \n",
       "...             ...             ...             ...             ...   \n",
       "260596       688636              25            1335            1621   \n",
       "260597       669485              17             715            2060   \n",
       "260598       602512              17              51            8163   \n",
       "260599       151409              26              39            1851   \n",
       "260600       747594              21               9            9101   \n",
       "\n",
       "        count_floors_pre_eq  age  area_percentage  height_percentage  \\\n",
       "0                         2   30                6                  5   \n",
       "1                         2   10                8                  7   \n",
       "2                         2   10                5                  5   \n",
       "3                         2   10                6                  5   \n",
       "4                         3   30                8                  9   \n",
       "...                     ...  ...              ...                ...   \n",
       "260596                    1   55                6                  3   \n",
       "260597                    2    0                6                  5   \n",
       "260598                    3   55                6                  7   \n",
       "260599                    2   10               14                  6   \n",
       "260600                    3   10                7                  6   \n",
       "\n",
       "       land_surface_condition foundation_type  ...  \\\n",
       "0                           t               r  ...   \n",
       "1                           o               r  ...   \n",
       "2                           t               r  ...   \n",
       "3                           t               r  ...   \n",
       "4                           t               r  ...   \n",
       "...                       ...             ...  ...   \n",
       "260596                      n               r  ...   \n",
       "260597                      t               r  ...   \n",
       "260598                      t               r  ...   \n",
       "260599                      t               r  ...   \n",
       "260600                      n               r  ...   \n",
       "\n",
       "       has_secondary_use_agriculture has_secondary_use_hotel  \\\n",
       "0                                  0                       0   \n",
       "1                                  0                       0   \n",
       "2                                  0                       0   \n",
       "3                                  0                       0   \n",
       "4                                  0                       0   \n",
       "...                              ...                     ...   \n",
       "260596                             0                       0   \n",
       "260597                             0                       0   \n",
       "260598                             0                       0   \n",
       "260599                             0                       0   \n",
       "260600                             0                       0   \n",
       "\n",
       "       has_secondary_use_rental has_secondary_use_institution  \\\n",
       "0                             0                             0   \n",
       "1                             0                             0   \n",
       "2                             0                             0   \n",
       "3                             0                             0   \n",
       "4                             0                             0   \n",
       "...                         ...                           ...   \n",
       "260596                        0                             0   \n",
       "260597                        0                             0   \n",
       "260598                        0                             0   \n",
       "260599                        0                             0   \n",
       "260600                        0                             0   \n",
       "\n",
       "       has_secondary_use_school  has_secondary_use_industry  \\\n",
       "0                             0                           0   \n",
       "1                             0                           0   \n",
       "2                             0                           0   \n",
       "3                             0                           0   \n",
       "4                             0                           0   \n",
       "...                         ...                         ...   \n",
       "260596                        0                           0   \n",
       "260597                        0                           0   \n",
       "260598                        0                           0   \n",
       "260599                        0                           0   \n",
       "260600                        0                           0   \n",
       "\n",
       "        has_secondary_use_health_post  has_secondary_use_gov_office  \\\n",
       "0                                   0                             0   \n",
       "1                                   0                             0   \n",
       "2                                   0                             0   \n",
       "3                                   0                             0   \n",
       "4                                   0                             0   \n",
       "...                               ...                           ...   \n",
       "260596                              0                             0   \n",
       "260597                              0                             0   \n",
       "260598                              0                             0   \n",
       "260599                              0                             0   \n",
       "260600                              0                             0   \n",
       "\n",
       "        has_secondary_use_use_police  has_secondary_use_other  \n",
       "0                                  0                        0  \n",
       "1                                  0                        0  \n",
       "2                                  0                        0  \n",
       "3                                  0                        0  \n",
       "4                                  0                        0  \n",
       "...                              ...                      ...  \n",
       "260596                             0                        0  \n",
       "260597                             0                        0  \n",
       "260598                             0                        0  \n",
       "260599                             0                        0  \n",
       "260600                             0                        0  \n",
       "\n",
       "[260601 rows x 39 columns]"
      ],
      "text/html": "<div>\n<style scoped>\n    .dataframe tbody tr th:only-of-type {\n        vertical-align: middle;\n    }\n\n    .dataframe tbody tr th {\n        vertical-align: top;\n    }\n\n    .dataframe thead th {\n        text-align: right;\n    }\n</style>\n<table border=\"1\" class=\"dataframe\">\n  <thead>\n    <tr style=\"text-align: right;\">\n      <th></th>\n      <th>building_id</th>\n      <th>geo_level_1_id</th>\n      <th>geo_level_2_id</th>\n      <th>geo_level_3_id</th>\n      <th>count_floors_pre_eq</th>\n      <th>age</th>\n      <th>area_percentage</th>\n      <th>height_percentage</th>\n      <th>land_surface_condition</th>\n      <th>foundation_type</th>\n      <th>...</th>\n      <th>has_secondary_use_agriculture</th>\n      <th>has_secondary_use_hotel</th>\n      <th>has_secondary_use_rental</th>\n      <th>has_secondary_use_institution</th>\n      <th>has_secondary_use_school</th>\n      <th>has_secondary_use_industry</th>\n      <th>has_secondary_use_health_post</th>\n      <th>has_secondary_use_gov_office</th>\n      <th>has_secondary_use_use_police</th>\n      <th>has_secondary_use_other</th>\n    </tr>\n  </thead>\n  <tbody>\n    <tr>\n      <th>0</th>\n      <td>802906</td>\n      <td>6</td>\n      <td>487</td>\n      <td>12198</td>\n      <td>2</td>\n      <td>30</td>\n      <td>6</td>\n      <td>5</td>\n      <td>t</td>\n      <td>r</td>\n      <td>...</td>\n      <td>0</td>\n      <td>0</td>\n      <td>0</td>\n      <td>0</td>\n      <td>0</td>\n      <td>0</td>\n      <td>0</td>\n      <td>0</td>\n      <td>0</td>\n      <td>0</td>\n    </tr>\n    <tr>\n      <th>1</th>\n      <td>28830</td>\n      <td>8</td>\n      <td>900</td>\n      <td>2812</td>\n      <td>2</td>\n      <td>10</td>\n      <td>8</td>\n      <td>7</td>\n      <td>o</td>\n      <td>r</td>\n      <td>...</td>\n      <td>0</td>\n      <td>0</td>\n      <td>0</td>\n      <td>0</td>\n      <td>0</td>\n      <td>0</td>\n      <td>0</td>\n      <td>0</td>\n      <td>0</td>\n      <td>0</td>\n    </tr>\n    <tr>\n      <th>2</th>\n      <td>94947</td>\n      <td>21</td>\n      <td>363</td>\n      <td>8973</td>\n      <td>2</td>\n      <td>10</td>\n      <td>5</td>\n      <td>5</td>\n      <td>t</td>\n      <td>r</td>\n      <td>...</td>\n      <td>0</td>\n      <td>0</td>\n      <td>0</td>\n      <td>0</td>\n      <td>0</td>\n      <td>0</td>\n      <td>0</td>\n      <td>0</td>\n      <td>0</td>\n      <td>0</td>\n    </tr>\n    <tr>\n      <th>3</th>\n      <td>590882</td>\n      <td>22</td>\n      <td>418</td>\n      <td>10694</td>\n      <td>2</td>\n      <td>10</td>\n      <td>6</td>\n      <td>5</td>\n      <td>t</td>\n      <td>r</td>\n      <td>...</td>\n      <td>0</td>\n      <td>0</td>\n      <td>0</td>\n      <td>0</td>\n      <td>0</td>\n      <td>0</td>\n      <td>0</td>\n      <td>0</td>\n      <td>0</td>\n      <td>0</td>\n    </tr>\n    <tr>\n      <th>4</th>\n      <td>201944</td>\n      <td>11</td>\n      <td>131</td>\n      <td>1488</td>\n      <td>3</td>\n      <td>30</td>\n      <td>8</td>\n      <td>9</td>\n      <td>t</td>\n      <td>r</td>\n      <td>...</td>\n      <td>0</td>\n      <td>0</td>\n      <td>0</td>\n      <td>0</td>\n      <td>0</td>\n      <td>0</td>\n      <td>0</td>\n      <td>0</td>\n      <td>0</td>\n      <td>0</td>\n    </tr>\n    <tr>\n      <th>...</th>\n      <td>...</td>\n      <td>...</td>\n      <td>...</td>\n      <td>...</td>\n      <td>...</td>\n      <td>...</td>\n      <td>...</td>\n      <td>...</td>\n      <td>...</td>\n      <td>...</td>\n      <td>...</td>\n      <td>...</td>\n      <td>...</td>\n      <td>...</td>\n      <td>...</td>\n      <td>...</td>\n      <td>...</td>\n      <td>...</td>\n      <td>...</td>\n      <td>...</td>\n      <td>...</td>\n    </tr>\n    <tr>\n      <th>260596</th>\n      <td>688636</td>\n      <td>25</td>\n      <td>1335</td>\n      <td>1621</td>\n      <td>1</td>\n      <td>55</td>\n      <td>6</td>\n      <td>3</td>\n      <td>n</td>\n      <td>r</td>\n      <td>...</td>\n      <td>0</td>\n      <td>0</td>\n      <td>0</td>\n      <td>0</td>\n      <td>0</td>\n      <td>0</td>\n      <td>0</td>\n      <td>0</td>\n      <td>0</td>\n      <td>0</td>\n    </tr>\n    <tr>\n      <th>260597</th>\n      <td>669485</td>\n      <td>17</td>\n      <td>715</td>\n      <td>2060</td>\n      <td>2</td>\n      <td>0</td>\n      <td>6</td>\n      <td>5</td>\n      <td>t</td>\n      <td>r</td>\n      <td>...</td>\n      <td>0</td>\n      <td>0</td>\n      <td>0</td>\n      <td>0</td>\n      <td>0</td>\n      <td>0</td>\n      <td>0</td>\n      <td>0</td>\n      <td>0</td>\n      <td>0</td>\n    </tr>\n    <tr>\n      <th>260598</th>\n      <td>602512</td>\n      <td>17</td>\n      <td>51</td>\n      <td>8163</td>\n      <td>3</td>\n      <td>55</td>\n      <td>6</td>\n      <td>7</td>\n      <td>t</td>\n      <td>r</td>\n      <td>...</td>\n      <td>0</td>\n      <td>0</td>\n      <td>0</td>\n      <td>0</td>\n      <td>0</td>\n      <td>0</td>\n      <td>0</td>\n      <td>0</td>\n      <td>0</td>\n      <td>0</td>\n    </tr>\n    <tr>\n      <th>260599</th>\n      <td>151409</td>\n      <td>26</td>\n      <td>39</td>\n      <td>1851</td>\n      <td>2</td>\n      <td>10</td>\n      <td>14</td>\n      <td>6</td>\n      <td>t</td>\n      <td>r</td>\n      <td>...</td>\n      <td>0</td>\n      <td>0</td>\n      <td>0</td>\n      <td>0</td>\n      <td>0</td>\n      <td>0</td>\n      <td>0</td>\n      <td>0</td>\n      <td>0</td>\n      <td>0</td>\n    </tr>\n    <tr>\n      <th>260600</th>\n      <td>747594</td>\n      <td>21</td>\n      <td>9</td>\n      <td>9101</td>\n      <td>3</td>\n      <td>10</td>\n      <td>7</td>\n      <td>6</td>\n      <td>n</td>\n      <td>r</td>\n      <td>...</td>\n      <td>0</td>\n      <td>0</td>\n      <td>0</td>\n      <td>0</td>\n      <td>0</td>\n      <td>0</td>\n      <td>0</td>\n      <td>0</td>\n      <td>0</td>\n      <td>0</td>\n    </tr>\n  </tbody>\n</table>\n<p>260601 rows × 39 columns</p>\n</div>"
     },
     "metadata": {},
     "execution_count": 30
    }
   ]
  },
  {
   "cell_type": "code",
   "execution_count": 31,
   "metadata": {},
   "outputs": [
    {
     "output_type": "stream",
     "name": "stdout",
     "text": [
      "0 building_id\n1 geo_level_1_id\n2 geo_level_2_id\n3 geo_level_3_id\n4 count_floors_pre_eq\n5 age\n6 area_percentage\n7 height_percentage\n8 land_surface_condition\n9 foundation_type\n10 roof_type\n11 ground_floor_type\n12 other_floor_type\n13 position\n14 plan_configuration\n15 has_superstructure_adobe_mud\n16 has_superstructure_mud_mortar_stone\n17 has_superstructure_stone_flag\n18 has_superstructure_cement_mortar_stone\n19 has_superstructure_mud_mortar_brick\n20 has_superstructure_cement_mortar_brick\n21 has_superstructure_timber\n22 has_superstructure_bamboo\n23 has_superstructure_rc_non_engineered\n24 has_superstructure_rc_engineered\n25 has_superstructure_other\n26 legal_ownership_status\n27 count_families\n28 has_secondary_use\n29 has_secondary_use_agriculture\n30 has_secondary_use_hotel\n31 has_secondary_use_rental\n32 has_secondary_use_institution\n33 has_secondary_use_school\n34 has_secondary_use_industry\n35 has_secondary_use_health_post\n36 has_secondary_use_gov_office\n37 has_secondary_use_use_police\n38 has_secondary_use_other\n"
     ]
    }
   ],
   "source": [
    "for i,c in enumerate(preprocessed_train.columns):\n",
    "    print(i, c)"
   ]
  },
  {
   "source": [
    "Join columns\n",
    "- 15...25 (has superstructure) (they are not dummy variables, use combination)\n",
    "- 29...38 (has sencondary use) (probably dummy variables)\n",
    "\n",
    "Remove 28, not needed\n",
    "\n",
    "Reorder numerics next to numerics"
   ],
   "cell_type": "markdown",
   "metadata": {}
  },
  {
   "cell_type": "code",
   "execution_count": 32,
   "metadata": {},
   "outputs": [
    {
     "output_type": "execute_result",
     "data": {
      "text/plain": [
       "        has_superstructure_adobe_mud  has_superstructure_stone_flag\n",
       "0                                  1                              0\n",
       "1                                  0                              0\n",
       "2                                  0                              0\n",
       "3                                  0                              0\n",
       "4                                  1                              0\n",
       "...                              ...                            ...\n",
       "260596                             0                              0\n",
       "260597                             0                              0\n",
       "260598                             0                              0\n",
       "260599                             0                              0\n",
       "260600                             0                              0\n",
       "\n",
       "[260601 rows x 2 columns]"
      ],
      "text/html": "<div>\n<style scoped>\n    .dataframe tbody tr th:only-of-type {\n        vertical-align: middle;\n    }\n\n    .dataframe tbody tr th {\n        vertical-align: top;\n    }\n\n    .dataframe thead th {\n        text-align: right;\n    }\n</style>\n<table border=\"1\" class=\"dataframe\">\n  <thead>\n    <tr style=\"text-align: right;\">\n      <th></th>\n      <th>has_superstructure_adobe_mud</th>\n      <th>has_superstructure_stone_flag</th>\n    </tr>\n  </thead>\n  <tbody>\n    <tr>\n      <th>0</th>\n      <td>1</td>\n      <td>0</td>\n    </tr>\n    <tr>\n      <th>1</th>\n      <td>0</td>\n      <td>0</td>\n    </tr>\n    <tr>\n      <th>2</th>\n      <td>0</td>\n      <td>0</td>\n    </tr>\n    <tr>\n      <th>3</th>\n      <td>0</td>\n      <td>0</td>\n    </tr>\n    <tr>\n      <th>4</th>\n      <td>1</td>\n      <td>0</td>\n    </tr>\n    <tr>\n      <th>...</th>\n      <td>...</td>\n      <td>...</td>\n    </tr>\n    <tr>\n      <th>260596</th>\n      <td>0</td>\n      <td>0</td>\n    </tr>\n    <tr>\n      <th>260597</th>\n      <td>0</td>\n      <td>0</td>\n    </tr>\n    <tr>\n      <th>260598</th>\n      <td>0</td>\n      <td>0</td>\n    </tr>\n    <tr>\n      <th>260599</th>\n      <td>0</td>\n      <td>0</td>\n    </tr>\n    <tr>\n      <th>260600</th>\n      <td>0</td>\n      <td>0</td>\n    </tr>\n  </tbody>\n</table>\n<p>260601 rows × 2 columns</p>\n</div>"
     },
     "metadata": {},
     "execution_count": 32
    }
   ],
   "source": [
    "preprocessed_train[[\"has_superstructure_adobe_mud\", \"has_superstructure_stone_flag\"]]"
   ]
  },
  {
   "cell_type": "code",
   "execution_count": 33,
   "metadata": {},
   "outputs": [],
   "source": [
    "# Changing column names\n",
    "# df = preprocessed_train.rename(columns={x:y for x,y in zip(preprocessed_train.columns,range(0,len(preprocessed_train.columns)))})\n"
   ]
  },
  {
   "cell_type": "code",
   "execution_count": 34,
   "metadata": {},
   "outputs": [],
   "source": [
    "# Join has_superstructure (binary) columns has strings\n",
    "# Get selected rows to string\n",
    "df = preprocessed_train.iloc[:,15:25].astype(str)\n",
    "df_test = preprocessed_test.iloc[:,15:25].astype(str)\n",
    "\n",
    "# Join them\n",
    "preprocessed_train[\"has_superstructure\"] = df.apply(lambda x: ''.join(x), axis=1)\n",
    "preprocessed_test[\"has_superstructure\"] = df_test.apply(lambda x: ''.join(x), axis=1)"
   ]
  },
  {
   "cell_type": "code",
   "execution_count": 35,
   "metadata": {},
   "outputs": [],
   "source": [
    "# Join has_secondary (binary) columns has strings\n",
    "# Get selected rows to string\n",
    "df = preprocessed_train.iloc[:,29:38].astype(str)\n",
    "df_test = preprocessed_test.iloc[:,29:38].astype(str)\n",
    "\n",
    "# Join them\n",
    "preprocessed_train[\"has_secondary\"] = df.apply(lambda x: ''.join(x), axis=1)\n",
    "preprocessed_test[\"has_secondary\"] = df_test.apply(lambda x: ''.join(x), axis=1)"
   ]
  },
  {
   "cell_type": "code",
   "execution_count": 36,
   "metadata": {},
   "outputs": [
    {
     "output_type": "execute_result",
     "data": {
      "text/plain": [
       "        building_id  geo_level_1_id  geo_level_2_id  geo_level_3_id  \\\n",
       "0            802906               6             487           12198   \n",
       "1             28830               8             900            2812   \n",
       "2             94947              21             363            8973   \n",
       "3            590882              22             418           10694   \n",
       "4            201944              11             131            1488   \n",
       "...             ...             ...             ...             ...   \n",
       "260596       688636              25            1335            1621   \n",
       "260597       669485              17             715            2060   \n",
       "260598       602512              17              51            8163   \n",
       "260599       151409              26              39            1851   \n",
       "260600       747594              21               9            9101   \n",
       "\n",
       "        count_floors_pre_eq  age  area_percentage  height_percentage  \\\n",
       "0                         2   30                6                  5   \n",
       "1                         2   10                8                  7   \n",
       "2                         2   10                5                  5   \n",
       "3                         2   10                6                  5   \n",
       "4                         3   30                8                  9   \n",
       "...                     ...  ...              ...                ...   \n",
       "260596                    1   55                6                  3   \n",
       "260597                    2    0                6                  5   \n",
       "260598                    3   55                6                  7   \n",
       "260599                    2   10               14                  6   \n",
       "260600                    3   10                7                  6   \n",
       "\n",
       "       land_surface_condition foundation_type roof_type ground_floor_type  \\\n",
       "0                           t               r         n                 f   \n",
       "1                           o               r         n                 x   \n",
       "2                           t               r         n                 f   \n",
       "3                           t               r         n                 f   \n",
       "4                           t               r         n                 f   \n",
       "...                       ...             ...       ...               ...   \n",
       "260596                      n               r         n                 f   \n",
       "260597                      t               r         n                 f   \n",
       "260598                      t               r         q                 f   \n",
       "260599                      t               r         x                 v   \n",
       "260600                      n               r         n                 f   \n",
       "\n",
       "       other_floor_type position plan_configuration legal_ownership_status  \\\n",
       "0                     q        t                  d                      v   \n",
       "1                     q        s                  d                      v   \n",
       "2                     x        t                  d                      v   \n",
       "3                     x        s                  d                      v   \n",
       "4                     x        s                  d                      v   \n",
       "...                 ...      ...                ...                    ...   \n",
       "260596                j        s                  q                      v   \n",
       "260597                q        s                  d                      v   \n",
       "260598                q        s                  d                      v   \n",
       "260599                s        j                  d                      v   \n",
       "260600                q        j                  d                      v   \n",
       "\n",
       "        count_families  has_secondary_use has_superstructure has_secondary  \n",
       "0                    1                  0         1100000000     000000000  \n",
       "1                    1                  0         0100000000     000000000  \n",
       "2                    1                  0         0100000000     000000000  \n",
       "3                    1                  0         0100001100     000000000  \n",
       "4                    1                  0         1000000000     000000000  \n",
       "...                ...                ...                ...           ...  \n",
       "260596               1                  0         0100000000     000000000  \n",
       "260597               1                  0         0100000000     000000000  \n",
       "260598               1                  0         0100000000     000000000  \n",
       "260599               1                  0         0000010000     000000000  \n",
       "260600               3                  0         0100000000     000000000  \n",
       "\n",
       "[260601 rows x 20 columns]"
      ],
      "text/html": "<div>\n<style scoped>\n    .dataframe tbody tr th:only-of-type {\n        vertical-align: middle;\n    }\n\n    .dataframe tbody tr th {\n        vertical-align: top;\n    }\n\n    .dataframe thead th {\n        text-align: right;\n    }\n</style>\n<table border=\"1\" class=\"dataframe\">\n  <thead>\n    <tr style=\"text-align: right;\">\n      <th></th>\n      <th>building_id</th>\n      <th>geo_level_1_id</th>\n      <th>geo_level_2_id</th>\n      <th>geo_level_3_id</th>\n      <th>count_floors_pre_eq</th>\n      <th>age</th>\n      <th>area_percentage</th>\n      <th>height_percentage</th>\n      <th>land_surface_condition</th>\n      <th>foundation_type</th>\n      <th>roof_type</th>\n      <th>ground_floor_type</th>\n      <th>other_floor_type</th>\n      <th>position</th>\n      <th>plan_configuration</th>\n      <th>legal_ownership_status</th>\n      <th>count_families</th>\n      <th>has_secondary_use</th>\n      <th>has_superstructure</th>\n      <th>has_secondary</th>\n    </tr>\n  </thead>\n  <tbody>\n    <tr>\n      <th>0</th>\n      <td>802906</td>\n      <td>6</td>\n      <td>487</td>\n      <td>12198</td>\n      <td>2</td>\n      <td>30</td>\n      <td>6</td>\n      <td>5</td>\n      <td>t</td>\n      <td>r</td>\n      <td>n</td>\n      <td>f</td>\n      <td>q</td>\n      <td>t</td>\n      <td>d</td>\n      <td>v</td>\n      <td>1</td>\n      <td>0</td>\n      <td>1100000000</td>\n      <td>000000000</td>\n    </tr>\n    <tr>\n      <th>1</th>\n      <td>28830</td>\n      <td>8</td>\n      <td>900</td>\n      <td>2812</td>\n      <td>2</td>\n      <td>10</td>\n      <td>8</td>\n      <td>7</td>\n      <td>o</td>\n      <td>r</td>\n      <td>n</td>\n      <td>x</td>\n      <td>q</td>\n      <td>s</td>\n      <td>d</td>\n      <td>v</td>\n      <td>1</td>\n      <td>0</td>\n      <td>0100000000</td>\n      <td>000000000</td>\n    </tr>\n    <tr>\n      <th>2</th>\n      <td>94947</td>\n      <td>21</td>\n      <td>363</td>\n      <td>8973</td>\n      <td>2</td>\n      <td>10</td>\n      <td>5</td>\n      <td>5</td>\n      <td>t</td>\n      <td>r</td>\n      <td>n</td>\n      <td>f</td>\n      <td>x</td>\n      <td>t</td>\n      <td>d</td>\n      <td>v</td>\n      <td>1</td>\n      <td>0</td>\n      <td>0100000000</td>\n      <td>000000000</td>\n    </tr>\n    <tr>\n      <th>3</th>\n      <td>590882</td>\n      <td>22</td>\n      <td>418</td>\n      <td>10694</td>\n      <td>2</td>\n      <td>10</td>\n      <td>6</td>\n      <td>5</td>\n      <td>t</td>\n      <td>r</td>\n      <td>n</td>\n      <td>f</td>\n      <td>x</td>\n      <td>s</td>\n      <td>d</td>\n      <td>v</td>\n      <td>1</td>\n      <td>0</td>\n      <td>0100001100</td>\n      <td>000000000</td>\n    </tr>\n    <tr>\n      <th>4</th>\n      <td>201944</td>\n      <td>11</td>\n      <td>131</td>\n      <td>1488</td>\n      <td>3</td>\n      <td>30</td>\n      <td>8</td>\n      <td>9</td>\n      <td>t</td>\n      <td>r</td>\n      <td>n</td>\n      <td>f</td>\n      <td>x</td>\n      <td>s</td>\n      <td>d</td>\n      <td>v</td>\n      <td>1</td>\n      <td>0</td>\n      <td>1000000000</td>\n      <td>000000000</td>\n    </tr>\n    <tr>\n      <th>...</th>\n      <td>...</td>\n      <td>...</td>\n      <td>...</td>\n      <td>...</td>\n      <td>...</td>\n      <td>...</td>\n      <td>...</td>\n      <td>...</td>\n      <td>...</td>\n      <td>...</td>\n      <td>...</td>\n      <td>...</td>\n      <td>...</td>\n      <td>...</td>\n      <td>...</td>\n      <td>...</td>\n      <td>...</td>\n      <td>...</td>\n      <td>...</td>\n      <td>...</td>\n    </tr>\n    <tr>\n      <th>260596</th>\n      <td>688636</td>\n      <td>25</td>\n      <td>1335</td>\n      <td>1621</td>\n      <td>1</td>\n      <td>55</td>\n      <td>6</td>\n      <td>3</td>\n      <td>n</td>\n      <td>r</td>\n      <td>n</td>\n      <td>f</td>\n      <td>j</td>\n      <td>s</td>\n      <td>q</td>\n      <td>v</td>\n      <td>1</td>\n      <td>0</td>\n      <td>0100000000</td>\n      <td>000000000</td>\n    </tr>\n    <tr>\n      <th>260597</th>\n      <td>669485</td>\n      <td>17</td>\n      <td>715</td>\n      <td>2060</td>\n      <td>2</td>\n      <td>0</td>\n      <td>6</td>\n      <td>5</td>\n      <td>t</td>\n      <td>r</td>\n      <td>n</td>\n      <td>f</td>\n      <td>q</td>\n      <td>s</td>\n      <td>d</td>\n      <td>v</td>\n      <td>1</td>\n      <td>0</td>\n      <td>0100000000</td>\n      <td>000000000</td>\n    </tr>\n    <tr>\n      <th>260598</th>\n      <td>602512</td>\n      <td>17</td>\n      <td>51</td>\n      <td>8163</td>\n      <td>3</td>\n      <td>55</td>\n      <td>6</td>\n      <td>7</td>\n      <td>t</td>\n      <td>r</td>\n      <td>q</td>\n      <td>f</td>\n      <td>q</td>\n      <td>s</td>\n      <td>d</td>\n      <td>v</td>\n      <td>1</td>\n      <td>0</td>\n      <td>0100000000</td>\n      <td>000000000</td>\n    </tr>\n    <tr>\n      <th>260599</th>\n      <td>151409</td>\n      <td>26</td>\n      <td>39</td>\n      <td>1851</td>\n      <td>2</td>\n      <td>10</td>\n      <td>14</td>\n      <td>6</td>\n      <td>t</td>\n      <td>r</td>\n      <td>x</td>\n      <td>v</td>\n      <td>s</td>\n      <td>j</td>\n      <td>d</td>\n      <td>v</td>\n      <td>1</td>\n      <td>0</td>\n      <td>0000010000</td>\n      <td>000000000</td>\n    </tr>\n    <tr>\n      <th>260600</th>\n      <td>747594</td>\n      <td>21</td>\n      <td>9</td>\n      <td>9101</td>\n      <td>3</td>\n      <td>10</td>\n      <td>7</td>\n      <td>6</td>\n      <td>n</td>\n      <td>r</td>\n      <td>n</td>\n      <td>f</td>\n      <td>q</td>\n      <td>j</td>\n      <td>d</td>\n      <td>v</td>\n      <td>3</td>\n      <td>0</td>\n      <td>0100000000</td>\n      <td>000000000</td>\n    </tr>\n  </tbody>\n</table>\n<p>260601 rows × 20 columns</p>\n</div>"
     },
     "metadata": {},
     "execution_count": 36
    }
   ],
   "source": [
    "# Remove joined columns\n",
    "removed_cols = list(range(15,26)) + list(range(29,39))\n",
    "preprocessed_train = preprocessed_train.drop(columns=preprocessed_train.columns[removed_cols])\n",
    "preprocessed_test = preprocessed_test.drop(columns=preprocessed_test.columns[removed_cols])\n",
    "\n",
    "preprocessed_train"
   ]
  },
  {
   "cell_type": "code",
   "execution_count": 37,
   "metadata": {},
   "outputs": [],
   "source": [
    "# Convert new cols to int\n",
    "# preprocessed_train[\"has_superstructure\"] = preprocessed_train[\"has_superstructure\"].apply(lambda x: int(x,2))\n",
    "# preprocessed_train[\"has_secondary\"] = preprocessed_train[\"has_secondary\"].apply(lambda x: int(x,2))\n",
    "# preprocessed_train"
   ]
  },
  {
   "cell_type": "code",
   "execution_count": 38,
   "metadata": {},
   "outputs": [],
   "source": [
    "# Convert to categorical in order (TODO: KEEP ORIGINAL MAPPING)\n",
    "# MEJOR: Leerlo como factor en R\n",
    "\n",
    "# preprocessed_train.has_secondary = preprocessed_train.has_secondary.astype(\"category\").cat.codes\n",
    "# preprocessed_train.has_superstructure = preprocessed_train.has_superstructure.astype('category').cat.codes\n",
    "\n",
    "# preprocessed_train"
   ]
  },
  {
   "cell_type": "code",
   "execution_count": 39,
   "metadata": {},
   "outputs": [
    {
     "output_type": "execute_result",
     "data": {
      "text/plain": [
       "        geo_level_1_id  geo_level_2_id  geo_level_3_id  count_floors_pre_eq  \\\n",
       "0                    6             487           12198                    2   \n",
       "1                    8             900            2812                    2   \n",
       "2                   21             363            8973                    2   \n",
       "3                   22             418           10694                    2   \n",
       "4                   11             131            1488                    3   \n",
       "...                ...             ...             ...                  ...   \n",
       "260596              25            1335            1621                    1   \n",
       "260597              17             715            2060                    2   \n",
       "260598              17              51            8163                    3   \n",
       "260599              26              39            1851                    2   \n",
       "260600              21               9            9101                    3   \n",
       "\n",
       "        age  area_percentage  height_percentage land_surface_condition  \\\n",
       "0        30                6                  5                      t   \n",
       "1        10                8                  7                      o   \n",
       "2        10                5                  5                      t   \n",
       "3        10                6                  5                      t   \n",
       "4        30                8                  9                      t   \n",
       "...     ...              ...                ...                    ...   \n",
       "260596   55                6                  3                      n   \n",
       "260597    0                6                  5                      t   \n",
       "260598   55                6                  7                      t   \n",
       "260599   10               14                  6                      t   \n",
       "260600   10                7                  6                      n   \n",
       "\n",
       "       foundation_type roof_type ground_floor_type other_floor_type position  \\\n",
       "0                    r         n                 f                q        t   \n",
       "1                    r         n                 x                q        s   \n",
       "2                    r         n                 f                x        t   \n",
       "3                    r         n                 f                x        s   \n",
       "4                    r         n                 f                x        s   \n",
       "...                ...       ...               ...              ...      ...   \n",
       "260596               r         n                 f                j        s   \n",
       "260597               r         n                 f                q        s   \n",
       "260598               r         q                 f                q        s   \n",
       "260599               r         x                 v                s        j   \n",
       "260600               r         n                 f                q        j   \n",
       "\n",
       "       plan_configuration legal_ownership_status  count_families  \\\n",
       "0                       d                      v               1   \n",
       "1                       d                      v               1   \n",
       "2                       d                      v               1   \n",
       "3                       d                      v               1   \n",
       "4                       d                      v               1   \n",
       "...                   ...                    ...             ...   \n",
       "260596                  q                      v               1   \n",
       "260597                  d                      v               1   \n",
       "260598                  d                      v               1   \n",
       "260599                  d                      v               1   \n",
       "260600                  d                      v               3   \n",
       "\n",
       "        has_secondary_use has_superstructure has_secondary  \n",
       "0                       0         1100000000     000000000  \n",
       "1                       0         0100000000     000000000  \n",
       "2                       0         0100000000     000000000  \n",
       "3                       0         0100001100     000000000  \n",
       "4                       0         1000000000     000000000  \n",
       "...                   ...                ...           ...  \n",
       "260596                  0         0100000000     000000000  \n",
       "260597                  0         0100000000     000000000  \n",
       "260598                  0         0100000000     000000000  \n",
       "260599                  0         0000010000     000000000  \n",
       "260600                  0         0100000000     000000000  \n",
       "\n",
       "[260601 rows x 19 columns]"
      ],
      "text/html": "<div>\n<style scoped>\n    .dataframe tbody tr th:only-of-type {\n        vertical-align: middle;\n    }\n\n    .dataframe tbody tr th {\n        vertical-align: top;\n    }\n\n    .dataframe thead th {\n        text-align: right;\n    }\n</style>\n<table border=\"1\" class=\"dataframe\">\n  <thead>\n    <tr style=\"text-align: right;\">\n      <th></th>\n      <th>geo_level_1_id</th>\n      <th>geo_level_2_id</th>\n      <th>geo_level_3_id</th>\n      <th>count_floors_pre_eq</th>\n      <th>age</th>\n      <th>area_percentage</th>\n      <th>height_percentage</th>\n      <th>land_surface_condition</th>\n      <th>foundation_type</th>\n      <th>roof_type</th>\n      <th>ground_floor_type</th>\n      <th>other_floor_type</th>\n      <th>position</th>\n      <th>plan_configuration</th>\n      <th>legal_ownership_status</th>\n      <th>count_families</th>\n      <th>has_secondary_use</th>\n      <th>has_superstructure</th>\n      <th>has_secondary</th>\n    </tr>\n  </thead>\n  <tbody>\n    <tr>\n      <th>0</th>\n      <td>6</td>\n      <td>487</td>\n      <td>12198</td>\n      <td>2</td>\n      <td>30</td>\n      <td>6</td>\n      <td>5</td>\n      <td>t</td>\n      <td>r</td>\n      <td>n</td>\n      <td>f</td>\n      <td>q</td>\n      <td>t</td>\n      <td>d</td>\n      <td>v</td>\n      <td>1</td>\n      <td>0</td>\n      <td>1100000000</td>\n      <td>000000000</td>\n    </tr>\n    <tr>\n      <th>1</th>\n      <td>8</td>\n      <td>900</td>\n      <td>2812</td>\n      <td>2</td>\n      <td>10</td>\n      <td>8</td>\n      <td>7</td>\n      <td>o</td>\n      <td>r</td>\n      <td>n</td>\n      <td>x</td>\n      <td>q</td>\n      <td>s</td>\n      <td>d</td>\n      <td>v</td>\n      <td>1</td>\n      <td>0</td>\n      <td>0100000000</td>\n      <td>000000000</td>\n    </tr>\n    <tr>\n      <th>2</th>\n      <td>21</td>\n      <td>363</td>\n      <td>8973</td>\n      <td>2</td>\n      <td>10</td>\n      <td>5</td>\n      <td>5</td>\n      <td>t</td>\n      <td>r</td>\n      <td>n</td>\n      <td>f</td>\n      <td>x</td>\n      <td>t</td>\n      <td>d</td>\n      <td>v</td>\n      <td>1</td>\n      <td>0</td>\n      <td>0100000000</td>\n      <td>000000000</td>\n    </tr>\n    <tr>\n      <th>3</th>\n      <td>22</td>\n      <td>418</td>\n      <td>10694</td>\n      <td>2</td>\n      <td>10</td>\n      <td>6</td>\n      <td>5</td>\n      <td>t</td>\n      <td>r</td>\n      <td>n</td>\n      <td>f</td>\n      <td>x</td>\n      <td>s</td>\n      <td>d</td>\n      <td>v</td>\n      <td>1</td>\n      <td>0</td>\n      <td>0100001100</td>\n      <td>000000000</td>\n    </tr>\n    <tr>\n      <th>4</th>\n      <td>11</td>\n      <td>131</td>\n      <td>1488</td>\n      <td>3</td>\n      <td>30</td>\n      <td>8</td>\n      <td>9</td>\n      <td>t</td>\n      <td>r</td>\n      <td>n</td>\n      <td>f</td>\n      <td>x</td>\n      <td>s</td>\n      <td>d</td>\n      <td>v</td>\n      <td>1</td>\n      <td>0</td>\n      <td>1000000000</td>\n      <td>000000000</td>\n    </tr>\n    <tr>\n      <th>...</th>\n      <td>...</td>\n      <td>...</td>\n      <td>...</td>\n      <td>...</td>\n      <td>...</td>\n      <td>...</td>\n      <td>...</td>\n      <td>...</td>\n      <td>...</td>\n      <td>...</td>\n      <td>...</td>\n      <td>...</td>\n      <td>...</td>\n      <td>...</td>\n      <td>...</td>\n      <td>...</td>\n      <td>...</td>\n      <td>...</td>\n      <td>...</td>\n    </tr>\n    <tr>\n      <th>260596</th>\n      <td>25</td>\n      <td>1335</td>\n      <td>1621</td>\n      <td>1</td>\n      <td>55</td>\n      <td>6</td>\n      <td>3</td>\n      <td>n</td>\n      <td>r</td>\n      <td>n</td>\n      <td>f</td>\n      <td>j</td>\n      <td>s</td>\n      <td>q</td>\n      <td>v</td>\n      <td>1</td>\n      <td>0</td>\n      <td>0100000000</td>\n      <td>000000000</td>\n    </tr>\n    <tr>\n      <th>260597</th>\n      <td>17</td>\n      <td>715</td>\n      <td>2060</td>\n      <td>2</td>\n      <td>0</td>\n      <td>6</td>\n      <td>5</td>\n      <td>t</td>\n      <td>r</td>\n      <td>n</td>\n      <td>f</td>\n      <td>q</td>\n      <td>s</td>\n      <td>d</td>\n      <td>v</td>\n      <td>1</td>\n      <td>0</td>\n      <td>0100000000</td>\n      <td>000000000</td>\n    </tr>\n    <tr>\n      <th>260598</th>\n      <td>17</td>\n      <td>51</td>\n      <td>8163</td>\n      <td>3</td>\n      <td>55</td>\n      <td>6</td>\n      <td>7</td>\n      <td>t</td>\n      <td>r</td>\n      <td>q</td>\n      <td>f</td>\n      <td>q</td>\n      <td>s</td>\n      <td>d</td>\n      <td>v</td>\n      <td>1</td>\n      <td>0</td>\n      <td>0100000000</td>\n      <td>000000000</td>\n    </tr>\n    <tr>\n      <th>260599</th>\n      <td>26</td>\n      <td>39</td>\n      <td>1851</td>\n      <td>2</td>\n      <td>10</td>\n      <td>14</td>\n      <td>6</td>\n      <td>t</td>\n      <td>r</td>\n      <td>x</td>\n      <td>v</td>\n      <td>s</td>\n      <td>j</td>\n      <td>d</td>\n      <td>v</td>\n      <td>1</td>\n      <td>0</td>\n      <td>0000010000</td>\n      <td>000000000</td>\n    </tr>\n    <tr>\n      <th>260600</th>\n      <td>21</td>\n      <td>9</td>\n      <td>9101</td>\n      <td>3</td>\n      <td>10</td>\n      <td>7</td>\n      <td>6</td>\n      <td>n</td>\n      <td>r</td>\n      <td>n</td>\n      <td>f</td>\n      <td>q</td>\n      <td>j</td>\n      <td>d</td>\n      <td>v</td>\n      <td>3</td>\n      <td>0</td>\n      <td>0100000000</td>\n      <td>000000000</td>\n    </tr>\n  </tbody>\n</table>\n<p>260601 rows × 19 columns</p>\n</div>"
     },
     "metadata": {},
     "execution_count": 39
    }
   ],
   "source": [
    "# No hay duplicados en los ids, se pueden quitar\n",
    "# preprocessed_train.building_id.duplicated\n",
    "\n",
    "preprocessed_train = preprocessed_train.drop(columns=\"building_id\")\n",
    "preprocessed_test = preprocessed_test.drop(columns=\"building_id\")\n",
    "preprocessed_train\n"
   ]
  },
  {
   "cell_type": "code",
   "execution_count": 40,
   "metadata": {},
   "outputs": [
    {
     "output_type": "execute_result",
     "data": {
      "text/plain": [
       "        geo_level_1_id  geo_level_2_id  geo_level_3_id  count_floors_pre_eq  \\\n",
       "0                    6             487           12198                    2   \n",
       "1                    8             900            2812                    2   \n",
       "2                   21             363            8973                    2   \n",
       "3                   22             418           10694                    2   \n",
       "4                   11             131            1488                    3   \n",
       "...                ...             ...             ...                  ...   \n",
       "260596              25            1335            1621                    1   \n",
       "260597              17             715            2060                    2   \n",
       "260598              17              51            8163                    3   \n",
       "260599              26              39            1851                    2   \n",
       "260600              21               9            9101                    3   \n",
       "\n",
       "        age  area_percentage  height_percentage land_surface_condition  \\\n",
       "0        30                6                  5                      t   \n",
       "1        10                8                  7                      o   \n",
       "2        10                5                  5                      t   \n",
       "3        10                6                  5                      t   \n",
       "4        30                8                  9                      t   \n",
       "...     ...              ...                ...                    ...   \n",
       "260596   55                6                  3                      n   \n",
       "260597    0                6                  5                      t   \n",
       "260598   55                6                  7                      t   \n",
       "260599   10               14                  6                      t   \n",
       "260600   10                7                  6                      n   \n",
       "\n",
       "       foundation_type roof_type ground_floor_type other_floor_type position  \\\n",
       "0                    r         n                 f                q        t   \n",
       "1                    r         n                 x                q        s   \n",
       "2                    r         n                 f                x        t   \n",
       "3                    r         n                 f                x        s   \n",
       "4                    r         n                 f                x        s   \n",
       "...                ...       ...               ...              ...      ...   \n",
       "260596               r         n                 f                j        s   \n",
       "260597               r         n                 f                q        s   \n",
       "260598               r         q                 f                q        s   \n",
       "260599               r         x                 v                s        j   \n",
       "260600               r         n                 f                q        j   \n",
       "\n",
       "       plan_configuration legal_ownership_status  count_families  \\\n",
       "0                       d                      v               1   \n",
       "1                       d                      v               1   \n",
       "2                       d                      v               1   \n",
       "3                       d                      v               1   \n",
       "4                       d                      v               1   \n",
       "...                   ...                    ...             ...   \n",
       "260596                  q                      v               1   \n",
       "260597                  d                      v               1   \n",
       "260598                  d                      v               1   \n",
       "260599                  d                      v               1   \n",
       "260600                  d                      v               3   \n",
       "\n",
       "       has_superstructure has_secondary  \n",
       "0              1100000000     000000000  \n",
       "1              0100000000     000000000  \n",
       "2              0100000000     000000000  \n",
       "3              0100001100     000000000  \n",
       "4              1000000000     000000000  \n",
       "...                   ...           ...  \n",
       "260596         0100000000     000000000  \n",
       "260597         0100000000     000000000  \n",
       "260598         0100000000     000000000  \n",
       "260599         0000010000     000000000  \n",
       "260600         0100000000     000000000  \n",
       "\n",
       "[260601 rows x 18 columns]"
      ],
      "text/html": "<div>\n<style scoped>\n    .dataframe tbody tr th:only-of-type {\n        vertical-align: middle;\n    }\n\n    .dataframe tbody tr th {\n        vertical-align: top;\n    }\n\n    .dataframe thead th {\n        text-align: right;\n    }\n</style>\n<table border=\"1\" class=\"dataframe\">\n  <thead>\n    <tr style=\"text-align: right;\">\n      <th></th>\n      <th>geo_level_1_id</th>\n      <th>geo_level_2_id</th>\n      <th>geo_level_3_id</th>\n      <th>count_floors_pre_eq</th>\n      <th>age</th>\n      <th>area_percentage</th>\n      <th>height_percentage</th>\n      <th>land_surface_condition</th>\n      <th>foundation_type</th>\n      <th>roof_type</th>\n      <th>ground_floor_type</th>\n      <th>other_floor_type</th>\n      <th>position</th>\n      <th>plan_configuration</th>\n      <th>legal_ownership_status</th>\n      <th>count_families</th>\n      <th>has_superstructure</th>\n      <th>has_secondary</th>\n    </tr>\n  </thead>\n  <tbody>\n    <tr>\n      <th>0</th>\n      <td>6</td>\n      <td>487</td>\n      <td>12198</td>\n      <td>2</td>\n      <td>30</td>\n      <td>6</td>\n      <td>5</td>\n      <td>t</td>\n      <td>r</td>\n      <td>n</td>\n      <td>f</td>\n      <td>q</td>\n      <td>t</td>\n      <td>d</td>\n      <td>v</td>\n      <td>1</td>\n      <td>1100000000</td>\n      <td>000000000</td>\n    </tr>\n    <tr>\n      <th>1</th>\n      <td>8</td>\n      <td>900</td>\n      <td>2812</td>\n      <td>2</td>\n      <td>10</td>\n      <td>8</td>\n      <td>7</td>\n      <td>o</td>\n      <td>r</td>\n      <td>n</td>\n      <td>x</td>\n      <td>q</td>\n      <td>s</td>\n      <td>d</td>\n      <td>v</td>\n      <td>1</td>\n      <td>0100000000</td>\n      <td>000000000</td>\n    </tr>\n    <tr>\n      <th>2</th>\n      <td>21</td>\n      <td>363</td>\n      <td>8973</td>\n      <td>2</td>\n      <td>10</td>\n      <td>5</td>\n      <td>5</td>\n      <td>t</td>\n      <td>r</td>\n      <td>n</td>\n      <td>f</td>\n      <td>x</td>\n      <td>t</td>\n      <td>d</td>\n      <td>v</td>\n      <td>1</td>\n      <td>0100000000</td>\n      <td>000000000</td>\n    </tr>\n    <tr>\n      <th>3</th>\n      <td>22</td>\n      <td>418</td>\n      <td>10694</td>\n      <td>2</td>\n      <td>10</td>\n      <td>6</td>\n      <td>5</td>\n      <td>t</td>\n      <td>r</td>\n      <td>n</td>\n      <td>f</td>\n      <td>x</td>\n      <td>s</td>\n      <td>d</td>\n      <td>v</td>\n      <td>1</td>\n      <td>0100001100</td>\n      <td>000000000</td>\n    </tr>\n    <tr>\n      <th>4</th>\n      <td>11</td>\n      <td>131</td>\n      <td>1488</td>\n      <td>3</td>\n      <td>30</td>\n      <td>8</td>\n      <td>9</td>\n      <td>t</td>\n      <td>r</td>\n      <td>n</td>\n      <td>f</td>\n      <td>x</td>\n      <td>s</td>\n      <td>d</td>\n      <td>v</td>\n      <td>1</td>\n      <td>1000000000</td>\n      <td>000000000</td>\n    </tr>\n    <tr>\n      <th>...</th>\n      <td>...</td>\n      <td>...</td>\n      <td>...</td>\n      <td>...</td>\n      <td>...</td>\n      <td>...</td>\n      <td>...</td>\n      <td>...</td>\n      <td>...</td>\n      <td>...</td>\n      <td>...</td>\n      <td>...</td>\n      <td>...</td>\n      <td>...</td>\n      <td>...</td>\n      <td>...</td>\n      <td>...</td>\n      <td>...</td>\n    </tr>\n    <tr>\n      <th>260596</th>\n      <td>25</td>\n      <td>1335</td>\n      <td>1621</td>\n      <td>1</td>\n      <td>55</td>\n      <td>6</td>\n      <td>3</td>\n      <td>n</td>\n      <td>r</td>\n      <td>n</td>\n      <td>f</td>\n      <td>j</td>\n      <td>s</td>\n      <td>q</td>\n      <td>v</td>\n      <td>1</td>\n      <td>0100000000</td>\n      <td>000000000</td>\n    </tr>\n    <tr>\n      <th>260597</th>\n      <td>17</td>\n      <td>715</td>\n      <td>2060</td>\n      <td>2</td>\n      <td>0</td>\n      <td>6</td>\n      <td>5</td>\n      <td>t</td>\n      <td>r</td>\n      <td>n</td>\n      <td>f</td>\n      <td>q</td>\n      <td>s</td>\n      <td>d</td>\n      <td>v</td>\n      <td>1</td>\n      <td>0100000000</td>\n      <td>000000000</td>\n    </tr>\n    <tr>\n      <th>260598</th>\n      <td>17</td>\n      <td>51</td>\n      <td>8163</td>\n      <td>3</td>\n      <td>55</td>\n      <td>6</td>\n      <td>7</td>\n      <td>t</td>\n      <td>r</td>\n      <td>q</td>\n      <td>f</td>\n      <td>q</td>\n      <td>s</td>\n      <td>d</td>\n      <td>v</td>\n      <td>1</td>\n      <td>0100000000</td>\n      <td>000000000</td>\n    </tr>\n    <tr>\n      <th>260599</th>\n      <td>26</td>\n      <td>39</td>\n      <td>1851</td>\n      <td>2</td>\n      <td>10</td>\n      <td>14</td>\n      <td>6</td>\n      <td>t</td>\n      <td>r</td>\n      <td>x</td>\n      <td>v</td>\n      <td>s</td>\n      <td>j</td>\n      <td>d</td>\n      <td>v</td>\n      <td>1</td>\n      <td>0000010000</td>\n      <td>000000000</td>\n    </tr>\n    <tr>\n      <th>260600</th>\n      <td>21</td>\n      <td>9</td>\n      <td>9101</td>\n      <td>3</td>\n      <td>10</td>\n      <td>7</td>\n      <td>6</td>\n      <td>n</td>\n      <td>r</td>\n      <td>n</td>\n      <td>f</td>\n      <td>q</td>\n      <td>j</td>\n      <td>d</td>\n      <td>v</td>\n      <td>3</td>\n      <td>0100000000</td>\n      <td>000000000</td>\n    </tr>\n  </tbody>\n</table>\n<p>260601 rows × 18 columns</p>\n</div>"
     },
     "metadata": {},
     "execution_count": 40
    }
   ],
   "source": [
    "# has_secondary_use is enconded in has_secondary, remove it\n",
    "preprocessed_train = preprocessed_train.drop(columns=\"has_secondary_use\")\n",
    "preprocessed_test = preprocessed_test.drop(columns=\"has_secondary_use\")\n",
    "preprocessed_train"
   ]
  },
  {
   "cell_type": "code",
   "execution_count": 41,
   "metadata": {},
   "outputs": [],
   "source": [
    "############################################################################\n",
    "# Preprocesado Nº 2\n",
    "############################################################################\n",
    "\n",
    "# Quitamos geo_2 y geo_3. Tienen demasiadas categorías diferentes para los árboles,\n",
    "# y no se solapan\n",
    "preprocessed_train = preprocessed_train.drop(columns=[\"geo_level_2_id\",\"geo_level_3_id\"])\n",
    "preprocessed_test = preprocessed_test.drop(columns=[\"geo_level_2_id\",\"geo_level_3_id\"])\n",
    "\n",
    "\n",
    "# En estas dos predomina (+85%) una clase y el resto no sirve para determinar\n",
    "# ninguna etiqueta (se mantiene la proporción o las 3 están representadas)\n",
    "preprocessed_train = preprocessed_train.drop(columns=[\"plan_configuration\",\"legal_ownership_status\"])\n",
    "preprocessed_test = preprocessed_test.drop(columns=[\"plan_configuration\",\"legal_ownership_status\"])"
   ]
  },
  {
   "cell_type": "code",
   "execution_count": 47,
   "metadata": {},
   "outputs": [
    {
     "output_type": "error",
     "ename": "KeyError",
     "evalue": "\"['height_percentage'] not found in axis\"",
     "traceback": [
      "\u001b[1;31m---------------------------------------------------------------------------\u001b[0m",
      "\u001b[1;31mKeyError\u001b[0m                                  Traceback (most recent call last)",
      "\u001b[1;32m<ipython-input-47-39a24b124484>\u001b[0m in \u001b[0;36m<module>\u001b[1;34m\u001b[0m\n\u001b[0;32m      6\u001b[0m \u001b[1;33m\u001b[0m\u001b[0m\n\u001b[0;32m      7\u001b[0m \u001b[1;31m# No nos interesan variables numéricas en los árboles, acabarían discretizándose\u001b[0m\u001b[1;33m\u001b[0m\u001b[1;33m\u001b[0m\u001b[1;33m\u001b[0m\u001b[0m\n\u001b[1;32m----> 8\u001b[1;33m \u001b[0mpreprocessed_train\u001b[0m \u001b[1;33m=\u001b[0m \u001b[0mpreprocessed_train\u001b[0m\u001b[1;33m.\u001b[0m\u001b[0mdrop\u001b[0m\u001b[1;33m(\u001b[0m\u001b[0mcolumns\u001b[0m\u001b[1;33m=\u001b[0m\u001b[1;33m[\u001b[0m\u001b[1;34m\"height_percentage\"\u001b[0m\u001b[1;33m]\u001b[0m\u001b[1;33m)\u001b[0m\u001b[1;33m\u001b[0m\u001b[1;33m\u001b[0m\u001b[0m\n\u001b[0m\u001b[0;32m      9\u001b[0m \u001b[0mpreprocessed_test\u001b[0m \u001b[1;33m=\u001b[0m \u001b[0mpreprocessed_test\u001b[0m\u001b[1;33m.\u001b[0m\u001b[0mdrop\u001b[0m\u001b[1;33m(\u001b[0m\u001b[0mcolumns\u001b[0m\u001b[1;33m=\u001b[0m\u001b[1;33m[\u001b[0m\u001b[1;34m\"height_percentage\"\u001b[0m\u001b[1;33m]\u001b[0m\u001b[1;33m)\u001b[0m\u001b[1;33m\u001b[0m\u001b[1;33m\u001b[0m\u001b[0m\n",
      "\u001b[1;32mE:\\Users\\Nacho\\anaconda3\\lib\\site-packages\\pandas\\core\\frame.py\u001b[0m in \u001b[0;36mdrop\u001b[1;34m(self, labels, axis, index, columns, level, inplace, errors)\u001b[0m\n\u001b[0;32m   4161\u001b[0m                 \u001b[0mweight\u001b[0m  \u001b[1;36m1.0\u001b[0m     \u001b[1;36m0.8\u001b[0m\u001b[1;33m\u001b[0m\u001b[1;33m\u001b[0m\u001b[0m\n\u001b[0;32m   4162\u001b[0m         \"\"\"\n\u001b[1;32m-> 4163\u001b[1;33m         return super().drop(\n\u001b[0m\u001b[0;32m   4164\u001b[0m             \u001b[0mlabels\u001b[0m\u001b[1;33m=\u001b[0m\u001b[0mlabels\u001b[0m\u001b[1;33m,\u001b[0m\u001b[1;33m\u001b[0m\u001b[1;33m\u001b[0m\u001b[0m\n\u001b[0;32m   4165\u001b[0m             \u001b[0maxis\u001b[0m\u001b[1;33m=\u001b[0m\u001b[0maxis\u001b[0m\u001b[1;33m,\u001b[0m\u001b[1;33m\u001b[0m\u001b[1;33m\u001b[0m\u001b[0m\n",
      "\u001b[1;32mE:\\Users\\Nacho\\anaconda3\\lib\\site-packages\\pandas\\core\\generic.py\u001b[0m in \u001b[0;36mdrop\u001b[1;34m(self, labels, axis, index, columns, level, inplace, errors)\u001b[0m\n\u001b[0;32m   3885\u001b[0m         \u001b[1;32mfor\u001b[0m \u001b[0maxis\u001b[0m\u001b[1;33m,\u001b[0m \u001b[0mlabels\u001b[0m \u001b[1;32min\u001b[0m \u001b[0maxes\u001b[0m\u001b[1;33m.\u001b[0m\u001b[0mitems\u001b[0m\u001b[1;33m(\u001b[0m\u001b[1;33m)\u001b[0m\u001b[1;33m:\u001b[0m\u001b[1;33m\u001b[0m\u001b[1;33m\u001b[0m\u001b[0m\n\u001b[0;32m   3886\u001b[0m             \u001b[1;32mif\u001b[0m \u001b[0mlabels\u001b[0m \u001b[1;32mis\u001b[0m \u001b[1;32mnot\u001b[0m \u001b[1;32mNone\u001b[0m\u001b[1;33m:\u001b[0m\u001b[1;33m\u001b[0m\u001b[1;33m\u001b[0m\u001b[0m\n\u001b[1;32m-> 3887\u001b[1;33m                 \u001b[0mobj\u001b[0m \u001b[1;33m=\u001b[0m \u001b[0mobj\u001b[0m\u001b[1;33m.\u001b[0m\u001b[0m_drop_axis\u001b[0m\u001b[1;33m(\u001b[0m\u001b[0mlabels\u001b[0m\u001b[1;33m,\u001b[0m \u001b[0maxis\u001b[0m\u001b[1;33m,\u001b[0m \u001b[0mlevel\u001b[0m\u001b[1;33m=\u001b[0m\u001b[0mlevel\u001b[0m\u001b[1;33m,\u001b[0m \u001b[0merrors\u001b[0m\u001b[1;33m=\u001b[0m\u001b[0merrors\u001b[0m\u001b[1;33m)\u001b[0m\u001b[1;33m\u001b[0m\u001b[1;33m\u001b[0m\u001b[0m\n\u001b[0m\u001b[0;32m   3888\u001b[0m \u001b[1;33m\u001b[0m\u001b[0m\n\u001b[0;32m   3889\u001b[0m         \u001b[1;32mif\u001b[0m \u001b[0minplace\u001b[0m\u001b[1;33m:\u001b[0m\u001b[1;33m\u001b[0m\u001b[1;33m\u001b[0m\u001b[0m\n",
      "\u001b[1;32mE:\\Users\\Nacho\\anaconda3\\lib\\site-packages\\pandas\\core\\generic.py\u001b[0m in \u001b[0;36m_drop_axis\u001b[1;34m(self, labels, axis, level, errors)\u001b[0m\n\u001b[0;32m   3919\u001b[0m                 \u001b[0mnew_axis\u001b[0m \u001b[1;33m=\u001b[0m \u001b[0maxis\u001b[0m\u001b[1;33m.\u001b[0m\u001b[0mdrop\u001b[0m\u001b[1;33m(\u001b[0m\u001b[0mlabels\u001b[0m\u001b[1;33m,\u001b[0m \u001b[0mlevel\u001b[0m\u001b[1;33m=\u001b[0m\u001b[0mlevel\u001b[0m\u001b[1;33m,\u001b[0m \u001b[0merrors\u001b[0m\u001b[1;33m=\u001b[0m\u001b[0merrors\u001b[0m\u001b[1;33m)\u001b[0m\u001b[1;33m\u001b[0m\u001b[1;33m\u001b[0m\u001b[0m\n\u001b[0;32m   3920\u001b[0m             \u001b[1;32melse\u001b[0m\u001b[1;33m:\u001b[0m\u001b[1;33m\u001b[0m\u001b[1;33m\u001b[0m\u001b[0m\n\u001b[1;32m-> 3921\u001b[1;33m                 \u001b[0mnew_axis\u001b[0m \u001b[1;33m=\u001b[0m \u001b[0maxis\u001b[0m\u001b[1;33m.\u001b[0m\u001b[0mdrop\u001b[0m\u001b[1;33m(\u001b[0m\u001b[0mlabels\u001b[0m\u001b[1;33m,\u001b[0m \u001b[0merrors\u001b[0m\u001b[1;33m=\u001b[0m\u001b[0merrors\u001b[0m\u001b[1;33m)\u001b[0m\u001b[1;33m\u001b[0m\u001b[1;33m\u001b[0m\u001b[0m\n\u001b[0m\u001b[0;32m   3922\u001b[0m             \u001b[0mresult\u001b[0m \u001b[1;33m=\u001b[0m \u001b[0mself\u001b[0m\u001b[1;33m.\u001b[0m\u001b[0mreindex\u001b[0m\u001b[1;33m(\u001b[0m\u001b[1;33m**\u001b[0m\u001b[1;33m{\u001b[0m\u001b[0maxis_name\u001b[0m\u001b[1;33m:\u001b[0m \u001b[0mnew_axis\u001b[0m\u001b[1;33m}\u001b[0m\u001b[1;33m)\u001b[0m\u001b[1;33m\u001b[0m\u001b[1;33m\u001b[0m\u001b[0m\n\u001b[0;32m   3923\u001b[0m \u001b[1;33m\u001b[0m\u001b[0m\n",
      "\u001b[1;32mE:\\Users\\Nacho\\anaconda3\\lib\\site-packages\\pandas\\core\\indexes\\base.py\u001b[0m in \u001b[0;36mdrop\u001b[1;34m(self, labels, errors)\u001b[0m\n\u001b[0;32m   5280\u001b[0m         \u001b[1;32mif\u001b[0m \u001b[0mmask\u001b[0m\u001b[1;33m.\u001b[0m\u001b[0many\u001b[0m\u001b[1;33m(\u001b[0m\u001b[1;33m)\u001b[0m\u001b[1;33m:\u001b[0m\u001b[1;33m\u001b[0m\u001b[1;33m\u001b[0m\u001b[0m\n\u001b[0;32m   5281\u001b[0m             \u001b[1;32mif\u001b[0m \u001b[0merrors\u001b[0m \u001b[1;33m!=\u001b[0m \u001b[1;34m\"ignore\"\u001b[0m\u001b[1;33m:\u001b[0m\u001b[1;33m\u001b[0m\u001b[1;33m\u001b[0m\u001b[0m\n\u001b[1;32m-> 5282\u001b[1;33m                 \u001b[1;32mraise\u001b[0m \u001b[0mKeyError\u001b[0m\u001b[1;33m(\u001b[0m\u001b[1;34mf\"{labels[mask]} not found in axis\"\u001b[0m\u001b[1;33m)\u001b[0m\u001b[1;33m\u001b[0m\u001b[1;33m\u001b[0m\u001b[0m\n\u001b[0m\u001b[0;32m   5283\u001b[0m             \u001b[0mindexer\u001b[0m \u001b[1;33m=\u001b[0m \u001b[0mindexer\u001b[0m\u001b[1;33m[\u001b[0m\u001b[1;33m~\u001b[0m\u001b[0mmask\u001b[0m\u001b[1;33m]\u001b[0m\u001b[1;33m\u001b[0m\u001b[1;33m\u001b[0m\u001b[0m\n\u001b[0;32m   5284\u001b[0m         \u001b[1;32mreturn\u001b[0m \u001b[0mself\u001b[0m\u001b[1;33m.\u001b[0m\u001b[0mdelete\u001b[0m\u001b[1;33m(\u001b[0m\u001b[0mindexer\u001b[0m\u001b[1;33m)\u001b[0m\u001b[1;33m\u001b[0m\u001b[1;33m\u001b[0m\u001b[0m\n",
      "\u001b[1;31mKeyError\u001b[0m: \"['height_percentage'] not found in axis\""
     ]
    }
   ],
   "source": [
    "# Altura y nº de plantas altamente correladas, categorizamos nº de plantas y quitamos altura\n",
    "# Solo una instancia con 9 plantas, y las anteriores no siguen el mismo patrón (que todas sufrieran el mismo tipo de daño)\n",
    "# Como tenemos proporciones muy similares, juntamos las +5 con ella\n",
    "preprocessed_train[\"count_floors_pre_eq\"] = preprocessed_train[\"count_floors_pre_eq\"].replace({6:5, 7:5, 8:5, 9:5})\n",
    "preprocessed_test[\"count_floors_pre_eq\"] = preprocessed_test[\"count_floors_pre_eq\"].replace({6:5, 7:5, 8:5, 9:5})\n",
    "\n",
    "# No nos interesan variables numéricas en los árboles, acabarían discretizándose\n",
    "preprocessed_train = preprocessed_train.drop(columns=[\"height_percentage\"])\n",
    "preprocessed_test = preprocessed_test.drop(columns=[\"height_percentage\"])\n"
   ]
  },
  {
   "cell_type": "code",
   "execution_count": 48,
   "metadata": {},
   "outputs": [
    {
     "output_type": "execute_result",
     "data": {
      "text/plain": [
       "array([2, 3, 1, 4, 5], dtype=int64)"
      ]
     },
     "metadata": {},
     "execution_count": 48
    }
   ],
   "source": [
    "pd.unique(preprocessed_train.count_floors_pre_eq)"
   ]
  },
  {
   "source": [
    "################################################################################\n",
    "# Write data\n",
    "################################################################################\n",
    "preprocessed_train.to_csv(\"data/preprocessed_train.csv\", index=False)\n",
    "preprocessed_test.to_csv(\"data/preprocessed_test.csv\", index=False)"
   ],
   "cell_type": "code",
   "metadata": {},
   "execution_count": 44,
   "outputs": []
  }
 ]
}