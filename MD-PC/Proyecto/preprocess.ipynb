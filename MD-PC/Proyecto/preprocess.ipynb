{
 "metadata": {
  "language_info": {
   "codemirror_mode": {
    "name": "ipython",
    "version": 3
   },
   "file_extension": ".py",
   "mimetype": "text/x-python",
   "name": "python",
   "nbconvert_exporter": "python",
   "pygments_lexer": "ipython3",
   "version": "3.8.5-final"
  },
  "orig_nbformat": 2,
  "kernelspec": {
   "name": "python3",
   "display_name": "Python 3.8.5 64-bit (conda)",
   "metadata": {
    "interpreter": {
     "hash": "7489139fadedff3b08012098ca2abd2058b255578d7205af55c55f231e9a91e1"
    }
   }
  }
 },
 "nbformat": 4,
 "nbformat_minor": 2,
 "cells": [
  {
   "source": [
    "Preprocesamiento\n",
    "- No hace falta estandarizar, no estaría tampoco mal\n",
    "- Agrupar las binarias (has..) en grupos\n",
    "  - has_secondary_use (hay que añadir más para las combinaciones)\n",
    "  - has_superstructure\n",
    "- geo_level3 o 2 quizás se puedan agrupar en intervalos\n",
    "- Pasar las categóricas a números ? En sí las letras no tienen significado\n",
    "- Quizás agrupar la edad en intervalos\n",
    "- Ver qué hacer con las duplicadas\n",
    "- Los árboles son robustos al ruido, así que las variables extremadamente \n",
    "desbalanceadas no deberían hacer mucho daño. Considerar si quitar o no según el\n",
    "coste computacional que haya en principio.\n",
    "- Age de 995 mantenerlo, a ver si el árbol consigue algo del estilo if age>200 ...\n",
    "\n",
    "- Quizá la distancia, al ser datos del mismo terremoto sea muy relevante. \n",
    "Se podría reflejar en una combinación de las has_structure y geom_ids \n",
    "(el epicentro estaría por unos valores concretos de geom_id)"
   ],
   "cell_type": "markdown",
   "metadata": {}
  },
  {
   "cell_type": "code",
   "execution_count": 1,
   "metadata": {},
   "outputs": [],
   "source": [
    "################################################################################\n",
    "# Libraries\n",
    "################################################################################\n",
    "\n",
    "import random\n",
    "\n",
    "import pandas as pd\n",
    "import numpy as np\n",
    "# import matplotlib.pyplot as plt\n",
    "# import seaborn as sns\n",
    "\n",
    "# Preprocesamiento\n",
    "# from sklearn.preprocessing import Normalizer\n",
    "# from sklearn.model_selection import train_test_split\n",
    "# from sklearn.decomposition import PCA\n",
    "from imblearn.under_sampling import EditedNearestNeighbours, TomekLinks, CondensedNearestNeighbour\n",
    "from sklearn.preprocessing import OneHotEncoder, LabelEncoder"
   ]
  },
  {
   "cell_type": "code",
   "execution_count": 2,
   "metadata": {},
   "outputs": [],
   "source": [
    "################################################################################\n",
    "# Load data\n",
    "################################################################################\n",
    "\n",
    "train_values = pd.read_csv(\"data/train_values.csv\")\n",
    "test_values  = pd.read_csv(\"data/test_values.csv\")\n",
    "train_labels = pd.read_csv(\"data/train_labels.csv\")\n",
    "\n",
    "preprocessed_train = train_values\n",
    "preprocessed_test = test_values\n"
   ]
  },
  {
   "cell_type": "code",
   "execution_count": 3,
   "metadata": {},
   "outputs": [
    {
     "output_type": "execute_result",
     "data": {
      "text/plain": [
       "0          6\n",
       "1          8\n",
       "2         21\n",
       "3         22\n",
       "4         11\n",
       "          ..\n",
       "260596    25\n",
       "260597    17\n",
       "260598    17\n",
       "260599    26\n",
       "260600    21\n",
       "Name: geo_level_1_id, Length: 260601, dtype: int64"
      ]
     },
     "metadata": {},
     "execution_count": 3
    }
   ],
   "source": [
    "train_values[\"geo_level_1_id\"]"
   ]
  },
  {
   "source": [
    "preprocessed_train"
   ],
   "cell_type": "code",
   "metadata": {},
   "execution_count": 4,
   "outputs": [
    {
     "output_type": "execute_result",
     "data": {
      "text/plain": [
       "        building_id  geo_level_1_id  geo_level_2_id  geo_level_3_id  \\\n",
       "0            802906               6             487           12198   \n",
       "1             28830               8             900            2812   \n",
       "2             94947              21             363            8973   \n",
       "3            590882              22             418           10694   \n",
       "4            201944              11             131            1488   \n",
       "...             ...             ...             ...             ...   \n",
       "260596       688636              25            1335            1621   \n",
       "260597       669485              17             715            2060   \n",
       "260598       602512              17              51            8163   \n",
       "260599       151409              26              39            1851   \n",
       "260600       747594              21               9            9101   \n",
       "\n",
       "        count_floors_pre_eq  age  area_percentage  height_percentage  \\\n",
       "0                         2   30                6                  5   \n",
       "1                         2   10                8                  7   \n",
       "2                         2   10                5                  5   \n",
       "3                         2   10                6                  5   \n",
       "4                         3   30                8                  9   \n",
       "...                     ...  ...              ...                ...   \n",
       "260596                    1   55                6                  3   \n",
       "260597                    2    0                6                  5   \n",
       "260598                    3   55                6                  7   \n",
       "260599                    2   10               14                  6   \n",
       "260600                    3   10                7                  6   \n",
       "\n",
       "       land_surface_condition foundation_type  ...  \\\n",
       "0                           t               r  ...   \n",
       "1                           o               r  ...   \n",
       "2                           t               r  ...   \n",
       "3                           t               r  ...   \n",
       "4                           t               r  ...   \n",
       "...                       ...             ...  ...   \n",
       "260596                      n               r  ...   \n",
       "260597                      t               r  ...   \n",
       "260598                      t               r  ...   \n",
       "260599                      t               r  ...   \n",
       "260600                      n               r  ...   \n",
       "\n",
       "       has_secondary_use_agriculture has_secondary_use_hotel  \\\n",
       "0                                  0                       0   \n",
       "1                                  0                       0   \n",
       "2                                  0                       0   \n",
       "3                                  0                       0   \n",
       "4                                  0                       0   \n",
       "...                              ...                     ...   \n",
       "260596                             0                       0   \n",
       "260597                             0                       0   \n",
       "260598                             0                       0   \n",
       "260599                             0                       0   \n",
       "260600                             0                       0   \n",
       "\n",
       "       has_secondary_use_rental has_secondary_use_institution  \\\n",
       "0                             0                             0   \n",
       "1                             0                             0   \n",
       "2                             0                             0   \n",
       "3                             0                             0   \n",
       "4                             0                             0   \n",
       "...                         ...                           ...   \n",
       "260596                        0                             0   \n",
       "260597                        0                             0   \n",
       "260598                        0                             0   \n",
       "260599                        0                             0   \n",
       "260600                        0                             0   \n",
       "\n",
       "       has_secondary_use_school  has_secondary_use_industry  \\\n",
       "0                             0                           0   \n",
       "1                             0                           0   \n",
       "2                             0                           0   \n",
       "3                             0                           0   \n",
       "4                             0                           0   \n",
       "...                         ...                         ...   \n",
       "260596                        0                           0   \n",
       "260597                        0                           0   \n",
       "260598                        0                           0   \n",
       "260599                        0                           0   \n",
       "260600                        0                           0   \n",
       "\n",
       "        has_secondary_use_health_post  has_secondary_use_gov_office  \\\n",
       "0                                   0                             0   \n",
       "1                                   0                             0   \n",
       "2                                   0                             0   \n",
       "3                                   0                             0   \n",
       "4                                   0                             0   \n",
       "...                               ...                           ...   \n",
       "260596                              0                             0   \n",
       "260597                              0                             0   \n",
       "260598                              0                             0   \n",
       "260599                              0                             0   \n",
       "260600                              0                             0   \n",
       "\n",
       "        has_secondary_use_use_police  has_secondary_use_other  \n",
       "0                                  0                        0  \n",
       "1                                  0                        0  \n",
       "2                                  0                        0  \n",
       "3                                  0                        0  \n",
       "4                                  0                        0  \n",
       "...                              ...                      ...  \n",
       "260596                             0                        0  \n",
       "260597                             0                        0  \n",
       "260598                             0                        0  \n",
       "260599                             0                        0  \n",
       "260600                             0                        0  \n",
       "\n",
       "[260601 rows x 39 columns]"
      ],
      "text/html": "<div>\n<style scoped>\n    .dataframe tbody tr th:only-of-type {\n        vertical-align: middle;\n    }\n\n    .dataframe tbody tr th {\n        vertical-align: top;\n    }\n\n    .dataframe thead th {\n        text-align: right;\n    }\n</style>\n<table border=\"1\" class=\"dataframe\">\n  <thead>\n    <tr style=\"text-align: right;\">\n      <th></th>\n      <th>building_id</th>\n      <th>geo_level_1_id</th>\n      <th>geo_level_2_id</th>\n      <th>geo_level_3_id</th>\n      <th>count_floors_pre_eq</th>\n      <th>age</th>\n      <th>area_percentage</th>\n      <th>height_percentage</th>\n      <th>land_surface_condition</th>\n      <th>foundation_type</th>\n      <th>...</th>\n      <th>has_secondary_use_agriculture</th>\n      <th>has_secondary_use_hotel</th>\n      <th>has_secondary_use_rental</th>\n      <th>has_secondary_use_institution</th>\n      <th>has_secondary_use_school</th>\n      <th>has_secondary_use_industry</th>\n      <th>has_secondary_use_health_post</th>\n      <th>has_secondary_use_gov_office</th>\n      <th>has_secondary_use_use_police</th>\n      <th>has_secondary_use_other</th>\n    </tr>\n  </thead>\n  <tbody>\n    <tr>\n      <th>0</th>\n      <td>802906</td>\n      <td>6</td>\n      <td>487</td>\n      <td>12198</td>\n      <td>2</td>\n      <td>30</td>\n      <td>6</td>\n      <td>5</td>\n      <td>t</td>\n      <td>r</td>\n      <td>...</td>\n      <td>0</td>\n      <td>0</td>\n      <td>0</td>\n      <td>0</td>\n      <td>0</td>\n      <td>0</td>\n      <td>0</td>\n      <td>0</td>\n      <td>0</td>\n      <td>0</td>\n    </tr>\n    <tr>\n      <th>1</th>\n      <td>28830</td>\n      <td>8</td>\n      <td>900</td>\n      <td>2812</td>\n      <td>2</td>\n      <td>10</td>\n      <td>8</td>\n      <td>7</td>\n      <td>o</td>\n      <td>r</td>\n      <td>...</td>\n      <td>0</td>\n      <td>0</td>\n      <td>0</td>\n      <td>0</td>\n      <td>0</td>\n      <td>0</td>\n      <td>0</td>\n      <td>0</td>\n      <td>0</td>\n      <td>0</td>\n    </tr>\n    <tr>\n      <th>2</th>\n      <td>94947</td>\n      <td>21</td>\n      <td>363</td>\n      <td>8973</td>\n      <td>2</td>\n      <td>10</td>\n      <td>5</td>\n      <td>5</td>\n      <td>t</td>\n      <td>r</td>\n      <td>...</td>\n      <td>0</td>\n      <td>0</td>\n      <td>0</td>\n      <td>0</td>\n      <td>0</td>\n      <td>0</td>\n      <td>0</td>\n      <td>0</td>\n      <td>0</td>\n      <td>0</td>\n    </tr>\n    <tr>\n      <th>3</th>\n      <td>590882</td>\n      <td>22</td>\n      <td>418</td>\n      <td>10694</td>\n      <td>2</td>\n      <td>10</td>\n      <td>6</td>\n      <td>5</td>\n      <td>t</td>\n      <td>r</td>\n      <td>...</td>\n      <td>0</td>\n      <td>0</td>\n      <td>0</td>\n      <td>0</td>\n      <td>0</td>\n      <td>0</td>\n      <td>0</td>\n      <td>0</td>\n      <td>0</td>\n      <td>0</td>\n    </tr>\n    <tr>\n      <th>4</th>\n      <td>201944</td>\n      <td>11</td>\n      <td>131</td>\n      <td>1488</td>\n      <td>3</td>\n      <td>30</td>\n      <td>8</td>\n      <td>9</td>\n      <td>t</td>\n      <td>r</td>\n      <td>...</td>\n      <td>0</td>\n      <td>0</td>\n      <td>0</td>\n      <td>0</td>\n      <td>0</td>\n      <td>0</td>\n      <td>0</td>\n      <td>0</td>\n      <td>0</td>\n      <td>0</td>\n    </tr>\n    <tr>\n      <th>...</th>\n      <td>...</td>\n      <td>...</td>\n      <td>...</td>\n      <td>...</td>\n      <td>...</td>\n      <td>...</td>\n      <td>...</td>\n      <td>...</td>\n      <td>...</td>\n      <td>...</td>\n      <td>...</td>\n      <td>...</td>\n      <td>...</td>\n      <td>...</td>\n      <td>...</td>\n      <td>...</td>\n      <td>...</td>\n      <td>...</td>\n      <td>...</td>\n      <td>...</td>\n      <td>...</td>\n    </tr>\n    <tr>\n      <th>260596</th>\n      <td>688636</td>\n      <td>25</td>\n      <td>1335</td>\n      <td>1621</td>\n      <td>1</td>\n      <td>55</td>\n      <td>6</td>\n      <td>3</td>\n      <td>n</td>\n      <td>r</td>\n      <td>...</td>\n      <td>0</td>\n      <td>0</td>\n      <td>0</td>\n      <td>0</td>\n      <td>0</td>\n      <td>0</td>\n      <td>0</td>\n      <td>0</td>\n      <td>0</td>\n      <td>0</td>\n    </tr>\n    <tr>\n      <th>260597</th>\n      <td>669485</td>\n      <td>17</td>\n      <td>715</td>\n      <td>2060</td>\n      <td>2</td>\n      <td>0</td>\n      <td>6</td>\n      <td>5</td>\n      <td>t</td>\n      <td>r</td>\n      <td>...</td>\n      <td>0</td>\n      <td>0</td>\n      <td>0</td>\n      <td>0</td>\n      <td>0</td>\n      <td>0</td>\n      <td>0</td>\n      <td>0</td>\n      <td>0</td>\n      <td>0</td>\n    </tr>\n    <tr>\n      <th>260598</th>\n      <td>602512</td>\n      <td>17</td>\n      <td>51</td>\n      <td>8163</td>\n      <td>3</td>\n      <td>55</td>\n      <td>6</td>\n      <td>7</td>\n      <td>t</td>\n      <td>r</td>\n      <td>...</td>\n      <td>0</td>\n      <td>0</td>\n      <td>0</td>\n      <td>0</td>\n      <td>0</td>\n      <td>0</td>\n      <td>0</td>\n      <td>0</td>\n      <td>0</td>\n      <td>0</td>\n    </tr>\n    <tr>\n      <th>260599</th>\n      <td>151409</td>\n      <td>26</td>\n      <td>39</td>\n      <td>1851</td>\n      <td>2</td>\n      <td>10</td>\n      <td>14</td>\n      <td>6</td>\n      <td>t</td>\n      <td>r</td>\n      <td>...</td>\n      <td>0</td>\n      <td>0</td>\n      <td>0</td>\n      <td>0</td>\n      <td>0</td>\n      <td>0</td>\n      <td>0</td>\n      <td>0</td>\n      <td>0</td>\n      <td>0</td>\n    </tr>\n    <tr>\n      <th>260600</th>\n      <td>747594</td>\n      <td>21</td>\n      <td>9</td>\n      <td>9101</td>\n      <td>3</td>\n      <td>10</td>\n      <td>7</td>\n      <td>6</td>\n      <td>n</td>\n      <td>r</td>\n      <td>...</td>\n      <td>0</td>\n      <td>0</td>\n      <td>0</td>\n      <td>0</td>\n      <td>0</td>\n      <td>0</td>\n      <td>0</td>\n      <td>0</td>\n      <td>0</td>\n      <td>0</td>\n    </tr>\n  </tbody>\n</table>\n<p>260601 rows × 39 columns</p>\n</div>"
     },
     "metadata": {},
     "execution_count": 4
    }
   ]
  },
  {
   "cell_type": "code",
   "execution_count": 5,
   "metadata": {},
   "outputs": [
    {
     "output_type": "stream",
     "name": "stdout",
     "text": [
      "0 building_id\n1 geo_level_1_id\n2 geo_level_2_id\n3 geo_level_3_id\n4 count_floors_pre_eq\n5 age\n6 area_percentage\n7 height_percentage\n8 land_surface_condition\n9 foundation_type\n10 roof_type\n11 ground_floor_type\n12 other_floor_type\n13 position\n14 plan_configuration\n15 has_superstructure_adobe_mud\n16 has_superstructure_mud_mortar_stone\n17 has_superstructure_stone_flag\n18 has_superstructure_cement_mortar_stone\n19 has_superstructure_mud_mortar_brick\n20 has_superstructure_cement_mortar_brick\n21 has_superstructure_timber\n22 has_superstructure_bamboo\n23 has_superstructure_rc_non_engineered\n24 has_superstructure_rc_engineered\n25 has_superstructure_other\n26 legal_ownership_status\n27 count_families\n28 has_secondary_use\n29 has_secondary_use_agriculture\n30 has_secondary_use_hotel\n31 has_secondary_use_rental\n32 has_secondary_use_institution\n33 has_secondary_use_school\n34 has_secondary_use_industry\n35 has_secondary_use_health_post\n36 has_secondary_use_gov_office\n37 has_secondary_use_use_police\n38 has_secondary_use_other\n"
     ]
    }
   ],
   "source": [
    "for i,c in enumerate(preprocessed_train.columns):\n",
    "    print(i, c)"
   ]
  },
  {
   "source": [
    "Join columns\n",
    "- 15...25 (has superstructure) (they are not dummy variables, use combination)\n",
    "- 29...38 (has sencondary use) (probably dummy variables)\n",
    "\n",
    "Remove 28, not needed\n",
    "\n",
    "Reorder numerics next to numerics"
   ],
   "cell_type": "markdown",
   "metadata": {}
  },
  {
   "cell_type": "code",
   "execution_count": 6,
   "metadata": {},
   "outputs": [
    {
     "output_type": "execute_result",
     "data": {
      "text/plain": [
       "        has_superstructure_adobe_mud  has_superstructure_stone_flag\n",
       "0                                  1                              0\n",
       "1                                  0                              0\n",
       "2                                  0                              0\n",
       "3                                  0                              0\n",
       "4                                  1                              0\n",
       "...                              ...                            ...\n",
       "260596                             0                              0\n",
       "260597                             0                              0\n",
       "260598                             0                              0\n",
       "260599                             0                              0\n",
       "260600                             0                              0\n",
       "\n",
       "[260601 rows x 2 columns]"
      ],
      "text/html": "<div>\n<style scoped>\n    .dataframe tbody tr th:only-of-type {\n        vertical-align: middle;\n    }\n\n    .dataframe tbody tr th {\n        vertical-align: top;\n    }\n\n    .dataframe thead th {\n        text-align: right;\n    }\n</style>\n<table border=\"1\" class=\"dataframe\">\n  <thead>\n    <tr style=\"text-align: right;\">\n      <th></th>\n      <th>has_superstructure_adobe_mud</th>\n      <th>has_superstructure_stone_flag</th>\n    </tr>\n  </thead>\n  <tbody>\n    <tr>\n      <th>0</th>\n      <td>1</td>\n      <td>0</td>\n    </tr>\n    <tr>\n      <th>1</th>\n      <td>0</td>\n      <td>0</td>\n    </tr>\n    <tr>\n      <th>2</th>\n      <td>0</td>\n      <td>0</td>\n    </tr>\n    <tr>\n      <th>3</th>\n      <td>0</td>\n      <td>0</td>\n    </tr>\n    <tr>\n      <th>4</th>\n      <td>1</td>\n      <td>0</td>\n    </tr>\n    <tr>\n      <th>...</th>\n      <td>...</td>\n      <td>...</td>\n    </tr>\n    <tr>\n      <th>260596</th>\n      <td>0</td>\n      <td>0</td>\n    </tr>\n    <tr>\n      <th>260597</th>\n      <td>0</td>\n      <td>0</td>\n    </tr>\n    <tr>\n      <th>260598</th>\n      <td>0</td>\n      <td>0</td>\n    </tr>\n    <tr>\n      <th>260599</th>\n      <td>0</td>\n      <td>0</td>\n    </tr>\n    <tr>\n      <th>260600</th>\n      <td>0</td>\n      <td>0</td>\n    </tr>\n  </tbody>\n</table>\n<p>260601 rows × 2 columns</p>\n</div>"
     },
     "metadata": {},
     "execution_count": 6
    }
   ],
   "source": [
    "preprocessed_train[[\"has_superstructure_adobe_mud\", \"has_superstructure_stone_flag\"]]"
   ]
  },
  {
   "cell_type": "code",
   "execution_count": 7,
   "metadata": {},
   "outputs": [],
   "source": [
    "# Changing column names\n",
    "# df = preprocessed_train.rename(columns={x:y for x,y in zip(preprocessed_train.columns,range(0,len(preprocessed_train.columns)))})\n"
   ]
  },
  {
   "cell_type": "code",
   "execution_count": 8,
   "metadata": {},
   "outputs": [],
   "source": [
    "# Join has_superstructure (binary) columns has strings\n",
    "# Get selected rows to string\n",
    "df = preprocessed_train.iloc[:,15:25].astype(str)\n",
    "df_test = preprocessed_test.iloc[:,15:25].astype(str)\n",
    "\n",
    "# Join them\n",
    "preprocessed_train[\"has_superstructure\"] = df.apply(lambda x: ''.join(x), axis=1)\n",
    "preprocessed_test[\"has_superstructure\"] = df_test.apply(lambda x: ''.join(x), axis=1)"
   ]
  },
  {
   "cell_type": "code",
   "execution_count": 9,
   "metadata": {},
   "outputs": [],
   "source": [
    "# Join has_secondary (binary) columns has strings\n",
    "# Get selected rows to string\n",
    "df = preprocessed_train.iloc[:,29:38].astype(str)\n",
    "df_test = preprocessed_test.iloc[:,29:38].astype(str)\n",
    "\n",
    "# Join them\n",
    "preprocessed_train[\"has_secondary\"] = df.apply(lambda x: ''.join(x), axis=1)\n",
    "preprocessed_test[\"has_secondary\"] = df_test.apply(lambda x: ''.join(x), axis=1)"
   ]
  },
  {
   "cell_type": "code",
   "execution_count": 10,
   "metadata": {},
   "outputs": [
    {
     "output_type": "execute_result",
     "data": {
      "text/plain": [
       "        building_id  geo_level_1_id  geo_level_2_id  geo_level_3_id  \\\n",
       "0            802906               6             487           12198   \n",
       "1             28830               8             900            2812   \n",
       "2             94947              21             363            8973   \n",
       "3            590882              22             418           10694   \n",
       "4            201944              11             131            1488   \n",
       "...             ...             ...             ...             ...   \n",
       "260596       688636              25            1335            1621   \n",
       "260597       669485              17             715            2060   \n",
       "260598       602512              17              51            8163   \n",
       "260599       151409              26              39            1851   \n",
       "260600       747594              21               9            9101   \n",
       "\n",
       "        count_floors_pre_eq  age  area_percentage  height_percentage  \\\n",
       "0                         2   30                6                  5   \n",
       "1                         2   10                8                  7   \n",
       "2                         2   10                5                  5   \n",
       "3                         2   10                6                  5   \n",
       "4                         3   30                8                  9   \n",
       "...                     ...  ...              ...                ...   \n",
       "260596                    1   55                6                  3   \n",
       "260597                    2    0                6                  5   \n",
       "260598                    3   55                6                  7   \n",
       "260599                    2   10               14                  6   \n",
       "260600                    3   10                7                  6   \n",
       "\n",
       "       land_surface_condition foundation_type roof_type ground_floor_type  \\\n",
       "0                           t               r         n                 f   \n",
       "1                           o               r         n                 x   \n",
       "2                           t               r         n                 f   \n",
       "3                           t               r         n                 f   \n",
       "4                           t               r         n                 f   \n",
       "...                       ...             ...       ...               ...   \n",
       "260596                      n               r         n                 f   \n",
       "260597                      t               r         n                 f   \n",
       "260598                      t               r         q                 f   \n",
       "260599                      t               r         x                 v   \n",
       "260600                      n               r         n                 f   \n",
       "\n",
       "       other_floor_type position plan_configuration legal_ownership_status  \\\n",
       "0                     q        t                  d                      v   \n",
       "1                     q        s                  d                      v   \n",
       "2                     x        t                  d                      v   \n",
       "3                     x        s                  d                      v   \n",
       "4                     x        s                  d                      v   \n",
       "...                 ...      ...                ...                    ...   \n",
       "260596                j        s                  q                      v   \n",
       "260597                q        s                  d                      v   \n",
       "260598                q        s                  d                      v   \n",
       "260599                s        j                  d                      v   \n",
       "260600                q        j                  d                      v   \n",
       "\n",
       "        count_families  has_secondary_use has_superstructure has_secondary  \n",
       "0                    1                  0         1100000000     000000000  \n",
       "1                    1                  0         0100000000     000000000  \n",
       "2                    1                  0         0100000000     000000000  \n",
       "3                    1                  0         0100001100     000000000  \n",
       "4                    1                  0         1000000000     000000000  \n",
       "...                ...                ...                ...           ...  \n",
       "260596               1                  0         0100000000     000000000  \n",
       "260597               1                  0         0100000000     000000000  \n",
       "260598               1                  0         0100000000     000000000  \n",
       "260599               1                  0         0000010000     000000000  \n",
       "260600               3                  0         0100000000     000000000  \n",
       "\n",
       "[260601 rows x 20 columns]"
      ],
      "text/html": "<div>\n<style scoped>\n    .dataframe tbody tr th:only-of-type {\n        vertical-align: middle;\n    }\n\n    .dataframe tbody tr th {\n        vertical-align: top;\n    }\n\n    .dataframe thead th {\n        text-align: right;\n    }\n</style>\n<table border=\"1\" class=\"dataframe\">\n  <thead>\n    <tr style=\"text-align: right;\">\n      <th></th>\n      <th>building_id</th>\n      <th>geo_level_1_id</th>\n      <th>geo_level_2_id</th>\n      <th>geo_level_3_id</th>\n      <th>count_floors_pre_eq</th>\n      <th>age</th>\n      <th>area_percentage</th>\n      <th>height_percentage</th>\n      <th>land_surface_condition</th>\n      <th>foundation_type</th>\n      <th>roof_type</th>\n      <th>ground_floor_type</th>\n      <th>other_floor_type</th>\n      <th>position</th>\n      <th>plan_configuration</th>\n      <th>legal_ownership_status</th>\n      <th>count_families</th>\n      <th>has_secondary_use</th>\n      <th>has_superstructure</th>\n      <th>has_secondary</th>\n    </tr>\n  </thead>\n  <tbody>\n    <tr>\n      <th>0</th>\n      <td>802906</td>\n      <td>6</td>\n      <td>487</td>\n      <td>12198</td>\n      <td>2</td>\n      <td>30</td>\n      <td>6</td>\n      <td>5</td>\n      <td>t</td>\n      <td>r</td>\n      <td>n</td>\n      <td>f</td>\n      <td>q</td>\n      <td>t</td>\n      <td>d</td>\n      <td>v</td>\n      <td>1</td>\n      <td>0</td>\n      <td>1100000000</td>\n      <td>000000000</td>\n    </tr>\n    <tr>\n      <th>1</th>\n      <td>28830</td>\n      <td>8</td>\n      <td>900</td>\n      <td>2812</td>\n      <td>2</td>\n      <td>10</td>\n      <td>8</td>\n      <td>7</td>\n      <td>o</td>\n      <td>r</td>\n      <td>n</td>\n      <td>x</td>\n      <td>q</td>\n      <td>s</td>\n      <td>d</td>\n      <td>v</td>\n      <td>1</td>\n      <td>0</td>\n      <td>0100000000</td>\n      <td>000000000</td>\n    </tr>\n    <tr>\n      <th>2</th>\n      <td>94947</td>\n      <td>21</td>\n      <td>363</td>\n      <td>8973</td>\n      <td>2</td>\n      <td>10</td>\n      <td>5</td>\n      <td>5</td>\n      <td>t</td>\n      <td>r</td>\n      <td>n</td>\n      <td>f</td>\n      <td>x</td>\n      <td>t</td>\n      <td>d</td>\n      <td>v</td>\n      <td>1</td>\n      <td>0</td>\n      <td>0100000000</td>\n      <td>000000000</td>\n    </tr>\n    <tr>\n      <th>3</th>\n      <td>590882</td>\n      <td>22</td>\n      <td>418</td>\n      <td>10694</td>\n      <td>2</td>\n      <td>10</td>\n      <td>6</td>\n      <td>5</td>\n      <td>t</td>\n      <td>r</td>\n      <td>n</td>\n      <td>f</td>\n      <td>x</td>\n      <td>s</td>\n      <td>d</td>\n      <td>v</td>\n      <td>1</td>\n      <td>0</td>\n      <td>0100001100</td>\n      <td>000000000</td>\n    </tr>\n    <tr>\n      <th>4</th>\n      <td>201944</td>\n      <td>11</td>\n      <td>131</td>\n      <td>1488</td>\n      <td>3</td>\n      <td>30</td>\n      <td>8</td>\n      <td>9</td>\n      <td>t</td>\n      <td>r</td>\n      <td>n</td>\n      <td>f</td>\n      <td>x</td>\n      <td>s</td>\n      <td>d</td>\n      <td>v</td>\n      <td>1</td>\n      <td>0</td>\n      <td>1000000000</td>\n      <td>000000000</td>\n    </tr>\n    <tr>\n      <th>...</th>\n      <td>...</td>\n      <td>...</td>\n      <td>...</td>\n      <td>...</td>\n      <td>...</td>\n      <td>...</td>\n      <td>...</td>\n      <td>...</td>\n      <td>...</td>\n      <td>...</td>\n      <td>...</td>\n      <td>...</td>\n      <td>...</td>\n      <td>...</td>\n      <td>...</td>\n      <td>...</td>\n      <td>...</td>\n      <td>...</td>\n      <td>...</td>\n      <td>...</td>\n    </tr>\n    <tr>\n      <th>260596</th>\n      <td>688636</td>\n      <td>25</td>\n      <td>1335</td>\n      <td>1621</td>\n      <td>1</td>\n      <td>55</td>\n      <td>6</td>\n      <td>3</td>\n      <td>n</td>\n      <td>r</td>\n      <td>n</td>\n      <td>f</td>\n      <td>j</td>\n      <td>s</td>\n      <td>q</td>\n      <td>v</td>\n      <td>1</td>\n      <td>0</td>\n      <td>0100000000</td>\n      <td>000000000</td>\n    </tr>\n    <tr>\n      <th>260597</th>\n      <td>669485</td>\n      <td>17</td>\n      <td>715</td>\n      <td>2060</td>\n      <td>2</td>\n      <td>0</td>\n      <td>6</td>\n      <td>5</td>\n      <td>t</td>\n      <td>r</td>\n      <td>n</td>\n      <td>f</td>\n      <td>q</td>\n      <td>s</td>\n      <td>d</td>\n      <td>v</td>\n      <td>1</td>\n      <td>0</td>\n      <td>0100000000</td>\n      <td>000000000</td>\n    </tr>\n    <tr>\n      <th>260598</th>\n      <td>602512</td>\n      <td>17</td>\n      <td>51</td>\n      <td>8163</td>\n      <td>3</td>\n      <td>55</td>\n      <td>6</td>\n      <td>7</td>\n      <td>t</td>\n      <td>r</td>\n      <td>q</td>\n      <td>f</td>\n      <td>q</td>\n      <td>s</td>\n      <td>d</td>\n      <td>v</td>\n      <td>1</td>\n      <td>0</td>\n      <td>0100000000</td>\n      <td>000000000</td>\n    </tr>\n    <tr>\n      <th>260599</th>\n      <td>151409</td>\n      <td>26</td>\n      <td>39</td>\n      <td>1851</td>\n      <td>2</td>\n      <td>10</td>\n      <td>14</td>\n      <td>6</td>\n      <td>t</td>\n      <td>r</td>\n      <td>x</td>\n      <td>v</td>\n      <td>s</td>\n      <td>j</td>\n      <td>d</td>\n      <td>v</td>\n      <td>1</td>\n      <td>0</td>\n      <td>0000010000</td>\n      <td>000000000</td>\n    </tr>\n    <tr>\n      <th>260600</th>\n      <td>747594</td>\n      <td>21</td>\n      <td>9</td>\n      <td>9101</td>\n      <td>3</td>\n      <td>10</td>\n      <td>7</td>\n      <td>6</td>\n      <td>n</td>\n      <td>r</td>\n      <td>n</td>\n      <td>f</td>\n      <td>q</td>\n      <td>j</td>\n      <td>d</td>\n      <td>v</td>\n      <td>3</td>\n      <td>0</td>\n      <td>0100000000</td>\n      <td>000000000</td>\n    </tr>\n  </tbody>\n</table>\n<p>260601 rows × 20 columns</p>\n</div>"
     },
     "metadata": {},
     "execution_count": 10
    }
   ],
   "source": [
    "# Remove joined columns\n",
    "removed_cols = list(range(15,26)) + list(range(29,39))\n",
    "preprocessed_train = preprocessed_train.drop(columns=preprocessed_train.columns[removed_cols])\n",
    "preprocessed_test = preprocessed_test.drop(columns=preprocessed_test.columns[removed_cols])\n",
    "\n",
    "preprocessed_train"
   ]
  },
  {
   "cell_type": "code",
   "execution_count": 11,
   "metadata": {},
   "outputs": [],
   "source": [
    "# Convert new cols to int\n",
    "# preprocessed_train[\"has_superstructure\"] = preprocessed_train[\"has_superstructure\"].apply(lambda x: int(x,2))\n",
    "# preprocessed_train[\"has_secondary\"] = preprocessed_train[\"has_secondary\"].apply(lambda x: int(x,2))\n",
    "# preprocessed_train"
   ]
  },
  {
   "cell_type": "code",
   "execution_count": 12,
   "metadata": {},
   "outputs": [],
   "source": [
    "# Convert to categorical in order (TODO: KEEP ORIGINAL MAPPING)\n",
    "# MEJOR: Leerlo como factor en R\n",
    "\n",
    "# preprocessed_train.has_secondary = preprocessed_train.has_secondary.astype(\"category\").cat.codes\n",
    "# preprocessed_train.has_superstructure = preprocessed_train.has_superstructure.astype('category').cat.codes\n",
    "\n",
    "# preprocessed_train"
   ]
  },
  {
   "cell_type": "code",
   "execution_count": 13,
   "metadata": {},
   "outputs": [
    {
     "output_type": "execute_result",
     "data": {
      "text/plain": [
       "        geo_level_1_id  geo_level_2_id  geo_level_3_id  count_floors_pre_eq  \\\n",
       "0                    6             487           12198                    2   \n",
       "1                    8             900            2812                    2   \n",
       "2                   21             363            8973                    2   \n",
       "3                   22             418           10694                    2   \n",
       "4                   11             131            1488                    3   \n",
       "...                ...             ...             ...                  ...   \n",
       "260596              25            1335            1621                    1   \n",
       "260597              17             715            2060                    2   \n",
       "260598              17              51            8163                    3   \n",
       "260599              26              39            1851                    2   \n",
       "260600              21               9            9101                    3   \n",
       "\n",
       "        age  area_percentage  height_percentage land_surface_condition  \\\n",
       "0        30                6                  5                      t   \n",
       "1        10                8                  7                      o   \n",
       "2        10                5                  5                      t   \n",
       "3        10                6                  5                      t   \n",
       "4        30                8                  9                      t   \n",
       "...     ...              ...                ...                    ...   \n",
       "260596   55                6                  3                      n   \n",
       "260597    0                6                  5                      t   \n",
       "260598   55                6                  7                      t   \n",
       "260599   10               14                  6                      t   \n",
       "260600   10                7                  6                      n   \n",
       "\n",
       "       foundation_type roof_type ground_floor_type other_floor_type position  \\\n",
       "0                    r         n                 f                q        t   \n",
       "1                    r         n                 x                q        s   \n",
       "2                    r         n                 f                x        t   \n",
       "3                    r         n                 f                x        s   \n",
       "4                    r         n                 f                x        s   \n",
       "...                ...       ...               ...              ...      ...   \n",
       "260596               r         n                 f                j        s   \n",
       "260597               r         n                 f                q        s   \n",
       "260598               r         q                 f                q        s   \n",
       "260599               r         x                 v                s        j   \n",
       "260600               r         n                 f                q        j   \n",
       "\n",
       "       plan_configuration legal_ownership_status  count_families  \\\n",
       "0                       d                      v               1   \n",
       "1                       d                      v               1   \n",
       "2                       d                      v               1   \n",
       "3                       d                      v               1   \n",
       "4                       d                      v               1   \n",
       "...                   ...                    ...             ...   \n",
       "260596                  q                      v               1   \n",
       "260597                  d                      v               1   \n",
       "260598                  d                      v               1   \n",
       "260599                  d                      v               1   \n",
       "260600                  d                      v               3   \n",
       "\n",
       "        has_secondary_use has_superstructure has_secondary  \n",
       "0                       0         1100000000     000000000  \n",
       "1                       0         0100000000     000000000  \n",
       "2                       0         0100000000     000000000  \n",
       "3                       0         0100001100     000000000  \n",
       "4                       0         1000000000     000000000  \n",
       "...                   ...                ...           ...  \n",
       "260596                  0         0100000000     000000000  \n",
       "260597                  0         0100000000     000000000  \n",
       "260598                  0         0100000000     000000000  \n",
       "260599                  0         0000010000     000000000  \n",
       "260600                  0         0100000000     000000000  \n",
       "\n",
       "[260601 rows x 19 columns]"
      ],
      "text/html": "<div>\n<style scoped>\n    .dataframe tbody tr th:only-of-type {\n        vertical-align: middle;\n    }\n\n    .dataframe tbody tr th {\n        vertical-align: top;\n    }\n\n    .dataframe thead th {\n        text-align: right;\n    }\n</style>\n<table border=\"1\" class=\"dataframe\">\n  <thead>\n    <tr style=\"text-align: right;\">\n      <th></th>\n      <th>geo_level_1_id</th>\n      <th>geo_level_2_id</th>\n      <th>geo_level_3_id</th>\n      <th>count_floors_pre_eq</th>\n      <th>age</th>\n      <th>area_percentage</th>\n      <th>height_percentage</th>\n      <th>land_surface_condition</th>\n      <th>foundation_type</th>\n      <th>roof_type</th>\n      <th>ground_floor_type</th>\n      <th>other_floor_type</th>\n      <th>position</th>\n      <th>plan_configuration</th>\n      <th>legal_ownership_status</th>\n      <th>count_families</th>\n      <th>has_secondary_use</th>\n      <th>has_superstructure</th>\n      <th>has_secondary</th>\n    </tr>\n  </thead>\n  <tbody>\n    <tr>\n      <th>0</th>\n      <td>6</td>\n      <td>487</td>\n      <td>12198</td>\n      <td>2</td>\n      <td>30</td>\n      <td>6</td>\n      <td>5</td>\n      <td>t</td>\n      <td>r</td>\n      <td>n</td>\n      <td>f</td>\n      <td>q</td>\n      <td>t</td>\n      <td>d</td>\n      <td>v</td>\n      <td>1</td>\n      <td>0</td>\n      <td>1100000000</td>\n      <td>000000000</td>\n    </tr>\n    <tr>\n      <th>1</th>\n      <td>8</td>\n      <td>900</td>\n      <td>2812</td>\n      <td>2</td>\n      <td>10</td>\n      <td>8</td>\n      <td>7</td>\n      <td>o</td>\n      <td>r</td>\n      <td>n</td>\n      <td>x</td>\n      <td>q</td>\n      <td>s</td>\n      <td>d</td>\n      <td>v</td>\n      <td>1</td>\n      <td>0</td>\n      <td>0100000000</td>\n      <td>000000000</td>\n    </tr>\n    <tr>\n      <th>2</th>\n      <td>21</td>\n      <td>363</td>\n      <td>8973</td>\n      <td>2</td>\n      <td>10</td>\n      <td>5</td>\n      <td>5</td>\n      <td>t</td>\n      <td>r</td>\n      <td>n</td>\n      <td>f</td>\n      <td>x</td>\n      <td>t</td>\n      <td>d</td>\n      <td>v</td>\n      <td>1</td>\n      <td>0</td>\n      <td>0100000000</td>\n      <td>000000000</td>\n    </tr>\n    <tr>\n      <th>3</th>\n      <td>22</td>\n      <td>418</td>\n      <td>10694</td>\n      <td>2</td>\n      <td>10</td>\n      <td>6</td>\n      <td>5</td>\n      <td>t</td>\n      <td>r</td>\n      <td>n</td>\n      <td>f</td>\n      <td>x</td>\n      <td>s</td>\n      <td>d</td>\n      <td>v</td>\n      <td>1</td>\n      <td>0</td>\n      <td>0100001100</td>\n      <td>000000000</td>\n    </tr>\n    <tr>\n      <th>4</th>\n      <td>11</td>\n      <td>131</td>\n      <td>1488</td>\n      <td>3</td>\n      <td>30</td>\n      <td>8</td>\n      <td>9</td>\n      <td>t</td>\n      <td>r</td>\n      <td>n</td>\n      <td>f</td>\n      <td>x</td>\n      <td>s</td>\n      <td>d</td>\n      <td>v</td>\n      <td>1</td>\n      <td>0</td>\n      <td>1000000000</td>\n      <td>000000000</td>\n    </tr>\n    <tr>\n      <th>...</th>\n      <td>...</td>\n      <td>...</td>\n      <td>...</td>\n      <td>...</td>\n      <td>...</td>\n      <td>...</td>\n      <td>...</td>\n      <td>...</td>\n      <td>...</td>\n      <td>...</td>\n      <td>...</td>\n      <td>...</td>\n      <td>...</td>\n      <td>...</td>\n      <td>...</td>\n      <td>...</td>\n      <td>...</td>\n      <td>...</td>\n      <td>...</td>\n    </tr>\n    <tr>\n      <th>260596</th>\n      <td>25</td>\n      <td>1335</td>\n      <td>1621</td>\n      <td>1</td>\n      <td>55</td>\n      <td>6</td>\n      <td>3</td>\n      <td>n</td>\n      <td>r</td>\n      <td>n</td>\n      <td>f</td>\n      <td>j</td>\n      <td>s</td>\n      <td>q</td>\n      <td>v</td>\n      <td>1</td>\n      <td>0</td>\n      <td>0100000000</td>\n      <td>000000000</td>\n    </tr>\n    <tr>\n      <th>260597</th>\n      <td>17</td>\n      <td>715</td>\n      <td>2060</td>\n      <td>2</td>\n      <td>0</td>\n      <td>6</td>\n      <td>5</td>\n      <td>t</td>\n      <td>r</td>\n      <td>n</td>\n      <td>f</td>\n      <td>q</td>\n      <td>s</td>\n      <td>d</td>\n      <td>v</td>\n      <td>1</td>\n      <td>0</td>\n      <td>0100000000</td>\n      <td>000000000</td>\n    </tr>\n    <tr>\n      <th>260598</th>\n      <td>17</td>\n      <td>51</td>\n      <td>8163</td>\n      <td>3</td>\n      <td>55</td>\n      <td>6</td>\n      <td>7</td>\n      <td>t</td>\n      <td>r</td>\n      <td>q</td>\n      <td>f</td>\n      <td>q</td>\n      <td>s</td>\n      <td>d</td>\n      <td>v</td>\n      <td>1</td>\n      <td>0</td>\n      <td>0100000000</td>\n      <td>000000000</td>\n    </tr>\n    <tr>\n      <th>260599</th>\n      <td>26</td>\n      <td>39</td>\n      <td>1851</td>\n      <td>2</td>\n      <td>10</td>\n      <td>14</td>\n      <td>6</td>\n      <td>t</td>\n      <td>r</td>\n      <td>x</td>\n      <td>v</td>\n      <td>s</td>\n      <td>j</td>\n      <td>d</td>\n      <td>v</td>\n      <td>1</td>\n      <td>0</td>\n      <td>0000010000</td>\n      <td>000000000</td>\n    </tr>\n    <tr>\n      <th>260600</th>\n      <td>21</td>\n      <td>9</td>\n      <td>9101</td>\n      <td>3</td>\n      <td>10</td>\n      <td>7</td>\n      <td>6</td>\n      <td>n</td>\n      <td>r</td>\n      <td>n</td>\n      <td>f</td>\n      <td>q</td>\n      <td>j</td>\n      <td>d</td>\n      <td>v</td>\n      <td>3</td>\n      <td>0</td>\n      <td>0100000000</td>\n      <td>000000000</td>\n    </tr>\n  </tbody>\n</table>\n<p>260601 rows × 19 columns</p>\n</div>"
     },
     "metadata": {},
     "execution_count": 13
    }
   ],
   "source": [
    "# No hay duplicados en los ids, se pueden quitar\n",
    "# preprocessed_train.building_id.duplicated\n",
    "\n",
    "preprocessed_train = preprocessed_train.drop(columns=\"building_id\")\n",
    "preprocessed_test = preprocessed_test.drop(columns=\"building_id\")\n",
    "preprocessed_train\n"
   ]
  },
  {
   "cell_type": "code",
   "execution_count": 14,
   "metadata": {},
   "outputs": [
    {
     "output_type": "execute_result",
     "data": {
      "text/plain": [
       "        geo_level_1_id  geo_level_2_id  geo_level_3_id  count_floors_pre_eq  \\\n",
       "0                    6             487           12198                    2   \n",
       "1                    8             900            2812                    2   \n",
       "2                   21             363            8973                    2   \n",
       "3                   22             418           10694                    2   \n",
       "4                   11             131            1488                    3   \n",
       "...                ...             ...             ...                  ...   \n",
       "260596              25            1335            1621                    1   \n",
       "260597              17             715            2060                    2   \n",
       "260598              17              51            8163                    3   \n",
       "260599              26              39            1851                    2   \n",
       "260600              21               9            9101                    3   \n",
       "\n",
       "        age  area_percentage  height_percentage land_surface_condition  \\\n",
       "0        30                6                  5                      t   \n",
       "1        10                8                  7                      o   \n",
       "2        10                5                  5                      t   \n",
       "3        10                6                  5                      t   \n",
       "4        30                8                  9                      t   \n",
       "...     ...              ...                ...                    ...   \n",
       "260596   55                6                  3                      n   \n",
       "260597    0                6                  5                      t   \n",
       "260598   55                6                  7                      t   \n",
       "260599   10               14                  6                      t   \n",
       "260600   10                7                  6                      n   \n",
       "\n",
       "       foundation_type roof_type ground_floor_type other_floor_type position  \\\n",
       "0                    r         n                 f                q        t   \n",
       "1                    r         n                 x                q        s   \n",
       "2                    r         n                 f                x        t   \n",
       "3                    r         n                 f                x        s   \n",
       "4                    r         n                 f                x        s   \n",
       "...                ...       ...               ...              ...      ...   \n",
       "260596               r         n                 f                j        s   \n",
       "260597               r         n                 f                q        s   \n",
       "260598               r         q                 f                q        s   \n",
       "260599               r         x                 v                s        j   \n",
       "260600               r         n                 f                q        j   \n",
       "\n",
       "       plan_configuration legal_ownership_status  count_families  \\\n",
       "0                       d                      v               1   \n",
       "1                       d                      v               1   \n",
       "2                       d                      v               1   \n",
       "3                       d                      v               1   \n",
       "4                       d                      v               1   \n",
       "...                   ...                    ...             ...   \n",
       "260596                  q                      v               1   \n",
       "260597                  d                      v               1   \n",
       "260598                  d                      v               1   \n",
       "260599                  d                      v               1   \n",
       "260600                  d                      v               3   \n",
       "\n",
       "       has_superstructure has_secondary  \n",
       "0              1100000000     000000000  \n",
       "1              0100000000     000000000  \n",
       "2              0100000000     000000000  \n",
       "3              0100001100     000000000  \n",
       "4              1000000000     000000000  \n",
       "...                   ...           ...  \n",
       "260596         0100000000     000000000  \n",
       "260597         0100000000     000000000  \n",
       "260598         0100000000     000000000  \n",
       "260599         0000010000     000000000  \n",
       "260600         0100000000     000000000  \n",
       "\n",
       "[260601 rows x 18 columns]"
      ],
      "text/html": "<div>\n<style scoped>\n    .dataframe tbody tr th:only-of-type {\n        vertical-align: middle;\n    }\n\n    .dataframe tbody tr th {\n        vertical-align: top;\n    }\n\n    .dataframe thead th {\n        text-align: right;\n    }\n</style>\n<table border=\"1\" class=\"dataframe\">\n  <thead>\n    <tr style=\"text-align: right;\">\n      <th></th>\n      <th>geo_level_1_id</th>\n      <th>geo_level_2_id</th>\n      <th>geo_level_3_id</th>\n      <th>count_floors_pre_eq</th>\n      <th>age</th>\n      <th>area_percentage</th>\n      <th>height_percentage</th>\n      <th>land_surface_condition</th>\n      <th>foundation_type</th>\n      <th>roof_type</th>\n      <th>ground_floor_type</th>\n      <th>other_floor_type</th>\n      <th>position</th>\n      <th>plan_configuration</th>\n      <th>legal_ownership_status</th>\n      <th>count_families</th>\n      <th>has_superstructure</th>\n      <th>has_secondary</th>\n    </tr>\n  </thead>\n  <tbody>\n    <tr>\n      <th>0</th>\n      <td>6</td>\n      <td>487</td>\n      <td>12198</td>\n      <td>2</td>\n      <td>30</td>\n      <td>6</td>\n      <td>5</td>\n      <td>t</td>\n      <td>r</td>\n      <td>n</td>\n      <td>f</td>\n      <td>q</td>\n      <td>t</td>\n      <td>d</td>\n      <td>v</td>\n      <td>1</td>\n      <td>1100000000</td>\n      <td>000000000</td>\n    </tr>\n    <tr>\n      <th>1</th>\n      <td>8</td>\n      <td>900</td>\n      <td>2812</td>\n      <td>2</td>\n      <td>10</td>\n      <td>8</td>\n      <td>7</td>\n      <td>o</td>\n      <td>r</td>\n      <td>n</td>\n      <td>x</td>\n      <td>q</td>\n      <td>s</td>\n      <td>d</td>\n      <td>v</td>\n      <td>1</td>\n      <td>0100000000</td>\n      <td>000000000</td>\n    </tr>\n    <tr>\n      <th>2</th>\n      <td>21</td>\n      <td>363</td>\n      <td>8973</td>\n      <td>2</td>\n      <td>10</td>\n      <td>5</td>\n      <td>5</td>\n      <td>t</td>\n      <td>r</td>\n      <td>n</td>\n      <td>f</td>\n      <td>x</td>\n      <td>t</td>\n      <td>d</td>\n      <td>v</td>\n      <td>1</td>\n      <td>0100000000</td>\n      <td>000000000</td>\n    </tr>\n    <tr>\n      <th>3</th>\n      <td>22</td>\n      <td>418</td>\n      <td>10694</td>\n      <td>2</td>\n      <td>10</td>\n      <td>6</td>\n      <td>5</td>\n      <td>t</td>\n      <td>r</td>\n      <td>n</td>\n      <td>f</td>\n      <td>x</td>\n      <td>s</td>\n      <td>d</td>\n      <td>v</td>\n      <td>1</td>\n      <td>0100001100</td>\n      <td>000000000</td>\n    </tr>\n    <tr>\n      <th>4</th>\n      <td>11</td>\n      <td>131</td>\n      <td>1488</td>\n      <td>3</td>\n      <td>30</td>\n      <td>8</td>\n      <td>9</td>\n      <td>t</td>\n      <td>r</td>\n      <td>n</td>\n      <td>f</td>\n      <td>x</td>\n      <td>s</td>\n      <td>d</td>\n      <td>v</td>\n      <td>1</td>\n      <td>1000000000</td>\n      <td>000000000</td>\n    </tr>\n    <tr>\n      <th>...</th>\n      <td>...</td>\n      <td>...</td>\n      <td>...</td>\n      <td>...</td>\n      <td>...</td>\n      <td>...</td>\n      <td>...</td>\n      <td>...</td>\n      <td>...</td>\n      <td>...</td>\n      <td>...</td>\n      <td>...</td>\n      <td>...</td>\n      <td>...</td>\n      <td>...</td>\n      <td>...</td>\n      <td>...</td>\n      <td>...</td>\n    </tr>\n    <tr>\n      <th>260596</th>\n      <td>25</td>\n      <td>1335</td>\n      <td>1621</td>\n      <td>1</td>\n      <td>55</td>\n      <td>6</td>\n      <td>3</td>\n      <td>n</td>\n      <td>r</td>\n      <td>n</td>\n      <td>f</td>\n      <td>j</td>\n      <td>s</td>\n      <td>q</td>\n      <td>v</td>\n      <td>1</td>\n      <td>0100000000</td>\n      <td>000000000</td>\n    </tr>\n    <tr>\n      <th>260597</th>\n      <td>17</td>\n      <td>715</td>\n      <td>2060</td>\n      <td>2</td>\n      <td>0</td>\n      <td>6</td>\n      <td>5</td>\n      <td>t</td>\n      <td>r</td>\n      <td>n</td>\n      <td>f</td>\n      <td>q</td>\n      <td>s</td>\n      <td>d</td>\n      <td>v</td>\n      <td>1</td>\n      <td>0100000000</td>\n      <td>000000000</td>\n    </tr>\n    <tr>\n      <th>260598</th>\n      <td>17</td>\n      <td>51</td>\n      <td>8163</td>\n      <td>3</td>\n      <td>55</td>\n      <td>6</td>\n      <td>7</td>\n      <td>t</td>\n      <td>r</td>\n      <td>q</td>\n      <td>f</td>\n      <td>q</td>\n      <td>s</td>\n      <td>d</td>\n      <td>v</td>\n      <td>1</td>\n      <td>0100000000</td>\n      <td>000000000</td>\n    </tr>\n    <tr>\n      <th>260599</th>\n      <td>26</td>\n      <td>39</td>\n      <td>1851</td>\n      <td>2</td>\n      <td>10</td>\n      <td>14</td>\n      <td>6</td>\n      <td>t</td>\n      <td>r</td>\n      <td>x</td>\n      <td>v</td>\n      <td>s</td>\n      <td>j</td>\n      <td>d</td>\n      <td>v</td>\n      <td>1</td>\n      <td>0000010000</td>\n      <td>000000000</td>\n    </tr>\n    <tr>\n      <th>260600</th>\n      <td>21</td>\n      <td>9</td>\n      <td>9101</td>\n      <td>3</td>\n      <td>10</td>\n      <td>7</td>\n      <td>6</td>\n      <td>n</td>\n      <td>r</td>\n      <td>n</td>\n      <td>f</td>\n      <td>q</td>\n      <td>j</td>\n      <td>d</td>\n      <td>v</td>\n      <td>3</td>\n      <td>0100000000</td>\n      <td>000000000</td>\n    </tr>\n  </tbody>\n</table>\n<p>260601 rows × 18 columns</p>\n</div>"
     },
     "metadata": {},
     "execution_count": 14
    }
   ],
   "source": [
    "# has_secondary_use is enconded in has_secondary, remove it\n",
    "preprocessed_train = preprocessed_train.drop(columns=\"has_secondary_use\")\n",
    "preprocessed_test = preprocessed_test.drop(columns=\"has_secondary_use\")\n",
    "preprocessed_train"
   ]
  },
  {
   "cell_type": "code",
   "execution_count": 15,
   "metadata": {},
   "outputs": [],
   "source": [
    "############################################################################\n",
    "# Preprocesado Nº 2\n",
    "############################################################################\n",
    "\n",
    "# Quitamos geo_2 y geo_3. Tienen demasiadas categorías diferentes para los árboles,\n",
    "# y no se solapan\n",
    "preprocessed_train = preprocessed_train.drop(columns=[\"geo_level_2_id\",\"geo_level_3_id\"])\n",
    "preprocessed_test = preprocessed_test.drop(columns=[\"geo_level_2_id\",\"geo_level_3_id\"])\n",
    "\n",
    "\n",
    "# En estas dos predomina (+85%) una clase y el resto no sirve para determinar\n",
    "# ninguna etiqueta (se mantiene la proporción o las 3 están representadas)\n",
    "preprocessed_train = preprocessed_train.drop(columns=[\"plan_configuration\",\"legal_ownership_status\"])\n",
    "preprocessed_test = preprocessed_test.drop(columns=[\"plan_configuration\",\"legal_ownership_status\"])"
   ]
  },
  {
   "cell_type": "code",
   "execution_count": 16,
   "metadata": {},
   "outputs": [],
   "source": [
    "# Altura y nº de plantas altamente correladas, categorizamos nº de plantas y quitamos altura\n",
    "# Solo una instancia con 9 plantas, y las anteriores no siguen el mismo patrón (que todas sufrieran el mismo tipo de daño)\n",
    "# Como tenemos proporciones muy similares, juntamos las +5 con ella\n",
    "preprocessed_train[\"count_floors_pre_eq\"] = preprocessed_train[\"count_floors_pre_eq\"].replace({6:5, 7:5, 8:5, 9:5})\n",
    "preprocessed_test[\"count_floors_pre_eq\"] = preprocessed_test[\"count_floors_pre_eq\"].replace({6:5, 7:5, 8:5, 9:5})\n",
    "\n",
    "# No nos interesan variables numéricas en los árboles, acabarían discretizándose\n",
    "preprocessed_train = preprocessed_train.drop(columns=[\"height_percentage\"])\n",
    "preprocessed_test = preprocessed_test.drop(columns=[\"height_percentage\"])\n"
   ]
  },
  {
   "cell_type": "code",
   "execution_count": 17,
   "metadata": {},
   "outputs": [
    {
     "output_type": "execute_result",
     "data": {
      "text/plain": [
       "array([2, 3, 1, 4, 5], dtype=int64)"
      ]
     },
     "metadata": {},
     "execution_count": 17
    }
   ],
   "source": [
    "pd.unique(preprocessed_train.count_floors_pre_eq)"
   ]
  },
  {
   "cell_type": "code",
   "execution_count": 18,
   "metadata": {},
   "outputs": [
    {
     "output_type": "execute_result",
     "data": {
      "text/plain": [
       "        building_id  damage_grade\n",
       "0            802906             3\n",
       "1             28830             2\n",
       "2             94947             3\n",
       "3            590882             2\n",
       "4            201944             3\n",
       "...             ...           ...\n",
       "260596       688636             2\n",
       "260597       669485             3\n",
       "260598       602512             3\n",
       "260599       151409             2\n",
       "260600       747594             3\n",
       "\n",
       "[260601 rows x 2 columns]"
      ],
      "text/html": "<div>\n<style scoped>\n    .dataframe tbody tr th:only-of-type {\n        vertical-align: middle;\n    }\n\n    .dataframe tbody tr th {\n        vertical-align: top;\n    }\n\n    .dataframe thead th {\n        text-align: right;\n    }\n</style>\n<table border=\"1\" class=\"dataframe\">\n  <thead>\n    <tr style=\"text-align: right;\">\n      <th></th>\n      <th>building_id</th>\n      <th>damage_grade</th>\n    </tr>\n  </thead>\n  <tbody>\n    <tr>\n      <th>0</th>\n      <td>802906</td>\n      <td>3</td>\n    </tr>\n    <tr>\n      <th>1</th>\n      <td>28830</td>\n      <td>2</td>\n    </tr>\n    <tr>\n      <th>2</th>\n      <td>94947</td>\n      <td>3</td>\n    </tr>\n    <tr>\n      <th>3</th>\n      <td>590882</td>\n      <td>2</td>\n    </tr>\n    <tr>\n      <th>4</th>\n      <td>201944</td>\n      <td>3</td>\n    </tr>\n    <tr>\n      <th>...</th>\n      <td>...</td>\n      <td>...</td>\n    </tr>\n    <tr>\n      <th>260596</th>\n      <td>688636</td>\n      <td>2</td>\n    </tr>\n    <tr>\n      <th>260597</th>\n      <td>669485</td>\n      <td>3</td>\n    </tr>\n    <tr>\n      <th>260598</th>\n      <td>602512</td>\n      <td>3</td>\n    </tr>\n    <tr>\n      <th>260599</th>\n      <td>151409</td>\n      <td>2</td>\n    </tr>\n    <tr>\n      <th>260600</th>\n      <td>747594</td>\n      <td>3</td>\n    </tr>\n  </tbody>\n</table>\n<p>260601 rows × 2 columns</p>\n</div>"
     },
     "metadata": {},
     "execution_count": 18
    }
   ],
   "source": [
    "train_labels"
   ]
  },
  {
   "cell_type": "code",
   "execution_count": 19,
   "metadata": {},
   "outputs": [
    {
     "output_type": "execute_result",
     "data": {
      "text/plain": [
       "        geo_level_1_id  count_floors_pre_eq  age  area_percentage  \\\n",
       "0                    6                    2   30                6   \n",
       "1                    8                    2   10                8   \n",
       "2                   21                    2   10                5   \n",
       "3                   22                    2   10                6   \n",
       "4                   11                    3   30                8   \n",
       "...                ...                  ...  ...              ...   \n",
       "260596              25                    1   55                6   \n",
       "260597              17                    2    0                6   \n",
       "260598              17                    3   55                6   \n",
       "260599              26                    2   10               14   \n",
       "260600              21                    3   10                7   \n",
       "\n",
       "       land_surface_condition foundation_type roof_type ground_floor_type  \\\n",
       "0                           t               r         n                 f   \n",
       "1                           o               r         n                 x   \n",
       "2                           t               r         n                 f   \n",
       "3                           t               r         n                 f   \n",
       "4                           t               r         n                 f   \n",
       "...                       ...             ...       ...               ...   \n",
       "260596                      n               r         n                 f   \n",
       "260597                      t               r         n                 f   \n",
       "260598                      t               r         q                 f   \n",
       "260599                      t               r         x                 v   \n",
       "260600                      n               r         n                 f   \n",
       "\n",
       "       other_floor_type position  count_families has_superstructure  \\\n",
       "0                     q        t               1         1100000000   \n",
       "1                     q        s               1         0100000000   \n",
       "2                     x        t               1         0100000000   \n",
       "3                     x        s               1         0100001100   \n",
       "4                     x        s               1         1000000000   \n",
       "...                 ...      ...             ...                ...   \n",
       "260596                j        s               1         0100000000   \n",
       "260597                q        s               1         0100000000   \n",
       "260598                q        s               1         0100000000   \n",
       "260599                s        j               1         0000010000   \n",
       "260600                q        j               3         0100000000   \n",
       "\n",
       "       has_secondary  \n",
       "0          000000000  \n",
       "1          000000000  \n",
       "2          000000000  \n",
       "3          000000000  \n",
       "4          000000000  \n",
       "...              ...  \n",
       "260596     000000000  \n",
       "260597     000000000  \n",
       "260598     000000000  \n",
       "260599     000000000  \n",
       "260600     000000000  \n",
       "\n",
       "[260601 rows x 13 columns]"
      ],
      "text/html": "<div>\n<style scoped>\n    .dataframe tbody tr th:only-of-type {\n        vertical-align: middle;\n    }\n\n    .dataframe tbody tr th {\n        vertical-align: top;\n    }\n\n    .dataframe thead th {\n        text-align: right;\n    }\n</style>\n<table border=\"1\" class=\"dataframe\">\n  <thead>\n    <tr style=\"text-align: right;\">\n      <th></th>\n      <th>geo_level_1_id</th>\n      <th>count_floors_pre_eq</th>\n      <th>age</th>\n      <th>area_percentage</th>\n      <th>land_surface_condition</th>\n      <th>foundation_type</th>\n      <th>roof_type</th>\n      <th>ground_floor_type</th>\n      <th>other_floor_type</th>\n      <th>position</th>\n      <th>count_families</th>\n      <th>has_superstructure</th>\n      <th>has_secondary</th>\n    </tr>\n  </thead>\n  <tbody>\n    <tr>\n      <th>0</th>\n      <td>6</td>\n      <td>2</td>\n      <td>30</td>\n      <td>6</td>\n      <td>t</td>\n      <td>r</td>\n      <td>n</td>\n      <td>f</td>\n      <td>q</td>\n      <td>t</td>\n      <td>1</td>\n      <td>1100000000</td>\n      <td>000000000</td>\n    </tr>\n    <tr>\n      <th>1</th>\n      <td>8</td>\n      <td>2</td>\n      <td>10</td>\n      <td>8</td>\n      <td>o</td>\n      <td>r</td>\n      <td>n</td>\n      <td>x</td>\n      <td>q</td>\n      <td>s</td>\n      <td>1</td>\n      <td>0100000000</td>\n      <td>000000000</td>\n    </tr>\n    <tr>\n      <th>2</th>\n      <td>21</td>\n      <td>2</td>\n      <td>10</td>\n      <td>5</td>\n      <td>t</td>\n      <td>r</td>\n      <td>n</td>\n      <td>f</td>\n      <td>x</td>\n      <td>t</td>\n      <td>1</td>\n      <td>0100000000</td>\n      <td>000000000</td>\n    </tr>\n    <tr>\n      <th>3</th>\n      <td>22</td>\n      <td>2</td>\n      <td>10</td>\n      <td>6</td>\n      <td>t</td>\n      <td>r</td>\n      <td>n</td>\n      <td>f</td>\n      <td>x</td>\n      <td>s</td>\n      <td>1</td>\n      <td>0100001100</td>\n      <td>000000000</td>\n    </tr>\n    <tr>\n      <th>4</th>\n      <td>11</td>\n      <td>3</td>\n      <td>30</td>\n      <td>8</td>\n      <td>t</td>\n      <td>r</td>\n      <td>n</td>\n      <td>f</td>\n      <td>x</td>\n      <td>s</td>\n      <td>1</td>\n      <td>1000000000</td>\n      <td>000000000</td>\n    </tr>\n    <tr>\n      <th>...</th>\n      <td>...</td>\n      <td>...</td>\n      <td>...</td>\n      <td>...</td>\n      <td>...</td>\n      <td>...</td>\n      <td>...</td>\n      <td>...</td>\n      <td>...</td>\n      <td>...</td>\n      <td>...</td>\n      <td>...</td>\n      <td>...</td>\n    </tr>\n    <tr>\n      <th>260596</th>\n      <td>25</td>\n      <td>1</td>\n      <td>55</td>\n      <td>6</td>\n      <td>n</td>\n      <td>r</td>\n      <td>n</td>\n      <td>f</td>\n      <td>j</td>\n      <td>s</td>\n      <td>1</td>\n      <td>0100000000</td>\n      <td>000000000</td>\n    </tr>\n    <tr>\n      <th>260597</th>\n      <td>17</td>\n      <td>2</td>\n      <td>0</td>\n      <td>6</td>\n      <td>t</td>\n      <td>r</td>\n      <td>n</td>\n      <td>f</td>\n      <td>q</td>\n      <td>s</td>\n      <td>1</td>\n      <td>0100000000</td>\n      <td>000000000</td>\n    </tr>\n    <tr>\n      <th>260598</th>\n      <td>17</td>\n      <td>3</td>\n      <td>55</td>\n      <td>6</td>\n      <td>t</td>\n      <td>r</td>\n      <td>q</td>\n      <td>f</td>\n      <td>q</td>\n      <td>s</td>\n      <td>1</td>\n      <td>0100000000</td>\n      <td>000000000</td>\n    </tr>\n    <tr>\n      <th>260599</th>\n      <td>26</td>\n      <td>2</td>\n      <td>10</td>\n      <td>14</td>\n      <td>t</td>\n      <td>r</td>\n      <td>x</td>\n      <td>v</td>\n      <td>s</td>\n      <td>j</td>\n      <td>1</td>\n      <td>0000010000</td>\n      <td>000000000</td>\n    </tr>\n    <tr>\n      <th>260600</th>\n      <td>21</td>\n      <td>3</td>\n      <td>10</td>\n      <td>7</td>\n      <td>n</td>\n      <td>r</td>\n      <td>n</td>\n      <td>f</td>\n      <td>q</td>\n      <td>j</td>\n      <td>3</td>\n      <td>0100000000</td>\n      <td>000000000</td>\n    </tr>\n  </tbody>\n</table>\n<p>260601 rows × 13 columns</p>\n</div>"
     },
     "metadata": {},
     "execution_count": 19
    }
   ],
   "source": [
    "preprocessed_train"
   ]
  },
  {
   "cell_type": "code",
   "execution_count": 20,
   "metadata": {},
   "outputs": [
    {
     "output_type": "execute_result",
     "data": {
      "text/plain": [
       "        geo_level_1_id  count_floors_pre_eq  age  area_percentage  \\\n",
       "0                    6                    2   30                6   \n",
       "1                    8                    2   10                8   \n",
       "2                   21                    2   10                5   \n",
       "3                   22                    2   10                6   \n",
       "4                   11                    3   30                8   \n",
       "...                ...                  ...  ...              ...   \n",
       "260594              27                    5    0               13   \n",
       "260596              25                    1   55                6   \n",
       "260598              17                    3   55                6   \n",
       "260599              26                    2   10               14   \n",
       "260600              21                    3   10                7   \n",
       "\n",
       "       land_surface_condition foundation_type roof_type ground_floor_type  \\\n",
       "0                           t               r         n                 f   \n",
       "1                           o               r         n                 x   \n",
       "2                           t               r         n                 f   \n",
       "3                           t               r         n                 f   \n",
       "4                           t               r         n                 f   \n",
       "...                       ...             ...       ...               ...   \n",
       "260594                      t               r         n                 f   \n",
       "260596                      n               r         n                 f   \n",
       "260598                      t               r         q                 f   \n",
       "260599                      t               r         x                 v   \n",
       "260600                      n               r         n                 f   \n",
       "\n",
       "       other_floor_type position  count_families has_superstructure  \\\n",
       "0                     q        t               1         1100000000   \n",
       "1                     q        s               1         0100000000   \n",
       "2                     x        t               1         0100000000   \n",
       "3                     x        s               1         0100001100   \n",
       "4                     x        s               1         1000000000   \n",
       "...                 ...      ...             ...                ...   \n",
       "260594                x        j               1         0000100000   \n",
       "260596                j        s               1         0100000000   \n",
       "260598                q        s               1         0100000000   \n",
       "260599                s        j               1         0000010000   \n",
       "260600                q        j               3         0100000000   \n",
       "\n",
       "       has_secondary  damage_grade  \n",
       "0          000000000             3  \n",
       "1          000000000             2  \n",
       "2          000000000             3  \n",
       "3          000000000             2  \n",
       "4          000000000             3  \n",
       "...              ...           ...  \n",
       "260594     000000000             2  \n",
       "260596     000000000             2  \n",
       "260598     000000000             3  \n",
       "260599     000000000             2  \n",
       "260600     000000000             3  \n",
       "\n",
       "[178531 rows x 14 columns]"
      ],
      "text/html": "<div>\n<style scoped>\n    .dataframe tbody tr th:only-of-type {\n        vertical-align: middle;\n    }\n\n    .dataframe tbody tr th {\n        vertical-align: top;\n    }\n\n    .dataframe thead th {\n        text-align: right;\n    }\n</style>\n<table border=\"1\" class=\"dataframe\">\n  <thead>\n    <tr style=\"text-align: right;\">\n      <th></th>\n      <th>geo_level_1_id</th>\n      <th>count_floors_pre_eq</th>\n      <th>age</th>\n      <th>area_percentage</th>\n      <th>land_surface_condition</th>\n      <th>foundation_type</th>\n      <th>roof_type</th>\n      <th>ground_floor_type</th>\n      <th>other_floor_type</th>\n      <th>position</th>\n      <th>count_families</th>\n      <th>has_superstructure</th>\n      <th>has_secondary</th>\n      <th>damage_grade</th>\n    </tr>\n  </thead>\n  <tbody>\n    <tr>\n      <th>0</th>\n      <td>6</td>\n      <td>2</td>\n      <td>30</td>\n      <td>6</td>\n      <td>t</td>\n      <td>r</td>\n      <td>n</td>\n      <td>f</td>\n      <td>q</td>\n      <td>t</td>\n      <td>1</td>\n      <td>1100000000</td>\n      <td>000000000</td>\n      <td>3</td>\n    </tr>\n    <tr>\n      <th>1</th>\n      <td>8</td>\n      <td>2</td>\n      <td>10</td>\n      <td>8</td>\n      <td>o</td>\n      <td>r</td>\n      <td>n</td>\n      <td>x</td>\n      <td>q</td>\n      <td>s</td>\n      <td>1</td>\n      <td>0100000000</td>\n      <td>000000000</td>\n      <td>2</td>\n    </tr>\n    <tr>\n      <th>2</th>\n      <td>21</td>\n      <td>2</td>\n      <td>10</td>\n      <td>5</td>\n      <td>t</td>\n      <td>r</td>\n      <td>n</td>\n      <td>f</td>\n      <td>x</td>\n      <td>t</td>\n      <td>1</td>\n      <td>0100000000</td>\n      <td>000000000</td>\n      <td>3</td>\n    </tr>\n    <tr>\n      <th>3</th>\n      <td>22</td>\n      <td>2</td>\n      <td>10</td>\n      <td>6</td>\n      <td>t</td>\n      <td>r</td>\n      <td>n</td>\n      <td>f</td>\n      <td>x</td>\n      <td>s</td>\n      <td>1</td>\n      <td>0100001100</td>\n      <td>000000000</td>\n      <td>2</td>\n    </tr>\n    <tr>\n      <th>4</th>\n      <td>11</td>\n      <td>3</td>\n      <td>30</td>\n      <td>8</td>\n      <td>t</td>\n      <td>r</td>\n      <td>n</td>\n      <td>f</td>\n      <td>x</td>\n      <td>s</td>\n      <td>1</td>\n      <td>1000000000</td>\n      <td>000000000</td>\n      <td>3</td>\n    </tr>\n    <tr>\n      <th>...</th>\n      <td>...</td>\n      <td>...</td>\n      <td>...</td>\n      <td>...</td>\n      <td>...</td>\n      <td>...</td>\n      <td>...</td>\n      <td>...</td>\n      <td>...</td>\n      <td>...</td>\n      <td>...</td>\n      <td>...</td>\n      <td>...</td>\n      <td>...</td>\n    </tr>\n    <tr>\n      <th>260594</th>\n      <td>27</td>\n      <td>5</td>\n      <td>0</td>\n      <td>13</td>\n      <td>t</td>\n      <td>r</td>\n      <td>n</td>\n      <td>f</td>\n      <td>x</td>\n      <td>j</td>\n      <td>1</td>\n      <td>0000100000</td>\n      <td>000000000</td>\n      <td>2</td>\n    </tr>\n    <tr>\n      <th>260596</th>\n      <td>25</td>\n      <td>1</td>\n      <td>55</td>\n      <td>6</td>\n      <td>n</td>\n      <td>r</td>\n      <td>n</td>\n      <td>f</td>\n      <td>j</td>\n      <td>s</td>\n      <td>1</td>\n      <td>0100000000</td>\n      <td>000000000</td>\n      <td>2</td>\n    </tr>\n    <tr>\n      <th>260598</th>\n      <td>17</td>\n      <td>3</td>\n      <td>55</td>\n      <td>6</td>\n      <td>t</td>\n      <td>r</td>\n      <td>q</td>\n      <td>f</td>\n      <td>q</td>\n      <td>s</td>\n      <td>1</td>\n      <td>0100000000</td>\n      <td>000000000</td>\n      <td>3</td>\n    </tr>\n    <tr>\n      <th>260599</th>\n      <td>26</td>\n      <td>2</td>\n      <td>10</td>\n      <td>14</td>\n      <td>t</td>\n      <td>r</td>\n      <td>x</td>\n      <td>v</td>\n      <td>s</td>\n      <td>j</td>\n      <td>1</td>\n      <td>0000010000</td>\n      <td>000000000</td>\n      <td>2</td>\n    </tr>\n    <tr>\n      <th>260600</th>\n      <td>21</td>\n      <td>3</td>\n      <td>10</td>\n      <td>7</td>\n      <td>n</td>\n      <td>r</td>\n      <td>n</td>\n      <td>f</td>\n      <td>q</td>\n      <td>j</td>\n      <td>3</td>\n      <td>0100000000</td>\n      <td>000000000</td>\n      <td>3</td>\n    </tr>\n  </tbody>\n</table>\n<p>178531 rows × 14 columns</p>\n</div>"
     },
     "metadata": {},
     "execution_count": 20
    }
   ],
   "source": [
    "# Preprocesamiento nº3, usando métodos de reducción de instancias\n",
    "\n",
    "# Eliminar duplicados (HAY QUE REDUCIR LAS ETIQUETAS TAMBIÉ)\n",
    "df = preprocessed_train.join(train_labels[\"damage_grade\"])\n",
    "preprocessed_train = df.drop_duplicates()\n",
    "train_labels = preprocessed_train[\"damage_grade\"]\n",
    "\n",
    "preprocessed_train"
   ]
  },
  {
   "cell_type": "code",
   "execution_count": 21,
   "metadata": {
    "tags": []
   },
   "outputs": [
    {
     "output_type": "execute_result",
     "data": {
      "text/plain": [
       "        geo_level_1_id_0  geo_level_1_id_1  geo_level_1_id_2  \\\n",
       "0                      0                 0                 0   \n",
       "1                      0                 0                 0   \n",
       "2                      0                 0                 0   \n",
       "3                      0                 0                 0   \n",
       "4                      0                 0                 0   \n",
       "...                  ...               ...               ...   \n",
       "260594                 0                 0                 0   \n",
       "260596                 0                 0                 0   \n",
       "260598                 0                 0                 0   \n",
       "260599                 0                 0                 0   \n",
       "260600                 0                 0                 0   \n",
       "\n",
       "        geo_level_1_id_3  geo_level_1_id_4  geo_level_1_id_5  \\\n",
       "0                      0                 0                 0   \n",
       "1                      0                 0                 0   \n",
       "2                      0                 0                 0   \n",
       "3                      0                 0                 0   \n",
       "4                      0                 0                 0   \n",
       "...                  ...               ...               ...   \n",
       "260594                 0                 0                 0   \n",
       "260596                 0                 0                 0   \n",
       "260598                 0                 0                 0   \n",
       "260599                 0                 0                 0   \n",
       "260600                 0                 0                 0   \n",
       "\n",
       "        geo_level_1_id_6  geo_level_1_id_7  geo_level_1_id_8  \\\n",
       "0                      1                 0                 0   \n",
       "1                      0                 0                 1   \n",
       "2                      0                 0                 0   \n",
       "3                      0                 0                 0   \n",
       "4                      0                 0                 0   \n",
       "...                  ...               ...               ...   \n",
       "260594                 0                 0                 0   \n",
       "260596                 0                 0                 0   \n",
       "260598                 0                 0                 0   \n",
       "260599                 0                 0                 0   \n",
       "260600                 0                 0                 0   \n",
       "\n",
       "        geo_level_1_id_9  ...  ground_floor_type_x  ground_floor_type_z  \\\n",
       "0                      0  ...                    0                    0   \n",
       "1                      0  ...                    1                    0   \n",
       "2                      0  ...                    0                    0   \n",
       "3                      0  ...                    0                    0   \n",
       "4                      0  ...                    0                    0   \n",
       "...                  ...  ...                  ...                  ...   \n",
       "260594                 0  ...                    0                    0   \n",
       "260596                 0  ...                    0                    0   \n",
       "260598                 0  ...                    0                    0   \n",
       "260599                 0  ...                    0                    0   \n",
       "260600                 0  ...                    0                    0   \n",
       "\n",
       "        other_floor_type_j  other_floor_type_q  other_floor_type_s  \\\n",
       "0                        0                   1                   0   \n",
       "1                        0                   1                   0   \n",
       "2                        0                   0                   0   \n",
       "3                        0                   0                   0   \n",
       "4                        0                   0                   0   \n",
       "...                    ...                 ...                 ...   \n",
       "260594                   0                   0                   0   \n",
       "260596                   1                   0                   0   \n",
       "260598                   0                   1                   0   \n",
       "260599                   0                   0                   1   \n",
       "260600                   0                   1                   0   \n",
       "\n",
       "        other_floor_type_x  position_j  position_o  position_s  position_t  \n",
       "0                        0           0           0           0           1  \n",
       "1                        0           0           0           1           0  \n",
       "2                        1           0           0           0           1  \n",
       "3                        1           0           0           1           0  \n",
       "4                        1           0           0           1           0  \n",
       "...                    ...         ...         ...         ...         ...  \n",
       "260594                   1           1           0           0           0  \n",
       "260596                   0           0           0           1           0  \n",
       "260598                   0           0           0           1           0  \n",
       "260599                   0           1           0           0           0  \n",
       "260600                   0           1           0           0           0  \n",
       "\n",
       "[178531 rows x 55 columns]"
      ],
      "text/html": "<div>\n<style scoped>\n    .dataframe tbody tr th:only-of-type {\n        vertical-align: middle;\n    }\n\n    .dataframe tbody tr th {\n        vertical-align: top;\n    }\n\n    .dataframe thead th {\n        text-align: right;\n    }\n</style>\n<table border=\"1\" class=\"dataframe\">\n  <thead>\n    <tr style=\"text-align: right;\">\n      <th></th>\n      <th>geo_level_1_id_0</th>\n      <th>geo_level_1_id_1</th>\n      <th>geo_level_1_id_2</th>\n      <th>geo_level_1_id_3</th>\n      <th>geo_level_1_id_4</th>\n      <th>geo_level_1_id_5</th>\n      <th>geo_level_1_id_6</th>\n      <th>geo_level_1_id_7</th>\n      <th>geo_level_1_id_8</th>\n      <th>geo_level_1_id_9</th>\n      <th>...</th>\n      <th>ground_floor_type_x</th>\n      <th>ground_floor_type_z</th>\n      <th>other_floor_type_j</th>\n      <th>other_floor_type_q</th>\n      <th>other_floor_type_s</th>\n      <th>other_floor_type_x</th>\n      <th>position_j</th>\n      <th>position_o</th>\n      <th>position_s</th>\n      <th>position_t</th>\n    </tr>\n  </thead>\n  <tbody>\n    <tr>\n      <th>0</th>\n      <td>0</td>\n      <td>0</td>\n      <td>0</td>\n      <td>0</td>\n      <td>0</td>\n      <td>0</td>\n      <td>1</td>\n      <td>0</td>\n      <td>0</td>\n      <td>0</td>\n      <td>...</td>\n      <td>0</td>\n      <td>0</td>\n      <td>0</td>\n      <td>1</td>\n      <td>0</td>\n      <td>0</td>\n      <td>0</td>\n      <td>0</td>\n      <td>0</td>\n      <td>1</td>\n    </tr>\n    <tr>\n      <th>1</th>\n      <td>0</td>\n      <td>0</td>\n      <td>0</td>\n      <td>0</td>\n      <td>0</td>\n      <td>0</td>\n      <td>0</td>\n      <td>0</td>\n      <td>1</td>\n      <td>0</td>\n      <td>...</td>\n      <td>1</td>\n      <td>0</td>\n      <td>0</td>\n      <td>1</td>\n      <td>0</td>\n      <td>0</td>\n      <td>0</td>\n      <td>0</td>\n      <td>1</td>\n      <td>0</td>\n    </tr>\n    <tr>\n      <th>2</th>\n      <td>0</td>\n      <td>0</td>\n      <td>0</td>\n      <td>0</td>\n      <td>0</td>\n      <td>0</td>\n      <td>0</td>\n      <td>0</td>\n      <td>0</td>\n      <td>0</td>\n      <td>...</td>\n      <td>0</td>\n      <td>0</td>\n      <td>0</td>\n      <td>0</td>\n      <td>0</td>\n      <td>1</td>\n      <td>0</td>\n      <td>0</td>\n      <td>0</td>\n      <td>1</td>\n    </tr>\n    <tr>\n      <th>3</th>\n      <td>0</td>\n      <td>0</td>\n      <td>0</td>\n      <td>0</td>\n      <td>0</td>\n      <td>0</td>\n      <td>0</td>\n      <td>0</td>\n      <td>0</td>\n      <td>0</td>\n      <td>...</td>\n      <td>0</td>\n      <td>0</td>\n      <td>0</td>\n      <td>0</td>\n      <td>0</td>\n      <td>1</td>\n      <td>0</td>\n      <td>0</td>\n      <td>1</td>\n      <td>0</td>\n    </tr>\n    <tr>\n      <th>4</th>\n      <td>0</td>\n      <td>0</td>\n      <td>0</td>\n      <td>0</td>\n      <td>0</td>\n      <td>0</td>\n      <td>0</td>\n      <td>0</td>\n      <td>0</td>\n      <td>0</td>\n      <td>...</td>\n      <td>0</td>\n      <td>0</td>\n      <td>0</td>\n      <td>0</td>\n      <td>0</td>\n      <td>1</td>\n      <td>0</td>\n      <td>0</td>\n      <td>1</td>\n      <td>0</td>\n    </tr>\n    <tr>\n      <th>...</th>\n      <td>...</td>\n      <td>...</td>\n      <td>...</td>\n      <td>...</td>\n      <td>...</td>\n      <td>...</td>\n      <td>...</td>\n      <td>...</td>\n      <td>...</td>\n      <td>...</td>\n      <td>...</td>\n      <td>...</td>\n      <td>...</td>\n      <td>...</td>\n      <td>...</td>\n      <td>...</td>\n      <td>...</td>\n      <td>...</td>\n      <td>...</td>\n      <td>...</td>\n      <td>...</td>\n    </tr>\n    <tr>\n      <th>260594</th>\n      <td>0</td>\n      <td>0</td>\n      <td>0</td>\n      <td>0</td>\n      <td>0</td>\n      <td>0</td>\n      <td>0</td>\n      <td>0</td>\n      <td>0</td>\n      <td>0</td>\n      <td>...</td>\n      <td>0</td>\n      <td>0</td>\n      <td>0</td>\n      <td>0</td>\n      <td>0</td>\n      <td>1</td>\n      <td>1</td>\n      <td>0</td>\n      <td>0</td>\n      <td>0</td>\n    </tr>\n    <tr>\n      <th>260596</th>\n      <td>0</td>\n      <td>0</td>\n      <td>0</td>\n      <td>0</td>\n      <td>0</td>\n      <td>0</td>\n      <td>0</td>\n      <td>0</td>\n      <td>0</td>\n      <td>0</td>\n      <td>...</td>\n      <td>0</td>\n      <td>0</td>\n      <td>1</td>\n      <td>0</td>\n      <td>0</td>\n      <td>0</td>\n      <td>0</td>\n      <td>0</td>\n      <td>1</td>\n      <td>0</td>\n    </tr>\n    <tr>\n      <th>260598</th>\n      <td>0</td>\n      <td>0</td>\n      <td>0</td>\n      <td>0</td>\n      <td>0</td>\n      <td>0</td>\n      <td>0</td>\n      <td>0</td>\n      <td>0</td>\n      <td>0</td>\n      <td>...</td>\n      <td>0</td>\n      <td>0</td>\n      <td>0</td>\n      <td>1</td>\n      <td>0</td>\n      <td>0</td>\n      <td>0</td>\n      <td>0</td>\n      <td>1</td>\n      <td>0</td>\n    </tr>\n    <tr>\n      <th>260599</th>\n      <td>0</td>\n      <td>0</td>\n      <td>0</td>\n      <td>0</td>\n      <td>0</td>\n      <td>0</td>\n      <td>0</td>\n      <td>0</td>\n      <td>0</td>\n      <td>0</td>\n      <td>...</td>\n      <td>0</td>\n      <td>0</td>\n      <td>0</td>\n      <td>0</td>\n      <td>1</td>\n      <td>0</td>\n      <td>1</td>\n      <td>0</td>\n      <td>0</td>\n      <td>0</td>\n    </tr>\n    <tr>\n      <th>260600</th>\n      <td>0</td>\n      <td>0</td>\n      <td>0</td>\n      <td>0</td>\n      <td>0</td>\n      <td>0</td>\n      <td>0</td>\n      <td>0</td>\n      <td>0</td>\n      <td>0</td>\n      <td>...</td>\n      <td>0</td>\n      <td>0</td>\n      <td>0</td>\n      <td>1</td>\n      <td>0</td>\n      <td>0</td>\n      <td>1</td>\n      <td>0</td>\n      <td>0</td>\n      <td>0</td>\n    </tr>\n  </tbody>\n</table>\n<p>178531 rows × 55 columns</p>\n</div>"
     },
     "metadata": {},
     "execution_count": 21
    }
   ],
   "source": [
    "# One-hot-enconding\n",
    "label_encoders = {}\n",
    "categorical_columns = [\"geo_level_1_id\",\n",
    "                        # \"count_floors_pre_eq\",\n",
    "                        # \"age\",\n",
    "                        # \"area_percentage\",\n",
    "                        \"land_surface_condition\",\n",
    "                        \"foundation_type\",\n",
    "                        \"roof_type\",\n",
    "                        \"ground_floor_type\",\n",
    "                        \"other_floor_type\",\n",
    "                        \"position\",\n",
    "                        # \"count_families\",\n",
    "                        # \"has_superstructure\",\n",
    "                        # \"has_secondary\"\n",
    "                       ]\n",
    "train = pd.DataFrame()\n",
    "\n",
    "for column in categorical_columns:\n",
    "    dummies = pd.get_dummies(preprocessed_train[column])\n",
    "    dummies.columns = [column + \"_\" + str(x) for x in dummies.columns]\n",
    "    train = pd.concat([train, dummies], axis=1)\n",
    "\n",
    "train\n"
   ]
  },
  {
   "cell_type": "code",
   "execution_count": 77,
   "metadata": {},
   "outputs": [],
   "source": [
    "# define the undersampling method\n",
    "# Se prueba con los siguiente, no se reduce el desbalanceo (en CNN sí ??)\n",
    "\n",
    "# Quizás no estaría mal reducir el desbalanceo\n",
    "# https://stats.stackexchange.com/questions/28029/training-a-decision-tree-against-unbalanced-data\n",
    "\n",
    "# undersample = TomekLinks()\n",
    "# undersample = CondensedNearestNeighbour(n_neighbors=1)\n",
    "undersample = EditedNearestNeighbours(n_neighbors=3)\n",
    "# transform the dataset\n",
    "X, y = undersample.fit_resample(train, train_labels)"
   ]
  },
  {
   "cell_type": "code",
   "execution_count": 74,
   "metadata": {},
   "outputs": [
    {
     "output_type": "execute_result",
     "data": {
      "text/plain": [
       "0         3\n",
       "1         2\n",
       "2         3\n",
       "3         2\n",
       "4         3\n",
       "         ..\n",
       "260596    2\n",
       "260597    3\n",
       "260598    3\n",
       "260599    2\n",
       "260600    3\n",
       "Name: damage_grade, Length: 260601, dtype: int64"
      ]
     },
     "metadata": {},
     "execution_count": 74
    }
   ],
   "source": [
    "train_labels"
   ]
  },
  {
   "source": [
    "################################################################################\n",
    "# Write data\n",
    "################################################################################\n",
    "# preprocessed_train.to_csv(\"data/preprocessed_train.csv\", index=False)\n",
    "# preprocessed_test.to_csv(\"data/preprocessed_test.csv\", index=False)"
   ],
   "cell_type": "code",
   "metadata": {},
   "execution_count": 23,
   "outputs": []
  }
 ]
}