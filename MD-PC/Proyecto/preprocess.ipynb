{
 "metadata": {
  "language_info": {
   "codemirror_mode": {
    "name": "ipython",
    "version": 3
   },
   "file_extension": ".py",
   "mimetype": "text/x-python",
   "name": "python",
   "nbconvert_exporter": "python",
   "pygments_lexer": "ipython3",
   "version": "3.8.5-final"
  },
  "orig_nbformat": 2,
  "kernelspec": {
   "name": "python3",
   "display_name": "Python 3.8.5 64-bit (conda)",
   "metadata": {
    "interpreter": {
     "hash": "7489139fadedff3b08012098ca2abd2058b255578d7205af55c55f231e9a91e1"
    }
   }
  }
 },
 "nbformat": 4,
 "nbformat_minor": 2,
 "cells": [
  {
   "source": [
    "Preprocesamiento\n",
    "- No hace falta estandarizar, no estaría tampoco mal\n",
    "- Agrupar las binarias (has..) en grupos\n",
    "  - has_secondary_use (hay que añadir más para las combinaciones)\n",
    "  - has_superstructure\n",
    "- geo_level3 o 2 quizás se puedan agrupar en intervalos\n",
    "- Pasar las categóricas a números ? En sí las letras no tienen significado\n",
    "- Quizás agrupar la edad en intervalos\n",
    "- Ver qué hacer con las duplicadas\n",
    "- Los árboles son robustos al ruido, así que las variables extremadamente \n",
    "desbalanceadas no deberían hacer mucho daño. Considerar si quitar o no según el\n",
    "coste computacional que haya en principio.\n",
    "- Age de 995 mantenerlo, a ver si el árbol consigue algo del estilo if age>200 ...\n",
    "\n",
    "- Quizá la distancia, al ser datos del mismo terremoto sea muy relevante. \n",
    "Se podría reflejar en una combinación de las has_structure y geom_ids \n",
    "(el epicentro estaría por unos valores concretos de geom_id)\n",
    "\n",
    "-------\n",
    "\n",
    "- No necesitamos normalizar los datos en árboles. Además, no hacerlo nos ayudará a interpretar"
   ],
   "cell_type": "markdown",
   "metadata": {}
  },
  {
   "cell_type": "code",
   "execution_count": 39,
   "metadata": {},
   "outputs": [],
   "source": [
    "################################################################################\n",
    "# Libraries\n",
    "################################################################################\n",
    "\n",
    "import random\n",
    "\n",
    "import pandas as pd\n",
    "import numpy as np\n",
    "import matplotlib.pyplot as plt\n",
    "# import seaborn as sns\n",
    "\n",
    "# Preprocesamiento\n",
    "# from sklearn.preprocessing import Normalizer\n",
    "# from sklearn.decomposition import PCA\n",
    "from imblearn.under_sampling import EditedNearestNeighbours, TomekLinks, CondensedNearestNeighbour\n",
    "from sklearn.preprocessing import OneHotEncoder, LabelEncoder\n",
    "from sklearn.feature_selection import SelectKBest, chi2, mutual_info_classif\n"
   ]
  },
  {
   "cell_type": "code",
   "execution_count": 5,
   "metadata": {},
   "outputs": [],
   "source": [
    "################################################################################\n",
    "# Load data\n",
    "################################################################################\n",
    "\n",
    "train_values = pd.read_csv(\"data/train_values.csv\")\n",
    "test_values  = pd.read_csv(\"data/test_values.csv\")\n",
    "train_labels = pd.read_csv(\"data/train_labels.csv\")\n",
    "\n",
    "preprocessed_train = train_values\n",
    "preprocessed_test = test_values\n"
   ]
  },
  {
   "cell_type": "code",
   "execution_count": 5,
   "metadata": {},
   "outputs": [
    {
     "output_type": "stream",
     "name": "stdout",
     "text": [
      "0 building_id\n1 geo_level_1_id\n2 geo_level_2_id\n3 geo_level_3_id\n4 count_floors_pre_eq\n5 age\n6 area_percentage\n7 height_percentage\n8 land_surface_condition\n9 foundation_type\n10 roof_type\n11 ground_floor_type\n12 other_floor_type\n13 position\n14 plan_configuration\n15 has_superstructure_adobe_mud\n16 has_superstructure_mud_mortar_stone\n17 has_superstructure_stone_flag\n18 has_superstructure_cement_mortar_stone\n19 has_superstructure_mud_mortar_brick\n20 has_superstructure_cement_mortar_brick\n21 has_superstructure_timber\n22 has_superstructure_bamboo\n23 has_superstructure_rc_non_engineered\n24 has_superstructure_rc_engineered\n25 has_superstructure_other\n26 legal_ownership_status\n27 count_families\n28 has_secondary_use\n29 has_secondary_use_agriculture\n30 has_secondary_use_hotel\n31 has_secondary_use_rental\n32 has_secondary_use_institution\n33 has_secondary_use_school\n34 has_secondary_use_industry\n35 has_secondary_use_health_post\n36 has_secondary_use_gov_office\n37 has_secondary_use_use_police\n38 has_secondary_use_other\n"
     ]
    }
   ],
   "source": [
    "for i,c in enumerate(preprocessed_train.columns):\n",
    "    print(i, c)"
   ]
  },
  {
   "source": [
    "### IDEA\n",
    "\n",
    "Join columns\n",
    "- 15...25 (has superstructure) (they are not dummy variables, use combination)\n",
    "- 29...38 (has sencondary use) (probably dummy variables)\n",
    "\n",
    "Remove 28, not needed\n",
    "\n",
    "Reorder numerics next to numerics"
   ],
   "cell_type": "markdown",
   "metadata": {}
  },
  {
   "cell_type": "code",
   "execution_count": 14,
   "metadata": {},
   "outputs": [],
   "source": [
    "# No hay duplicados en los ids, se pueden quitar\n",
    "# preprocessed_train.building_id.duplicated\n",
    "\n",
    "preprocessed_train = preprocessed_train.drop(columns=\"building_id\")\n",
    "preprocessed_test = preprocessed_test.drop(columns=\"building_id\")\n",
    "\n",
    "# Lo mismo con las etiquetas\n",
    "train_labels = train_labels.drop(columns=\"building_id\")"
   ]
  },
  {
   "cell_type": "code",
   "execution_count": 7,
   "metadata": {},
   "outputs": [],
   "source": [
    "############################################################################\n",
    "# Preprocesado Nº 2\n",
    "############################################################################\n",
    "\n",
    "# Quitamos geo_2 y geo_3. Tienen demasiadas categorías diferentes para los árboles,\n",
    "# y no se solapan\n",
    "preprocessed_train = preprocessed_train.drop(columns=[\"geo_level_2_id\",\"geo_level_3_id\"])\n",
    "preprocessed_test = preprocessed_test.drop(columns=[\"geo_level_2_id\",\"geo_level_3_id\"])\n",
    "\n",
    "\n",
    "# En estas dos predomina (+85%) una clase y el resto no sirve para determinar\n",
    "# ninguna etiqueta (se mantiene la proporción o las 3 están representadas)\n",
    "preprocessed_train = preprocessed_train.drop(columns=[\"plan_configuration\",\"legal_ownership_status\"])\n",
    "preprocessed_test = preprocessed_test.drop(columns=[\"plan_configuration\",\"legal_ownership_status\"])"
   ]
  },
  {
   "cell_type": "code",
   "execution_count": 8,
   "metadata": {},
   "outputs": [],
   "source": [
    "# Altura y nº de plantas altamente correladas, categorizamos nº de plantas y quitamos altura\n",
    "# Solo una instancia con 9 plantas, y las anteriores no siguen el mismo patrón (que todas sufrieran el mismo tipo de daño)\n",
    "# Como tenemos proporciones muy similares, juntamos las +5 con ella\n",
    "preprocessed_train[\"count_floors_pre_eq\"] = preprocessed_train[\"count_floors_pre_eq\"].replace({6:5, 7:5, 8:5, 9:5})\n",
    "preprocessed_test[\"count_floors_pre_eq\"] = preprocessed_test[\"count_floors_pre_eq\"].replace({6:5, 7:5, 8:5, 9:5})\n",
    "\n",
    "# No nos interesan variables numéricas en los árboles, acabarían discretizándose\n",
    "preprocessed_train = preprocessed_train.drop(columns=[\"height_percentage\"])\n",
    "preprocessed_test = preprocessed_test.drop(columns=[\"height_percentage\"])\n"
   ]
  },
  {
   "cell_type": "code",
   "execution_count": 9,
   "metadata": {},
   "outputs": [
    {
     "output_type": "execute_result",
     "data": {
      "text/plain": [
       "        geo_level_1_id  count_floors_pre_eq  age  area_percentage  \\\n",
       "0                    6                    2   30                6   \n",
       "1                    8                    2   10                8   \n",
       "2                   21                    2   10                5   \n",
       "3                   22                    2   10                6   \n",
       "4                   11                    3   30                8   \n",
       "...                ...                  ...  ...              ...   \n",
       "260596              25                    1   55                6   \n",
       "260597              17                    2    0                6   \n",
       "260598              17                    3   55                6   \n",
       "260599              26                    2   10               14   \n",
       "260600              21                    3   10                7   \n",
       "\n",
       "       land_surface_condition foundation_type roof_type ground_floor_type  \\\n",
       "0                           t               r         n                 f   \n",
       "1                           o               r         n                 x   \n",
       "2                           t               r         n                 f   \n",
       "3                           t               r         n                 f   \n",
       "4                           t               r         n                 f   \n",
       "...                       ...             ...       ...               ...   \n",
       "260596                      n               r         n                 f   \n",
       "260597                      t               r         n                 f   \n",
       "260598                      t               r         q                 f   \n",
       "260599                      t               r         x                 v   \n",
       "260600                      n               r         n                 f   \n",
       "\n",
       "       other_floor_type position  ...  has_secondary_use_agriculture  \\\n",
       "0                     q        t  ...                              0   \n",
       "1                     q        s  ...                              0   \n",
       "2                     x        t  ...                              0   \n",
       "3                     x        s  ...                              0   \n",
       "4                     x        s  ...                              0   \n",
       "...                 ...      ...  ...                            ...   \n",
       "260596                j        s  ...                              0   \n",
       "260597                q        s  ...                              0   \n",
       "260598                q        s  ...                              0   \n",
       "260599                s        j  ...                              0   \n",
       "260600                q        j  ...                              0   \n",
       "\n",
       "        has_secondary_use_hotel  has_secondary_use_rental  \\\n",
       "0                             0                         0   \n",
       "1                             0                         0   \n",
       "2                             0                         0   \n",
       "3                             0                         0   \n",
       "4                             0                         0   \n",
       "...                         ...                       ...   \n",
       "260596                        0                         0   \n",
       "260597                        0                         0   \n",
       "260598                        0                         0   \n",
       "260599                        0                         0   \n",
       "260600                        0                         0   \n",
       "\n",
       "        has_secondary_use_institution  has_secondary_use_school  \\\n",
       "0                                   0                         0   \n",
       "1                                   0                         0   \n",
       "2                                   0                         0   \n",
       "3                                   0                         0   \n",
       "4                                   0                         0   \n",
       "...                               ...                       ...   \n",
       "260596                              0                         0   \n",
       "260597                              0                         0   \n",
       "260598                              0                         0   \n",
       "260599                              0                         0   \n",
       "260600                              0                         0   \n",
       "\n",
       "        has_secondary_use_industry  has_secondary_use_health_post  \\\n",
       "0                                0                              0   \n",
       "1                                0                              0   \n",
       "2                                0                              0   \n",
       "3                                0                              0   \n",
       "4                                0                              0   \n",
       "...                            ...                            ...   \n",
       "260596                           0                              0   \n",
       "260597                           0                              0   \n",
       "260598                           0                              0   \n",
       "260599                           0                              0   \n",
       "260600                           0                              0   \n",
       "\n",
       "        has_secondary_use_gov_office  has_secondary_use_use_police  \\\n",
       "0                                  0                             0   \n",
       "1                                  0                             0   \n",
       "2                                  0                             0   \n",
       "3                                  0                             0   \n",
       "4                                  0                             0   \n",
       "...                              ...                           ...   \n",
       "260596                             0                             0   \n",
       "260597                             0                             0   \n",
       "260598                             0                             0   \n",
       "260599                             0                             0   \n",
       "260600                             0                             0   \n",
       "\n",
       "        has_secondary_use_other  \n",
       "0                             0  \n",
       "1                             0  \n",
       "2                             0  \n",
       "3                             0  \n",
       "4                             0  \n",
       "...                         ...  \n",
       "260596                        0  \n",
       "260597                        0  \n",
       "260598                        0  \n",
       "260599                        0  \n",
       "260600                        0  \n",
       "\n",
       "[260601 rows x 33 columns]"
      ],
      "text/html": "<div>\n<style scoped>\n    .dataframe tbody tr th:only-of-type {\n        vertical-align: middle;\n    }\n\n    .dataframe tbody tr th {\n        vertical-align: top;\n    }\n\n    .dataframe thead th {\n        text-align: right;\n    }\n</style>\n<table border=\"1\" class=\"dataframe\">\n  <thead>\n    <tr style=\"text-align: right;\">\n      <th></th>\n      <th>geo_level_1_id</th>\n      <th>count_floors_pre_eq</th>\n      <th>age</th>\n      <th>area_percentage</th>\n      <th>land_surface_condition</th>\n      <th>foundation_type</th>\n      <th>roof_type</th>\n      <th>ground_floor_type</th>\n      <th>other_floor_type</th>\n      <th>position</th>\n      <th>...</th>\n      <th>has_secondary_use_agriculture</th>\n      <th>has_secondary_use_hotel</th>\n      <th>has_secondary_use_rental</th>\n      <th>has_secondary_use_institution</th>\n      <th>has_secondary_use_school</th>\n      <th>has_secondary_use_industry</th>\n      <th>has_secondary_use_health_post</th>\n      <th>has_secondary_use_gov_office</th>\n      <th>has_secondary_use_use_police</th>\n      <th>has_secondary_use_other</th>\n    </tr>\n  </thead>\n  <tbody>\n    <tr>\n      <th>0</th>\n      <td>6</td>\n      <td>2</td>\n      <td>30</td>\n      <td>6</td>\n      <td>t</td>\n      <td>r</td>\n      <td>n</td>\n      <td>f</td>\n      <td>q</td>\n      <td>t</td>\n      <td>...</td>\n      <td>0</td>\n      <td>0</td>\n      <td>0</td>\n      <td>0</td>\n      <td>0</td>\n      <td>0</td>\n      <td>0</td>\n      <td>0</td>\n      <td>0</td>\n      <td>0</td>\n    </tr>\n    <tr>\n      <th>1</th>\n      <td>8</td>\n      <td>2</td>\n      <td>10</td>\n      <td>8</td>\n      <td>o</td>\n      <td>r</td>\n      <td>n</td>\n      <td>x</td>\n      <td>q</td>\n      <td>s</td>\n      <td>...</td>\n      <td>0</td>\n      <td>0</td>\n      <td>0</td>\n      <td>0</td>\n      <td>0</td>\n      <td>0</td>\n      <td>0</td>\n      <td>0</td>\n      <td>0</td>\n      <td>0</td>\n    </tr>\n    <tr>\n      <th>2</th>\n      <td>21</td>\n      <td>2</td>\n      <td>10</td>\n      <td>5</td>\n      <td>t</td>\n      <td>r</td>\n      <td>n</td>\n      <td>f</td>\n      <td>x</td>\n      <td>t</td>\n      <td>...</td>\n      <td>0</td>\n      <td>0</td>\n      <td>0</td>\n      <td>0</td>\n      <td>0</td>\n      <td>0</td>\n      <td>0</td>\n      <td>0</td>\n      <td>0</td>\n      <td>0</td>\n    </tr>\n    <tr>\n      <th>3</th>\n      <td>22</td>\n      <td>2</td>\n      <td>10</td>\n      <td>6</td>\n      <td>t</td>\n      <td>r</td>\n      <td>n</td>\n      <td>f</td>\n      <td>x</td>\n      <td>s</td>\n      <td>...</td>\n      <td>0</td>\n      <td>0</td>\n      <td>0</td>\n      <td>0</td>\n      <td>0</td>\n      <td>0</td>\n      <td>0</td>\n      <td>0</td>\n      <td>0</td>\n      <td>0</td>\n    </tr>\n    <tr>\n      <th>4</th>\n      <td>11</td>\n      <td>3</td>\n      <td>30</td>\n      <td>8</td>\n      <td>t</td>\n      <td>r</td>\n      <td>n</td>\n      <td>f</td>\n      <td>x</td>\n      <td>s</td>\n      <td>...</td>\n      <td>0</td>\n      <td>0</td>\n      <td>0</td>\n      <td>0</td>\n      <td>0</td>\n      <td>0</td>\n      <td>0</td>\n      <td>0</td>\n      <td>0</td>\n      <td>0</td>\n    </tr>\n    <tr>\n      <th>...</th>\n      <td>...</td>\n      <td>...</td>\n      <td>...</td>\n      <td>...</td>\n      <td>...</td>\n      <td>...</td>\n      <td>...</td>\n      <td>...</td>\n      <td>...</td>\n      <td>...</td>\n      <td>...</td>\n      <td>...</td>\n      <td>...</td>\n      <td>...</td>\n      <td>...</td>\n      <td>...</td>\n      <td>...</td>\n      <td>...</td>\n      <td>...</td>\n      <td>...</td>\n      <td>...</td>\n    </tr>\n    <tr>\n      <th>260596</th>\n      <td>25</td>\n      <td>1</td>\n      <td>55</td>\n      <td>6</td>\n      <td>n</td>\n      <td>r</td>\n      <td>n</td>\n      <td>f</td>\n      <td>j</td>\n      <td>s</td>\n      <td>...</td>\n      <td>0</td>\n      <td>0</td>\n      <td>0</td>\n      <td>0</td>\n      <td>0</td>\n      <td>0</td>\n      <td>0</td>\n      <td>0</td>\n      <td>0</td>\n      <td>0</td>\n    </tr>\n    <tr>\n      <th>260597</th>\n      <td>17</td>\n      <td>2</td>\n      <td>0</td>\n      <td>6</td>\n      <td>t</td>\n      <td>r</td>\n      <td>n</td>\n      <td>f</td>\n      <td>q</td>\n      <td>s</td>\n      <td>...</td>\n      <td>0</td>\n      <td>0</td>\n      <td>0</td>\n      <td>0</td>\n      <td>0</td>\n      <td>0</td>\n      <td>0</td>\n      <td>0</td>\n      <td>0</td>\n      <td>0</td>\n    </tr>\n    <tr>\n      <th>260598</th>\n      <td>17</td>\n      <td>3</td>\n      <td>55</td>\n      <td>6</td>\n      <td>t</td>\n      <td>r</td>\n      <td>q</td>\n      <td>f</td>\n      <td>q</td>\n      <td>s</td>\n      <td>...</td>\n      <td>0</td>\n      <td>0</td>\n      <td>0</td>\n      <td>0</td>\n      <td>0</td>\n      <td>0</td>\n      <td>0</td>\n      <td>0</td>\n      <td>0</td>\n      <td>0</td>\n    </tr>\n    <tr>\n      <th>260599</th>\n      <td>26</td>\n      <td>2</td>\n      <td>10</td>\n      <td>14</td>\n      <td>t</td>\n      <td>r</td>\n      <td>x</td>\n      <td>v</td>\n      <td>s</td>\n      <td>j</td>\n      <td>...</td>\n      <td>0</td>\n      <td>0</td>\n      <td>0</td>\n      <td>0</td>\n      <td>0</td>\n      <td>0</td>\n      <td>0</td>\n      <td>0</td>\n      <td>0</td>\n      <td>0</td>\n    </tr>\n    <tr>\n      <th>260600</th>\n      <td>21</td>\n      <td>3</td>\n      <td>10</td>\n      <td>7</td>\n      <td>n</td>\n      <td>r</td>\n      <td>n</td>\n      <td>f</td>\n      <td>q</td>\n      <td>j</td>\n      <td>...</td>\n      <td>0</td>\n      <td>0</td>\n      <td>0</td>\n      <td>0</td>\n      <td>0</td>\n      <td>0</td>\n      <td>0</td>\n      <td>0</td>\n      <td>0</td>\n      <td>0</td>\n    </tr>\n  </tbody>\n</table>\n<p>260601 rows × 33 columns</p>\n</div>"
     },
     "metadata": {},
     "execution_count": 9
    }
   ],
   "source": [
    "preprocessed_train"
   ]
  },
  {
   "cell_type": "code",
   "execution_count": 47,
   "metadata": {
    "tags": []
   },
   "outputs": [],
   "source": [
    "# One-hot-enconding\n",
    "label_encoders = {}\n",
    "categorical_columns = [\"geo_level_1_id\",\n",
    "                        # \"count_floors_pre_eq\",\n",
    "                        # \"age\",\n",
    "                        # \"area_percentage\",\n",
    "                        \"land_surface_condition\",\n",
    "                        \"foundation_type\",\n",
    "                        \"roof_type\",\n",
    "                        \"ground_floor_type\",\n",
    "                        \"other_floor_type\",\n",
    "                        \"position\",\n",
    "                        # \"count_families\",\n",
    "                        # \"has_superstructure\",\n",
    "                        # \"has_secondary\"\n",
    "                       ]\n",
    "for column in categorical_columns:\n",
    "    # Para training\n",
    "    dummies = pd.get_dummies(preprocessed_train[column])\n",
    "    dummies.columns = [column + \"_\" + str(x) for x in dummies.columns]\n",
    "    preprocessed_train = preprocessed_train.drop(columns=column)\n",
    "    preprocessed_train = pd.concat([preprocessed_train, dummies], axis=1)\n",
    "\n",
    "    # Para test\n",
    "    dummies = pd.get_dummies(preprocessed_test[column])\n",
    "    dummies.columns = [column + \"_\" + str(x) for x in dummies.columns]\n",
    "    preprocessed_test = preprocessed_test.drop(columns=column)\n",
    "    preprocessed_test = pd.concat([preprocessed_test, dummies], axis=1)\n"
   ]
  },
  {
   "cell_type": "code",
   "execution_count": 11,
   "metadata": {},
   "outputs": [
    {
     "output_type": "execute_result",
     "data": {
      "text/plain": [
       "        count_floors_pre_eq  age  area_percentage  \\\n",
       "0                         2   30                6   \n",
       "1                         2   10                8   \n",
       "2                         2   10                5   \n",
       "3                         2   10                6   \n",
       "4                         3   30                8   \n",
       "...                     ...  ...              ...   \n",
       "260596                    1   55                6   \n",
       "260597                    2    0                6   \n",
       "260598                    3   55                6   \n",
       "260599                    2   10               14   \n",
       "260600                    3   10                7   \n",
       "\n",
       "        has_superstructure_adobe_mud  has_superstructure_mud_mortar_stone  \\\n",
       "0                                  1                                    1   \n",
       "1                                  0                                    1   \n",
       "2                                  0                                    1   \n",
       "3                                  0                                    1   \n",
       "4                                  1                                    0   \n",
       "...                              ...                                  ...   \n",
       "260596                             0                                    1   \n",
       "260597                             0                                    1   \n",
       "260598                             0                                    1   \n",
       "260599                             0                                    0   \n",
       "260600                             0                                    1   \n",
       "\n",
       "        has_superstructure_stone_flag  has_superstructure_cement_mortar_stone  \\\n",
       "0                                   0                                       0   \n",
       "1                                   0                                       0   \n",
       "2                                   0                                       0   \n",
       "3                                   0                                       0   \n",
       "4                                   0                                       0   \n",
       "...                               ...                                     ...   \n",
       "260596                              0                                       0   \n",
       "260597                              0                                       0   \n",
       "260598                              0                                       0   \n",
       "260599                              0                                       0   \n",
       "260600                              0                                       0   \n",
       "\n",
       "        has_superstructure_mud_mortar_brick  \\\n",
       "0                                         0   \n",
       "1                                         0   \n",
       "2                                         0   \n",
       "3                                         0   \n",
       "4                                         0   \n",
       "...                                     ...   \n",
       "260596                                    0   \n",
       "260597                                    0   \n",
       "260598                                    0   \n",
       "260599                                    0   \n",
       "260600                                    0   \n",
       "\n",
       "        has_superstructure_cement_mortar_brick  has_superstructure_timber  \\\n",
       "0                                            0                          0   \n",
       "1                                            0                          0   \n",
       "2                                            0                          0   \n",
       "3                                            0                          1   \n",
       "4                                            0                          0   \n",
       "...                                        ...                        ...   \n",
       "260596                                       0                          0   \n",
       "260597                                       0                          0   \n",
       "260598                                       0                          0   \n",
       "260599                                       1                          0   \n",
       "260600                                       0                          0   \n",
       "\n",
       "        ...  ground_floor_type_x  ground_floor_type_z  other_floor_type_j  \\\n",
       "0       ...                    0                    0                   0   \n",
       "1       ...                    1                    0                   0   \n",
       "2       ...                    0                    0                   0   \n",
       "3       ...                    0                    0                   0   \n",
       "4       ...                    0                    0                   0   \n",
       "...     ...                  ...                  ...                 ...   \n",
       "260596  ...                    0                    0                   1   \n",
       "260597  ...                    0                    0                   0   \n",
       "260598  ...                    0                    0                   0   \n",
       "260599  ...                    0                    0                   0   \n",
       "260600  ...                    0                    0                   0   \n",
       "\n",
       "        other_floor_type_q  other_floor_type_s  other_floor_type_x  \\\n",
       "0                        1                   0                   0   \n",
       "1                        1                   0                   0   \n",
       "2                        0                   0                   1   \n",
       "3                        0                   0                   1   \n",
       "4                        0                   0                   1   \n",
       "...                    ...                 ...                 ...   \n",
       "260596                   0                   0                   0   \n",
       "260597                   1                   0                   0   \n",
       "260598                   1                   0                   0   \n",
       "260599                   0                   1                   0   \n",
       "260600                   1                   0                   0   \n",
       "\n",
       "        position_j  position_o  position_s  position_t  \n",
       "0                0           0           0           1  \n",
       "1                0           0           1           0  \n",
       "2                0           0           0           1  \n",
       "3                0           0           1           0  \n",
       "4                0           0           1           0  \n",
       "...            ...         ...         ...         ...  \n",
       "260596           0           0           1           0  \n",
       "260597           0           0           1           0  \n",
       "260598           0           0           1           0  \n",
       "260599           1           0           0           0  \n",
       "260600           1           0           0           0  \n",
       "\n",
       "[260601 rows x 81 columns]"
      ],
      "text/html": "<div>\n<style scoped>\n    .dataframe tbody tr th:only-of-type {\n        vertical-align: middle;\n    }\n\n    .dataframe tbody tr th {\n        vertical-align: top;\n    }\n\n    .dataframe thead th {\n        text-align: right;\n    }\n</style>\n<table border=\"1\" class=\"dataframe\">\n  <thead>\n    <tr style=\"text-align: right;\">\n      <th></th>\n      <th>count_floors_pre_eq</th>\n      <th>age</th>\n      <th>area_percentage</th>\n      <th>has_superstructure_adobe_mud</th>\n      <th>has_superstructure_mud_mortar_stone</th>\n      <th>has_superstructure_stone_flag</th>\n      <th>has_superstructure_cement_mortar_stone</th>\n      <th>has_superstructure_mud_mortar_brick</th>\n      <th>has_superstructure_cement_mortar_brick</th>\n      <th>has_superstructure_timber</th>\n      <th>...</th>\n      <th>ground_floor_type_x</th>\n      <th>ground_floor_type_z</th>\n      <th>other_floor_type_j</th>\n      <th>other_floor_type_q</th>\n      <th>other_floor_type_s</th>\n      <th>other_floor_type_x</th>\n      <th>position_j</th>\n      <th>position_o</th>\n      <th>position_s</th>\n      <th>position_t</th>\n    </tr>\n  </thead>\n  <tbody>\n    <tr>\n      <th>0</th>\n      <td>2</td>\n      <td>30</td>\n      <td>6</td>\n      <td>1</td>\n      <td>1</td>\n      <td>0</td>\n      <td>0</td>\n      <td>0</td>\n      <td>0</td>\n      <td>0</td>\n      <td>...</td>\n      <td>0</td>\n      <td>0</td>\n      <td>0</td>\n      <td>1</td>\n      <td>0</td>\n      <td>0</td>\n      <td>0</td>\n      <td>0</td>\n      <td>0</td>\n      <td>1</td>\n    </tr>\n    <tr>\n      <th>1</th>\n      <td>2</td>\n      <td>10</td>\n      <td>8</td>\n      <td>0</td>\n      <td>1</td>\n      <td>0</td>\n      <td>0</td>\n      <td>0</td>\n      <td>0</td>\n      <td>0</td>\n      <td>...</td>\n      <td>1</td>\n      <td>0</td>\n      <td>0</td>\n      <td>1</td>\n      <td>0</td>\n      <td>0</td>\n      <td>0</td>\n      <td>0</td>\n      <td>1</td>\n      <td>0</td>\n    </tr>\n    <tr>\n      <th>2</th>\n      <td>2</td>\n      <td>10</td>\n      <td>5</td>\n      <td>0</td>\n      <td>1</td>\n      <td>0</td>\n      <td>0</td>\n      <td>0</td>\n      <td>0</td>\n      <td>0</td>\n      <td>...</td>\n      <td>0</td>\n      <td>0</td>\n      <td>0</td>\n      <td>0</td>\n      <td>0</td>\n      <td>1</td>\n      <td>0</td>\n      <td>0</td>\n      <td>0</td>\n      <td>1</td>\n    </tr>\n    <tr>\n      <th>3</th>\n      <td>2</td>\n      <td>10</td>\n      <td>6</td>\n      <td>0</td>\n      <td>1</td>\n      <td>0</td>\n      <td>0</td>\n      <td>0</td>\n      <td>0</td>\n      <td>1</td>\n      <td>...</td>\n      <td>0</td>\n      <td>0</td>\n      <td>0</td>\n      <td>0</td>\n      <td>0</td>\n      <td>1</td>\n      <td>0</td>\n      <td>0</td>\n      <td>1</td>\n      <td>0</td>\n    </tr>\n    <tr>\n      <th>4</th>\n      <td>3</td>\n      <td>30</td>\n      <td>8</td>\n      <td>1</td>\n      <td>0</td>\n      <td>0</td>\n      <td>0</td>\n      <td>0</td>\n      <td>0</td>\n      <td>0</td>\n      <td>...</td>\n      <td>0</td>\n      <td>0</td>\n      <td>0</td>\n      <td>0</td>\n      <td>0</td>\n      <td>1</td>\n      <td>0</td>\n      <td>0</td>\n      <td>1</td>\n      <td>0</td>\n    </tr>\n    <tr>\n      <th>...</th>\n      <td>...</td>\n      <td>...</td>\n      <td>...</td>\n      <td>...</td>\n      <td>...</td>\n      <td>...</td>\n      <td>...</td>\n      <td>...</td>\n      <td>...</td>\n      <td>...</td>\n      <td>...</td>\n      <td>...</td>\n      <td>...</td>\n      <td>...</td>\n      <td>...</td>\n      <td>...</td>\n      <td>...</td>\n      <td>...</td>\n      <td>...</td>\n      <td>...</td>\n      <td>...</td>\n    </tr>\n    <tr>\n      <th>260596</th>\n      <td>1</td>\n      <td>55</td>\n      <td>6</td>\n      <td>0</td>\n      <td>1</td>\n      <td>0</td>\n      <td>0</td>\n      <td>0</td>\n      <td>0</td>\n      <td>0</td>\n      <td>...</td>\n      <td>0</td>\n      <td>0</td>\n      <td>1</td>\n      <td>0</td>\n      <td>0</td>\n      <td>0</td>\n      <td>0</td>\n      <td>0</td>\n      <td>1</td>\n      <td>0</td>\n    </tr>\n    <tr>\n      <th>260597</th>\n      <td>2</td>\n      <td>0</td>\n      <td>6</td>\n      <td>0</td>\n      <td>1</td>\n      <td>0</td>\n      <td>0</td>\n      <td>0</td>\n      <td>0</td>\n      <td>0</td>\n      <td>...</td>\n      <td>0</td>\n      <td>0</td>\n      <td>0</td>\n      <td>1</td>\n      <td>0</td>\n      <td>0</td>\n      <td>0</td>\n      <td>0</td>\n      <td>1</td>\n      <td>0</td>\n    </tr>\n    <tr>\n      <th>260598</th>\n      <td>3</td>\n      <td>55</td>\n      <td>6</td>\n      <td>0</td>\n      <td>1</td>\n      <td>0</td>\n      <td>0</td>\n      <td>0</td>\n      <td>0</td>\n      <td>0</td>\n      <td>...</td>\n      <td>0</td>\n      <td>0</td>\n      <td>0</td>\n      <td>1</td>\n      <td>0</td>\n      <td>0</td>\n      <td>0</td>\n      <td>0</td>\n      <td>1</td>\n      <td>0</td>\n    </tr>\n    <tr>\n      <th>260599</th>\n      <td>2</td>\n      <td>10</td>\n      <td>14</td>\n      <td>0</td>\n      <td>0</td>\n      <td>0</td>\n      <td>0</td>\n      <td>0</td>\n      <td>1</td>\n      <td>0</td>\n      <td>...</td>\n      <td>0</td>\n      <td>0</td>\n      <td>0</td>\n      <td>0</td>\n      <td>1</td>\n      <td>0</td>\n      <td>1</td>\n      <td>0</td>\n      <td>0</td>\n      <td>0</td>\n    </tr>\n    <tr>\n      <th>260600</th>\n      <td>3</td>\n      <td>10</td>\n      <td>7</td>\n      <td>0</td>\n      <td>1</td>\n      <td>0</td>\n      <td>0</td>\n      <td>0</td>\n      <td>0</td>\n      <td>0</td>\n      <td>...</td>\n      <td>0</td>\n      <td>0</td>\n      <td>0</td>\n      <td>1</td>\n      <td>0</td>\n      <td>0</td>\n      <td>1</td>\n      <td>0</td>\n      <td>0</td>\n      <td>0</td>\n    </tr>\n  </tbody>\n</table>\n<p>260601 rows × 81 columns</p>\n</div>"
     },
     "metadata": {},
     "execution_count": 11
    }
   ],
   "source": [
    "preprocessed_train"
   ]
  },
  {
   "cell_type": "code",
   "execution_count": 26,
   "metadata": {},
   "outputs": [],
   "source": [
    "# Preprocesado 3.1\n",
    "# Selección de características\n",
    "# For classification: chi2, f_classif, mutual_info_classif\n",
    "selector = SelectKBest(chi2, k=10)\n",
    "selector.fit(preprocessed_train, train_labels)\n",
    "X_new = selector.transform(preprocessed_train)\n"
   ]
  },
  {
   "cell_type": "code",
   "execution_count": 43,
   "metadata": {},
   "outputs": [
    {
     "output_type": "execute_result",
     "data": {
      "text/plain": [
       "Index(['age', 'area_percentage', 'has_superstructure_cement_mortar_brick',\n",
       "       'has_superstructure_rc_engineered', 'geo_level_1_id_17',\n",
       "       'geo_level_1_id_26', 'foundation_type_i', 'roof_type_x',\n",
       "       'ground_floor_type_v', 'other_floor_type_s'],\n",
       "      dtype='object')"
      ]
     },
     "metadata": {},
     "execution_count": 43
    }
   ],
   "source": [
    "columns = preprocessed_train.columns[selector.get_support()]\n",
    "columns"
   ]
  },
  {
   "cell_type": "code",
   "execution_count": 38,
   "metadata": {},
   "outputs": [
    {
     "output_type": "execute_result",
     "data": {
      "text/plain": [
       "         0             1             2            3            4   \\\n",
       "0  1260.091  89437.601578  11938.314627  1340.145544  6969.601844   \n",
       "\n",
       "            5           6           7             8           9   ...  \\\n",
       "0  1108.404575  936.793309  987.065751  18949.414382  977.290073  ...   \n",
       "\n",
       "          71          72           73          74            75         76  \\\n",
       "0  60.551665  122.429528  7422.919931  5108.46128  18549.408221  406.60249   \n",
       "\n",
       "           77          78        79          80  \n",
       "0  259.354872  148.779877  49.37144  622.421247  \n",
       "\n",
       "[1 rows x 81 columns]"
      ],
      "text/html": "<div>\n<style scoped>\n    .dataframe tbody tr th:only-of-type {\n        vertical-align: middle;\n    }\n\n    .dataframe tbody tr th {\n        vertical-align: top;\n    }\n\n    .dataframe thead th {\n        text-align: right;\n    }\n</style>\n<table border=\"1\" class=\"dataframe\">\n  <thead>\n    <tr style=\"text-align: right;\">\n      <th></th>\n      <th>0</th>\n      <th>1</th>\n      <th>2</th>\n      <th>3</th>\n      <th>4</th>\n      <th>5</th>\n      <th>6</th>\n      <th>7</th>\n      <th>8</th>\n      <th>9</th>\n      <th>...</th>\n      <th>71</th>\n      <th>72</th>\n      <th>73</th>\n      <th>74</th>\n      <th>75</th>\n      <th>76</th>\n      <th>77</th>\n      <th>78</th>\n      <th>79</th>\n      <th>80</th>\n    </tr>\n  </thead>\n  <tbody>\n    <tr>\n      <th>0</th>\n      <td>1260.091</td>\n      <td>89437.601578</td>\n      <td>11938.314627</td>\n      <td>1340.145544</td>\n      <td>6969.601844</td>\n      <td>1108.404575</td>\n      <td>936.793309</td>\n      <td>987.065751</td>\n      <td>18949.414382</td>\n      <td>977.290073</td>\n      <td>...</td>\n      <td>60.551665</td>\n      <td>122.429528</td>\n      <td>7422.919931</td>\n      <td>5108.46128</td>\n      <td>18549.408221</td>\n      <td>406.60249</td>\n      <td>259.354872</td>\n      <td>148.779877</td>\n      <td>49.37144</td>\n      <td>622.421247</td>\n    </tr>\n  </tbody>\n</table>\n<p>1 rows × 81 columns</p>\n</div>"
     },
     "metadata": {},
     "execution_count": 38
    }
   ],
   "source": [
    "# what are scores for the features\n",
    "pd.DataFrame(selector.scores_).transpose()"
   ]
  },
  {
   "cell_type": "code",
   "execution_count": 33,
   "metadata": {},
   "outputs": [
    {
     "output_type": "display_data",
     "data": {
      "text/plain": "<Figure size 432x288 with 1 Axes>",
      "image/svg+xml": "<?xml version=\"1.0\" encoding=\"utf-8\" standalone=\"no\"?>\r\n<!DOCTYPE svg PUBLIC \"-//W3C//DTD SVG 1.1//EN\"\r\n  \"http://www.w3.org/Graphics/SVG/1.1/DTD/svg11.dtd\">\r\n<!-- Created with matplotlib (https://matplotlib.org/) -->\r\n<svg height=\"248.518125pt\" version=\"1.1\" viewBox=\"0 0 388.0125 248.518125\" width=\"388.0125pt\" xmlns=\"http://www.w3.org/2000/svg\" xmlns:xlink=\"http://www.w3.org/1999/xlink\">\r\n <metadata>\r\n  <rdf:RDF xmlns:cc=\"http://creativecommons.org/ns#\" xmlns:dc=\"http://purl.org/dc/elements/1.1/\" xmlns:rdf=\"http://www.w3.org/1999/02/22-rdf-syntax-ns#\">\r\n   <cc:Work>\r\n    <dc:type rdf:resource=\"http://purl.org/dc/dcmitype/StillImage\"/>\r\n    <dc:date>2021-01-10T16:18:14.719573</dc:date>\r\n    <dc:format>image/svg+xml</dc:format>\r\n    <dc:creator>\r\n     <cc:Agent>\r\n      <dc:title>Matplotlib v3.3.2, https://matplotlib.org/</dc:title>\r\n     </cc:Agent>\r\n    </dc:creator>\r\n   </cc:Work>\r\n  </rdf:RDF>\r\n </metadata>\r\n <defs>\r\n  <style type=\"text/css\">*{stroke-linecap:butt;stroke-linejoin:round;}</style>\r\n </defs>\r\n <g id=\"figure_1\">\r\n  <g id=\"patch_1\">\r\n   <path d=\"M 0 248.518125 \r\nL 388.0125 248.518125 \r\nL 388.0125 0 \r\nL 0 0 \r\nz\r\n\" style=\"fill:none;\"/>\r\n  </g>\r\n  <g id=\"axes_1\">\r\n   <g id=\"patch_2\">\r\n    <path d=\"M 46.0125 224.64 \r\nL 380.8125 224.64 \r\nL 380.8125 7.2 \r\nL 46.0125 7.2 \r\nz\r\n\" style=\"fill:#ffffff;\"/>\r\n   </g>\r\n   <g id=\"patch_3\">\r\n    <path clip-path=\"url(#pa571c2709d)\" d=\"M 61.230682 224.64 \r\nL 64.244183 224.64 \r\nL 64.244183 221.722359 \r\nL 61.230682 221.722359 \r\nz\r\n\" style=\"fill:#1f77b4;\"/>\r\n   </g>\r\n   <g id=\"patch_4\">\r\n    <path clip-path=\"url(#pa571c2709d)\" d=\"M 64.997559 224.64 \r\nL 68.01106 224.64 \r\nL 68.01106 17.554286 \r\nL 64.997559 17.554286 \r\nz\r\n\" style=\"fill:#1f77b4;\"/>\r\n   </g>\r\n   <g id=\"patch_5\">\r\n    <path clip-path=\"url(#pa571c2709d)\" d=\"M 68.764435 224.64 \r\nL 71.777937 224.64 \r\nL 71.777937 196.997774 \r\nL 68.764435 196.997774 \r\nz\r\n\" style=\"fill:#1f77b4;\"/>\r\n   </g>\r\n   <g id=\"patch_6\">\r\n    <path clip-path=\"url(#pa571c2709d)\" d=\"M 72.531312 224.64 \r\nL 75.544813 224.64 \r\nL 75.544813 221.536999 \r\nL 72.531312 221.536999 \r\nz\r\n\" style=\"fill:#1f77b4;\"/>\r\n   </g>\r\n   <g id=\"patch_7\">\r\n    <path clip-path=\"url(#pa571c2709d)\" d=\"M 76.298189 224.64 \r\nL 79.31169 224.64 \r\nL 79.31169 208.502436 \r\nL 76.298189 208.502436 \r\nz\r\n\" style=\"fill:#1f77b4;\"/>\r\n   </g>\r\n   <g id=\"patch_8\">\r\n    <path clip-path=\"url(#pa571c2709d)\" d=\"M 80.065065 224.64 \r\nL 83.078567 224.64 \r\nL 83.078567 222.073577 \r\nL 80.065065 222.073577 \r\nz\r\n\" style=\"fill:#1f77b4;\"/>\r\n   </g>\r\n   <g id=\"patch_9\">\r\n    <path clip-path=\"url(#pa571c2709d)\" d=\"M 83.831942 224.64 \r\nL 86.845443 224.64 \r\nL 86.845443 222.470929 \r\nL 83.831942 222.470929 \r\nz\r\n\" style=\"fill:#1f77b4;\"/>\r\n   </g>\r\n   <g id=\"patch_10\">\r\n    <path clip-path=\"url(#pa571c2709d)\" d=\"M 87.598819 224.64 \r\nL 90.61232 224.64 \r\nL 90.61232 222.354527 \r\nL 87.598819 222.354527 \r\nz\r\n\" style=\"fill:#1f77b4;\"/>\r\n   </g>\r\n   <g id=\"patch_11\">\r\n    <path clip-path=\"url(#pa571c2709d)\" d=\"M 91.365695 224.64 \r\nL 94.379197 224.64 \r\nL 94.379197 180.764125 \r\nL 91.365695 180.764125 \r\nz\r\n\" style=\"fill:#1f77b4;\"/>\r\n   </g>\r\n   <g id=\"patch_12\">\r\n    <path clip-path=\"url(#pa571c2709d)\" d=\"M 95.132572 224.64 \r\nL 98.146073 224.64 \r\nL 98.146073 222.377162 \r\nL 95.132572 222.377162 \r\nz\r\n\" style=\"fill:#1f77b4;\"/>\r\n   </g>\r\n   <g id=\"patch_13\">\r\n    <path clip-path=\"url(#pa571c2709d)\" d=\"M 98.899449 224.64 \r\nL 101.91295 224.64 \r\nL 101.91295 222.367433 \r\nL 98.899449 222.367433 \r\nz\r\n\" style=\"fill:#1f77b4;\"/>\r\n   </g>\r\n   <g id=\"patch_14\">\r\n    <path clip-path=\"url(#pa571c2709d)\" d=\"M 102.666325 224.64 \r\nL 105.679827 224.64 \r\nL 105.679827 204.43675 \r\nL 102.666325 204.43675 \r\nz\r\n\" style=\"fill:#1f77b4;\"/>\r\n   </g>\r\n   <g id=\"patch_15\">\r\n    <path clip-path=\"url(#pa571c2709d)\" d=\"M 106.433202 224.64 \r\nL 109.446703 224.64 \r\nL 109.446703 191.271778 \r\nL 106.433202 191.271778 \r\nz\r\n\" style=\"fill:#1f77b4;\"/>\r\n   </g>\r\n   <g id=\"patch_16\">\r\n    <path clip-path=\"url(#pa571c2709d)\" d=\"M 110.200079 224.64 \r\nL 113.21358 224.64 \r\nL 113.21358 223.992907 \r\nL 110.200079 223.992907 \r\nz\r\n\" style=\"fill:#1f77b4;\"/>\r\n   </g>\r\n   <g id=\"patch_17\">\r\n    <path clip-path=\"url(#pa571c2709d)\" d=\"M 113.966955 224.64 \r\nL 116.980457 224.64 \r\nL 116.980457 224.248811 \r\nL 113.966955 224.248811 \r\nz\r\n\" style=\"fill:#1f77b4;\"/>\r\n   </g>\r\n   <g id=\"patch_18\">\r\n    <path clip-path=\"url(#pa571c2709d)\" d=\"M 117.733832 224.64 \r\nL 120.747333 224.64 \r\nL 120.747333 221.200064 \r\nL 117.733832 221.200064 \r\nz\r\n\" style=\"fill:#1f77b4;\"/>\r\n   </g>\r\n   <g id=\"patch_19\">\r\n    <path clip-path=\"url(#pa571c2709d)\" d=\"M 121.500709 224.64 \r\nL 124.51421 224.64 \r\nL 124.51421 223.388605 \r\nL 121.500709 223.388605 \r\nz\r\n\" style=\"fill:#1f77b4;\"/>\r\n   </g>\r\n   <g id=\"patch_20\">\r\n    <path clip-path=\"url(#pa571c2709d)\" d=\"M 125.267586 224.64 \r\nL 128.281087 224.64 \r\nL 128.281087 217.838903 \r\nL 125.267586 217.838903 \r\nz\r\n\" style=\"fill:#1f77b4;\"/>\r\n   </g>\r\n   <g id=\"patch_21\">\r\n    <path clip-path=\"url(#pa571c2709d)\" d=\"M 129.034462 224.64 \r\nL 132.047964 224.64 \r\nL 132.047964 218.538074 \r\nL 129.034462 218.538074 \r\nz\r\n\" style=\"fill:#1f77b4;\"/>\r\n   </g>\r\n   <g id=\"patch_22\">\r\n    <path clip-path=\"url(#pa571c2709d)\" d=\"M 132.801339 224.64 \r\nL 135.81484 224.64 \r\nL 135.81484 223.961904 \r\nL 132.801339 223.961904 \r\nz\r\n\" style=\"fill:#1f77b4;\"/>\r\n   </g>\r\n   <g id=\"patch_23\">\r\n    <path clip-path=\"url(#pa571c2709d)\" d=\"M 136.568216 224.64 \r\nL 139.581717 224.64 \r\nL 139.581717 224.510787 \r\nL 136.568216 224.510787 \r\nz\r\n\" style=\"fill:#1f77b4;\"/>\r\n   </g>\r\n   <g id=\"patch_24\">\r\n    <path clip-path=\"url(#pa571c2709d)\" d=\"M 140.335092 224.64 \r\nL 143.348594 224.64 \r\nL 143.348594 224.534661 \r\nL 140.335092 224.534661 \r\nz\r\n\" style=\"fill:#1f77b4;\"/>\r\n   </g>\r\n   <g id=\"patch_25\">\r\n    <path clip-path=\"url(#pa571c2709d)\" d=\"M 144.101969 224.64 \r\nL 147.11547 224.64 \r\nL 147.11547 224.594293 \r\nL 144.101969 224.594293 \r\nz\r\n\" style=\"fill:#1f77b4;\"/>\r\n   </g>\r\n   <g id=\"patch_26\">\r\n    <path clip-path=\"url(#pa571c2709d)\" d=\"M 147.868846 224.64 \r\nL 150.882347 224.64 \r\nL 150.882347 224.571029 \r\nL 147.868846 224.571029 \r\nz\r\n\" style=\"fill:#1f77b4;\"/>\r\n   </g>\r\n   <g id=\"patch_27\">\r\n    <path clip-path=\"url(#pa571c2709d)\" d=\"M 151.635722 224.64 \r\nL 154.649224 224.64 \r\nL 154.649224 224.636327 \r\nL 151.635722 224.636327 \r\nz\r\n\" style=\"fill:#1f77b4;\"/>\r\n   </g>\r\n   <g id=\"patch_28\">\r\n    <path clip-path=\"url(#pa571c2709d)\" d=\"M 155.402599 224.64 \r\nL 158.4161 224.64 \r\nL 158.4161 224.473954 \r\nL 155.402599 224.473954 \r\nz\r\n\" style=\"fill:#1f77b4;\"/>\r\n   </g>\r\n   <g id=\"patch_29\">\r\n    <path clip-path=\"url(#pa571c2709d)\" d=\"M 159.169476 224.64 \r\nL 162.182977 224.64 \r\nL 162.182977 223.033753 \r\nL 159.169476 223.033753 \r\nz\r\n\" style=\"fill:#1f77b4;\"/>\r\n   </g>\r\n   <g id=\"patch_30\">\r\n    <path clip-path=\"url(#pa571c2709d)\" d=\"M 162.936352 224.64 \r\nL 165.949854 224.64 \r\nL 165.949854 223.21646 \r\nL 162.936352 223.21646 \r\nz\r\n\" style=\"fill:#1f77b4;\"/>\r\n   </g>\r\n   <g id=\"patch_31\">\r\n    <path clip-path=\"url(#pa571c2709d)\" d=\"M 166.703229 224.64 \r\nL 169.71673 224.64 \r\nL 169.71673 224.568741 \r\nL 166.703229 224.568741 \r\nz\r\n\" style=\"fill:#1f77b4;\"/>\r\n   </g>\r\n   <g id=\"patch_32\">\r\n    <path clip-path=\"url(#pa571c2709d)\" d=\"M 170.470106 224.64 \r\nL 173.483607 224.64 \r\nL 173.483607 223.818621 \r\nL 170.470106 223.818621 \r\nz\r\n\" style=\"fill:#1f77b4;\"/>\r\n   </g>\r\n   <g id=\"patch_33\">\r\n    <path clip-path=\"url(#pa571c2709d)\" d=\"M 174.236982 224.64 \r\nL 177.250484 224.64 \r\nL 177.250484 219.156678 \r\nL 174.236982 219.156678 \r\nz\r\n\" style=\"fill:#1f77b4;\"/>\r\n   </g>\r\n   <g id=\"patch_34\">\r\n    <path clip-path=\"url(#pa571c2709d)\" d=\"M 178.003859 224.64 \r\nL 181.01736 224.64 \r\nL 181.01736 222.819528 \r\nL 178.003859 222.819528 \r\nz\r\n\" style=\"fill:#1f77b4;\"/>\r\n   </g>\r\n   <g id=\"patch_35\">\r\n    <path clip-path=\"url(#pa571c2709d)\" d=\"M 181.770736 224.64 \r\nL 184.784237 224.64 \r\nL 184.784237 222.397196 \r\nL 181.770736 222.397196 \r\nz\r\n\" style=\"fill:#1f77b4;\"/>\r\n   </g>\r\n   <g id=\"patch_36\">\r\n    <path clip-path=\"url(#pa571c2709d)\" d=\"M 185.537613 224.64 \r\nL 188.551114 224.64 \r\nL 188.551114 223.747773 \r\nL 185.537613 223.747773 \r\nz\r\n\" style=\"fill:#1f77b4;\"/>\r\n   </g>\r\n   <g id=\"patch_37\">\r\n    <path clip-path=\"url(#pa571c2709d)\" d=\"M 189.304489 224.64 \r\nL 192.317991 224.64 \r\nL 192.317991 217.189876 \r\nL 189.304489 217.189876 \r\nz\r\n\" style=\"fill:#1f77b4;\"/>\r\n   </g>\r\n   <g id=\"patch_38\">\r\n    <path clip-path=\"url(#pa571c2709d)\" d=\"M 193.071366 224.64 \r\nL 196.084867 224.64 \r\nL 196.084867 223.44359 \r\nL 193.071366 223.44359 \r\nz\r\n\" style=\"fill:#1f77b4;\"/>\r\n   </g>\r\n   <g id=\"patch_39\">\r\n    <path clip-path=\"url(#pa571c2709d)\" d=\"M 196.838243 224.64 \r\nL 199.851744 224.64 \r\nL 199.851744 223.096646 \r\nL 196.838243 223.096646 \r\nz\r\n\" style=\"fill:#1f77b4;\"/>\r\n   </g>\r\n   <g id=\"patch_40\">\r\n    <path clip-path=\"url(#pa571c2709d)\" d=\"M 200.605119 224.64 \r\nL 203.618621 224.64 \r\nL 203.618621 224.015133 \r\nL 200.605119 224.015133 \r\nz\r\n\" style=\"fill:#1f77b4;\"/>\r\n   </g>\r\n   <g id=\"patch_41\">\r\n    <path clip-path=\"url(#pa571c2709d)\" d=\"M 204.371996 224.64 \r\nL 207.385497 224.64 \r\nL 207.385497 223.921869 \r\nL 204.371996 223.921869 \r\nz\r\n\" style=\"fill:#1f77b4;\"/>\r\n   </g>\r\n   <g id=\"patch_42\">\r\n    <path clip-path=\"url(#pa571c2709d)\" d=\"M 208.138873 224.64 \r\nL 211.152374 224.64 \r\nL 211.152374 219.19999 \r\nL 208.138873 219.19999 \r\nz\r\n\" style=\"fill:#1f77b4;\"/>\r\n   </g>\r\n   <g id=\"patch_43\">\r\n    <path clip-path=\"url(#pa571c2709d)\" d=\"M 211.905749 224.64 \r\nL 214.919251 224.64 \r\nL 214.919251 224.097593 \r\nL 211.905749 224.097593 \r\nz\r\n\" style=\"fill:#1f77b4;\"/>\r\n   </g>\r\n   <g id=\"patch_44\">\r\n    <path clip-path=\"url(#pa571c2709d)\" d=\"M 215.672626 224.64 \r\nL 218.686127 224.64 \r\nL 218.686127 224.128089 \r\nL 215.672626 224.128089 \r\nz\r\n\" style=\"fill:#1f77b4;\"/>\r\n   </g>\r\n   <g id=\"patch_45\">\r\n    <path clip-path=\"url(#pa571c2709d)\" d=\"M 219.439503 224.64 \r\nL 222.453004 224.64 \r\nL 222.453004 223.477019 \r\nL 219.439503 223.477019 \r\nz\r\n\" style=\"fill:#1f77b4;\"/>\r\n   </g>\r\n   <g id=\"patch_46\">\r\n    <path clip-path=\"url(#pa571c2709d)\" d=\"M 223.206379 224.64 \r\nL 226.219881 224.64 \r\nL 226.219881 173.787582 \r\nL 223.206379 173.787582 \r\nz\r\n\" style=\"fill:#1f77b4;\"/>\r\n   </g>\r\n   <g id=\"patch_47\">\r\n    <path clip-path=\"url(#pa571c2709d)\" d=\"M 226.973256 224.64 \r\nL 229.986757 224.64 \r\nL 229.986757 219.408659 \r\nL 226.973256 219.408659 \r\nz\r\n\" style=\"fill:#1f77b4;\"/>\r\n   </g>\r\n   <g id=\"patch_48\">\r\n    <path clip-path=\"url(#pa571c2709d)\" d=\"M 230.740133 224.64 \r\nL 233.753634 224.64 \r\nL 233.753634 224.544199 \r\nL 230.740133 224.544199 \r\nz\r\n\" style=\"fill:#1f77b4;\"/>\r\n   </g>\r\n   <g id=\"patch_49\">\r\n    <path clip-path=\"url(#pa571c2709d)\" d=\"M 234.507009 224.64 \r\nL 237.520511 224.64 \r\nL 237.520511 214.276018 \r\nL 234.507009 214.276018 \r\nz\r\n\" style=\"fill:#1f77b4;\"/>\r\n   </g>\r\n   <g id=\"patch_50\">\r\n    <path clip-path=\"url(#pa571c2709d)\" d=\"M 238.273886 224.64 \r\nL 241.287387 224.64 \r\nL 241.287387 214.318984 \r\nL 238.273886 214.318984 \r\nz\r\n\" style=\"fill:#1f77b4;\"/>\r\n   </g>\r\n   <g id=\"patch_51\">\r\n    <path clip-path=\"url(#pa571c2709d)\" d=\"M 242.040763 224.64 \r\nL 245.054264 224.64 \r\nL 245.054264 221.931969 \r\nL 242.040763 221.931969 \r\nz\r\n\" style=\"fill:#1f77b4;\"/>\r\n   </g>\r\n   <g id=\"patch_52\">\r\n    <path clip-path=\"url(#pa571c2709d)\" d=\"M 245.80764 224.64 \r\nL 248.821141 224.64 \r\nL 248.821141 224.49579 \r\nL 245.80764 224.49579 \r\nz\r\n\" style=\"fill:#1f77b4;\"/>\r\n   </g>\r\n   <g id=\"patch_53\">\r\n    <path clip-path=\"url(#pa571c2709d)\" d=\"M 249.574516 224.64 \r\nL 252.588018 224.64 \r\nL 252.588018 223.683222 \r\nL 249.574516 223.683222 \r\nz\r\n\" style=\"fill:#1f77b4;\"/>\r\n   </g>\r\n   <g id=\"patch_54\">\r\n    <path clip-path=\"url(#pa571c2709d)\" d=\"M 253.341393 224.64 \r\nL 256.354894 224.64 \r\nL 256.354894 222.084941 \r\nL 253.341393 222.084941 \r\nz\r\n\" style=\"fill:#1f77b4;\"/>\r\n   </g>\r\n   <g id=\"patch_55\">\r\n    <path clip-path=\"url(#pa571c2709d)\" d=\"M 257.10827 224.64 \r\nL 260.121771 224.64 \r\nL 260.121771 178.629807 \r\nL 257.10827 178.629807 \r\nz\r\n\" style=\"fill:#1f77b4;\"/>\r\n   </g>\r\n   <g id=\"patch_56\">\r\n    <path clip-path=\"url(#pa571c2709d)\" d=\"M 260.875146 224.64 \r\nL 263.888648 224.64 \r\nL 263.888648 221.250445 \r\nL 260.875146 221.250445 \r\nz\r\n\" style=\"fill:#1f77b4;\"/>\r\n   </g>\r\n   <g id=\"patch_57\">\r\n    <path clip-path=\"url(#pa571c2709d)\" d=\"M 264.642023 224.64 \r\nL 267.655524 224.64 \r\nL 267.655524 224.570513 \r\nL 264.642023 224.570513 \r\nz\r\n\" style=\"fill:#1f77b4;\"/>\r\n   </g>\r\n   <g id=\"patch_58\">\r\n    <path clip-path=\"url(#pa571c2709d)\" d=\"M 268.4089 224.64 \r\nL 271.422401 224.64 \r\nL 271.422401 224.274636 \r\nL 268.4089 224.274636 \r\nz\r\n\" style=\"fill:#1f77b4;\"/>\r\n   </g>\r\n   <g id=\"patch_59\">\r\n    <path clip-path=\"url(#pa571c2709d)\" d=\"M 272.175776 224.64 \r\nL 275.189278 224.64 \r\nL 275.189278 223.19354 \r\nL 272.175776 223.19354 \r\nz\r\n\" style=\"fill:#1f77b4;\"/>\r\n   </g>\r\n   <g id=\"patch_60\">\r\n    <path clip-path=\"url(#pa571c2709d)\" d=\"M 275.942653 224.64 \r\nL 278.956154 224.64 \r\nL 278.956154 223.912488 \r\nL 275.942653 223.912488 \r\nz\r\n\" style=\"fill:#1f77b4;\"/>\r\n   </g>\r\n   <g id=\"patch_61\">\r\n    <path clip-path=\"url(#pa571c2709d)\" d=\"M 279.70953 224.64 \r\nL 282.723031 224.64 \r\nL 282.723031 224.483235 \r\nL 279.70953 224.483235 \r\nz\r\n\" style=\"fill:#1f77b4;\"/>\r\n   </g>\r\n   <g id=\"patch_62\">\r\n    <path clip-path=\"url(#pa571c2709d)\" d=\"M 283.476406 224.64 \r\nL 286.489908 224.64 \r\nL 286.489908 224.483098 \r\nL 283.476406 224.483098 \r\nz\r\n\" style=\"fill:#1f77b4;\"/>\r\n   </g>\r\n   <g id=\"patch_63\">\r\n    <path clip-path=\"url(#pa571c2709d)\" d=\"M 287.243283 224.64 \r\nL 290.256784 224.64 \r\nL 290.256784 223.677107 \r\nL 287.243283 223.677107 \r\nz\r\n\" style=\"fill:#1f77b4;\"/>\r\n   </g>\r\n   <g id=\"patch_64\">\r\n    <path clip-path=\"url(#pa571c2709d)\" d=\"M 291.01016 224.64 \r\nL 294.023661 224.64 \r\nL 294.023661 159.971897 \r\nL 291.01016 159.971897 \r\nz\r\n\" style=\"fill:#1f77b4;\"/>\r\n   </g>\r\n   <g id=\"patch_65\">\r\n    <path clip-path=\"url(#pa571c2709d)\" d=\"M 294.777036 224.64 \r\nL 297.790538 224.64 \r\nL 297.790538 209.839938 \r\nL 294.777036 209.839938 \r\nz\r\n\" style=\"fill:#1f77b4;\"/>\r\n   </g>\r\n   <g id=\"patch_66\">\r\n    <path clip-path=\"url(#pa571c2709d)\" d=\"M 298.543913 224.64 \r\nL 301.557414 224.64 \r\nL 301.557414 211.918501 \r\nL 298.543913 211.918501 \r\nz\r\n\" style=\"fill:#1f77b4;\"/>\r\n   </g>\r\n   <g id=\"patch_67\">\r\n    <path clip-path=\"url(#pa571c2709d)\" d=\"M 302.31079 224.64 \r\nL 305.324291 224.64 \r\nL 305.324291 205.385433 \r\nL 302.31079 205.385433 \r\nz\r\n\" style=\"fill:#1f77b4;\"/>\r\n   </g>\r\n   <g id=\"patch_68\">\r\n    <path clip-path=\"url(#pa571c2709d)\" d=\"M 306.077667 224.64 \r\nL 309.091168 224.64 \r\nL 309.091168 222.218421 \r\nL 306.077667 222.218421 \r\nz\r\n\" style=\"fill:#1f77b4;\"/>\r\n   </g>\r\n   <g id=\"patch_69\">\r\n    <path clip-path=\"url(#pa571c2709d)\" d=\"M 309.844543 224.64 \r\nL 312.858045 224.64 \r\nL 312.858045 221.961113 \r\nL 309.844543 221.961113 \r\nz\r\n\" style=\"fill:#1f77b4;\"/>\r\n   </g>\r\n   <g id=\"patch_70\">\r\n    <path clip-path=\"url(#pa571c2709d)\" d=\"M 313.61142 224.64 \r\nL 316.624921 224.64 \r\nL 316.624921 159.69569 \r\nL 313.61142 159.69569 \r\nz\r\n\" style=\"fill:#1f77b4;\"/>\r\n   </g>\r\n   <g id=\"patch_71\">\r\n    <path clip-path=\"url(#pa571c2709d)\" d=\"M 317.378297 224.64 \r\nL 320.391798 224.64 \r\nL 320.391798 216.107922 \r\nL 317.378297 216.107922 \r\nz\r\n\" style=\"fill:#1f77b4;\"/>\r\n   </g>\r\n   <g id=\"patch_72\">\r\n    <path clip-path=\"url(#pa571c2709d)\" d=\"M 321.145173 224.64 \r\nL 324.158675 224.64 \r\nL 324.158675 224.414121 \r\nL 321.145173 224.414121 \r\nz\r\n\" style=\"fill:#1f77b4;\"/>\r\n   </g>\r\n   <g id=\"patch_73\">\r\n    <path clip-path=\"url(#pa571c2709d)\" d=\"M 324.91205 224.64 \r\nL 327.925551 224.64 \r\nL 327.925551 149.468877 \r\nL 324.91205 149.468877 \r\nz\r\n\" style=\"fill:#1f77b4;\"/>\r\n   </g>\r\n   <g id=\"patch_74\">\r\n    <path clip-path=\"url(#pa571c2709d)\" d=\"M 328.678927 224.64 \r\nL 331.692428 224.64 \r\nL 331.692428 224.499797 \r\nL 328.678927 224.499797 \r\nz\r\n\" style=\"fill:#1f77b4;\"/>\r\n   </g>\r\n   <g id=\"patch_75\">\r\n    <path clip-path=\"url(#pa571c2709d)\" d=\"M 332.445803 224.64 \r\nL 335.459305 224.64 \r\nL 335.459305 224.356524 \r\nL 332.445803 224.356524 \r\nz\r\n\" style=\"fill:#1f77b4;\"/>\r\n   </g>\r\n   <g id=\"patch_76\">\r\n    <path clip-path=\"url(#pa571c2709d)\" d=\"M 336.21268 224.64 \r\nL 339.226181 224.64 \r\nL 339.226181 207.452814 \r\nL 336.21268 207.452814 \r\nz\r\n\" style=\"fill:#1f77b4;\"/>\r\n   </g>\r\n   <g id=\"patch_77\">\r\n    <path clip-path=\"url(#pa571c2709d)\" d=\"M 339.979557 224.64 \r\nL 342.993058 224.64 \r\nL 342.993058 212.811761 \r\nL 339.979557 212.811761 \r\nz\r\n\" style=\"fill:#1f77b4;\"/>\r\n   </g>\r\n   <g id=\"patch_78\">\r\n    <path clip-path=\"url(#pa571c2709d)\" d=\"M 343.746433 224.64 \r\nL 346.759935 224.64 \r\nL 346.759935 181.690308 \r\nL 343.746433 181.690308 \r\nz\r\n\" style=\"fill:#1f77b4;\"/>\r\n   </g>\r\n   <g id=\"patch_79\">\r\n    <path clip-path=\"url(#pa571c2709d)\" d=\"M 347.51331 224.64 \r\nL 350.526811 224.64 \r\nL 350.526811 223.698544 \r\nL 347.51331 223.698544 \r\nz\r\n\" style=\"fill:#1f77b4;\"/>\r\n   </g>\r\n   <g id=\"patch_80\">\r\n    <path clip-path=\"url(#pa571c2709d)\" d=\"M 351.280187 224.64 \r\nL 354.293688 224.64 \r\nL 354.293688 224.039484 \r\nL 351.280187 224.039484 \r\nz\r\n\" style=\"fill:#1f77b4;\"/>\r\n   </g>\r\n   <g id=\"patch_81\">\r\n    <path clip-path=\"url(#pa571c2709d)\" d=\"M 355.047063 224.64 \r\nL 358.060565 224.64 \r\nL 358.060565 224.295512 \r\nL 355.047063 224.295512 \r\nz\r\n\" style=\"fill:#1f77b4;\"/>\r\n   </g>\r\n   <g id=\"patch_82\">\r\n    <path clip-path=\"url(#pa571c2709d)\" d=\"M 358.81394 224.64 \r\nL 361.827441 224.64 \r\nL 361.827441 224.525684 \r\nL 358.81394 224.525684 \r\nz\r\n\" style=\"fill:#1f77b4;\"/>\r\n   </g>\r\n   <g id=\"patch_83\">\r\n    <path clip-path=\"url(#pa571c2709d)\" d=\"M 362.580817 224.64 \r\nL 365.594318 224.64 \r\nL 365.594318 223.198833 \r\nL 362.580817 223.198833 \r\nz\r\n\" style=\"fill:#1f77b4;\"/>\r\n   </g>\r\n   <g id=\"matplotlib.axis_1\">\r\n    <g id=\"xtick_1\">\r\n     <g id=\"line2d_1\">\r\n      <defs>\r\n       <path d=\"M 0 0 \r\nL 0 3.5 \r\n\" id=\"m6402c3b3fd\" style=\"stroke:#000000;stroke-width:0.8;\"/>\r\n      </defs>\r\n      <g>\r\n       <use style=\"stroke:#000000;stroke-width:0.8;\" x=\"62.737432\" xlink:href=\"#m6402c3b3fd\" y=\"224.64\"/>\r\n      </g>\r\n     </g>\r\n     <g id=\"text_1\">\r\n      <!-- 0 -->\r\n      <g transform=\"translate(59.556182 239.238437)scale(0.1 -0.1)\">\r\n       <defs>\r\n        <path d=\"M 31.78125 66.40625 \r\nQ 24.171875 66.40625 20.328125 58.90625 \r\nQ 16.5 51.421875 16.5 36.375 \r\nQ 16.5 21.390625 20.328125 13.890625 \r\nQ 24.171875 6.390625 31.78125 6.390625 \r\nQ 39.453125 6.390625 43.28125 13.890625 \r\nQ 47.125 21.390625 47.125 36.375 \r\nQ 47.125 51.421875 43.28125 58.90625 \r\nQ 39.453125 66.40625 31.78125 66.40625 \r\nz\r\nM 31.78125 74.21875 \r\nQ 44.046875 74.21875 50.515625 64.515625 \r\nQ 56.984375 54.828125 56.984375 36.375 \r\nQ 56.984375 17.96875 50.515625 8.265625 \r\nQ 44.046875 -1.421875 31.78125 -1.421875 \r\nQ 19.53125 -1.421875 13.0625 8.265625 \r\nQ 6.59375 17.96875 6.59375 36.375 \r\nQ 6.59375 54.828125 13.0625 64.515625 \r\nQ 19.53125 74.21875 31.78125 74.21875 \r\nz\r\n\" id=\"DejaVuSans-48\"/>\r\n       </defs>\r\n       <use xlink:href=\"#DejaVuSans-48\"/>\r\n      </g>\r\n     </g>\r\n    </g>\r\n    <g id=\"xtick_2\">\r\n     <g id=\"line2d_2\">\r\n      <g>\r\n       <use style=\"stroke:#000000;stroke-width:0.8;\" x=\"100.406199\" xlink:href=\"#m6402c3b3fd\" y=\"224.64\"/>\r\n      </g>\r\n     </g>\r\n     <g id=\"text_2\">\r\n      <!-- 10 -->\r\n      <g transform=\"translate(94.043699 239.238437)scale(0.1 -0.1)\">\r\n       <defs>\r\n        <path d=\"M 12.40625 8.296875 \r\nL 28.515625 8.296875 \r\nL 28.515625 63.921875 \r\nL 10.984375 60.40625 \r\nL 10.984375 69.390625 \r\nL 28.421875 72.90625 \r\nL 38.28125 72.90625 \r\nL 38.28125 8.296875 \r\nL 54.390625 8.296875 \r\nL 54.390625 0 \r\nL 12.40625 0 \r\nz\r\n\" id=\"DejaVuSans-49\"/>\r\n       </defs>\r\n       <use xlink:href=\"#DejaVuSans-49\"/>\r\n       <use x=\"63.623047\" xlink:href=\"#DejaVuSans-48\"/>\r\n      </g>\r\n     </g>\r\n    </g>\r\n    <g id=\"xtick_3\">\r\n     <g id=\"line2d_3\">\r\n      <g>\r\n       <use style=\"stroke:#000000;stroke-width:0.8;\" x=\"138.074966\" xlink:href=\"#m6402c3b3fd\" y=\"224.64\"/>\r\n      </g>\r\n     </g>\r\n     <g id=\"text_3\">\r\n      <!-- 20 -->\r\n      <g transform=\"translate(131.712466 239.238437)scale(0.1 -0.1)\">\r\n       <defs>\r\n        <path d=\"M 19.1875 8.296875 \r\nL 53.609375 8.296875 \r\nL 53.609375 0 \r\nL 7.328125 0 \r\nL 7.328125 8.296875 \r\nQ 12.9375 14.109375 22.625 23.890625 \r\nQ 32.328125 33.6875 34.8125 36.53125 \r\nQ 39.546875 41.84375 41.421875 45.53125 \r\nQ 43.3125 49.21875 43.3125 52.78125 \r\nQ 43.3125 58.59375 39.234375 62.25 \r\nQ 35.15625 65.921875 28.609375 65.921875 \r\nQ 23.96875 65.921875 18.8125 64.3125 \r\nQ 13.671875 62.703125 7.8125 59.421875 \r\nL 7.8125 69.390625 \r\nQ 13.765625 71.78125 18.9375 73 \r\nQ 24.125 74.21875 28.421875 74.21875 \r\nQ 39.75 74.21875 46.484375 68.546875 \r\nQ 53.21875 62.890625 53.21875 53.421875 \r\nQ 53.21875 48.921875 51.53125 44.890625 \r\nQ 49.859375 40.875 45.40625 35.40625 \r\nQ 44.1875 33.984375 37.640625 27.21875 \r\nQ 31.109375 20.453125 19.1875 8.296875 \r\nz\r\n\" id=\"DejaVuSans-50\"/>\r\n       </defs>\r\n       <use xlink:href=\"#DejaVuSans-50\"/>\r\n       <use x=\"63.623047\" xlink:href=\"#DejaVuSans-48\"/>\r\n      </g>\r\n     </g>\r\n    </g>\r\n    <g id=\"xtick_4\">\r\n     <g id=\"line2d_4\">\r\n      <g>\r\n       <use style=\"stroke:#000000;stroke-width:0.8;\" x=\"175.743733\" xlink:href=\"#m6402c3b3fd\" y=\"224.64\"/>\r\n      </g>\r\n     </g>\r\n     <g id=\"text_4\">\r\n      <!-- 30 -->\r\n      <g transform=\"translate(169.381233 239.238437)scale(0.1 -0.1)\">\r\n       <defs>\r\n        <path d=\"M 40.578125 39.3125 \r\nQ 47.65625 37.796875 51.625 33 \r\nQ 55.609375 28.21875 55.609375 21.1875 \r\nQ 55.609375 10.40625 48.1875 4.484375 \r\nQ 40.765625 -1.421875 27.09375 -1.421875 \r\nQ 22.515625 -1.421875 17.65625 -0.515625 \r\nQ 12.796875 0.390625 7.625 2.203125 \r\nL 7.625 11.71875 \r\nQ 11.71875 9.328125 16.59375 8.109375 \r\nQ 21.484375 6.890625 26.8125 6.890625 \r\nQ 36.078125 6.890625 40.9375 10.546875 \r\nQ 45.796875 14.203125 45.796875 21.1875 \r\nQ 45.796875 27.640625 41.28125 31.265625 \r\nQ 36.765625 34.90625 28.71875 34.90625 \r\nL 20.21875 34.90625 \r\nL 20.21875 43.015625 \r\nL 29.109375 43.015625 \r\nQ 36.375 43.015625 40.234375 45.921875 \r\nQ 44.09375 48.828125 44.09375 54.296875 \r\nQ 44.09375 59.90625 40.109375 62.90625 \r\nQ 36.140625 65.921875 28.71875 65.921875 \r\nQ 24.65625 65.921875 20.015625 65.03125 \r\nQ 15.375 64.15625 9.8125 62.3125 \r\nL 9.8125 71.09375 \r\nQ 15.4375 72.65625 20.34375 73.4375 \r\nQ 25.25 74.21875 29.59375 74.21875 \r\nQ 40.828125 74.21875 47.359375 69.109375 \r\nQ 53.90625 64.015625 53.90625 55.328125 \r\nQ 53.90625 49.265625 50.4375 45.09375 \r\nQ 46.96875 40.921875 40.578125 39.3125 \r\nz\r\n\" id=\"DejaVuSans-51\"/>\r\n       </defs>\r\n       <use xlink:href=\"#DejaVuSans-51\"/>\r\n       <use x=\"63.623047\" xlink:href=\"#DejaVuSans-48\"/>\r\n      </g>\r\n     </g>\r\n    </g>\r\n    <g id=\"xtick_5\">\r\n     <g id=\"line2d_5\">\r\n      <g>\r\n       <use style=\"stroke:#000000;stroke-width:0.8;\" x=\"213.4125\" xlink:href=\"#m6402c3b3fd\" y=\"224.64\"/>\r\n      </g>\r\n     </g>\r\n     <g id=\"text_5\">\r\n      <!-- 40 -->\r\n      <g transform=\"translate(207.05 239.238437)scale(0.1 -0.1)\">\r\n       <defs>\r\n        <path d=\"M 37.796875 64.3125 \r\nL 12.890625 25.390625 \r\nL 37.796875 25.390625 \r\nz\r\nM 35.203125 72.90625 \r\nL 47.609375 72.90625 \r\nL 47.609375 25.390625 \r\nL 58.015625 25.390625 \r\nL 58.015625 17.1875 \r\nL 47.609375 17.1875 \r\nL 47.609375 0 \r\nL 37.796875 0 \r\nL 37.796875 17.1875 \r\nL 4.890625 17.1875 \r\nL 4.890625 26.703125 \r\nz\r\n\" id=\"DejaVuSans-52\"/>\r\n       </defs>\r\n       <use xlink:href=\"#DejaVuSans-52\"/>\r\n       <use x=\"63.623047\" xlink:href=\"#DejaVuSans-48\"/>\r\n      </g>\r\n     </g>\r\n    </g>\r\n    <g id=\"xtick_6\">\r\n     <g id=\"line2d_6\">\r\n      <g>\r\n       <use style=\"stroke:#000000;stroke-width:0.8;\" x=\"251.081267\" xlink:href=\"#m6402c3b3fd\" y=\"224.64\"/>\r\n      </g>\r\n     </g>\r\n     <g id=\"text_6\">\r\n      <!-- 50 -->\r\n      <g transform=\"translate(244.718767 239.238437)scale(0.1 -0.1)\">\r\n       <defs>\r\n        <path d=\"M 10.796875 72.90625 \r\nL 49.515625 72.90625 \r\nL 49.515625 64.59375 \r\nL 19.828125 64.59375 \r\nL 19.828125 46.734375 \r\nQ 21.96875 47.46875 24.109375 47.828125 \r\nQ 26.265625 48.1875 28.421875 48.1875 \r\nQ 40.625 48.1875 47.75 41.5 \r\nQ 54.890625 34.8125 54.890625 23.390625 \r\nQ 54.890625 11.625 47.5625 5.09375 \r\nQ 40.234375 -1.421875 26.90625 -1.421875 \r\nQ 22.3125 -1.421875 17.546875 -0.640625 \r\nQ 12.796875 0.140625 7.71875 1.703125 \r\nL 7.71875 11.625 \r\nQ 12.109375 9.234375 16.796875 8.0625 \r\nQ 21.484375 6.890625 26.703125 6.890625 \r\nQ 35.15625 6.890625 40.078125 11.328125 \r\nQ 45.015625 15.765625 45.015625 23.390625 \r\nQ 45.015625 31 40.078125 35.4375 \r\nQ 35.15625 39.890625 26.703125 39.890625 \r\nQ 22.75 39.890625 18.8125 39.015625 \r\nQ 14.890625 38.140625 10.796875 36.28125 \r\nz\r\n\" id=\"DejaVuSans-53\"/>\r\n       </defs>\r\n       <use xlink:href=\"#DejaVuSans-53\"/>\r\n       <use x=\"63.623047\" xlink:href=\"#DejaVuSans-48\"/>\r\n      </g>\r\n     </g>\r\n    </g>\r\n    <g id=\"xtick_7\">\r\n     <g id=\"line2d_7\">\r\n      <g>\r\n       <use style=\"stroke:#000000;stroke-width:0.8;\" x=\"288.750034\" xlink:href=\"#m6402c3b3fd\" y=\"224.64\"/>\r\n      </g>\r\n     </g>\r\n     <g id=\"text_7\">\r\n      <!-- 60 -->\r\n      <g transform=\"translate(282.387534 239.238437)scale(0.1 -0.1)\">\r\n       <defs>\r\n        <path d=\"M 33.015625 40.375 \r\nQ 26.375 40.375 22.484375 35.828125 \r\nQ 18.609375 31.296875 18.609375 23.390625 \r\nQ 18.609375 15.53125 22.484375 10.953125 \r\nQ 26.375 6.390625 33.015625 6.390625 \r\nQ 39.65625 6.390625 43.53125 10.953125 \r\nQ 47.40625 15.53125 47.40625 23.390625 \r\nQ 47.40625 31.296875 43.53125 35.828125 \r\nQ 39.65625 40.375 33.015625 40.375 \r\nz\r\nM 52.59375 71.296875 \r\nL 52.59375 62.3125 \r\nQ 48.875 64.0625 45.09375 64.984375 \r\nQ 41.3125 65.921875 37.59375 65.921875 \r\nQ 27.828125 65.921875 22.671875 59.328125 \r\nQ 17.53125 52.734375 16.796875 39.40625 \r\nQ 19.671875 43.65625 24.015625 45.921875 \r\nQ 28.375 48.1875 33.59375 48.1875 \r\nQ 44.578125 48.1875 50.953125 41.515625 \r\nQ 57.328125 34.859375 57.328125 23.390625 \r\nQ 57.328125 12.15625 50.6875 5.359375 \r\nQ 44.046875 -1.421875 33.015625 -1.421875 \r\nQ 20.359375 -1.421875 13.671875 8.265625 \r\nQ 6.984375 17.96875 6.984375 36.375 \r\nQ 6.984375 53.65625 15.1875 63.9375 \r\nQ 23.390625 74.21875 37.203125 74.21875 \r\nQ 40.921875 74.21875 44.703125 73.484375 \r\nQ 48.484375 72.75 52.59375 71.296875 \r\nz\r\n\" id=\"DejaVuSans-54\"/>\r\n       </defs>\r\n       <use xlink:href=\"#DejaVuSans-54\"/>\r\n       <use x=\"63.623047\" xlink:href=\"#DejaVuSans-48\"/>\r\n      </g>\r\n     </g>\r\n    </g>\r\n    <g id=\"xtick_8\">\r\n     <g id=\"line2d_8\">\r\n      <g>\r\n       <use style=\"stroke:#000000;stroke-width:0.8;\" x=\"326.418801\" xlink:href=\"#m6402c3b3fd\" y=\"224.64\"/>\r\n      </g>\r\n     </g>\r\n     <g id=\"text_8\">\r\n      <!-- 70 -->\r\n      <g transform=\"translate(320.056301 239.238437)scale(0.1 -0.1)\">\r\n       <defs>\r\n        <path d=\"M 8.203125 72.90625 \r\nL 55.078125 72.90625 \r\nL 55.078125 68.703125 \r\nL 28.609375 0 \r\nL 18.3125 0 \r\nL 43.21875 64.59375 \r\nL 8.203125 64.59375 \r\nz\r\n\" id=\"DejaVuSans-55\"/>\r\n       </defs>\r\n       <use xlink:href=\"#DejaVuSans-55\"/>\r\n       <use x=\"63.623047\" xlink:href=\"#DejaVuSans-48\"/>\r\n      </g>\r\n     </g>\r\n    </g>\r\n    <g id=\"xtick_9\">\r\n     <g id=\"line2d_9\">\r\n      <g>\r\n       <use style=\"stroke:#000000;stroke-width:0.8;\" x=\"364.087568\" xlink:href=\"#m6402c3b3fd\" y=\"224.64\"/>\r\n      </g>\r\n     </g>\r\n     <g id=\"text_9\">\r\n      <!-- 80 -->\r\n      <g transform=\"translate(357.725068 239.238437)scale(0.1 -0.1)\">\r\n       <defs>\r\n        <path d=\"M 31.78125 34.625 \r\nQ 24.75 34.625 20.71875 30.859375 \r\nQ 16.703125 27.09375 16.703125 20.515625 \r\nQ 16.703125 13.921875 20.71875 10.15625 \r\nQ 24.75 6.390625 31.78125 6.390625 \r\nQ 38.8125 6.390625 42.859375 10.171875 \r\nQ 46.921875 13.96875 46.921875 20.515625 \r\nQ 46.921875 27.09375 42.890625 30.859375 \r\nQ 38.875 34.625 31.78125 34.625 \r\nz\r\nM 21.921875 38.8125 \r\nQ 15.578125 40.375 12.03125 44.71875 \r\nQ 8.5 49.078125 8.5 55.328125 \r\nQ 8.5 64.0625 14.71875 69.140625 \r\nQ 20.953125 74.21875 31.78125 74.21875 \r\nQ 42.671875 74.21875 48.875 69.140625 \r\nQ 55.078125 64.0625 55.078125 55.328125 \r\nQ 55.078125 49.078125 51.53125 44.71875 \r\nQ 48 40.375 41.703125 38.8125 \r\nQ 48.828125 37.15625 52.796875 32.3125 \r\nQ 56.78125 27.484375 56.78125 20.515625 \r\nQ 56.78125 9.90625 50.3125 4.234375 \r\nQ 43.84375 -1.421875 31.78125 -1.421875 \r\nQ 19.734375 -1.421875 13.25 4.234375 \r\nQ 6.78125 9.90625 6.78125 20.515625 \r\nQ 6.78125 27.484375 10.78125 32.3125 \r\nQ 14.796875 37.15625 21.921875 38.8125 \r\nz\r\nM 18.3125 54.390625 \r\nQ 18.3125 48.734375 21.84375 45.5625 \r\nQ 25.390625 42.390625 31.78125 42.390625 \r\nQ 38.140625 42.390625 41.71875 45.5625 \r\nQ 45.3125 48.734375 45.3125 54.390625 \r\nQ 45.3125 60.0625 41.71875 63.234375 \r\nQ 38.140625 66.40625 31.78125 66.40625 \r\nQ 25.390625 66.40625 21.84375 63.234375 \r\nQ 18.3125 60.0625 18.3125 54.390625 \r\nz\r\n\" id=\"DejaVuSans-56\"/>\r\n       </defs>\r\n       <use xlink:href=\"#DejaVuSans-56\"/>\r\n       <use x=\"63.623047\" xlink:href=\"#DejaVuSans-48\"/>\r\n      </g>\r\n     </g>\r\n    </g>\r\n   </g>\r\n   <g id=\"matplotlib.axis_2\">\r\n    <g id=\"ytick_1\">\r\n     <g id=\"line2d_10\">\r\n      <defs>\r\n       <path d=\"M 0 0 \r\nL -3.5 0 \r\n\" id=\"m04be9858b8\" style=\"stroke:#000000;stroke-width:0.8;\"/>\r\n      </defs>\r\n      <g>\r\n       <use style=\"stroke:#000000;stroke-width:0.8;\" x=\"46.0125\" xlink:href=\"#m04be9858b8\" y=\"224.64\"/>\r\n      </g>\r\n     </g>\r\n     <g id=\"text_10\">\r\n      <!-- 0 -->\r\n      <g transform=\"translate(32.65 228.439219)scale(0.1 -0.1)\">\r\n       <use xlink:href=\"#DejaVuSans-48\"/>\r\n      </g>\r\n     </g>\r\n    </g>\r\n    <g id=\"ytick_2\">\r\n     <g id=\"line2d_11\">\r\n      <g>\r\n       <use style=\"stroke:#000000;stroke-width:0.8;\" x=\"46.0125\" xlink:href=\"#m04be9858b8\" y=\"178.331577\"/>\r\n      </g>\r\n     </g>\r\n     <g id=\"text_11\">\r\n      <!-- 20000 -->\r\n      <g transform=\"translate(7.2 182.130796)scale(0.1 -0.1)\">\r\n       <use xlink:href=\"#DejaVuSans-50\"/>\r\n       <use x=\"63.623047\" xlink:href=\"#DejaVuSans-48\"/>\r\n       <use x=\"127.246094\" xlink:href=\"#DejaVuSans-48\"/>\r\n       <use x=\"190.869141\" xlink:href=\"#DejaVuSans-48\"/>\r\n       <use x=\"254.492188\" xlink:href=\"#DejaVuSans-48\"/>\r\n      </g>\r\n     </g>\r\n    </g>\r\n    <g id=\"ytick_3\">\r\n     <g id=\"line2d_12\">\r\n      <g>\r\n       <use style=\"stroke:#000000;stroke-width:0.8;\" x=\"46.0125\" xlink:href=\"#m04be9858b8\" y=\"132.023154\"/>\r\n      </g>\r\n     </g>\r\n     <g id=\"text_12\">\r\n      <!-- 40000 -->\r\n      <g transform=\"translate(7.2 135.822373)scale(0.1 -0.1)\">\r\n       <use xlink:href=\"#DejaVuSans-52\"/>\r\n       <use x=\"63.623047\" xlink:href=\"#DejaVuSans-48\"/>\r\n       <use x=\"127.246094\" xlink:href=\"#DejaVuSans-48\"/>\r\n       <use x=\"190.869141\" xlink:href=\"#DejaVuSans-48\"/>\r\n       <use x=\"254.492188\" xlink:href=\"#DejaVuSans-48\"/>\r\n      </g>\r\n     </g>\r\n    </g>\r\n    <g id=\"ytick_4\">\r\n     <g id=\"line2d_13\">\r\n      <g>\r\n       <use style=\"stroke:#000000;stroke-width:0.8;\" x=\"46.0125\" xlink:href=\"#m04be9858b8\" y=\"85.714731\"/>\r\n      </g>\r\n     </g>\r\n     <g id=\"text_13\">\r\n      <!-- 60000 -->\r\n      <g transform=\"translate(7.2 89.51395)scale(0.1 -0.1)\">\r\n       <use xlink:href=\"#DejaVuSans-54\"/>\r\n       <use x=\"63.623047\" xlink:href=\"#DejaVuSans-48\"/>\r\n       <use x=\"127.246094\" xlink:href=\"#DejaVuSans-48\"/>\r\n       <use x=\"190.869141\" xlink:href=\"#DejaVuSans-48\"/>\r\n       <use x=\"254.492188\" xlink:href=\"#DejaVuSans-48\"/>\r\n      </g>\r\n     </g>\r\n    </g>\r\n    <g id=\"ytick_5\">\r\n     <g id=\"line2d_14\">\r\n      <g>\r\n       <use style=\"stroke:#000000;stroke-width:0.8;\" x=\"46.0125\" xlink:href=\"#m04be9858b8\" y=\"39.406308\"/>\r\n      </g>\r\n     </g>\r\n     <g id=\"text_14\">\r\n      <!-- 80000 -->\r\n      <g transform=\"translate(7.2 43.205527)scale(0.1 -0.1)\">\r\n       <use xlink:href=\"#DejaVuSans-56\"/>\r\n       <use x=\"63.623047\" xlink:href=\"#DejaVuSans-48\"/>\r\n       <use x=\"127.246094\" xlink:href=\"#DejaVuSans-48\"/>\r\n       <use x=\"190.869141\" xlink:href=\"#DejaVuSans-48\"/>\r\n       <use x=\"254.492188\" xlink:href=\"#DejaVuSans-48\"/>\r\n      </g>\r\n     </g>\r\n    </g>\r\n   </g>\r\n   <g id=\"patch_84\">\r\n    <path d=\"M 46.0125 224.64 \r\nL 46.0125 7.2 \r\n\" style=\"fill:none;stroke:#000000;stroke-linecap:square;stroke-linejoin:miter;stroke-width:0.8;\"/>\r\n   </g>\r\n   <g id=\"patch_85\">\r\n    <path d=\"M 380.8125 224.64 \r\nL 380.8125 7.2 \r\n\" style=\"fill:none;stroke:#000000;stroke-linecap:square;stroke-linejoin:miter;stroke-width:0.8;\"/>\r\n   </g>\r\n   <g id=\"patch_86\">\r\n    <path d=\"M 46.0125 224.64 \r\nL 380.8125 224.64 \r\n\" style=\"fill:none;stroke:#000000;stroke-linecap:square;stroke-linejoin:miter;stroke-width:0.8;\"/>\r\n   </g>\r\n   <g id=\"patch_87\">\r\n    <path d=\"M 46.0125 7.2 \r\nL 380.8125 7.2 \r\n\" style=\"fill:none;stroke:#000000;stroke-linecap:square;stroke-linejoin:miter;stroke-width:0.8;\"/>\r\n   </g>\r\n  </g>\r\n </g>\r\n <defs>\r\n  <clipPath id=\"pa571c2709d\">\r\n   <rect height=\"217.44\" width=\"334.8\" x=\"46.0125\" y=\"7.2\"/>\r\n  </clipPath>\r\n </defs>\r\n</svg>\r\n",
      "image/png": "[encoded data removed]"
     },
     "metadata": {
      "needs_background": "light"
     }
    }
   ],
   "source": [
    "# plot the scores\n",
    "plt.bar([i for i in range(len(selector.scores_))], selector.scores_)\n",
    "plt.show()"
   ]
  },
  {
   "cell_type": "code",
   "execution_count": 27,
   "metadata": {},
   "outputs": [
    {
     "output_type": "execute_result",
     "data": {
      "text/plain": [
       "array([[30,  6,  0, ...,  0,  0,  0],\n",
       "       [10,  8,  0, ...,  0,  0,  0],\n",
       "       [10,  5,  0, ...,  0,  0,  0],\n",
       "       ...,\n",
       "       [55,  6,  0, ...,  0,  0,  0],\n",
       "       [10, 14,  1, ...,  1,  1,  1],\n",
       "       [10,  7,  0, ...,  0,  0,  0]], dtype=int64)"
      ]
     },
     "metadata": {},
     "execution_count": 27
    }
   ],
   "source": [
    "X_new"
   ]
  },
  {
   "cell_type": "code",
   "execution_count": 28,
   "metadata": {},
   "outputs": [],
   "source": [
    "# define the undersampling method\n",
    "# Se prueba con los siguiente, no se reduce el desbalanceo (en CNN sí ??)\n",
    "# USAR MÉTODOS DE SELECCIÓN DE CARACACTERÍSTICAS ANTES, QUIZÁS DECIR QUE GEO1 Y FLOOR... SON LAS QUE SE ELIGEN MEDIANTE UN ARBOL\n",
    "# MIRAR SMOTE PARA OVERSAMPLING\n",
    "\n",
    "# Quizás no estaría mal reducir el desbalanceo\n",
    "# https://stats.stackexchange.com/questions/28029/training-a-decision-tree-against-unbalanced-data\n",
    "\n",
    "# undersample = TomekLinks()\n",
    "# undersample = CondensedNearestNeighbour(n_neighbors=1)\n",
    "undersample = EditedNearestNeighbours(n_neighbors=3)\n",
    "# transform the dataset\n",
    "X, y = undersample.fit_resample(X_new, train_labels)"
   ]
  },
  {
   "cell_type": "code",
   "execution_count": 42,
   "metadata": {},
   "outputs": [
    {
     "output_type": "stream",
     "name": "stdout",
     "text": [
      "81120\n260601\n"
     ]
    }
   ],
   "source": [
    "print(len(X))\n",
    "print(len(X_new))"
   ]
  },
  {
   "cell_type": "code",
   "execution_count": 51,
   "metadata": {},
   "outputs": [],
   "source": [
    "# X = pd.DataFrame(X, columns=columns)\n",
    "preprocessed_train = X\n",
    "train_labels = y"
   ]
  },
  {
   "cell_type": "code",
   "execution_count": 49,
   "metadata": {},
   "outputs": [
    {
     "output_type": "execute_result",
     "data": {
      "text/plain": [
       "       age  area_percentage  has_superstructure_cement_mortar_brick  \\\n",
       "0       20                7                                       0   \n",
       "1       25               13                                       0   \n",
       "2        5                4                                       0   \n",
       "3        0               19                                       1   \n",
       "4       15                8                                       0   \n",
       "...    ...              ...                                     ...   \n",
       "86863   70               20                                       0   \n",
       "86864   25                6                                       0   \n",
       "86865   50                3                                       0   \n",
       "86866    5                9                                       0   \n",
       "86867   10               11                                       1   \n",
       "\n",
       "       has_superstructure_rc_engineered  geo_level_1_id_17  geo_level_1_id_26  \\\n",
       "0                                     0                  1                  0   \n",
       "1                                     0                  0                  0   \n",
       "2                                     0                  0                  0   \n",
       "3                                     0                  0                  1   \n",
       "4                                     0                  1                  0   \n",
       "...                                 ...                ...                ...   \n",
       "86863                                 0                  0                  0   \n",
       "86864                                 0                  0                  0   \n",
       "86865                                 0                  0                  0   \n",
       "86866                                 0                  0                  0   \n",
       "86867                                 0                  0                  1   \n",
       "\n",
       "       foundation_type_i  roof_type_x  ground_floor_type_v  other_floor_type_s  \n",
       "0                      0            0                    0                   0  \n",
       "1                      0            0                    0                   0  \n",
       "2                      0            0                    0                   0  \n",
       "3                      0            1                    1                   0  \n",
       "4                      0            0                    0                   0  \n",
       "...                  ...          ...                  ...                 ...  \n",
       "86863                  0            0                    0                   0  \n",
       "86864                  0            0                    0                   0  \n",
       "86865                  0            0                    0                   0  \n",
       "86866                  0            0                    0                   0  \n",
       "86867                  0            0                    1                   0  \n",
       "\n",
       "[86868 rows x 10 columns]"
      ],
      "text/html": "<div>\n<style scoped>\n    .dataframe tbody tr th:only-of-type {\n        vertical-align: middle;\n    }\n\n    .dataframe tbody tr th {\n        vertical-align: top;\n    }\n\n    .dataframe thead th {\n        text-align: right;\n    }\n</style>\n<table border=\"1\" class=\"dataframe\">\n  <thead>\n    <tr style=\"text-align: right;\">\n      <th></th>\n      <th>age</th>\n      <th>area_percentage</th>\n      <th>has_superstructure_cement_mortar_brick</th>\n      <th>has_superstructure_rc_engineered</th>\n      <th>geo_level_1_id_17</th>\n      <th>geo_level_1_id_26</th>\n      <th>foundation_type_i</th>\n      <th>roof_type_x</th>\n      <th>ground_floor_type_v</th>\n      <th>other_floor_type_s</th>\n    </tr>\n  </thead>\n  <tbody>\n    <tr>\n      <th>0</th>\n      <td>20</td>\n      <td>7</td>\n      <td>0</td>\n      <td>0</td>\n      <td>1</td>\n      <td>0</td>\n      <td>0</td>\n      <td>0</td>\n      <td>0</td>\n      <td>0</td>\n    </tr>\n    <tr>\n      <th>1</th>\n      <td>25</td>\n      <td>13</td>\n      <td>0</td>\n      <td>0</td>\n      <td>0</td>\n      <td>0</td>\n      <td>0</td>\n      <td>0</td>\n      <td>0</td>\n      <td>0</td>\n    </tr>\n    <tr>\n      <th>2</th>\n      <td>5</td>\n      <td>4</td>\n      <td>0</td>\n      <td>0</td>\n      <td>0</td>\n      <td>0</td>\n      <td>0</td>\n      <td>0</td>\n      <td>0</td>\n      <td>0</td>\n    </tr>\n    <tr>\n      <th>3</th>\n      <td>0</td>\n      <td>19</td>\n      <td>1</td>\n      <td>0</td>\n      <td>0</td>\n      <td>1</td>\n      <td>0</td>\n      <td>1</td>\n      <td>1</td>\n      <td>0</td>\n    </tr>\n    <tr>\n      <th>4</th>\n      <td>15</td>\n      <td>8</td>\n      <td>0</td>\n      <td>0</td>\n      <td>1</td>\n      <td>0</td>\n      <td>0</td>\n      <td>0</td>\n      <td>0</td>\n      <td>0</td>\n    </tr>\n    <tr>\n      <th>...</th>\n      <td>...</td>\n      <td>...</td>\n      <td>...</td>\n      <td>...</td>\n      <td>...</td>\n      <td>...</td>\n      <td>...</td>\n      <td>...</td>\n      <td>...</td>\n      <td>...</td>\n    </tr>\n    <tr>\n      <th>86863</th>\n      <td>70</td>\n      <td>20</td>\n      <td>0</td>\n      <td>0</td>\n      <td>0</td>\n      <td>0</td>\n      <td>0</td>\n      <td>0</td>\n      <td>0</td>\n      <td>0</td>\n    </tr>\n    <tr>\n      <th>86864</th>\n      <td>25</td>\n      <td>6</td>\n      <td>0</td>\n      <td>0</td>\n      <td>0</td>\n      <td>0</td>\n      <td>0</td>\n      <td>0</td>\n      <td>0</td>\n      <td>0</td>\n    </tr>\n    <tr>\n      <th>86865</th>\n      <td>50</td>\n      <td>3</td>\n      <td>0</td>\n      <td>0</td>\n      <td>0</td>\n      <td>0</td>\n      <td>0</td>\n      <td>0</td>\n      <td>0</td>\n      <td>0</td>\n    </tr>\n    <tr>\n      <th>86866</th>\n      <td>5</td>\n      <td>9</td>\n      <td>0</td>\n      <td>0</td>\n      <td>0</td>\n      <td>0</td>\n      <td>0</td>\n      <td>0</td>\n      <td>0</td>\n      <td>0</td>\n    </tr>\n    <tr>\n      <th>86867</th>\n      <td>10</td>\n      <td>11</td>\n      <td>1</td>\n      <td>0</td>\n      <td>0</td>\n      <td>1</td>\n      <td>0</td>\n      <td>0</td>\n      <td>1</td>\n      <td>0</td>\n    </tr>\n  </tbody>\n</table>\n<p>86868 rows × 10 columns</p>\n</div>"
     },
     "metadata": {},
     "execution_count": 49
    }
   ],
   "source": [
    "# Select same feautures as with train\n",
    "preprocessed_test = selector.transform(preprocessed_test)\n",
    "preprocessed_test = pd.DataFrame(preprocessed_test, columns=columns)\n",
    "preprocessed_test"
   ]
  },
  {
   "cell_type": "code",
   "execution_count": 52,
   "metadata": {},
   "outputs": [
    {
     "output_type": "execute_result",
     "data": {
      "text/plain": [
       "       age  area_percentage  has_superstructure_cement_mortar_brick  \\\n",
       "0        0                8                                       1   \n",
       "1        0               13                                       1   \n",
       "2        0                9                                       0   \n",
       "3        5               11                                       0   \n",
       "4        0               15                                       1   \n",
       "...    ...              ...                                     ...   \n",
       "81115    5               11                                       0   \n",
       "81116   10               15                                       0   \n",
       "81117    5                6                                       0   \n",
       "81118    0                6                                       0   \n",
       "81119   55                6                                       0   \n",
       "\n",
       "       has_superstructure_rc_engineered  geo_level_1_id_17  geo_level_1_id_26  \\\n",
       "0                                     0                  0                  0   \n",
       "1                                     0                  0                  1   \n",
       "2                                     0                  0                  0   \n",
       "3                                     0                  0                  0   \n",
       "4                                     0                  0                  1   \n",
       "...                                 ...                ...                ...   \n",
       "81115                                 0                  1                  0   \n",
       "81116                                 0                  1                  0   \n",
       "81117                                 0                  1                  0   \n",
       "81118                                 0                  1                  0   \n",
       "81119                                 0                  1                  0   \n",
       "\n",
       "       foundation_type_i  roof_type_x  ground_floor_type_v  other_floor_type_s  \n",
       "0                      0            0                    1                   0  \n",
       "1                      1            0                    1                   0  \n",
       "2                      0            0                    0                   0  \n",
       "3                      1            1                    1                   0  \n",
       "4                      0            1                    1                   0  \n",
       "...                  ...          ...                  ...                 ...  \n",
       "81115                  0            0                    0                   0  \n",
       "81116                  0            0                    0                   0  \n",
       "81117                  0            0                    0                   0  \n",
       "81118                  0            0                    0                   0  \n",
       "81119                  0            0                    0                   0  \n",
       "\n",
       "[81120 rows x 10 columns]"
      ],
      "text/html": "<div>\n<style scoped>\n    .dataframe tbody tr th:only-of-type {\n        vertical-align: middle;\n    }\n\n    .dataframe tbody tr th {\n        vertical-align: top;\n    }\n\n    .dataframe thead th {\n        text-align: right;\n    }\n</style>\n<table border=\"1\" class=\"dataframe\">\n  <thead>\n    <tr style=\"text-align: right;\">\n      <th></th>\n      <th>age</th>\n      <th>area_percentage</th>\n      <th>has_superstructure_cement_mortar_brick</th>\n      <th>has_superstructure_rc_engineered</th>\n      <th>geo_level_1_id_17</th>\n      <th>geo_level_1_id_26</th>\n      <th>foundation_type_i</th>\n      <th>roof_type_x</th>\n      <th>ground_floor_type_v</th>\n      <th>other_floor_type_s</th>\n    </tr>\n  </thead>\n  <tbody>\n    <tr>\n      <th>0</th>\n      <td>0</td>\n      <td>8</td>\n      <td>1</td>\n      <td>0</td>\n      <td>0</td>\n      <td>0</td>\n      <td>0</td>\n      <td>0</td>\n      <td>1</td>\n      <td>0</td>\n    </tr>\n    <tr>\n      <th>1</th>\n      <td>0</td>\n      <td>13</td>\n      <td>1</td>\n      <td>0</td>\n      <td>0</td>\n      <td>1</td>\n      <td>1</td>\n      <td>0</td>\n      <td>1</td>\n      <td>0</td>\n    </tr>\n    <tr>\n      <th>2</th>\n      <td>0</td>\n      <td>9</td>\n      <td>0</td>\n      <td>0</td>\n      <td>0</td>\n      <td>0</td>\n      <td>0</td>\n      <td>0</td>\n      <td>0</td>\n      <td>0</td>\n    </tr>\n    <tr>\n      <th>3</th>\n      <td>5</td>\n      <td>11</td>\n      <td>0</td>\n      <td>0</td>\n      <td>0</td>\n      <td>0</td>\n      <td>1</td>\n      <td>1</td>\n      <td>1</td>\n      <td>0</td>\n    </tr>\n    <tr>\n      <th>4</th>\n      <td>0</td>\n      <td>15</td>\n      <td>1</td>\n      <td>0</td>\n      <td>0</td>\n      <td>1</td>\n      <td>0</td>\n      <td>1</td>\n      <td>1</td>\n      <td>0</td>\n    </tr>\n    <tr>\n      <th>...</th>\n      <td>...</td>\n      <td>...</td>\n      <td>...</td>\n      <td>...</td>\n      <td>...</td>\n      <td>...</td>\n      <td>...</td>\n      <td>...</td>\n      <td>...</td>\n      <td>...</td>\n    </tr>\n    <tr>\n      <th>81115</th>\n      <td>5</td>\n      <td>11</td>\n      <td>0</td>\n      <td>0</td>\n      <td>1</td>\n      <td>0</td>\n      <td>0</td>\n      <td>0</td>\n      <td>0</td>\n      <td>0</td>\n    </tr>\n    <tr>\n      <th>81116</th>\n      <td>10</td>\n      <td>15</td>\n      <td>0</td>\n      <td>0</td>\n      <td>1</td>\n      <td>0</td>\n      <td>0</td>\n      <td>0</td>\n      <td>0</td>\n      <td>0</td>\n    </tr>\n    <tr>\n      <th>81117</th>\n      <td>5</td>\n      <td>6</td>\n      <td>0</td>\n      <td>0</td>\n      <td>1</td>\n      <td>0</td>\n      <td>0</td>\n      <td>0</td>\n      <td>0</td>\n      <td>0</td>\n    </tr>\n    <tr>\n      <th>81118</th>\n      <td>0</td>\n      <td>6</td>\n      <td>0</td>\n      <td>0</td>\n      <td>1</td>\n      <td>0</td>\n      <td>0</td>\n      <td>0</td>\n      <td>0</td>\n      <td>0</td>\n    </tr>\n    <tr>\n      <th>81119</th>\n      <td>55</td>\n      <td>6</td>\n      <td>0</td>\n      <td>0</td>\n      <td>1</td>\n      <td>0</td>\n      <td>0</td>\n      <td>0</td>\n      <td>0</td>\n      <td>0</td>\n    </tr>\n  </tbody>\n</table>\n<p>81120 rows × 10 columns</p>\n</div>"
     },
     "metadata": {},
     "execution_count": 52
    }
   ],
   "source": [
    "preprocessed_train"
   ]
  },
  {
   "cell_type": "code",
   "execution_count": 53,
   "metadata": {},
   "outputs": [
    {
     "output_type": "execute_result",
     "data": {
      "text/plain": [
       "       damage_grade\n",
       "0                 1\n",
       "1                 1\n",
       "2                 1\n",
       "3                 1\n",
       "4                 1\n",
       "...             ...\n",
       "81115             3\n",
       "81116             3\n",
       "81117             3\n",
       "81118             3\n",
       "81119             3\n",
       "\n",
       "[81120 rows x 1 columns]"
      ],
      "text/html": "<div>\n<style scoped>\n    .dataframe tbody tr th:only-of-type {\n        vertical-align: middle;\n    }\n\n    .dataframe tbody tr th {\n        vertical-align: top;\n    }\n\n    .dataframe thead th {\n        text-align: right;\n    }\n</style>\n<table border=\"1\" class=\"dataframe\">\n  <thead>\n    <tr style=\"text-align: right;\">\n      <th></th>\n      <th>damage_grade</th>\n    </tr>\n  </thead>\n  <tbody>\n    <tr>\n      <th>0</th>\n      <td>1</td>\n    </tr>\n    <tr>\n      <th>1</th>\n      <td>1</td>\n    </tr>\n    <tr>\n      <th>2</th>\n      <td>1</td>\n    </tr>\n    <tr>\n      <th>3</th>\n      <td>1</td>\n    </tr>\n    <tr>\n      <th>4</th>\n      <td>1</td>\n    </tr>\n    <tr>\n      <th>...</th>\n      <td>...</td>\n    </tr>\n    <tr>\n      <th>81115</th>\n      <td>3</td>\n    </tr>\n    <tr>\n      <th>81116</th>\n      <td>3</td>\n    </tr>\n    <tr>\n      <th>81117</th>\n      <td>3</td>\n    </tr>\n    <tr>\n      <th>81118</th>\n      <td>3</td>\n    </tr>\n    <tr>\n      <th>81119</th>\n      <td>3</td>\n    </tr>\n  </tbody>\n</table>\n<p>81120 rows × 1 columns</p>\n</div>"
     },
     "metadata": {},
     "execution_count": 53
    }
   ],
   "source": [
    "train_labels"
   ]
  },
  {
   "source": [
    "################################################################################\n",
    "# Write data\n",
    "################################################################################\n",
    "# preprocessed_train.to_csv(\"data/preprocessed_train.csv\", index=False)\n",
    "# train_labels.to_csv(\"data/train_labels.csv\", index=False)\n",
    "# preprocessed_test.to_csv(\"data/preprocessed_test.csv\", index=False)"
   ],
   "cell_type": "code",
   "metadata": {},
   "execution_count": 54,
   "outputs": []
  },
  {
   "cell_type": "code",
   "execution_count": null,
   "metadata": {},
   "outputs": [],
   "source": [
    "# https://datascience.stackexchange.com/questions/43444/how-to-evaluate-feature-quality-for-decision-tree-model\n",
    "# https://machinelearningmastery.com/feature-selection-with-categorical-data/\n",
    "\n",
    "#####################################################################################################\n",
    "#####################################################################################################\n",
    "#####################################################################################################"
   ]
  },
  {
   "cell_type": "code",
   "execution_count": 8,
   "metadata": {},
   "outputs": [],
   "source": [
    "# Join has_superstructure (binary) columns has strings\n",
    "# Get selected rows to string\n",
    "df = preprocessed_train.iloc[:,15:25].astype(str)\n",
    "df_test = preprocessed_test.iloc[:,15:25].astype(str)\n",
    "\n",
    "# Join them\n",
    "preprocessed_train[\"has_superstructure\"] = df.apply(lambda x: ''.join(x), axis=1)\n",
    "preprocessed_test[\"has_superstructure\"] = df_test.apply(lambda x: ''.join(x), axis=1)"
   ]
  },
  {
   "cell_type": "code",
   "execution_count": 9,
   "metadata": {},
   "outputs": [],
   "source": [
    "# Join has_secondary (binary) columns has strings\n",
    "# Get selected rows to string\n",
    "df = preprocessed_train.iloc[:,29:38].astype(str)\n",
    "df_test = preprocessed_test.iloc[:,29:38].astype(str)\n",
    "\n",
    "# Join them\n",
    "preprocessed_train[\"has_secondary\"] = df.apply(lambda x: ''.join(x), axis=1)\n",
    "preprocessed_test[\"has_secondary\"] = df_test.apply(lambda x: ''.join(x), axis=1)"
   ]
  },
  {
   "cell_type": "code",
   "execution_count": 10,
   "metadata": {},
   "outputs": [
    {
     "output_type": "execute_result",
     "data": {
      "text/plain": [
       "        building_id  geo_level_1_id  geo_level_2_id  geo_level_3_id  \\\n",
       "0            802906               6             487           12198   \n",
       "1             28830               8             900            2812   \n",
       "2             94947              21             363            8973   \n",
       "3            590882              22             418           10694   \n",
       "4            201944              11             131            1488   \n",
       "...             ...             ...             ...             ...   \n",
       "260596       688636              25            1335            1621   \n",
       "260597       669485              17             715            2060   \n",
       "260598       602512              17              51            8163   \n",
       "260599       151409              26              39            1851   \n",
       "260600       747594              21               9            9101   \n",
       "\n",
       "        count_floors_pre_eq  age  area_percentage  height_percentage  \\\n",
       "0                         2   30                6                  5   \n",
       "1                         2   10                8                  7   \n",
       "2                         2   10                5                  5   \n",
       "3                         2   10                6                  5   \n",
       "4                         3   30                8                  9   \n",
       "...                     ...  ...              ...                ...   \n",
       "260596                    1   55                6                  3   \n",
       "260597                    2    0                6                  5   \n",
       "260598                    3   55                6                  7   \n",
       "260599                    2   10               14                  6   \n",
       "260600                    3   10                7                  6   \n",
       "\n",
       "       land_surface_condition foundation_type roof_type ground_floor_type  \\\n",
       "0                           t               r         n                 f   \n",
       "1                           o               r         n                 x   \n",
       "2                           t               r         n                 f   \n",
       "3                           t               r         n                 f   \n",
       "4                           t               r         n                 f   \n",
       "...                       ...             ...       ...               ...   \n",
       "260596                      n               r         n                 f   \n",
       "260597                      t               r         n                 f   \n",
       "260598                      t               r         q                 f   \n",
       "260599                      t               r         x                 v   \n",
       "260600                      n               r         n                 f   \n",
       "\n",
       "       other_floor_type position plan_configuration legal_ownership_status  \\\n",
       "0                     q        t                  d                      v   \n",
       "1                     q        s                  d                      v   \n",
       "2                     x        t                  d                      v   \n",
       "3                     x        s                  d                      v   \n",
       "4                     x        s                  d                      v   \n",
       "...                 ...      ...                ...                    ...   \n",
       "260596                j        s                  q                      v   \n",
       "260597                q        s                  d                      v   \n",
       "260598                q        s                  d                      v   \n",
       "260599                s        j                  d                      v   \n",
       "260600                q        j                  d                      v   \n",
       "\n",
       "        count_families  has_secondary_use has_superstructure has_secondary  \n",
       "0                    1                  0         1100000000     000000000  \n",
       "1                    1                  0         0100000000     000000000  \n",
       "2                    1                  0         0100000000     000000000  \n",
       "3                    1                  0         0100001100     000000000  \n",
       "4                    1                  0         1000000000     000000000  \n",
       "...                ...                ...                ...           ...  \n",
       "260596               1                  0         0100000000     000000000  \n",
       "260597               1                  0         0100000000     000000000  \n",
       "260598               1                  0         0100000000     000000000  \n",
       "260599               1                  0         0000010000     000000000  \n",
       "260600               3                  0         0100000000     000000000  \n",
       "\n",
       "[260601 rows x 20 columns]"
      ],
      "text/html": "<div>\n<style scoped>\n    .dataframe tbody tr th:only-of-type {\n        vertical-align: middle;\n    }\n\n    .dataframe tbody tr th {\n        vertical-align: top;\n    }\n\n    .dataframe thead th {\n        text-align: right;\n    }\n</style>\n<table border=\"1\" class=\"dataframe\">\n  <thead>\n    <tr style=\"text-align: right;\">\n      <th></th>\n      <th>building_id</th>\n      <th>geo_level_1_id</th>\n      <th>geo_level_2_id</th>\n      <th>geo_level_3_id</th>\n      <th>count_floors_pre_eq</th>\n      <th>age</th>\n      <th>area_percentage</th>\n      <th>height_percentage</th>\n      <th>land_surface_condition</th>\n      <th>foundation_type</th>\n      <th>roof_type</th>\n      <th>ground_floor_type</th>\n      <th>other_floor_type</th>\n      <th>position</th>\n      <th>plan_configuration</th>\n      <th>legal_ownership_status</th>\n      <th>count_families</th>\n      <th>has_secondary_use</th>\n      <th>has_superstructure</th>\n      <th>has_secondary</th>\n    </tr>\n  </thead>\n  <tbody>\n    <tr>\n      <th>0</th>\n      <td>802906</td>\n      <td>6</td>\n      <td>487</td>\n      <td>12198</td>\n      <td>2</td>\n      <td>30</td>\n      <td>6</td>\n      <td>5</td>\n      <td>t</td>\n      <td>r</td>\n      <td>n</td>\n      <td>f</td>\n      <td>q</td>\n      <td>t</td>\n      <td>d</td>\n      <td>v</td>\n      <td>1</td>\n      <td>0</td>\n      <td>1100000000</td>\n      <td>000000000</td>\n    </tr>\n    <tr>\n      <th>1</th>\n      <td>28830</td>\n      <td>8</td>\n      <td>900</td>\n      <td>2812</td>\n      <td>2</td>\n      <td>10</td>\n      <td>8</td>\n      <td>7</td>\n      <td>o</td>\n      <td>r</td>\n      <td>n</td>\n      <td>x</td>\n      <td>q</td>\n      <td>s</td>\n      <td>d</td>\n      <td>v</td>\n      <td>1</td>\n      <td>0</td>\n      <td>0100000000</td>\n      <td>000000000</td>\n    </tr>\n    <tr>\n      <th>2</th>\n      <td>94947</td>\n      <td>21</td>\n      <td>363</td>\n      <td>8973</td>\n      <td>2</td>\n      <td>10</td>\n      <td>5</td>\n      <td>5</td>\n      <td>t</td>\n      <td>r</td>\n      <td>n</td>\n      <td>f</td>\n      <td>x</td>\n      <td>t</td>\n      <td>d</td>\n      <td>v</td>\n      <td>1</td>\n      <td>0</td>\n      <td>0100000000</td>\n      <td>000000000</td>\n    </tr>\n    <tr>\n      <th>3</th>\n      <td>590882</td>\n      <td>22</td>\n      <td>418</td>\n      <td>10694</td>\n      <td>2</td>\n      <td>10</td>\n      <td>6</td>\n      <td>5</td>\n      <td>t</td>\n      <td>r</td>\n      <td>n</td>\n      <td>f</td>\n      <td>x</td>\n      <td>s</td>\n      <td>d</td>\n      <td>v</td>\n      <td>1</td>\n      <td>0</td>\n      <td>0100001100</td>\n      <td>000000000</td>\n    </tr>\n    <tr>\n      <th>4</th>\n      <td>201944</td>\n      <td>11</td>\n      <td>131</td>\n      <td>1488</td>\n      <td>3</td>\n      <td>30</td>\n      <td>8</td>\n      <td>9</td>\n      <td>t</td>\n      <td>r</td>\n      <td>n</td>\n      <td>f</td>\n      <td>x</td>\n      <td>s</td>\n      <td>d</td>\n      <td>v</td>\n      <td>1</td>\n      <td>0</td>\n      <td>1000000000</td>\n      <td>000000000</td>\n    </tr>\n    <tr>\n      <th>...</th>\n      <td>...</td>\n      <td>...</td>\n      <td>...</td>\n      <td>...</td>\n      <td>...</td>\n      <td>...</td>\n      <td>...</td>\n      <td>...</td>\n      <td>...</td>\n      <td>...</td>\n      <td>...</td>\n      <td>...</td>\n      <td>...</td>\n      <td>...</td>\n      <td>...</td>\n      <td>...</td>\n      <td>...</td>\n      <td>...</td>\n      <td>...</td>\n      <td>...</td>\n    </tr>\n    <tr>\n      <th>260596</th>\n      <td>688636</td>\n      <td>25</td>\n      <td>1335</td>\n      <td>1621</td>\n      <td>1</td>\n      <td>55</td>\n      <td>6</td>\n      <td>3</td>\n      <td>n</td>\n      <td>r</td>\n      <td>n</td>\n      <td>f</td>\n      <td>j</td>\n      <td>s</td>\n      <td>q</td>\n      <td>v</td>\n      <td>1</td>\n      <td>0</td>\n      <td>0100000000</td>\n      <td>000000000</td>\n    </tr>\n    <tr>\n      <th>260597</th>\n      <td>669485</td>\n      <td>17</td>\n      <td>715</td>\n      <td>2060</td>\n      <td>2</td>\n      <td>0</td>\n      <td>6</td>\n      <td>5</td>\n      <td>t</td>\n      <td>r</td>\n      <td>n</td>\n      <td>f</td>\n      <td>q</td>\n      <td>s</td>\n      <td>d</td>\n      <td>v</td>\n      <td>1</td>\n      <td>0</td>\n      <td>0100000000</td>\n      <td>000000000</td>\n    </tr>\n    <tr>\n      <th>260598</th>\n      <td>602512</td>\n      <td>17</td>\n      <td>51</td>\n      <td>8163</td>\n      <td>3</td>\n      <td>55</td>\n      <td>6</td>\n      <td>7</td>\n      <td>t</td>\n      <td>r</td>\n      <td>q</td>\n      <td>f</td>\n      <td>q</td>\n      <td>s</td>\n      <td>d</td>\n      <td>v</td>\n      <td>1</td>\n      <td>0</td>\n      <td>0100000000</td>\n      <td>000000000</td>\n    </tr>\n    <tr>\n      <th>260599</th>\n      <td>151409</td>\n      <td>26</td>\n      <td>39</td>\n      <td>1851</td>\n      <td>2</td>\n      <td>10</td>\n      <td>14</td>\n      <td>6</td>\n      <td>t</td>\n      <td>r</td>\n      <td>x</td>\n      <td>v</td>\n      <td>s</td>\n      <td>j</td>\n      <td>d</td>\n      <td>v</td>\n      <td>1</td>\n      <td>0</td>\n      <td>0000010000</td>\n      <td>000000000</td>\n    </tr>\n    <tr>\n      <th>260600</th>\n      <td>747594</td>\n      <td>21</td>\n      <td>9</td>\n      <td>9101</td>\n      <td>3</td>\n      <td>10</td>\n      <td>7</td>\n      <td>6</td>\n      <td>n</td>\n      <td>r</td>\n      <td>n</td>\n      <td>f</td>\n      <td>q</td>\n      <td>j</td>\n      <td>d</td>\n      <td>v</td>\n      <td>3</td>\n      <td>0</td>\n      <td>0100000000</td>\n      <td>000000000</td>\n    </tr>\n  </tbody>\n</table>\n<p>260601 rows × 20 columns</p>\n</div>"
     },
     "metadata": {},
     "execution_count": 10
    }
   ],
   "source": [
    "# Remove joined columns\n",
    "removed_cols = list(range(15,26)) + list(range(29,39))\n",
    "preprocessed_train = preprocessed_train.drop(columns=preprocessed_train.columns[removed_cols])\n",
    "preprocessed_test = preprocessed_test.drop(columns=preprocessed_test.columns[removed_cols])\n",
    "\n",
    "preprocessed_train"
   ]
  },
  {
   "cell_type": "code",
   "execution_count": 11,
   "metadata": {},
   "outputs": [],
   "source": [
    "# Convert new cols to int\n",
    "# preprocessed_train[\"has_superstructure\"] = preprocessed_train[\"has_superstructure\"].apply(lambda x: int(x,2))\n",
    "# preprocessed_train[\"has_secondary\"] = preprocessed_train[\"has_secondary\"].apply(lambda x: int(x,2))\n",
    "# preprocessed_train"
   ]
  },
  {
   "cell_type": "code",
   "execution_count": 12,
   "metadata": {},
   "outputs": [],
   "source": [
    "# Convert to categorical in order (TODO: KEEP ORIGINAL MAPPING)\n",
    "# MEJOR: Leerlo como factor en R\n",
    "\n",
    "# preprocessed_train.has_secondary = preprocessed_train.has_secondary.astype(\"category\").cat.codes\n",
    "# preprocessed_train.has_superstructure = preprocessed_train.has_superstructure.astype('category').cat.codes\n",
    "\n",
    "# preprocessed_train"
   ]
  },
  {
   "cell_type": "code",
   "execution_count": 14,
   "metadata": {},
   "outputs": [
    {
     "output_type": "execute_result",
     "data": {
      "text/plain": [
       "        geo_level_1_id  geo_level_2_id  geo_level_3_id  count_floors_pre_eq  \\\n",
       "0                    6             487           12198                    2   \n",
       "1                    8             900            2812                    2   \n",
       "2                   21             363            8973                    2   \n",
       "3                   22             418           10694                    2   \n",
       "4                   11             131            1488                    3   \n",
       "...                ...             ...             ...                  ...   \n",
       "260596              25            1335            1621                    1   \n",
       "260597              17             715            2060                    2   \n",
       "260598              17              51            8163                    3   \n",
       "260599              26              39            1851                    2   \n",
       "260600              21               9            9101                    3   \n",
       "\n",
       "        age  area_percentage  height_percentage land_surface_condition  \\\n",
       "0        30                6                  5                      t   \n",
       "1        10                8                  7                      o   \n",
       "2        10                5                  5                      t   \n",
       "3        10                6                  5                      t   \n",
       "4        30                8                  9                      t   \n",
       "...     ...              ...                ...                    ...   \n",
       "260596   55                6                  3                      n   \n",
       "260597    0                6                  5                      t   \n",
       "260598   55                6                  7                      t   \n",
       "260599   10               14                  6                      t   \n",
       "260600   10                7                  6                      n   \n",
       "\n",
       "       foundation_type roof_type ground_floor_type other_floor_type position  \\\n",
       "0                    r         n                 f                q        t   \n",
       "1                    r         n                 x                q        s   \n",
       "2                    r         n                 f                x        t   \n",
       "3                    r         n                 f                x        s   \n",
       "4                    r         n                 f                x        s   \n",
       "...                ...       ...               ...              ...      ...   \n",
       "260596               r         n                 f                j        s   \n",
       "260597               r         n                 f                q        s   \n",
       "260598               r         q                 f                q        s   \n",
       "260599               r         x                 v                s        j   \n",
       "260600               r         n                 f                q        j   \n",
       "\n",
       "       plan_configuration legal_ownership_status  count_families  \\\n",
       "0                       d                      v               1   \n",
       "1                       d                      v               1   \n",
       "2                       d                      v               1   \n",
       "3                       d                      v               1   \n",
       "4                       d                      v               1   \n",
       "...                   ...                    ...             ...   \n",
       "260596                  q                      v               1   \n",
       "260597                  d                      v               1   \n",
       "260598                  d                      v               1   \n",
       "260599                  d                      v               1   \n",
       "260600                  d                      v               3   \n",
       "\n",
       "       has_superstructure has_secondary  \n",
       "0              1100000000     000000000  \n",
       "1              0100000000     000000000  \n",
       "2              0100000000     000000000  \n",
       "3              0100001100     000000000  \n",
       "4              1000000000     000000000  \n",
       "...                   ...           ...  \n",
       "260596         0100000000     000000000  \n",
       "260597         0100000000     000000000  \n",
       "260598         0100000000     000000000  \n",
       "260599         0000010000     000000000  \n",
       "260600         0100000000     000000000  \n",
       "\n",
       "[260601 rows x 18 columns]"
      ],
      "text/html": "<div>\n<style scoped>\n    .dataframe tbody tr th:only-of-type {\n        vertical-align: middle;\n    }\n\n    .dataframe tbody tr th {\n        vertical-align: top;\n    }\n\n    .dataframe thead th {\n        text-align: right;\n    }\n</style>\n<table border=\"1\" class=\"dataframe\">\n  <thead>\n    <tr style=\"text-align: right;\">\n      <th></th>\n      <th>geo_level_1_id</th>\n      <th>geo_level_2_id</th>\n      <th>geo_level_3_id</th>\n      <th>count_floors_pre_eq</th>\n      <th>age</th>\n      <th>area_percentage</th>\n      <th>height_percentage</th>\n      <th>land_surface_condition</th>\n      <th>foundation_type</th>\n      <th>roof_type</th>\n      <th>ground_floor_type</th>\n      <th>other_floor_type</th>\n      <th>position</th>\n      <th>plan_configuration</th>\n      <th>legal_ownership_status</th>\n      <th>count_families</th>\n      <th>has_superstructure</th>\n      <th>has_secondary</th>\n    </tr>\n  </thead>\n  <tbody>\n    <tr>\n      <th>0</th>\n      <td>6</td>\n      <td>487</td>\n      <td>12198</td>\n      <td>2</td>\n      <td>30</td>\n      <td>6</td>\n      <td>5</td>\n      <td>t</td>\n      <td>r</td>\n      <td>n</td>\n      <td>f</td>\n      <td>q</td>\n      <td>t</td>\n      <td>d</td>\n      <td>v</td>\n      <td>1</td>\n      <td>1100000000</td>\n      <td>000000000</td>\n    </tr>\n    <tr>\n      <th>1</th>\n      <td>8</td>\n      <td>900</td>\n      <td>2812</td>\n      <td>2</td>\n      <td>10</td>\n      <td>8</td>\n      <td>7</td>\n      <td>o</td>\n      <td>r</td>\n      <td>n</td>\n      <td>x</td>\n      <td>q</td>\n      <td>s</td>\n      <td>d</td>\n      <td>v</td>\n      <td>1</td>\n      <td>0100000000</td>\n      <td>000000000</td>\n    </tr>\n    <tr>\n      <th>2</th>\n      <td>21</td>\n      <td>363</td>\n      <td>8973</td>\n      <td>2</td>\n      <td>10</td>\n      <td>5</td>\n      <td>5</td>\n      <td>t</td>\n      <td>r</td>\n      <td>n</td>\n      <td>f</td>\n      <td>x</td>\n      <td>t</td>\n      <td>d</td>\n      <td>v</td>\n      <td>1</td>\n      <td>0100000000</td>\n      <td>000000000</td>\n    </tr>\n    <tr>\n      <th>3</th>\n      <td>22</td>\n      <td>418</td>\n      <td>10694</td>\n      <td>2</td>\n      <td>10</td>\n      <td>6</td>\n      <td>5</td>\n      <td>t</td>\n      <td>r</td>\n      <td>n</td>\n      <td>f</td>\n      <td>x</td>\n      <td>s</td>\n      <td>d</td>\n      <td>v</td>\n      <td>1</td>\n      <td>0100001100</td>\n      <td>000000000</td>\n    </tr>\n    <tr>\n      <th>4</th>\n      <td>11</td>\n      <td>131</td>\n      <td>1488</td>\n      <td>3</td>\n      <td>30</td>\n      <td>8</td>\n      <td>9</td>\n      <td>t</td>\n      <td>r</td>\n      <td>n</td>\n      <td>f</td>\n      <td>x</td>\n      <td>s</td>\n      <td>d</td>\n      <td>v</td>\n      <td>1</td>\n      <td>1000000000</td>\n      <td>000000000</td>\n    </tr>\n    <tr>\n      <th>...</th>\n      <td>...</td>\n      <td>...</td>\n      <td>...</td>\n      <td>...</td>\n      <td>...</td>\n      <td>...</td>\n      <td>...</td>\n      <td>...</td>\n      <td>...</td>\n      <td>...</td>\n      <td>...</td>\n      <td>...</td>\n      <td>...</td>\n      <td>...</td>\n      <td>...</td>\n      <td>...</td>\n      <td>...</td>\n      <td>...</td>\n    </tr>\n    <tr>\n      <th>260596</th>\n      <td>25</td>\n      <td>1335</td>\n      <td>1621</td>\n      <td>1</td>\n      <td>55</td>\n      <td>6</td>\n      <td>3</td>\n      <td>n</td>\n      <td>r</td>\n      <td>n</td>\n      <td>f</td>\n      <td>j</td>\n      <td>s</td>\n      <td>q</td>\n      <td>v</td>\n      <td>1</td>\n      <td>0100000000</td>\n      <td>000000000</td>\n    </tr>\n    <tr>\n      <th>260597</th>\n      <td>17</td>\n      <td>715</td>\n      <td>2060</td>\n      <td>2</td>\n      <td>0</td>\n      <td>6</td>\n      <td>5</td>\n      <td>t</td>\n      <td>r</td>\n      <td>n</td>\n      <td>f</td>\n      <td>q</td>\n      <td>s</td>\n      <td>d</td>\n      <td>v</td>\n      <td>1</td>\n      <td>0100000000</td>\n      <td>000000000</td>\n    </tr>\n    <tr>\n      <th>260598</th>\n      <td>17</td>\n      <td>51</td>\n      <td>8163</td>\n      <td>3</td>\n      <td>55</td>\n      <td>6</td>\n      <td>7</td>\n      <td>t</td>\n      <td>r</td>\n      <td>q</td>\n      <td>f</td>\n      <td>q</td>\n      <td>s</td>\n      <td>d</td>\n      <td>v</td>\n      <td>1</td>\n      <td>0100000000</td>\n      <td>000000000</td>\n    </tr>\n    <tr>\n      <th>260599</th>\n      <td>26</td>\n      <td>39</td>\n      <td>1851</td>\n      <td>2</td>\n      <td>10</td>\n      <td>14</td>\n      <td>6</td>\n      <td>t</td>\n      <td>r</td>\n      <td>x</td>\n      <td>v</td>\n      <td>s</td>\n      <td>j</td>\n      <td>d</td>\n      <td>v</td>\n      <td>1</td>\n      <td>0000010000</td>\n      <td>000000000</td>\n    </tr>\n    <tr>\n      <th>260600</th>\n      <td>21</td>\n      <td>9</td>\n      <td>9101</td>\n      <td>3</td>\n      <td>10</td>\n      <td>7</td>\n      <td>6</td>\n      <td>n</td>\n      <td>r</td>\n      <td>n</td>\n      <td>f</td>\n      <td>q</td>\n      <td>j</td>\n      <td>d</td>\n      <td>v</td>\n      <td>3</td>\n      <td>0100000000</td>\n      <td>000000000</td>\n    </tr>\n  </tbody>\n</table>\n<p>260601 rows × 18 columns</p>\n</div>"
     },
     "metadata": {},
     "execution_count": 14
    }
   ],
   "source": [
    "# has_secondary_use is enconded in has_secondary, remove it\n",
    "preprocessed_train = preprocessed_train.drop(columns=\"has_secondary_use\")\n",
    "preprocessed_test = preprocessed_test.drop(columns=\"has_secondary_use\")\n",
    "preprocessed_train"
   ]
  },
  {
   "cell_type": "code",
   "execution_count": 17,
   "metadata": {},
   "outputs": [
    {
     "output_type": "execute_result",
     "data": {
      "text/plain": [
       "array([2, 3, 1, 4, 5], dtype=int64)"
      ]
     },
     "metadata": {},
     "execution_count": 17
    }
   ],
   "source": [
    "pd.unique(preprocessed_train.count_floors_pre_eq)"
   ]
  },
  {
   "cell_type": "code",
   "execution_count": 18,
   "metadata": {},
   "outputs": [
    {
     "output_type": "execute_result",
     "data": {
      "text/plain": [
       "        building_id  damage_grade\n",
       "0            802906             3\n",
       "1             28830             2\n",
       "2             94947             3\n",
       "3            590882             2\n",
       "4            201944             3\n",
       "...             ...           ...\n",
       "260596       688636             2\n",
       "260597       669485             3\n",
       "260598       602512             3\n",
       "260599       151409             2\n",
       "260600       747594             3\n",
       "\n",
       "[260601 rows x 2 columns]"
      ],
      "text/html": "<div>\n<style scoped>\n    .dataframe tbody tr th:only-of-type {\n        vertical-align: middle;\n    }\n\n    .dataframe tbody tr th {\n        vertical-align: top;\n    }\n\n    .dataframe thead th {\n        text-align: right;\n    }\n</style>\n<table border=\"1\" class=\"dataframe\">\n  <thead>\n    <tr style=\"text-align: right;\">\n      <th></th>\n      <th>building_id</th>\n      <th>damage_grade</th>\n    </tr>\n  </thead>\n  <tbody>\n    <tr>\n      <th>0</th>\n      <td>802906</td>\n      <td>3</td>\n    </tr>\n    <tr>\n      <th>1</th>\n      <td>28830</td>\n      <td>2</td>\n    </tr>\n    <tr>\n      <th>2</th>\n      <td>94947</td>\n      <td>3</td>\n    </tr>\n    <tr>\n      <th>3</th>\n      <td>590882</td>\n      <td>2</td>\n    </tr>\n    <tr>\n      <th>4</th>\n      <td>201944</td>\n      <td>3</td>\n    </tr>\n    <tr>\n      <th>...</th>\n      <td>...</td>\n      <td>...</td>\n    </tr>\n    <tr>\n      <th>260596</th>\n      <td>688636</td>\n      <td>2</td>\n    </tr>\n    <tr>\n      <th>260597</th>\n      <td>669485</td>\n      <td>3</td>\n    </tr>\n    <tr>\n      <th>260598</th>\n      <td>602512</td>\n      <td>3</td>\n    </tr>\n    <tr>\n      <th>260599</th>\n      <td>151409</td>\n      <td>2</td>\n    </tr>\n    <tr>\n      <th>260600</th>\n      <td>747594</td>\n      <td>3</td>\n    </tr>\n  </tbody>\n</table>\n<p>260601 rows × 2 columns</p>\n</div>"
     },
     "metadata": {},
     "execution_count": 18
    }
   ],
   "source": [
    "train_labels"
   ]
  },
  {
   "cell_type": "code",
   "execution_count": 19,
   "metadata": {},
   "outputs": [
    {
     "output_type": "execute_result",
     "data": {
      "text/plain": [
       "        geo_level_1_id  count_floors_pre_eq  age  area_percentage  \\\n",
       "0                    6                    2   30                6   \n",
       "1                    8                    2   10                8   \n",
       "2                   21                    2   10                5   \n",
       "3                   22                    2   10                6   \n",
       "4                   11                    3   30                8   \n",
       "...                ...                  ...  ...              ...   \n",
       "260596              25                    1   55                6   \n",
       "260597              17                    2    0                6   \n",
       "260598              17                    3   55                6   \n",
       "260599              26                    2   10               14   \n",
       "260600              21                    3   10                7   \n",
       "\n",
       "       land_surface_condition foundation_type roof_type ground_floor_type  \\\n",
       "0                           t               r         n                 f   \n",
       "1                           o               r         n                 x   \n",
       "2                           t               r         n                 f   \n",
       "3                           t               r         n                 f   \n",
       "4                           t               r         n                 f   \n",
       "...                       ...             ...       ...               ...   \n",
       "260596                      n               r         n                 f   \n",
       "260597                      t               r         n                 f   \n",
       "260598                      t               r         q                 f   \n",
       "260599                      t               r         x                 v   \n",
       "260600                      n               r         n                 f   \n",
       "\n",
       "       other_floor_type position  count_families has_superstructure  \\\n",
       "0                     q        t               1         1100000000   \n",
       "1                     q        s               1         0100000000   \n",
       "2                     x        t               1         0100000000   \n",
       "3                     x        s               1         0100001100   \n",
       "4                     x        s               1         1000000000   \n",
       "...                 ...      ...             ...                ...   \n",
       "260596                j        s               1         0100000000   \n",
       "260597                q        s               1         0100000000   \n",
       "260598                q        s               1         0100000000   \n",
       "260599                s        j               1         0000010000   \n",
       "260600                q        j               3         0100000000   \n",
       "\n",
       "       has_secondary  \n",
       "0          000000000  \n",
       "1          000000000  \n",
       "2          000000000  \n",
       "3          000000000  \n",
       "4          000000000  \n",
       "...              ...  \n",
       "260596     000000000  \n",
       "260597     000000000  \n",
       "260598     000000000  \n",
       "260599     000000000  \n",
       "260600     000000000  \n",
       "\n",
       "[260601 rows x 13 columns]"
      ],
      "text/html": "<div>\n<style scoped>\n    .dataframe tbody tr th:only-of-type {\n        vertical-align: middle;\n    }\n\n    .dataframe tbody tr th {\n        vertical-align: top;\n    }\n\n    .dataframe thead th {\n        text-align: right;\n    }\n</style>\n<table border=\"1\" class=\"dataframe\">\n  <thead>\n    <tr style=\"text-align: right;\">\n      <th></th>\n      <th>geo_level_1_id</th>\n      <th>count_floors_pre_eq</th>\n      <th>age</th>\n      <th>area_percentage</th>\n      <th>land_surface_condition</th>\n      <th>foundation_type</th>\n      <th>roof_type</th>\n      <th>ground_floor_type</th>\n      <th>other_floor_type</th>\n      <th>position</th>\n      <th>count_families</th>\n      <th>has_superstructure</th>\n      <th>has_secondary</th>\n    </tr>\n  </thead>\n  <tbody>\n    <tr>\n      <th>0</th>\n      <td>6</td>\n      <td>2</td>\n      <td>30</td>\n      <td>6</td>\n      <td>t</td>\n      <td>r</td>\n      <td>n</td>\n      <td>f</td>\n      <td>q</td>\n      <td>t</td>\n      <td>1</td>\n      <td>1100000000</td>\n      <td>000000000</td>\n    </tr>\n    <tr>\n      <th>1</th>\n      <td>8</td>\n      <td>2</td>\n      <td>10</td>\n      <td>8</td>\n      <td>o</td>\n      <td>r</td>\n      <td>n</td>\n      <td>x</td>\n      <td>q</td>\n      <td>s</td>\n      <td>1</td>\n      <td>0100000000</td>\n      <td>000000000</td>\n    </tr>\n    <tr>\n      <th>2</th>\n      <td>21</td>\n      <td>2</td>\n      <td>10</td>\n      <td>5</td>\n      <td>t</td>\n      <td>r</td>\n      <td>n</td>\n      <td>f</td>\n      <td>x</td>\n      <td>t</td>\n      <td>1</td>\n      <td>0100000000</td>\n      <td>000000000</td>\n    </tr>\n    <tr>\n      <th>3</th>\n      <td>22</td>\n      <td>2</td>\n      <td>10</td>\n      <td>6</td>\n      <td>t</td>\n      <td>r</td>\n      <td>n</td>\n      <td>f</td>\n      <td>x</td>\n      <td>s</td>\n      <td>1</td>\n      <td>0100001100</td>\n      <td>000000000</td>\n    </tr>\n    <tr>\n      <th>4</th>\n      <td>11</td>\n      <td>3</td>\n      <td>30</td>\n      <td>8</td>\n      <td>t</td>\n      <td>r</td>\n      <td>n</td>\n      <td>f</td>\n      <td>x</td>\n      <td>s</td>\n      <td>1</td>\n      <td>1000000000</td>\n      <td>000000000</td>\n    </tr>\n    <tr>\n      <th>...</th>\n      <td>...</td>\n      <td>...</td>\n      <td>...</td>\n      <td>...</td>\n      <td>...</td>\n      <td>...</td>\n      <td>...</td>\n      <td>...</td>\n      <td>...</td>\n      <td>...</td>\n      <td>...</td>\n      <td>...</td>\n      <td>...</td>\n    </tr>\n    <tr>\n      <th>260596</th>\n      <td>25</td>\n      <td>1</td>\n      <td>55</td>\n      <td>6</td>\n      <td>n</td>\n      <td>r</td>\n      <td>n</td>\n      <td>f</td>\n      <td>j</td>\n      <td>s</td>\n      <td>1</td>\n      <td>0100000000</td>\n      <td>000000000</td>\n    </tr>\n    <tr>\n      <th>260597</th>\n      <td>17</td>\n      <td>2</td>\n      <td>0</td>\n      <td>6</td>\n      <td>t</td>\n      <td>r</td>\n      <td>n</td>\n      <td>f</td>\n      <td>q</td>\n      <td>s</td>\n      <td>1</td>\n      <td>0100000000</td>\n      <td>000000000</td>\n    </tr>\n    <tr>\n      <th>260598</th>\n      <td>17</td>\n      <td>3</td>\n      <td>55</td>\n      <td>6</td>\n      <td>t</td>\n      <td>r</td>\n      <td>q</td>\n      <td>f</td>\n      <td>q</td>\n      <td>s</td>\n      <td>1</td>\n      <td>0100000000</td>\n      <td>000000000</td>\n    </tr>\n    <tr>\n      <th>260599</th>\n      <td>26</td>\n      <td>2</td>\n      <td>10</td>\n      <td>14</td>\n      <td>t</td>\n      <td>r</td>\n      <td>x</td>\n      <td>v</td>\n      <td>s</td>\n      <td>j</td>\n      <td>1</td>\n      <td>0000010000</td>\n      <td>000000000</td>\n    </tr>\n    <tr>\n      <th>260600</th>\n      <td>21</td>\n      <td>3</td>\n      <td>10</td>\n      <td>7</td>\n      <td>n</td>\n      <td>r</td>\n      <td>n</td>\n      <td>f</td>\n      <td>q</td>\n      <td>j</td>\n      <td>3</td>\n      <td>0100000000</td>\n      <td>000000000</td>\n    </tr>\n  </tbody>\n</table>\n<p>260601 rows × 13 columns</p>\n</div>"
     },
     "metadata": {},
     "execution_count": 19
    }
   ],
   "source": [
    "preprocessed_train"
   ]
  },
  {
   "cell_type": "code",
   "execution_count": 20,
   "metadata": {},
   "outputs": [
    {
     "output_type": "execute_result",
     "data": {
      "text/plain": [
       "        geo_level_1_id  count_floors_pre_eq  age  area_percentage  \\\n",
       "0                    6                    2   30                6   \n",
       "1                    8                    2   10                8   \n",
       "2                   21                    2   10                5   \n",
       "3                   22                    2   10                6   \n",
       "4                   11                    3   30                8   \n",
       "...                ...                  ...  ...              ...   \n",
       "260594              27                    5    0               13   \n",
       "260596              25                    1   55                6   \n",
       "260598              17                    3   55                6   \n",
       "260599              26                    2   10               14   \n",
       "260600              21                    3   10                7   \n",
       "\n",
       "       land_surface_condition foundation_type roof_type ground_floor_type  \\\n",
       "0                           t               r         n                 f   \n",
       "1                           o               r         n                 x   \n",
       "2                           t               r         n                 f   \n",
       "3                           t               r         n                 f   \n",
       "4                           t               r         n                 f   \n",
       "...                       ...             ...       ...               ...   \n",
       "260594                      t               r         n                 f   \n",
       "260596                      n               r         n                 f   \n",
       "260598                      t               r         q                 f   \n",
       "260599                      t               r         x                 v   \n",
       "260600                      n               r         n                 f   \n",
       "\n",
       "       other_floor_type position  count_families has_superstructure  \\\n",
       "0                     q        t               1         1100000000   \n",
       "1                     q        s               1         0100000000   \n",
       "2                     x        t               1         0100000000   \n",
       "3                     x        s               1         0100001100   \n",
       "4                     x        s               1         1000000000   \n",
       "...                 ...      ...             ...                ...   \n",
       "260594                x        j               1         0000100000   \n",
       "260596                j        s               1         0100000000   \n",
       "260598                q        s               1         0100000000   \n",
       "260599                s        j               1         0000010000   \n",
       "260600                q        j               3         0100000000   \n",
       "\n",
       "       has_secondary  damage_grade  \n",
       "0          000000000             3  \n",
       "1          000000000             2  \n",
       "2          000000000             3  \n",
       "3          000000000             2  \n",
       "4          000000000             3  \n",
       "...              ...           ...  \n",
       "260594     000000000             2  \n",
       "260596     000000000             2  \n",
       "260598     000000000             3  \n",
       "260599     000000000             2  \n",
       "260600     000000000             3  \n",
       "\n",
       "[178531 rows x 14 columns]"
      ],
      "text/html": "<div>\n<style scoped>\n    .dataframe tbody tr th:only-of-type {\n        vertical-align: middle;\n    }\n\n    .dataframe tbody tr th {\n        vertical-align: top;\n    }\n\n    .dataframe thead th {\n        text-align: right;\n    }\n</style>\n<table border=\"1\" class=\"dataframe\">\n  <thead>\n    <tr style=\"text-align: right;\">\n      <th></th>\n      <th>geo_level_1_id</th>\n      <th>count_floors_pre_eq</th>\n      <th>age</th>\n      <th>area_percentage</th>\n      <th>land_surface_condition</th>\n      <th>foundation_type</th>\n      <th>roof_type</th>\n      <th>ground_floor_type</th>\n      <th>other_floor_type</th>\n      <th>position</th>\n      <th>count_families</th>\n      <th>has_superstructure</th>\n      <th>has_secondary</th>\n      <th>damage_grade</th>\n    </tr>\n  </thead>\n  <tbody>\n    <tr>\n      <th>0</th>\n      <td>6</td>\n      <td>2</td>\n      <td>30</td>\n      <td>6</td>\n      <td>t</td>\n      <td>r</td>\n      <td>n</td>\n      <td>f</td>\n      <td>q</td>\n      <td>t</td>\n      <td>1</td>\n      <td>1100000000</td>\n      <td>000000000</td>\n      <td>3</td>\n    </tr>\n    <tr>\n      <th>1</th>\n      <td>8</td>\n      <td>2</td>\n      <td>10</td>\n      <td>8</td>\n      <td>o</td>\n      <td>r</td>\n      <td>n</td>\n      <td>x</td>\n      <td>q</td>\n      <td>s</td>\n      <td>1</td>\n      <td>0100000000</td>\n      <td>000000000</td>\n      <td>2</td>\n    </tr>\n    <tr>\n      <th>2</th>\n      <td>21</td>\n      <td>2</td>\n      <td>10</td>\n      <td>5</td>\n      <td>t</td>\n      <td>r</td>\n      <td>n</td>\n      <td>f</td>\n      <td>x</td>\n      <td>t</td>\n      <td>1</td>\n      <td>0100000000</td>\n      <td>000000000</td>\n      <td>3</td>\n    </tr>\n    <tr>\n      <th>3</th>\n      <td>22</td>\n      <td>2</td>\n      <td>10</td>\n      <td>6</td>\n      <td>t</td>\n      <td>r</td>\n      <td>n</td>\n      <td>f</td>\n      <td>x</td>\n      <td>s</td>\n      <td>1</td>\n      <td>0100001100</td>\n      <td>000000000</td>\n      <td>2</td>\n    </tr>\n    <tr>\n      <th>4</th>\n      <td>11</td>\n      <td>3</td>\n      <td>30</td>\n      <td>8</td>\n      <td>t</td>\n      <td>r</td>\n      <td>n</td>\n      <td>f</td>\n      <td>x</td>\n      <td>s</td>\n      <td>1</td>\n      <td>1000000000</td>\n      <td>000000000</td>\n      <td>3</td>\n    </tr>\n    <tr>\n      <th>...</th>\n      <td>...</td>\n      <td>...</td>\n      <td>...</td>\n      <td>...</td>\n      <td>...</td>\n      <td>...</td>\n      <td>...</td>\n      <td>...</td>\n      <td>...</td>\n      <td>...</td>\n      <td>...</td>\n      <td>...</td>\n      <td>...</td>\n      <td>...</td>\n    </tr>\n    <tr>\n      <th>260594</th>\n      <td>27</td>\n      <td>5</td>\n      <td>0</td>\n      <td>13</td>\n      <td>t</td>\n      <td>r</td>\n      <td>n</td>\n      <td>f</td>\n      <td>x</td>\n      <td>j</td>\n      <td>1</td>\n      <td>0000100000</td>\n      <td>000000000</td>\n      <td>2</td>\n    </tr>\n    <tr>\n      <th>260596</th>\n      <td>25</td>\n      <td>1</td>\n      <td>55</td>\n      <td>6</td>\n      <td>n</td>\n      <td>r</td>\n      <td>n</td>\n      <td>f</td>\n      <td>j</td>\n      <td>s</td>\n      <td>1</td>\n      <td>0100000000</td>\n      <td>000000000</td>\n      <td>2</td>\n    </tr>\n    <tr>\n      <th>260598</th>\n      <td>17</td>\n      <td>3</td>\n      <td>55</td>\n      <td>6</td>\n      <td>t</td>\n      <td>r</td>\n      <td>q</td>\n      <td>f</td>\n      <td>q</td>\n      <td>s</td>\n      <td>1</td>\n      <td>0100000000</td>\n      <td>000000000</td>\n      <td>3</td>\n    </tr>\n    <tr>\n      <th>260599</th>\n      <td>26</td>\n      <td>2</td>\n      <td>10</td>\n      <td>14</td>\n      <td>t</td>\n      <td>r</td>\n      <td>x</td>\n      <td>v</td>\n      <td>s</td>\n      <td>j</td>\n      <td>1</td>\n      <td>0000010000</td>\n      <td>000000000</td>\n      <td>2</td>\n    </tr>\n    <tr>\n      <th>260600</th>\n      <td>21</td>\n      <td>3</td>\n      <td>10</td>\n      <td>7</td>\n      <td>n</td>\n      <td>r</td>\n      <td>n</td>\n      <td>f</td>\n      <td>q</td>\n      <td>j</td>\n      <td>3</td>\n      <td>0100000000</td>\n      <td>000000000</td>\n      <td>3</td>\n    </tr>\n  </tbody>\n</table>\n<p>178531 rows × 14 columns</p>\n</div>"
     },
     "metadata": {},
     "execution_count": 20
    }
   ],
   "source": [
    "# Preprocesamiento nº3, usando métodos de reducción de instancias\n",
    "\n",
    "# Eliminar duplicados (HAY QUE REDUCIR LAS ETIQUETAS TAMBIÉ)\n",
    "df = preprocessed_train.join(train_labels[\"damage_grade\"])\n",
    "preprocessed_train = df.drop_duplicates()\n",
    "train_labels = preprocessed_train[\"damage_grade\"]\n",
    "\n",
    "preprocessed_train"
   ]
  }
 ]
}